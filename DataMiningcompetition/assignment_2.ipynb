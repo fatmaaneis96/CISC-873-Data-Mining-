{
  "cells": [
    {
      "cell_type": "markdown",
      "metadata": {
        "id": "FOkHTnBydi-b"
      },
      "source": [
        "# **Documentation**"
      ]
    },
    {
      "cell_type": "markdown",
      "metadata": {
        "id": "7SrsD8kScn8p"
      },
      "source": [
        "## **Answer the questions**"
      ]
    },
    {
      "cell_type": "markdown",
      "metadata": {
        "id": "YZ01zZRydg4i"
      },
      "source": [
        "###1-***Why a simple linear regression model (without any activation function) is not good for classification task, compared to Perceptron/Logistic regression?***\n",
        "\n",
        "There are two things that explain why Linear Regression is not suitable for classification.\n",
        "\n",
        " `The first` one is that Linear Regression deals with continuous values whereas classification problems mandate discrete values.\n",
        "\n",
        "`The second` problem is regarding the shift in threshold value when new data points are added. \n",
        "\n",
        "* Logistic regression provides discreet output\n",
        "\n",
        "* the perceptron can be used as a binary classification model, defining a linear decision boundary. It finds the separating hyperplane that minimizes the distance between misclassified points and the decision boundary\n",
        "---\n"
      ]
    },
    {
      "cell_type": "markdown",
      "metadata": {
        "id": "YACA4LMrdF_8"
      },
      "source": [
        "###2- ***What's a decision tree and how it is different to a logistic regression model?***\n",
        "\n",
        "`Decision Tree`: is a Supervised learning technique that can be used for both classification and Regression problems, but mostly it is preferred for solving Classification problems. It is a tree-structured classifier\n",
        "\n",
        "**Different to a logistic regression model**\n",
        "\n",
        "1-Logistic Regression assumes that the data is linearly (or curvy linearly)\n",
        "Decision Trees are non-linear classifiers\n",
        "\n",
        "2-Categorical data works well with Decision Trees, while continuous data work well with Logistic Regression\n",
        "\n",
        "3-Logistic Regression does not handle skewed classes well,Decision Trees handle skewed classes nicely if we let it grow fully.\n",
        "\n",
        "4-Decision Trees works with missing values,\n",
        "Logistic Regression does not handle missing values\n",
        "\n",
        "---"
      ]
    },
    {
      "cell_type": "markdown",
      "metadata": {
        "id": "d52RAolYlCvt"
      },
      "source": [
        "###3- ***What's the difference between grid search and random search?***\n",
        "\n",
        "* Random search differs from grid search in that we no longer provide an explicit set of possible values for each hyperparameter; rather, we provide a statistical distribution for each hyperparameter from which values are sampled. Essentially, we define a sampling distribution for each hyperparameter to carry out a randomized search\n",
        "\n",
        "* Grid search is not very often used in practice because the number of models to train grows exponentially as you increase the number of hyperparameters to train. This can be very inefficient — both in computing power and time.\n"
      ]
    },
    {
      "cell_type": "markdown",
      "metadata": {
        "id": "IOYFX6jklsCj"
      },
      "source": [
        "###4-***What's the difference between bayesian search and random search?***\n",
        "`Random search`\n",
        "\n",
        "* Try out a random subset \n",
        "\n",
        "* good enough\n",
        "\n",
        "* Local optimal (within the given range)\n",
        "\n",
        "* Efficient (less trials)\n",
        "\n",
        "* Sklearn: model_selection.RandomizedSearchCV\n",
        "\n",
        "`Bayesian Optimization`\n",
        "\n",
        "* As an optimization problem\n",
        "\n",
        "* Trial -> estimated error -> Bayesian model estimates the next \n",
        "\n",
        "* parameter to try -> trial -> repeat\n",
        "\n",
        "* pip install bayesian-optimization\n",
        "\n",
        "\n",
        "\n",
        "\n",
        "\n",
        "---"
      ]
    },
    {
      "cell_type": "markdown",
      "metadata": {
        "id": "k3BvuR_Uceub"
      },
      "source": [
        "## **Problem Formulation**"
      ]
    },
    {
      "cell_type": "markdown",
      "metadata": {
        "id": "H5wJJnY-coAq"
      },
      "source": [
        "**Define the problem**\n",
        "\n",
        "`We need to predict the outcome of a specific speed dating session based on the profile of two people, so we can implement a recommendation system to better match people in speed dating events. but the given data has a lot of missing values that must be handled to perform the model well.`\n",
        "\n",
        "**What is the input?**\n",
        "\n",
        "`we have some features for each participant ,this will help us to know some information about Participants,and predict exactly`\n",
        "\n",
        "**What is the output?** \n",
        "\n",
        "`The output is which the two people matches or not matched based on the features.`\n",
        "\n",
        "**What data mining function is required?**\n",
        "\n",
        "`a binary classification function`\n",
        "\n",
        "**What could be the challenges?**\n",
        "*  `The data have alot of missing value should be handled` \n",
        "* `we should select best classifier for classify more accurate` \n",
        "* `use feature selection to know what is the important features can give us high predict`\n",
        "  \n",
        "**What is the impact?**\n",
        "\n",
        "`The recommendation system can select two person that perfectly match each other based on their answers in the application`\n",
        "   \n",
        "**What is an ideal solution?**\n",
        "```\n",
        "handleing of  missing data perfectly and select the best hyperparameters that gives high performance\n",
        "in case of my trials i notice that the Xgbclassifier did this perfectly\n",
        "```\n",
        "\n",
        "---\n"
      ]
    },
    {
      "cell_type": "markdown",
      "metadata": {
        "id": "dZ7NSIV8fsBs"
      },
      "source": [
        "### **Import libraries**"
      ]
    },
    {
      "cell_type": "code",
      "execution_count": 1,
      "metadata": {
        "id": "LEOuG8h8fzCi"
      },
      "outputs": [],
      "source": [
        "import numpy as np #used for working with arrays\n",
        "import pandas as pd#Pandas is mainly used for data analysis\n",
        "import matplotlib.pyplot as plt#is a cross-platform, data visualization and graphical plotting library\n",
        "from sklearn.compose import make_column_selector as selector\n",
        "from sklearn.compose import ColumnTransformer\n",
        "from sklearn.datasets import fetch_openml\n",
        "from sklearn.pipeline import Pipeline #pipeline is a way to codify and automate the workflow\n",
        "from sklearn.impute import SimpleImputer #Imputation transformer for completing missing values.\n",
        "from sklearn.preprocessing import StandardScaler, OneHotEncoder #Standardize features by removing the mean and scaling to unit variance.\n",
        "# one hot encoding is essential process of converting the categorical to numeric\n",
        "from sklearn.model_selection import train_test_split, GridSearchCV#Tuning the hyper-parameters\n",
        "from xgboost.sklearn import XGBClassifier #Model binary classification\n",
        "import warnings #handling warning \n",
        "warnings.filterwarnings('ignore')"
      ]
    },
    {
      "cell_type": "markdown",
      "metadata": {
        "id": "j0sM7j5af3z5"
      },
      "source": [
        "### **Read Train file and Test file**"
      ]
    },
    {
      "cell_type": "code",
      "execution_count": 2,
      "metadata": {
        "colab": {
          "base_uri": "https://localhost:8080/"
        },
        "id": "c2k8xvsOf1Ry",
        "outputId": "6bef9665-31cb-4659-f81c-4b59dcf9b568"
      },
      "outputs": [
        {
          "output_type": "stream",
          "name": "stdout",
          "text": [
            "(5909, 192)\n",
            "(2469, 192)\n"
          ]
        }
      ],
      "source": [
        "df1 = pd.read_csv('train.csv')# read train file \n",
        "print(df1.shape)#shape of train data\n",
        "df2 = pd.read_csv('test.csv')#read test file \n",
        "df2['match'] = 0 #add column match to test file before concat\n",
        "print(df2.shape)#shape of test data "
      ]
    },
    {
      "cell_type": "markdown",
      "metadata": {
        "id": "DESlc8g2gRqy"
      },
      "source": [
        "### **Concat Data**"
      ]
    },
    {
      "cell_type": "code",
      "execution_count": 3,
      "metadata": {
        "colab": {
          "base_uri": "https://localhost:8080/",
          "height": 423
        },
        "id": "Uy0YfQl-gQCK",
        "outputId": "dde861da-aad1-4df7-f809-0ddb84acc6e9"
      },
      "outputs": [
        {
          "output_type": "execute_result",
          "data": {
            "text/html": [
              "\n",
              "  <div id=\"df-b60b03d9-879a-48a4-9de6-1862b5f38ef1\">\n",
              "    <div class=\"colab-df-container\">\n",
              "      <div>\n",
              "<style scoped>\n",
              "    .dataframe tbody tr th:only-of-type {\n",
              "        vertical-align: middle;\n",
              "    }\n",
              "\n",
              "    .dataframe tbody tr th {\n",
              "        vertical-align: top;\n",
              "    }\n",
              "\n",
              "    .dataframe thead th {\n",
              "        text-align: right;\n",
              "    }\n",
              "</style>\n",
              "<table border=\"1\" class=\"dataframe\">\n",
              "  <thead>\n",
              "    <tr style=\"text-align: right;\">\n",
              "      <th></th>\n",
              "      <th>gender</th>\n",
              "      <th>idg</th>\n",
              "      <th>condtn</th>\n",
              "      <th>wave</th>\n",
              "      <th>round</th>\n",
              "      <th>position</th>\n",
              "      <th>positin1</th>\n",
              "      <th>order</th>\n",
              "      <th>partner</th>\n",
              "      <th>pid</th>\n",
              "      <th>...</th>\n",
              "      <th>sinc3_3</th>\n",
              "      <th>intel3_3</th>\n",
              "      <th>fun3_3</th>\n",
              "      <th>amb3_3</th>\n",
              "      <th>attr5_3</th>\n",
              "      <th>sinc5_3</th>\n",
              "      <th>intel5_3</th>\n",
              "      <th>fun5_3</th>\n",
              "      <th>amb5_3</th>\n",
              "      <th>id</th>\n",
              "    </tr>\n",
              "  </thead>\n",
              "  <tbody>\n",
              "    <tr>\n",
              "      <th>0</th>\n",
              "      <td>0</td>\n",
              "      <td>3</td>\n",
              "      <td>2</td>\n",
              "      <td>14</td>\n",
              "      <td>18</td>\n",
              "      <td>2</td>\n",
              "      <td>2.0</td>\n",
              "      <td>14</td>\n",
              "      <td>12</td>\n",
              "      <td>372.0</td>\n",
              "      <td>...</td>\n",
              "      <td>NaN</td>\n",
              "      <td>NaN</td>\n",
              "      <td>NaN</td>\n",
              "      <td>NaN</td>\n",
              "      <td>NaN</td>\n",
              "      <td>NaN</td>\n",
              "      <td>NaN</td>\n",
              "      <td>NaN</td>\n",
              "      <td>NaN</td>\n",
              "      <td>2583</td>\n",
              "    </tr>\n",
              "    <tr>\n",
              "      <th>1</th>\n",
              "      <td>1</td>\n",
              "      <td>14</td>\n",
              "      <td>1</td>\n",
              "      <td>3</td>\n",
              "      <td>10</td>\n",
              "      <td>2</td>\n",
              "      <td>NaN</td>\n",
              "      <td>8</td>\n",
              "      <td>8</td>\n",
              "      <td>63.0</td>\n",
              "      <td>...</td>\n",
              "      <td>8.0</td>\n",
              "      <td>8.0</td>\n",
              "      <td>7.0</td>\n",
              "      <td>8.0</td>\n",
              "      <td>NaN</td>\n",
              "      <td>NaN</td>\n",
              "      <td>NaN</td>\n",
              "      <td>NaN</td>\n",
              "      <td>NaN</td>\n",
              "      <td>6830</td>\n",
              "    </tr>\n",
              "    <tr>\n",
              "      <th>2</th>\n",
              "      <td>1</td>\n",
              "      <td>14</td>\n",
              "      <td>1</td>\n",
              "      <td>13</td>\n",
              "      <td>10</td>\n",
              "      <td>8</td>\n",
              "      <td>8.0</td>\n",
              "      <td>10</td>\n",
              "      <td>10</td>\n",
              "      <td>331.0</td>\n",
              "      <td>...</td>\n",
              "      <td>NaN</td>\n",
              "      <td>NaN</td>\n",
              "      <td>NaN</td>\n",
              "      <td>NaN</td>\n",
              "      <td>NaN</td>\n",
              "      <td>NaN</td>\n",
              "      <td>NaN</td>\n",
              "      <td>NaN</td>\n",
              "      <td>NaN</td>\n",
              "      <td>4840</td>\n",
              "    </tr>\n",
              "    <tr>\n",
              "      <th>3</th>\n",
              "      <td>1</td>\n",
              "      <td>38</td>\n",
              "      <td>2</td>\n",
              "      <td>9</td>\n",
              "      <td>20</td>\n",
              "      <td>18</td>\n",
              "      <td>13.0</td>\n",
              "      <td>6</td>\n",
              "      <td>7</td>\n",
              "      <td>200.0</td>\n",
              "      <td>...</td>\n",
              "      <td>9.0</td>\n",
              "      <td>8.0</td>\n",
              "      <td>8.0</td>\n",
              "      <td>6.0</td>\n",
              "      <td>NaN</td>\n",
              "      <td>NaN</td>\n",
              "      <td>NaN</td>\n",
              "      <td>NaN</td>\n",
              "      <td>NaN</td>\n",
              "      <td>5508</td>\n",
              "    </tr>\n",
              "    <tr>\n",
              "      <th>4</th>\n",
              "      <td>1</td>\n",
              "      <td>24</td>\n",
              "      <td>2</td>\n",
              "      <td>14</td>\n",
              "      <td>20</td>\n",
              "      <td>6</td>\n",
              "      <td>6.0</td>\n",
              "      <td>20</td>\n",
              "      <td>17</td>\n",
              "      <td>357.0</td>\n",
              "      <td>...</td>\n",
              "      <td>NaN</td>\n",
              "      <td>NaN</td>\n",
              "      <td>NaN</td>\n",
              "      <td>NaN</td>\n",
              "      <td>NaN</td>\n",
              "      <td>NaN</td>\n",
              "      <td>NaN</td>\n",
              "      <td>NaN</td>\n",
              "      <td>NaN</td>\n",
              "      <td>4828</td>\n",
              "    </tr>\n",
              "    <tr>\n",
              "      <th>...</th>\n",
              "      <td>...</td>\n",
              "      <td>...</td>\n",
              "      <td>...</td>\n",
              "      <td>...</td>\n",
              "      <td>...</td>\n",
              "      <td>...</td>\n",
              "      <td>...</td>\n",
              "      <td>...</td>\n",
              "      <td>...</td>\n",
              "      <td>...</td>\n",
              "      <td>...</td>\n",
              "      <td>...</td>\n",
              "      <td>...</td>\n",
              "      <td>...</td>\n",
              "      <td>...</td>\n",
              "      <td>...</td>\n",
              "      <td>...</td>\n",
              "      <td>...</td>\n",
              "      <td>...</td>\n",
              "      <td>...</td>\n",
              "      <td>...</td>\n",
              "    </tr>\n",
              "    <tr>\n",
              "      <th>8373</th>\n",
              "      <td>0</td>\n",
              "      <td>23</td>\n",
              "      <td>2</td>\n",
              "      <td>15</td>\n",
              "      <td>19</td>\n",
              "      <td>18</td>\n",
              "      <td>18.0</td>\n",
              "      <td>14</td>\n",
              "      <td>11</td>\n",
              "      <td>407.0</td>\n",
              "      <td>...</td>\n",
              "      <td>NaN</td>\n",
              "      <td>NaN</td>\n",
              "      <td>NaN</td>\n",
              "      <td>NaN</td>\n",
              "      <td>NaN</td>\n",
              "      <td>NaN</td>\n",
              "      <td>NaN</td>\n",
              "      <td>NaN</td>\n",
              "      <td>NaN</td>\n",
              "      <td>7982</td>\n",
              "    </tr>\n",
              "    <tr>\n",
              "      <th>8374</th>\n",
              "      <td>0</td>\n",
              "      <td>5</td>\n",
              "      <td>1</td>\n",
              "      <td>13</td>\n",
              "      <td>9</td>\n",
              "      <td>4</td>\n",
              "      <td>4.0</td>\n",
              "      <td>4</td>\n",
              "      <td>8</td>\n",
              "      <td>339.0</td>\n",
              "      <td>...</td>\n",
              "      <td>NaN</td>\n",
              "      <td>NaN</td>\n",
              "      <td>NaN</td>\n",
              "      <td>NaN</td>\n",
              "      <td>NaN</td>\n",
              "      <td>NaN</td>\n",
              "      <td>NaN</td>\n",
              "      <td>NaN</td>\n",
              "      <td>NaN</td>\n",
              "      <td>7299</td>\n",
              "    </tr>\n",
              "    <tr>\n",
              "      <th>8375</th>\n",
              "      <td>1</td>\n",
              "      <td>26</td>\n",
              "      <td>2</td>\n",
              "      <td>2</td>\n",
              "      <td>19</td>\n",
              "      <td>3</td>\n",
              "      <td>NaN</td>\n",
              "      <td>15</td>\n",
              "      <td>3</td>\n",
              "      <td>23.0</td>\n",
              "      <td>...</td>\n",
              "      <td>NaN</td>\n",
              "      <td>NaN</td>\n",
              "      <td>NaN</td>\n",
              "      <td>NaN</td>\n",
              "      <td>NaN</td>\n",
              "      <td>NaN</td>\n",
              "      <td>NaN</td>\n",
              "      <td>NaN</td>\n",
              "      <td>NaN</td>\n",
              "      <td>1818</td>\n",
              "    </tr>\n",
              "    <tr>\n",
              "      <th>8376</th>\n",
              "      <td>0</td>\n",
              "      <td>19</td>\n",
              "      <td>2</td>\n",
              "      <td>9</td>\n",
              "      <td>20</td>\n",
              "      <td>11</td>\n",
              "      <td>11.0</td>\n",
              "      <td>9</td>\n",
              "      <td>2</td>\n",
              "      <td>215.0</td>\n",
              "      <td>...</td>\n",
              "      <td>7.0</td>\n",
              "      <td>12.0</td>\n",
              "      <td>12.0</td>\n",
              "      <td>9.0</td>\n",
              "      <td>NaN</td>\n",
              "      <td>NaN</td>\n",
              "      <td>NaN</td>\n",
              "      <td>NaN</td>\n",
              "      <td>NaN</td>\n",
              "      <td>937</td>\n",
              "    </tr>\n",
              "    <tr>\n",
              "      <th>8377</th>\n",
              "      <td>1</td>\n",
              "      <td>38</td>\n",
              "      <td>2</td>\n",
              "      <td>21</td>\n",
              "      <td>22</td>\n",
              "      <td>22</td>\n",
              "      <td>7.0</td>\n",
              "      <td>16</td>\n",
              "      <td>5</td>\n",
              "      <td>513.0</td>\n",
              "      <td>...</td>\n",
              "      <td>9.0</td>\n",
              "      <td>8.0</td>\n",
              "      <td>7.0</td>\n",
              "      <td>8.0</td>\n",
              "      <td>5.0</td>\n",
              "      <td>8.0</td>\n",
              "      <td>8.0</td>\n",
              "      <td>6.0</td>\n",
              "      <td>8.0</td>\n",
              "      <td>6691</td>\n",
              "    </tr>\n",
              "  </tbody>\n",
              "</table>\n",
              "<p>8378 rows × 192 columns</p>\n",
              "</div>\n",
              "      <button class=\"colab-df-convert\" onclick=\"convertToInteractive('df-b60b03d9-879a-48a4-9de6-1862b5f38ef1')\"\n",
              "              title=\"Convert this dataframe to an interactive table.\"\n",
              "              style=\"display:none;\">\n",
              "        \n",
              "  <svg xmlns=\"http://www.w3.org/2000/svg\" height=\"24px\"viewBox=\"0 0 24 24\"\n",
              "       width=\"24px\">\n",
              "    <path d=\"M0 0h24v24H0V0z\" fill=\"none\"/>\n",
              "    <path d=\"M18.56 5.44l.94 2.06.94-2.06 2.06-.94-2.06-.94-.94-2.06-.94 2.06-2.06.94zm-11 1L8.5 8.5l.94-2.06 2.06-.94-2.06-.94L8.5 2.5l-.94 2.06-2.06.94zm10 10l.94 2.06.94-2.06 2.06-.94-2.06-.94-.94-2.06-.94 2.06-2.06.94z\"/><path d=\"M17.41 7.96l-1.37-1.37c-.4-.4-.92-.59-1.43-.59-.52 0-1.04.2-1.43.59L10.3 9.45l-7.72 7.72c-.78.78-.78 2.05 0 2.83L4 21.41c.39.39.9.59 1.41.59.51 0 1.02-.2 1.41-.59l7.78-7.78 2.81-2.81c.8-.78.8-2.07 0-2.86zM5.41 20L4 18.59l7.72-7.72 1.47 1.35L5.41 20z\"/>\n",
              "  </svg>\n",
              "      </button>\n",
              "      \n",
              "  <style>\n",
              "    .colab-df-container {\n",
              "      display:flex;\n",
              "      flex-wrap:wrap;\n",
              "      gap: 12px;\n",
              "    }\n",
              "\n",
              "    .colab-df-convert {\n",
              "      background-color: #E8F0FE;\n",
              "      border: none;\n",
              "      border-radius: 50%;\n",
              "      cursor: pointer;\n",
              "      display: none;\n",
              "      fill: #1967D2;\n",
              "      height: 32px;\n",
              "      padding: 0 0 0 0;\n",
              "      width: 32px;\n",
              "    }\n",
              "\n",
              "    .colab-df-convert:hover {\n",
              "      background-color: #E2EBFA;\n",
              "      box-shadow: 0px 1px 2px rgba(60, 64, 67, 0.3), 0px 1px 3px 1px rgba(60, 64, 67, 0.15);\n",
              "      fill: #174EA6;\n",
              "    }\n",
              "\n",
              "    [theme=dark] .colab-df-convert {\n",
              "      background-color: #3B4455;\n",
              "      fill: #D2E3FC;\n",
              "    }\n",
              "\n",
              "    [theme=dark] .colab-df-convert:hover {\n",
              "      background-color: #434B5C;\n",
              "      box-shadow: 0px 1px 3px 1px rgba(0, 0, 0, 0.15);\n",
              "      filter: drop-shadow(0px 1px 2px rgba(0, 0, 0, 0.3));\n",
              "      fill: #FFFFFF;\n",
              "    }\n",
              "  </style>\n",
              "\n",
              "      <script>\n",
              "        const buttonEl =\n",
              "          document.querySelector('#df-b60b03d9-879a-48a4-9de6-1862b5f38ef1 button.colab-df-convert');\n",
              "        buttonEl.style.display =\n",
              "          google.colab.kernel.accessAllowed ? 'block' : 'none';\n",
              "\n",
              "        async function convertToInteractive(key) {\n",
              "          const element = document.querySelector('#df-b60b03d9-879a-48a4-9de6-1862b5f38ef1');\n",
              "          const dataTable =\n",
              "            await google.colab.kernel.invokeFunction('convertToInteractive',\n",
              "                                                     [key], {});\n",
              "          if (!dataTable) return;\n",
              "\n",
              "          const docLinkHtml = 'Like what you see? Visit the ' +\n",
              "            '<a target=\"_blank\" href=https://colab.research.google.com/notebooks/data_table.ipynb>data table notebook</a>'\n",
              "            + ' to learn more about interactive tables.';\n",
              "          element.innerHTML = '';\n",
              "          dataTable['output_type'] = 'display_data';\n",
              "          await google.colab.output.renderOutput(dataTable, element);\n",
              "          const docLink = document.createElement('div');\n",
              "          docLink.innerHTML = docLinkHtml;\n",
              "          element.appendChild(docLink);\n",
              "        }\n",
              "      </script>\n",
              "    </div>\n",
              "  </div>\n",
              "  "
            ],
            "text/plain": [
              "      gender  idg  condtn  wave  round  position  positin1  order  partner  \\\n",
              "0          0    3       2    14     18         2       2.0     14       12   \n",
              "1          1   14       1     3     10         2       NaN      8        8   \n",
              "2          1   14       1    13     10         8       8.0     10       10   \n",
              "3          1   38       2     9     20        18      13.0      6        7   \n",
              "4          1   24       2    14     20         6       6.0     20       17   \n",
              "...      ...  ...     ...   ...    ...       ...       ...    ...      ...   \n",
              "8373       0   23       2    15     19        18      18.0     14       11   \n",
              "8374       0    5       1    13      9         4       4.0      4        8   \n",
              "8375       1   26       2     2     19         3       NaN     15        3   \n",
              "8376       0   19       2     9     20        11      11.0      9        2   \n",
              "8377       1   38       2    21     22        22       7.0     16        5   \n",
              "\n",
              "        pid  ...  sinc3_3  intel3_3  fun3_3  amb3_3  attr5_3  sinc5_3  \\\n",
              "0     372.0  ...      NaN       NaN     NaN     NaN      NaN      NaN   \n",
              "1      63.0  ...      8.0       8.0     7.0     8.0      NaN      NaN   \n",
              "2     331.0  ...      NaN       NaN     NaN     NaN      NaN      NaN   \n",
              "3     200.0  ...      9.0       8.0     8.0     6.0      NaN      NaN   \n",
              "4     357.0  ...      NaN       NaN     NaN     NaN      NaN      NaN   \n",
              "...     ...  ...      ...       ...     ...     ...      ...      ...   \n",
              "8373  407.0  ...      NaN       NaN     NaN     NaN      NaN      NaN   \n",
              "8374  339.0  ...      NaN       NaN     NaN     NaN      NaN      NaN   \n",
              "8375   23.0  ...      NaN       NaN     NaN     NaN      NaN      NaN   \n",
              "8376  215.0  ...      7.0      12.0    12.0     9.0      NaN      NaN   \n",
              "8377  513.0  ...      9.0       8.0     7.0     8.0      5.0      8.0   \n",
              "\n",
              "      intel5_3  fun5_3  amb5_3    id  \n",
              "0          NaN     NaN     NaN  2583  \n",
              "1          NaN     NaN     NaN  6830  \n",
              "2          NaN     NaN     NaN  4840  \n",
              "3          NaN     NaN     NaN  5508  \n",
              "4          NaN     NaN     NaN  4828  \n",
              "...        ...     ...     ...   ...  \n",
              "8373       NaN     NaN     NaN  7982  \n",
              "8374       NaN     NaN     NaN  7299  \n",
              "8375       NaN     NaN     NaN  1818  \n",
              "8376       NaN     NaN     NaN   937  \n",
              "8377       8.0     6.0     8.0  6691  \n",
              "\n",
              "[8378 rows x 192 columns]"
            ]
          },
          "metadata": {},
          "execution_count": 3
        }
      ],
      "source": [
        "#I concat train and test data to deal with all data and then I will split it\n",
        "all_data= pd.concat([df1,df2],ignore_index=True, sort=False)\n",
        "all_data"
      ]
    },
    {
      "cell_type": "markdown",
      "metadata": {
        "id": "JshjKmGaghOb"
      },
      "source": [
        "\n",
        "```\n",
        "As we see the data have a lot of missing values.\n",
        "and have some object features should be handeled\n",
        "```\n",
        "\n"
      ]
    },
    {
      "cell_type": "markdown",
      "metadata": {
        "id": "9Dn0Xd2phllK"
      },
      "source": [
        "## **Discreption of data**"
      ]
    },
    {
      "cell_type": "code",
      "execution_count": 4,
      "metadata": {
        "colab": {
          "base_uri": "https://localhost:8080/"
        },
        "id": "5I_oS4KUgX_y",
        "outputId": "e5fd2964-f26f-42e1-8da2-3f8963828262"
      },
      "outputs": [
        {
          "output_type": "execute_result",
          "data": {
            "text/plain": [
              "gender        int64\n",
              "idg           int64\n",
              "condtn        int64\n",
              "wave          int64\n",
              "round         int64\n",
              "             ...   \n",
              "sinc5_3     float64\n",
              "intel5_3    float64\n",
              "fun5_3      float64\n",
              "amb5_3      float64\n",
              "id            int64\n",
              "Length: 192, dtype: object"
            ]
          },
          "metadata": {},
          "execution_count": 4
        }
      ],
      "source": [
        "all_data.dtypes # type of data "
      ]
    },
    {
      "cell_type": "code",
      "execution_count": 5,
      "metadata": {
        "colab": {
          "base_uri": "https://localhost:8080/"
        },
        "id": "veca3U4Oh8VC",
        "outputId": "f8caf1b1-337e-4234-9ca2-e217c9a1852d"
      },
      "outputs": [
        {
          "output_type": "execute_result",
          "data": {
            "text/plain": [
              "gender         2\n",
              "idg           44\n",
              "condtn         2\n",
              "wave          21\n",
              "round         15\n",
              "            ... \n",
              "sinc5_3        9\n",
              "intel5_3       7\n",
              "fun5_3        10\n",
              "amb5_3         9\n",
              "id          8378\n",
              "Length: 192, dtype: int64"
            ]
          },
          "metadata": {},
          "execution_count": 5
        }
      ],
      "source": [
        "all_data.nunique()# unique value for all data"
      ]
    },
    {
      "cell_type": "code",
      "execution_count": 6,
      "metadata": {
        "colab": {
          "base_uri": "https://localhost:8080/"
        },
        "id": "clCE8w-6iBgz",
        "outputId": "1637a1f0-9246-49c7-d544-13d508a02449"
      },
      "outputs": [
        {
          "output_type": "stream",
          "name": "stdout",
          "text": [
            "<class 'pandas.core.frame.DataFrame'>\n",
            "RangeIndex: 8378 entries, 0 to 8377\n",
            "Columns: 192 entries, gender to id\n",
            "dtypes: float64(173), int64(11), object(8)\n",
            "memory usage: 12.3+ MB\n"
          ]
        }
      ],
      "source": [
        "all_data.info() #some information about data"
      ]
    },
    {
      "cell_type": "markdown",
      "metadata": {
        "id": "U_11Epf2iKCi"
      },
      "source": [
        "## **Search about null value**"
      ]
    },
    {
      "cell_type": "code",
      "execution_count": 7,
      "metadata": {
        "colab": {
          "base_uri": "https://localhost:8080/",
          "height": 990
        },
        "id": "gb4j0t93iFxC",
        "outputId": "934877f6-eeb0-4a01-8f78-3dcc5a3ae0ca"
      },
      "outputs": [
        {
          "output_type": "execute_result",
          "data": {
            "text/html": [
              "\n",
              "  <div id=\"df-c28ffe37-93a3-4fe2-99f3-b63792920cc3\">\n",
              "    <div class=\"colab-df-container\">\n",
              "      <div>\n",
              "<style scoped>\n",
              "    .dataframe tbody tr th:only-of-type {\n",
              "        vertical-align: middle;\n",
              "    }\n",
              "\n",
              "    .dataframe tbody tr th {\n",
              "        vertical-align: top;\n",
              "    }\n",
              "\n",
              "    .dataframe thead th {\n",
              "        text-align: right;\n",
              "    }\n",
              "</style>\n",
              "<table border=\"1\" class=\"dataframe\">\n",
              "  <thead>\n",
              "    <tr style=\"text-align: right;\">\n",
              "      <th></th>\n",
              "      <th>null_val</th>\n",
              "      <th>percent_</th>\n",
              "    </tr>\n",
              "  </thead>\n",
              "  <tbody>\n",
              "    <tr>\n",
              "      <th>num_in_3</th>\n",
              "      <td>7710</td>\n",
              "      <td>92.0</td>\n",
              "    </tr>\n",
              "    <tr>\n",
              "      <th>numdat_3</th>\n",
              "      <td>6882</td>\n",
              "      <td>82.0</td>\n",
              "    </tr>\n",
              "    <tr>\n",
              "      <th>expnum</th>\n",
              "      <td>6578</td>\n",
              "      <td>79.0</td>\n",
              "    </tr>\n",
              "    <tr>\n",
              "      <th>amb7_2</th>\n",
              "      <td>6423</td>\n",
              "      <td>77.0</td>\n",
              "    </tr>\n",
              "    <tr>\n",
              "      <th>sinc7_2</th>\n",
              "      <td>6423</td>\n",
              "      <td>77.0</td>\n",
              "    </tr>\n",
              "    <tr>\n",
              "      <th>shar2_3</th>\n",
              "      <td>6362</td>\n",
              "      <td>76.0</td>\n",
              "    </tr>\n",
              "    <tr>\n",
              "      <th>fun7_3</th>\n",
              "      <td>6362</td>\n",
              "      <td>76.0</td>\n",
              "    </tr>\n",
              "    <tr>\n",
              "      <th>intel7_3</th>\n",
              "      <td>6362</td>\n",
              "      <td>76.0</td>\n",
              "    </tr>\n",
              "    <tr>\n",
              "      <th>sinc7_3</th>\n",
              "      <td>6362</td>\n",
              "      <td>76.0</td>\n",
              "    </tr>\n",
              "    <tr>\n",
              "      <th>attr7_3</th>\n",
              "      <td>6362</td>\n",
              "      <td>76.0</td>\n",
              "    </tr>\n",
              "    <tr>\n",
              "      <th>shar7_2</th>\n",
              "      <td>6404</td>\n",
              "      <td>76.0</td>\n",
              "    </tr>\n",
              "    <tr>\n",
              "      <th>intel7_2</th>\n",
              "      <td>6394</td>\n",
              "      <td>76.0</td>\n",
              "    </tr>\n",
              "    <tr>\n",
              "      <th>fun7_2</th>\n",
              "      <td>6394</td>\n",
              "      <td>76.0</td>\n",
              "    </tr>\n",
              "    <tr>\n",
              "      <th>shar7_3</th>\n",
              "      <td>6362</td>\n",
              "      <td>76.0</td>\n",
              "    </tr>\n",
              "    <tr>\n",
              "      <th>attr7_2</th>\n",
              "      <td>6394</td>\n",
              "      <td>76.0</td>\n",
              "    </tr>\n",
              "    <tr>\n",
              "      <th>attr5_3</th>\n",
              "      <td>6362</td>\n",
              "      <td>76.0</td>\n",
              "    </tr>\n",
              "    <tr>\n",
              "      <th>sinc5_3</th>\n",
              "      <td>6362</td>\n",
              "      <td>76.0</td>\n",
              "    </tr>\n",
              "    <tr>\n",
              "      <th>intel5_3</th>\n",
              "      <td>6362</td>\n",
              "      <td>76.0</td>\n",
              "    </tr>\n",
              "    <tr>\n",
              "      <th>fun5_3</th>\n",
              "      <td>6362</td>\n",
              "      <td>76.0</td>\n",
              "    </tr>\n",
              "    <tr>\n",
              "      <th>amb5_3</th>\n",
              "      <td>6362</td>\n",
              "      <td>76.0</td>\n",
              "    </tr>\n",
              "    <tr>\n",
              "      <th>amb7_3</th>\n",
              "      <td>6362</td>\n",
              "      <td>76.0</td>\n",
              "    </tr>\n",
              "    <tr>\n",
              "      <th>amb2_3</th>\n",
              "      <td>5419</td>\n",
              "      <td>65.0</td>\n",
              "    </tr>\n",
              "    <tr>\n",
              "      <th>attr4_3</th>\n",
              "      <td>5419</td>\n",
              "      <td>65.0</td>\n",
              "    </tr>\n",
              "    <tr>\n",
              "      <th>shar4_3</th>\n",
              "      <td>5419</td>\n",
              "      <td>65.0</td>\n",
              "    </tr>\n",
              "    <tr>\n",
              "      <th>intel4_3</th>\n",
              "      <td>5419</td>\n",
              "      <td>65.0</td>\n",
              "    </tr>\n",
              "    <tr>\n",
              "      <th>fun4_3</th>\n",
              "      <td>5419</td>\n",
              "      <td>65.0</td>\n",
              "    </tr>\n",
              "    <tr>\n",
              "      <th>amb4_3</th>\n",
              "      <td>5419</td>\n",
              "      <td>65.0</td>\n",
              "    </tr>\n",
              "    <tr>\n",
              "      <th>fun2_3</th>\n",
              "      <td>5419</td>\n",
              "      <td>65.0</td>\n",
              "    </tr>\n",
              "    <tr>\n",
              "      <th>intel2_3</th>\n",
              "      <td>5419</td>\n",
              "      <td>65.0</td>\n",
              "    </tr>\n",
              "    <tr>\n",
              "      <th>sinc2_3</th>\n",
              "      <td>5419</td>\n",
              "      <td>65.0</td>\n",
              "    </tr>\n",
              "  </tbody>\n",
              "</table>\n",
              "</div>\n",
              "      <button class=\"colab-df-convert\" onclick=\"convertToInteractive('df-c28ffe37-93a3-4fe2-99f3-b63792920cc3')\"\n",
              "              title=\"Convert this dataframe to an interactive table.\"\n",
              "              style=\"display:none;\">\n",
              "        \n",
              "  <svg xmlns=\"http://www.w3.org/2000/svg\" height=\"24px\"viewBox=\"0 0 24 24\"\n",
              "       width=\"24px\">\n",
              "    <path d=\"M0 0h24v24H0V0z\" fill=\"none\"/>\n",
              "    <path d=\"M18.56 5.44l.94 2.06.94-2.06 2.06-.94-2.06-.94-.94-2.06-.94 2.06-2.06.94zm-11 1L8.5 8.5l.94-2.06 2.06-.94-2.06-.94L8.5 2.5l-.94 2.06-2.06.94zm10 10l.94 2.06.94-2.06 2.06-.94-2.06-.94-.94-2.06-.94 2.06-2.06.94z\"/><path d=\"M17.41 7.96l-1.37-1.37c-.4-.4-.92-.59-1.43-.59-.52 0-1.04.2-1.43.59L10.3 9.45l-7.72 7.72c-.78.78-.78 2.05 0 2.83L4 21.41c.39.39.9.59 1.41.59.51 0 1.02-.2 1.41-.59l7.78-7.78 2.81-2.81c.8-.78.8-2.07 0-2.86zM5.41 20L4 18.59l7.72-7.72 1.47 1.35L5.41 20z\"/>\n",
              "  </svg>\n",
              "      </button>\n",
              "      \n",
              "  <style>\n",
              "    .colab-df-container {\n",
              "      display:flex;\n",
              "      flex-wrap:wrap;\n",
              "      gap: 12px;\n",
              "    }\n",
              "\n",
              "    .colab-df-convert {\n",
              "      background-color: #E8F0FE;\n",
              "      border: none;\n",
              "      border-radius: 50%;\n",
              "      cursor: pointer;\n",
              "      display: none;\n",
              "      fill: #1967D2;\n",
              "      height: 32px;\n",
              "      padding: 0 0 0 0;\n",
              "      width: 32px;\n",
              "    }\n",
              "\n",
              "    .colab-df-convert:hover {\n",
              "      background-color: #E2EBFA;\n",
              "      box-shadow: 0px 1px 2px rgba(60, 64, 67, 0.3), 0px 1px 3px 1px rgba(60, 64, 67, 0.15);\n",
              "      fill: #174EA6;\n",
              "    }\n",
              "\n",
              "    [theme=dark] .colab-df-convert {\n",
              "      background-color: #3B4455;\n",
              "      fill: #D2E3FC;\n",
              "    }\n",
              "\n",
              "    [theme=dark] .colab-df-convert:hover {\n",
              "      background-color: #434B5C;\n",
              "      box-shadow: 0px 1px 3px 1px rgba(0, 0, 0, 0.15);\n",
              "      filter: drop-shadow(0px 1px 2px rgba(0, 0, 0, 0.3));\n",
              "      fill: #FFFFFF;\n",
              "    }\n",
              "  </style>\n",
              "\n",
              "      <script>\n",
              "        const buttonEl =\n",
              "          document.querySelector('#df-c28ffe37-93a3-4fe2-99f3-b63792920cc3 button.colab-df-convert');\n",
              "        buttonEl.style.display =\n",
              "          google.colab.kernel.accessAllowed ? 'block' : 'none';\n",
              "\n",
              "        async function convertToInteractive(key) {\n",
              "          const element = document.querySelector('#df-c28ffe37-93a3-4fe2-99f3-b63792920cc3');\n",
              "          const dataTable =\n",
              "            await google.colab.kernel.invokeFunction('convertToInteractive',\n",
              "                                                     [key], {});\n",
              "          if (!dataTable) return;\n",
              "\n",
              "          const docLinkHtml = 'Like what you see? Visit the ' +\n",
              "            '<a target=\"_blank\" href=https://colab.research.google.com/notebooks/data_table.ipynb>data table notebook</a>'\n",
              "            + ' to learn more about interactive tables.';\n",
              "          element.innerHTML = '';\n",
              "          dataTable['output_type'] = 'display_data';\n",
              "          await google.colab.output.renderOutput(dataTable, element);\n",
              "          const docLink = document.createElement('div');\n",
              "          docLink.innerHTML = docLinkHtml;\n",
              "          element.appendChild(docLink);\n",
              "        }\n",
              "      </script>\n",
              "    </div>\n",
              "  </div>\n",
              "  "
            ],
            "text/plain": [
              "          null_val  percent_\n",
              "num_in_3      7710      92.0\n",
              "numdat_3      6882      82.0\n",
              "expnum        6578      79.0\n",
              "amb7_2        6423      77.0\n",
              "sinc7_2       6423      77.0\n",
              "shar2_3       6362      76.0\n",
              "fun7_3        6362      76.0\n",
              "intel7_3      6362      76.0\n",
              "sinc7_3       6362      76.0\n",
              "attr7_3       6362      76.0\n",
              "shar7_2       6404      76.0\n",
              "intel7_2      6394      76.0\n",
              "fun7_2        6394      76.0\n",
              "shar7_3       6362      76.0\n",
              "attr7_2       6394      76.0\n",
              "attr5_3       6362      76.0\n",
              "sinc5_3       6362      76.0\n",
              "intel5_3      6362      76.0\n",
              "fun5_3        6362      76.0\n",
              "amb5_3        6362      76.0\n",
              "amb7_3        6362      76.0\n",
              "amb2_3        5419      65.0\n",
              "attr4_3       5419      65.0\n",
              "shar4_3       5419      65.0\n",
              "intel4_3      5419      65.0\n",
              "fun4_3        5419      65.0\n",
              "amb4_3        5419      65.0\n",
              "fun2_3        5419      65.0\n",
              "intel2_3      5419      65.0\n",
              "sinc2_3       5419      65.0"
            ]
          },
          "metadata": {},
          "execution_count": 7
        }
      ],
      "source": [
        "from numpy.ma.core import array\n",
        "#this return the first 30 columns have null value \n",
        "null_val = pd.DataFrame(all_data.isnull().sum())\n",
        "null_val.columns = ['null_val']\n",
        "null_val['percent_'] = round(null_val['null_val'] / len(all_data.index), 2) * 100\n",
        "null_val.sort_values('percent_', ascending = False)[:30]#make dataframe and calc percent of null value for each columns"
      ]
    },
    {
      "cell_type": "markdown",
      "metadata": {
        "id": "-2UJBHAEiatD"
      },
      "source": [
        "\n",
        "\n",
        "```\n",
        "As we see there are some features have above of 76 % \n",
        "```"
      ]
    },
    {
      "cell_type": "markdown",
      "metadata": {
        "id": "rjqK92hsmRpk"
      },
      "source": [
        "`From the peek at the data we had above, there are a ton of fields with NaNs. A lot of NaN I'll just disregard these fields with over 76 % null values from the dataset`"
      ]
    },
    {
      "cell_type": "markdown",
      "metadata": {
        "id": "dhrIwfxumzSs"
      },
      "source": [
        "##**Drop features have above of 76 %**"
      ]
    },
    {
      "cell_type": "code",
      "execution_count": 8,
      "metadata": {
        "id": "9LVa3_Jgmf37"
      },
      "outputs": [],
      "source": [
        "all_data = all_data.drop([\n",
        "'num_in_3',\n",
        "'numdat_3',\n",
        "'expnum',\t\n",
        "'amb7_2',\t\n",
        "'sinc7_2',\t\n",
        "'shar2_3',\t\n",
        "'fun7_3',\t\n",
        "'intel7_3',\t\n",
        "'sinc7_3',\t\n",
        "'attr7_3',\t\n",
        "'shar7_2',\t\n",
        "'intel7_2',\t\n",
        "'fun7_2',\t\n",
        "'shar7_3',\t\n",
        "'attr7_2',\t\n",
        "'attr5_3',\t\t\n",
        "'sinc5_3',\t\n",
        "'intel5_3',\t\n",
        "'fun5_3',\t\n",
        "'amb5_3',\t\n",
        "'amb7_3'\n",
        "]\n",
        ", axis =1) "
      ]
    },
    {
      "cell_type": "code",
      "execution_count": 9,
      "metadata": {
        "colab": {
          "base_uri": "https://localhost:8080/",
          "height": 423
        },
        "id": "phbTcm958oSV",
        "outputId": "fe17b6ef-a95e-4ad8-8be5-046c7804ce12"
      },
      "outputs": [
        {
          "output_type": "execute_result",
          "data": {
            "text/html": [
              "\n",
              "  <div id=\"df-57ab5103-2f6d-48a1-9c50-14e6ff9e738e\">\n",
              "    <div class=\"colab-df-container\">\n",
              "      <div>\n",
              "<style scoped>\n",
              "    .dataframe tbody tr th:only-of-type {\n",
              "        vertical-align: middle;\n",
              "    }\n",
              "\n",
              "    .dataframe tbody tr th {\n",
              "        vertical-align: top;\n",
              "    }\n",
              "\n",
              "    .dataframe thead th {\n",
              "        text-align: right;\n",
              "    }\n",
              "</style>\n",
              "<table border=\"1\" class=\"dataframe\">\n",
              "  <thead>\n",
              "    <tr style=\"text-align: right;\">\n",
              "      <th></th>\n",
              "      <th>gender</th>\n",
              "      <th>idg</th>\n",
              "      <th>condtn</th>\n",
              "      <th>wave</th>\n",
              "      <th>round</th>\n",
              "      <th>position</th>\n",
              "      <th>positin1</th>\n",
              "      <th>order</th>\n",
              "      <th>partner</th>\n",
              "      <th>pid</th>\n",
              "      <th>...</th>\n",
              "      <th>sinc2_3</th>\n",
              "      <th>intel2_3</th>\n",
              "      <th>fun2_3</th>\n",
              "      <th>amb2_3</th>\n",
              "      <th>attr3_3</th>\n",
              "      <th>sinc3_3</th>\n",
              "      <th>intel3_3</th>\n",
              "      <th>fun3_3</th>\n",
              "      <th>amb3_3</th>\n",
              "      <th>id</th>\n",
              "    </tr>\n",
              "  </thead>\n",
              "  <tbody>\n",
              "    <tr>\n",
              "      <th>0</th>\n",
              "      <td>0</td>\n",
              "      <td>3</td>\n",
              "      <td>2</td>\n",
              "      <td>14</td>\n",
              "      <td>18</td>\n",
              "      <td>2</td>\n",
              "      <td>2.0</td>\n",
              "      <td>14</td>\n",
              "      <td>12</td>\n",
              "      <td>372.0</td>\n",
              "      <td>...</td>\n",
              "      <td>NaN</td>\n",
              "      <td>NaN</td>\n",
              "      <td>NaN</td>\n",
              "      <td>NaN</td>\n",
              "      <td>NaN</td>\n",
              "      <td>NaN</td>\n",
              "      <td>NaN</td>\n",
              "      <td>NaN</td>\n",
              "      <td>NaN</td>\n",
              "      <td>2583</td>\n",
              "    </tr>\n",
              "    <tr>\n",
              "      <th>1</th>\n",
              "      <td>1</td>\n",
              "      <td>14</td>\n",
              "      <td>1</td>\n",
              "      <td>3</td>\n",
              "      <td>10</td>\n",
              "      <td>2</td>\n",
              "      <td>NaN</td>\n",
              "      <td>8</td>\n",
              "      <td>8</td>\n",
              "      <td>63.0</td>\n",
              "      <td>...</td>\n",
              "      <td>NaN</td>\n",
              "      <td>NaN</td>\n",
              "      <td>NaN</td>\n",
              "      <td>NaN</td>\n",
              "      <td>6.0</td>\n",
              "      <td>8.0</td>\n",
              "      <td>8.0</td>\n",
              "      <td>7.0</td>\n",
              "      <td>8.0</td>\n",
              "      <td>6830</td>\n",
              "    </tr>\n",
              "    <tr>\n",
              "      <th>2</th>\n",
              "      <td>1</td>\n",
              "      <td>14</td>\n",
              "      <td>1</td>\n",
              "      <td>13</td>\n",
              "      <td>10</td>\n",
              "      <td>8</td>\n",
              "      <td>8.0</td>\n",
              "      <td>10</td>\n",
              "      <td>10</td>\n",
              "      <td>331.0</td>\n",
              "      <td>...</td>\n",
              "      <td>NaN</td>\n",
              "      <td>NaN</td>\n",
              "      <td>NaN</td>\n",
              "      <td>NaN</td>\n",
              "      <td>NaN</td>\n",
              "      <td>NaN</td>\n",
              "      <td>NaN</td>\n",
              "      <td>NaN</td>\n",
              "      <td>NaN</td>\n",
              "      <td>4840</td>\n",
              "    </tr>\n",
              "    <tr>\n",
              "      <th>3</th>\n",
              "      <td>1</td>\n",
              "      <td>38</td>\n",
              "      <td>2</td>\n",
              "      <td>9</td>\n",
              "      <td>20</td>\n",
              "      <td>18</td>\n",
              "      <td>13.0</td>\n",
              "      <td>6</td>\n",
              "      <td>7</td>\n",
              "      <td>200.0</td>\n",
              "      <td>...</td>\n",
              "      <td>8.0</td>\n",
              "      <td>8.0</td>\n",
              "      <td>8.0</td>\n",
              "      <td>8.0</td>\n",
              "      <td>8.0</td>\n",
              "      <td>9.0</td>\n",
              "      <td>8.0</td>\n",
              "      <td>8.0</td>\n",
              "      <td>6.0</td>\n",
              "      <td>5508</td>\n",
              "    </tr>\n",
              "    <tr>\n",
              "      <th>4</th>\n",
              "      <td>1</td>\n",
              "      <td>24</td>\n",
              "      <td>2</td>\n",
              "      <td>14</td>\n",
              "      <td>20</td>\n",
              "      <td>6</td>\n",
              "      <td>6.0</td>\n",
              "      <td>20</td>\n",
              "      <td>17</td>\n",
              "      <td>357.0</td>\n",
              "      <td>...</td>\n",
              "      <td>NaN</td>\n",
              "      <td>NaN</td>\n",
              "      <td>NaN</td>\n",
              "      <td>NaN</td>\n",
              "      <td>NaN</td>\n",
              "      <td>NaN</td>\n",
              "      <td>NaN</td>\n",
              "      <td>NaN</td>\n",
              "      <td>NaN</td>\n",
              "      <td>4828</td>\n",
              "    </tr>\n",
              "    <tr>\n",
              "      <th>...</th>\n",
              "      <td>...</td>\n",
              "      <td>...</td>\n",
              "      <td>...</td>\n",
              "      <td>...</td>\n",
              "      <td>...</td>\n",
              "      <td>...</td>\n",
              "      <td>...</td>\n",
              "      <td>...</td>\n",
              "      <td>...</td>\n",
              "      <td>...</td>\n",
              "      <td>...</td>\n",
              "      <td>...</td>\n",
              "      <td>...</td>\n",
              "      <td>...</td>\n",
              "      <td>...</td>\n",
              "      <td>...</td>\n",
              "      <td>...</td>\n",
              "      <td>...</td>\n",
              "      <td>...</td>\n",
              "      <td>...</td>\n",
              "      <td>...</td>\n",
              "    </tr>\n",
              "    <tr>\n",
              "      <th>8373</th>\n",
              "      <td>0</td>\n",
              "      <td>23</td>\n",
              "      <td>2</td>\n",
              "      <td>15</td>\n",
              "      <td>19</td>\n",
              "      <td>18</td>\n",
              "      <td>18.0</td>\n",
              "      <td>14</td>\n",
              "      <td>11</td>\n",
              "      <td>407.0</td>\n",
              "      <td>...</td>\n",
              "      <td>NaN</td>\n",
              "      <td>NaN</td>\n",
              "      <td>NaN</td>\n",
              "      <td>NaN</td>\n",
              "      <td>NaN</td>\n",
              "      <td>NaN</td>\n",
              "      <td>NaN</td>\n",
              "      <td>NaN</td>\n",
              "      <td>NaN</td>\n",
              "      <td>7982</td>\n",
              "    </tr>\n",
              "    <tr>\n",
              "      <th>8374</th>\n",
              "      <td>0</td>\n",
              "      <td>5</td>\n",
              "      <td>1</td>\n",
              "      <td>13</td>\n",
              "      <td>9</td>\n",
              "      <td>4</td>\n",
              "      <td>4.0</td>\n",
              "      <td>4</td>\n",
              "      <td>8</td>\n",
              "      <td>339.0</td>\n",
              "      <td>...</td>\n",
              "      <td>NaN</td>\n",
              "      <td>NaN</td>\n",
              "      <td>NaN</td>\n",
              "      <td>NaN</td>\n",
              "      <td>NaN</td>\n",
              "      <td>NaN</td>\n",
              "      <td>NaN</td>\n",
              "      <td>NaN</td>\n",
              "      <td>NaN</td>\n",
              "      <td>7299</td>\n",
              "    </tr>\n",
              "    <tr>\n",
              "      <th>8375</th>\n",
              "      <td>1</td>\n",
              "      <td>26</td>\n",
              "      <td>2</td>\n",
              "      <td>2</td>\n",
              "      <td>19</td>\n",
              "      <td>3</td>\n",
              "      <td>NaN</td>\n",
              "      <td>15</td>\n",
              "      <td>3</td>\n",
              "      <td>23.0</td>\n",
              "      <td>...</td>\n",
              "      <td>NaN</td>\n",
              "      <td>NaN</td>\n",
              "      <td>NaN</td>\n",
              "      <td>NaN</td>\n",
              "      <td>NaN</td>\n",
              "      <td>NaN</td>\n",
              "      <td>NaN</td>\n",
              "      <td>NaN</td>\n",
              "      <td>NaN</td>\n",
              "      <td>1818</td>\n",
              "    </tr>\n",
              "    <tr>\n",
              "      <th>8376</th>\n",
              "      <td>0</td>\n",
              "      <td>19</td>\n",
              "      <td>2</td>\n",
              "      <td>9</td>\n",
              "      <td>20</td>\n",
              "      <td>11</td>\n",
              "      <td>11.0</td>\n",
              "      <td>9</td>\n",
              "      <td>2</td>\n",
              "      <td>215.0</td>\n",
              "      <td>...</td>\n",
              "      <td>8.0</td>\n",
              "      <td>7.0</td>\n",
              "      <td>8.0</td>\n",
              "      <td>6.0</td>\n",
              "      <td>9.0</td>\n",
              "      <td>7.0</td>\n",
              "      <td>12.0</td>\n",
              "      <td>12.0</td>\n",
              "      <td>9.0</td>\n",
              "      <td>937</td>\n",
              "    </tr>\n",
              "    <tr>\n",
              "      <th>8377</th>\n",
              "      <td>1</td>\n",
              "      <td>38</td>\n",
              "      <td>2</td>\n",
              "      <td>21</td>\n",
              "      <td>22</td>\n",
              "      <td>22</td>\n",
              "      <td>7.0</td>\n",
              "      <td>16</td>\n",
              "      <td>5</td>\n",
              "      <td>513.0</td>\n",
              "      <td>...</td>\n",
              "      <td>0.0</td>\n",
              "      <td>20.0</td>\n",
              "      <td>20.0</td>\n",
              "      <td>10.0</td>\n",
              "      <td>7.0</td>\n",
              "      <td>9.0</td>\n",
              "      <td>8.0</td>\n",
              "      <td>7.0</td>\n",
              "      <td>8.0</td>\n",
              "      <td>6691</td>\n",
              "    </tr>\n",
              "  </tbody>\n",
              "</table>\n",
              "<p>8378 rows × 171 columns</p>\n",
              "</div>\n",
              "      <button class=\"colab-df-convert\" onclick=\"convertToInteractive('df-57ab5103-2f6d-48a1-9c50-14e6ff9e738e')\"\n",
              "              title=\"Convert this dataframe to an interactive table.\"\n",
              "              style=\"display:none;\">\n",
              "        \n",
              "  <svg xmlns=\"http://www.w3.org/2000/svg\" height=\"24px\"viewBox=\"0 0 24 24\"\n",
              "       width=\"24px\">\n",
              "    <path d=\"M0 0h24v24H0V0z\" fill=\"none\"/>\n",
              "    <path d=\"M18.56 5.44l.94 2.06.94-2.06 2.06-.94-2.06-.94-.94-2.06-.94 2.06-2.06.94zm-11 1L8.5 8.5l.94-2.06 2.06-.94-2.06-.94L8.5 2.5l-.94 2.06-2.06.94zm10 10l.94 2.06.94-2.06 2.06-.94-2.06-.94-.94-2.06-.94 2.06-2.06.94z\"/><path d=\"M17.41 7.96l-1.37-1.37c-.4-.4-.92-.59-1.43-.59-.52 0-1.04.2-1.43.59L10.3 9.45l-7.72 7.72c-.78.78-.78 2.05 0 2.83L4 21.41c.39.39.9.59 1.41.59.51 0 1.02-.2 1.41-.59l7.78-7.78 2.81-2.81c.8-.78.8-2.07 0-2.86zM5.41 20L4 18.59l7.72-7.72 1.47 1.35L5.41 20z\"/>\n",
              "  </svg>\n",
              "      </button>\n",
              "      \n",
              "  <style>\n",
              "    .colab-df-container {\n",
              "      display:flex;\n",
              "      flex-wrap:wrap;\n",
              "      gap: 12px;\n",
              "    }\n",
              "\n",
              "    .colab-df-convert {\n",
              "      background-color: #E8F0FE;\n",
              "      border: none;\n",
              "      border-radius: 50%;\n",
              "      cursor: pointer;\n",
              "      display: none;\n",
              "      fill: #1967D2;\n",
              "      height: 32px;\n",
              "      padding: 0 0 0 0;\n",
              "      width: 32px;\n",
              "    }\n",
              "\n",
              "    .colab-df-convert:hover {\n",
              "      background-color: #E2EBFA;\n",
              "      box-shadow: 0px 1px 2px rgba(60, 64, 67, 0.3), 0px 1px 3px 1px rgba(60, 64, 67, 0.15);\n",
              "      fill: #174EA6;\n",
              "    }\n",
              "\n",
              "    [theme=dark] .colab-df-convert {\n",
              "      background-color: #3B4455;\n",
              "      fill: #D2E3FC;\n",
              "    }\n",
              "\n",
              "    [theme=dark] .colab-df-convert:hover {\n",
              "      background-color: #434B5C;\n",
              "      box-shadow: 0px 1px 3px 1px rgba(0, 0, 0, 0.15);\n",
              "      filter: drop-shadow(0px 1px 2px rgba(0, 0, 0, 0.3));\n",
              "      fill: #FFFFFF;\n",
              "    }\n",
              "  </style>\n",
              "\n",
              "      <script>\n",
              "        const buttonEl =\n",
              "          document.querySelector('#df-57ab5103-2f6d-48a1-9c50-14e6ff9e738e button.colab-df-convert');\n",
              "        buttonEl.style.display =\n",
              "          google.colab.kernel.accessAllowed ? 'block' : 'none';\n",
              "\n",
              "        async function convertToInteractive(key) {\n",
              "          const element = document.querySelector('#df-57ab5103-2f6d-48a1-9c50-14e6ff9e738e');\n",
              "          const dataTable =\n",
              "            await google.colab.kernel.invokeFunction('convertToInteractive',\n",
              "                                                     [key], {});\n",
              "          if (!dataTable) return;\n",
              "\n",
              "          const docLinkHtml = 'Like what you see? Visit the ' +\n",
              "            '<a target=\"_blank\" href=https://colab.research.google.com/notebooks/data_table.ipynb>data table notebook</a>'\n",
              "            + ' to learn more about interactive tables.';\n",
              "          element.innerHTML = '';\n",
              "          dataTable['output_type'] = 'display_data';\n",
              "          await google.colab.output.renderOutput(dataTable, element);\n",
              "          const docLink = document.createElement('div');\n",
              "          docLink.innerHTML = docLinkHtml;\n",
              "          element.appendChild(docLink);\n",
              "        }\n",
              "      </script>\n",
              "    </div>\n",
              "  </div>\n",
              "  "
            ],
            "text/plain": [
              "      gender  idg  condtn  wave  round  position  positin1  order  partner  \\\n",
              "0          0    3       2    14     18         2       2.0     14       12   \n",
              "1          1   14       1     3     10         2       NaN      8        8   \n",
              "2          1   14       1    13     10         8       8.0     10       10   \n",
              "3          1   38       2     9     20        18      13.0      6        7   \n",
              "4          1   24       2    14     20         6       6.0     20       17   \n",
              "...      ...  ...     ...   ...    ...       ...       ...    ...      ...   \n",
              "8373       0   23       2    15     19        18      18.0     14       11   \n",
              "8374       0    5       1    13      9         4       4.0      4        8   \n",
              "8375       1   26       2     2     19         3       NaN     15        3   \n",
              "8376       0   19       2     9     20        11      11.0      9        2   \n",
              "8377       1   38       2    21     22        22       7.0     16        5   \n",
              "\n",
              "        pid  ...  sinc2_3  intel2_3  fun2_3  amb2_3  attr3_3  sinc3_3  \\\n",
              "0     372.0  ...      NaN       NaN     NaN     NaN      NaN      NaN   \n",
              "1      63.0  ...      NaN       NaN     NaN     NaN      6.0      8.0   \n",
              "2     331.0  ...      NaN       NaN     NaN     NaN      NaN      NaN   \n",
              "3     200.0  ...      8.0       8.0     8.0     8.0      8.0      9.0   \n",
              "4     357.0  ...      NaN       NaN     NaN     NaN      NaN      NaN   \n",
              "...     ...  ...      ...       ...     ...     ...      ...      ...   \n",
              "8373  407.0  ...      NaN       NaN     NaN     NaN      NaN      NaN   \n",
              "8374  339.0  ...      NaN       NaN     NaN     NaN      NaN      NaN   \n",
              "8375   23.0  ...      NaN       NaN     NaN     NaN      NaN      NaN   \n",
              "8376  215.0  ...      8.0       7.0     8.0     6.0      9.0      7.0   \n",
              "8377  513.0  ...      0.0      20.0    20.0    10.0      7.0      9.0   \n",
              "\n",
              "      intel3_3  fun3_3  amb3_3    id  \n",
              "0          NaN     NaN     NaN  2583  \n",
              "1          8.0     7.0     8.0  6830  \n",
              "2          NaN     NaN     NaN  4840  \n",
              "3          8.0     8.0     6.0  5508  \n",
              "4          NaN     NaN     NaN  4828  \n",
              "...        ...     ...     ...   ...  \n",
              "8373       NaN     NaN     NaN  7982  \n",
              "8374       NaN     NaN     NaN  7299  \n",
              "8375       NaN     NaN     NaN  1818  \n",
              "8376      12.0    12.0     9.0   937  \n",
              "8377       8.0     7.0     8.0  6691  \n",
              "\n",
              "[8378 rows x 171 columns]"
            ]
          },
          "metadata": {},
          "execution_count": 9
        }
      ],
      "source": [
        "all_data"
      ]
    },
    {
      "cell_type": "markdown",
      "metadata": {
        "id": "fTdWpZXa9b6b"
      },
      "source": [
        "### **Distribution of participants's ages**"
      ]
    },
    {
      "cell_type": "code",
      "execution_count": 10,
      "metadata": {
        "colab": {
          "base_uri": "https://localhost:8080/",
          "height": 296
        },
        "id": "oeXLk9JU9FpL",
        "outputId": "8d577167-f955-4757-980f-1d32c636eabc"
      },
      "outputs": [
        {
          "output_type": "execute_result",
          "data": {
            "text/plain": [
              "Text(0, 0.5, 'Frequency')"
            ]
          },
          "metadata": {},
          "execution_count": 10
        },
        {
          "output_type": "display_data",
          "data": {
            "image/png": "[encoded data removed]",
            "text/plain": [
              "<Figure size 432x288 with 1 Axes>"
            ]
          },
          "metadata": {
            "needs_background": "light"
          }
        }
      ],
      "source": [
        "# distribution of participants's ages\n",
        "age = all_data[np.isfinite(all_data['age'])]['age']\n",
        "plt.hist(age.values)\n",
        "plt.xlabel('Age')\n",
        "plt.ylabel('Frequency')"
      ]
    },
    {
      "cell_type": "markdown",
      "metadata": {
        "id": "X9Ho_lOi9ihD"
      },
      "source": [
        "`from this plot we see that  most of the participants were in their mid twenties to early thirties`."
      ]
    },
    {
      "cell_type": "code",
      "execution_count": 11,
      "metadata": {
        "id": "j0d-GLRh9YYD"
      },
      "outputs": [],
      "source": [
        "# some simple transformation (always make a copy before you assign)\n",
        "data = all_data.copy()"
      ]
    },
    {
      "cell_type": "code",
      "execution_count": 12,
      "metadata": {
        "colab": {
          "base_uri": "https://localhost:8080/",
          "height": 455
        },
        "id": "n0couGBF9qm7",
        "outputId": "ae079491-2a35-485e-8ff8-8cdcaa982509"
      },
      "outputs": [
        {
          "output_type": "execute_result",
          "data": {
            "text/html": [
              "\n",
              "  <div id=\"df-a2c02325-afca-405c-844c-baf4a30da6b7\">\n",
              "    <div class=\"colab-df-container\">\n",
              "      <div>\n",
              "<style scoped>\n",
              "    .dataframe tbody tr th:only-of-type {\n",
              "        vertical-align: middle;\n",
              "    }\n",
              "\n",
              "    .dataframe tbody tr th {\n",
              "        vertical-align: top;\n",
              "    }\n",
              "\n",
              "    .dataframe thead th {\n",
              "        text-align: right;\n",
              "    }\n",
              "</style>\n",
              "<table border=\"1\" class=\"dataframe\">\n",
              "  <thead>\n",
              "    <tr style=\"text-align: right;\">\n",
              "      <th></th>\n",
              "      <th>gender</th>\n",
              "      <th>idg</th>\n",
              "      <th>condtn</th>\n",
              "      <th>wave</th>\n",
              "      <th>round</th>\n",
              "      <th>position</th>\n",
              "      <th>positin1</th>\n",
              "      <th>order</th>\n",
              "      <th>partner</th>\n",
              "      <th>pid</th>\n",
              "      <th>...</th>\n",
              "      <th>attr2_3</th>\n",
              "      <th>sinc2_3</th>\n",
              "      <th>intel2_3</th>\n",
              "      <th>fun2_3</th>\n",
              "      <th>amb2_3</th>\n",
              "      <th>attr3_3</th>\n",
              "      <th>sinc3_3</th>\n",
              "      <th>intel3_3</th>\n",
              "      <th>fun3_3</th>\n",
              "      <th>amb3_3</th>\n",
              "    </tr>\n",
              "    <tr>\n",
              "      <th>id</th>\n",
              "      <th></th>\n",
              "      <th></th>\n",
              "      <th></th>\n",
              "      <th></th>\n",
              "      <th></th>\n",
              "      <th></th>\n",
              "      <th></th>\n",
              "      <th></th>\n",
              "      <th></th>\n",
              "      <th></th>\n",
              "      <th></th>\n",
              "      <th></th>\n",
              "      <th></th>\n",
              "      <th></th>\n",
              "      <th></th>\n",
              "      <th></th>\n",
              "      <th></th>\n",
              "      <th></th>\n",
              "      <th></th>\n",
              "      <th></th>\n",
              "      <th></th>\n",
              "    </tr>\n",
              "  </thead>\n",
              "  <tbody>\n",
              "    <tr>\n",
              "      <th>2583</th>\n",
              "      <td>0</td>\n",
              "      <td>3</td>\n",
              "      <td>2</td>\n",
              "      <td>14</td>\n",
              "      <td>18</td>\n",
              "      <td>2</td>\n",
              "      <td>2.0</td>\n",
              "      <td>14</td>\n",
              "      <td>12</td>\n",
              "      <td>372.0</td>\n",
              "      <td>...</td>\n",
              "      <td>NaN</td>\n",
              "      <td>NaN</td>\n",
              "      <td>NaN</td>\n",
              "      <td>NaN</td>\n",
              "      <td>NaN</td>\n",
              "      <td>NaN</td>\n",
              "      <td>NaN</td>\n",
              "      <td>NaN</td>\n",
              "      <td>NaN</td>\n",
              "      <td>NaN</td>\n",
              "    </tr>\n",
              "    <tr>\n",
              "      <th>6830</th>\n",
              "      <td>1</td>\n",
              "      <td>14</td>\n",
              "      <td>1</td>\n",
              "      <td>3</td>\n",
              "      <td>10</td>\n",
              "      <td>2</td>\n",
              "      <td>NaN</td>\n",
              "      <td>8</td>\n",
              "      <td>8</td>\n",
              "      <td>63.0</td>\n",
              "      <td>...</td>\n",
              "      <td>NaN</td>\n",
              "      <td>NaN</td>\n",
              "      <td>NaN</td>\n",
              "      <td>NaN</td>\n",
              "      <td>NaN</td>\n",
              "      <td>6.0</td>\n",
              "      <td>8.0</td>\n",
              "      <td>8.0</td>\n",
              "      <td>7.0</td>\n",
              "      <td>8.0</td>\n",
              "    </tr>\n",
              "    <tr>\n",
              "      <th>4840</th>\n",
              "      <td>1</td>\n",
              "      <td>14</td>\n",
              "      <td>1</td>\n",
              "      <td>13</td>\n",
              "      <td>10</td>\n",
              "      <td>8</td>\n",
              "      <td>8.0</td>\n",
              "      <td>10</td>\n",
              "      <td>10</td>\n",
              "      <td>331.0</td>\n",
              "      <td>...</td>\n",
              "      <td>NaN</td>\n",
              "      <td>NaN</td>\n",
              "      <td>NaN</td>\n",
              "      <td>NaN</td>\n",
              "      <td>NaN</td>\n",
              "      <td>NaN</td>\n",
              "      <td>NaN</td>\n",
              "      <td>NaN</td>\n",
              "      <td>NaN</td>\n",
              "      <td>NaN</td>\n",
              "    </tr>\n",
              "    <tr>\n",
              "      <th>5508</th>\n",
              "      <td>1</td>\n",
              "      <td>38</td>\n",
              "      <td>2</td>\n",
              "      <td>9</td>\n",
              "      <td>20</td>\n",
              "      <td>18</td>\n",
              "      <td>13.0</td>\n",
              "      <td>6</td>\n",
              "      <td>7</td>\n",
              "      <td>200.0</td>\n",
              "      <td>...</td>\n",
              "      <td>8.0</td>\n",
              "      <td>8.0</td>\n",
              "      <td>8.0</td>\n",
              "      <td>8.0</td>\n",
              "      <td>8.0</td>\n",
              "      <td>8.0</td>\n",
              "      <td>9.0</td>\n",
              "      <td>8.0</td>\n",
              "      <td>8.0</td>\n",
              "      <td>6.0</td>\n",
              "    </tr>\n",
              "    <tr>\n",
              "      <th>4828</th>\n",
              "      <td>1</td>\n",
              "      <td>24</td>\n",
              "      <td>2</td>\n",
              "      <td>14</td>\n",
              "      <td>20</td>\n",
              "      <td>6</td>\n",
              "      <td>6.0</td>\n",
              "      <td>20</td>\n",
              "      <td>17</td>\n",
              "      <td>357.0</td>\n",
              "      <td>...</td>\n",
              "      <td>NaN</td>\n",
              "      <td>NaN</td>\n",
              "      <td>NaN</td>\n",
              "      <td>NaN</td>\n",
              "      <td>NaN</td>\n",
              "      <td>NaN</td>\n",
              "      <td>NaN</td>\n",
              "      <td>NaN</td>\n",
              "      <td>NaN</td>\n",
              "      <td>NaN</td>\n",
              "    </tr>\n",
              "    <tr>\n",
              "      <th>...</th>\n",
              "      <td>...</td>\n",
              "      <td>...</td>\n",
              "      <td>...</td>\n",
              "      <td>...</td>\n",
              "      <td>...</td>\n",
              "      <td>...</td>\n",
              "      <td>...</td>\n",
              "      <td>...</td>\n",
              "      <td>...</td>\n",
              "      <td>...</td>\n",
              "      <td>...</td>\n",
              "      <td>...</td>\n",
              "      <td>...</td>\n",
              "      <td>...</td>\n",
              "      <td>...</td>\n",
              "      <td>...</td>\n",
              "      <td>...</td>\n",
              "      <td>...</td>\n",
              "      <td>...</td>\n",
              "      <td>...</td>\n",
              "      <td>...</td>\n",
              "    </tr>\n",
              "    <tr>\n",
              "      <th>7982</th>\n",
              "      <td>0</td>\n",
              "      <td>23</td>\n",
              "      <td>2</td>\n",
              "      <td>15</td>\n",
              "      <td>19</td>\n",
              "      <td>18</td>\n",
              "      <td>18.0</td>\n",
              "      <td>14</td>\n",
              "      <td>11</td>\n",
              "      <td>407.0</td>\n",
              "      <td>...</td>\n",
              "      <td>NaN</td>\n",
              "      <td>NaN</td>\n",
              "      <td>NaN</td>\n",
              "      <td>NaN</td>\n",
              "      <td>NaN</td>\n",
              "      <td>NaN</td>\n",
              "      <td>NaN</td>\n",
              "      <td>NaN</td>\n",
              "      <td>NaN</td>\n",
              "      <td>NaN</td>\n",
              "    </tr>\n",
              "    <tr>\n",
              "      <th>7299</th>\n",
              "      <td>0</td>\n",
              "      <td>5</td>\n",
              "      <td>1</td>\n",
              "      <td>13</td>\n",
              "      <td>9</td>\n",
              "      <td>4</td>\n",
              "      <td>4.0</td>\n",
              "      <td>4</td>\n",
              "      <td>8</td>\n",
              "      <td>339.0</td>\n",
              "      <td>...</td>\n",
              "      <td>NaN</td>\n",
              "      <td>NaN</td>\n",
              "      <td>NaN</td>\n",
              "      <td>NaN</td>\n",
              "      <td>NaN</td>\n",
              "      <td>NaN</td>\n",
              "      <td>NaN</td>\n",
              "      <td>NaN</td>\n",
              "      <td>NaN</td>\n",
              "      <td>NaN</td>\n",
              "    </tr>\n",
              "    <tr>\n",
              "      <th>1818</th>\n",
              "      <td>1</td>\n",
              "      <td>26</td>\n",
              "      <td>2</td>\n",
              "      <td>2</td>\n",
              "      <td>19</td>\n",
              "      <td>3</td>\n",
              "      <td>NaN</td>\n",
              "      <td>15</td>\n",
              "      <td>3</td>\n",
              "      <td>23.0</td>\n",
              "      <td>...</td>\n",
              "      <td>NaN</td>\n",
              "      <td>NaN</td>\n",
              "      <td>NaN</td>\n",
              "      <td>NaN</td>\n",
              "      <td>NaN</td>\n",
              "      <td>NaN</td>\n",
              "      <td>NaN</td>\n",
              "      <td>NaN</td>\n",
              "      <td>NaN</td>\n",
              "      <td>NaN</td>\n",
              "    </tr>\n",
              "    <tr>\n",
              "      <th>937</th>\n",
              "      <td>0</td>\n",
              "      <td>19</td>\n",
              "      <td>2</td>\n",
              "      <td>9</td>\n",
              "      <td>20</td>\n",
              "      <td>11</td>\n",
              "      <td>11.0</td>\n",
              "      <td>9</td>\n",
              "      <td>2</td>\n",
              "      <td>215.0</td>\n",
              "      <td>...</td>\n",
              "      <td>10.0</td>\n",
              "      <td>8.0</td>\n",
              "      <td>7.0</td>\n",
              "      <td>8.0</td>\n",
              "      <td>6.0</td>\n",
              "      <td>9.0</td>\n",
              "      <td>7.0</td>\n",
              "      <td>12.0</td>\n",
              "      <td>12.0</td>\n",
              "      <td>9.0</td>\n",
              "    </tr>\n",
              "    <tr>\n",
              "      <th>6691</th>\n",
              "      <td>1</td>\n",
              "      <td>38</td>\n",
              "      <td>2</td>\n",
              "      <td>21</td>\n",
              "      <td>22</td>\n",
              "      <td>22</td>\n",
              "      <td>7.0</td>\n",
              "      <td>16</td>\n",
              "      <td>5</td>\n",
              "      <td>513.0</td>\n",
              "      <td>...</td>\n",
              "      <td>40.0</td>\n",
              "      <td>0.0</td>\n",
              "      <td>20.0</td>\n",
              "      <td>20.0</td>\n",
              "      <td>10.0</td>\n",
              "      <td>7.0</td>\n",
              "      <td>9.0</td>\n",
              "      <td>8.0</td>\n",
              "      <td>7.0</td>\n",
              "      <td>8.0</td>\n",
              "    </tr>\n",
              "  </tbody>\n",
              "</table>\n",
              "<p>8378 rows × 170 columns</p>\n",
              "</div>\n",
              "      <button class=\"colab-df-convert\" onclick=\"convertToInteractive('df-a2c02325-afca-405c-844c-baf4a30da6b7')\"\n",
              "              title=\"Convert this dataframe to an interactive table.\"\n",
              "              style=\"display:none;\">\n",
              "        \n",
              "  <svg xmlns=\"http://www.w3.org/2000/svg\" height=\"24px\"viewBox=\"0 0 24 24\"\n",
              "       width=\"24px\">\n",
              "    <path d=\"M0 0h24v24H0V0z\" fill=\"none\"/>\n",
              "    <path d=\"M18.56 5.44l.94 2.06.94-2.06 2.06-.94-2.06-.94-.94-2.06-.94 2.06-2.06.94zm-11 1L8.5 8.5l.94-2.06 2.06-.94-2.06-.94L8.5 2.5l-.94 2.06-2.06.94zm10 10l.94 2.06.94-2.06 2.06-.94-2.06-.94-.94-2.06-.94 2.06-2.06.94z\"/><path d=\"M17.41 7.96l-1.37-1.37c-.4-.4-.92-.59-1.43-.59-.52 0-1.04.2-1.43.59L10.3 9.45l-7.72 7.72c-.78.78-.78 2.05 0 2.83L4 21.41c.39.39.9.59 1.41.59.51 0 1.02-.2 1.41-.59l7.78-7.78 2.81-2.81c.8-.78.8-2.07 0-2.86zM5.41 20L4 18.59l7.72-7.72 1.47 1.35L5.41 20z\"/>\n",
              "  </svg>\n",
              "      </button>\n",
              "      \n",
              "  <style>\n",
              "    .colab-df-container {\n",
              "      display:flex;\n",
              "      flex-wrap:wrap;\n",
              "      gap: 12px;\n",
              "    }\n",
              "\n",
              "    .colab-df-convert {\n",
              "      background-color: #E8F0FE;\n",
              "      border: none;\n",
              "      border-radius: 50%;\n",
              "      cursor: pointer;\n",
              "      display: none;\n",
              "      fill: #1967D2;\n",
              "      height: 32px;\n",
              "      padding: 0 0 0 0;\n",
              "      width: 32px;\n",
              "    }\n",
              "\n",
              "    .colab-df-convert:hover {\n",
              "      background-color: #E2EBFA;\n",
              "      box-shadow: 0px 1px 2px rgba(60, 64, 67, 0.3), 0px 1px 3px 1px rgba(60, 64, 67, 0.15);\n",
              "      fill: #174EA6;\n",
              "    }\n",
              "\n",
              "    [theme=dark] .colab-df-convert {\n",
              "      background-color: #3B4455;\n",
              "      fill: #D2E3FC;\n",
              "    }\n",
              "\n",
              "    [theme=dark] .colab-df-convert:hover {\n",
              "      background-color: #434B5C;\n",
              "      box-shadow: 0px 1px 3px 1px rgba(0, 0, 0, 0.15);\n",
              "      filter: drop-shadow(0px 1px 2px rgba(0, 0, 0, 0.3));\n",
              "      fill: #FFFFFF;\n",
              "    }\n",
              "  </style>\n",
              "\n",
              "      <script>\n",
              "        const buttonEl =\n",
              "          document.querySelector('#df-a2c02325-afca-405c-844c-baf4a30da6b7 button.colab-df-convert');\n",
              "        buttonEl.style.display =\n",
              "          google.colab.kernel.accessAllowed ? 'block' : 'none';\n",
              "\n",
              "        async function convertToInteractive(key) {\n",
              "          const element = document.querySelector('#df-a2c02325-afca-405c-844c-baf4a30da6b7');\n",
              "          const dataTable =\n",
              "            await google.colab.kernel.invokeFunction('convertToInteractive',\n",
              "                                                     [key], {});\n",
              "          if (!dataTable) return;\n",
              "\n",
              "          const docLinkHtml = 'Like what you see? Visit the ' +\n",
              "            '<a target=\"_blank\" href=https://colab.research.google.com/notebooks/data_table.ipynb>data table notebook</a>'\n",
              "            + ' to learn more about interactive tables.';\n",
              "          element.innerHTML = '';\n",
              "          dataTable['output_type'] = 'display_data';\n",
              "          await google.colab.output.renderOutput(dataTable, element);\n",
              "          const docLink = document.createElement('div');\n",
              "          docLink.innerHTML = docLinkHtml;\n",
              "          element.appendChild(docLink);\n",
              "        }\n",
              "      </script>\n",
              "    </div>\n",
              "  </div>\n",
              "  "
            ],
            "text/plain": [
              "      gender  idg  condtn  wave  round  position  positin1  order  partner  \\\n",
              "id                                                                           \n",
              "2583       0    3       2    14     18         2       2.0     14       12   \n",
              "6830       1   14       1     3     10         2       NaN      8        8   \n",
              "4840       1   14       1    13     10         8       8.0     10       10   \n",
              "5508       1   38       2     9     20        18      13.0      6        7   \n",
              "4828       1   24       2    14     20         6       6.0     20       17   \n",
              "...      ...  ...     ...   ...    ...       ...       ...    ...      ...   \n",
              "7982       0   23       2    15     19        18      18.0     14       11   \n",
              "7299       0    5       1    13      9         4       4.0      4        8   \n",
              "1818       1   26       2     2     19         3       NaN     15        3   \n",
              "937        0   19       2     9     20        11      11.0      9        2   \n",
              "6691       1   38       2    21     22        22       7.0     16        5   \n",
              "\n",
              "        pid  ...  attr2_3  sinc2_3  intel2_3  fun2_3  amb2_3  attr3_3  \\\n",
              "id           ...                                                        \n",
              "2583  372.0  ...      NaN      NaN       NaN     NaN     NaN      NaN   \n",
              "6830   63.0  ...      NaN      NaN       NaN     NaN     NaN      6.0   \n",
              "4840  331.0  ...      NaN      NaN       NaN     NaN     NaN      NaN   \n",
              "5508  200.0  ...      8.0      8.0       8.0     8.0     8.0      8.0   \n",
              "4828  357.0  ...      NaN      NaN       NaN     NaN     NaN      NaN   \n",
              "...     ...  ...      ...      ...       ...     ...     ...      ...   \n",
              "7982  407.0  ...      NaN      NaN       NaN     NaN     NaN      NaN   \n",
              "7299  339.0  ...      NaN      NaN       NaN     NaN     NaN      NaN   \n",
              "1818   23.0  ...      NaN      NaN       NaN     NaN     NaN      NaN   \n",
              "937   215.0  ...     10.0      8.0       7.0     8.0     6.0      9.0   \n",
              "6691  513.0  ...     40.0      0.0      20.0    20.0    10.0      7.0   \n",
              "\n",
              "      sinc3_3  intel3_3  fun3_3  amb3_3  \n",
              "id                                       \n",
              "2583      NaN       NaN     NaN     NaN  \n",
              "6830      8.0       8.0     7.0     8.0  \n",
              "4840      NaN       NaN     NaN     NaN  \n",
              "5508      9.0       8.0     8.0     6.0  \n",
              "4828      NaN       NaN     NaN     NaN  \n",
              "...       ...       ...     ...     ...  \n",
              "7982      NaN       NaN     NaN     NaN  \n",
              "7299      NaN       NaN     NaN     NaN  \n",
              "1818      NaN       NaN     NaN     NaN  \n",
              "937       7.0      12.0    12.0     9.0  \n",
              "6691      9.0       8.0     7.0     8.0  \n",
              "\n",
              "[8378 rows x 170 columns]"
            ]
          },
          "metadata": {},
          "execution_count": 12
        }
      ],
      "source": [
        "data=data.set_index('id')#set id as index\n",
        "data"
      ]
    },
    {
      "cell_type": "markdown",
      "metadata": {
        "id": "hK7caFAj98jC"
      },
      "source": [
        "### **Categorical data**"
      ]
    },
    {
      "cell_type": "code",
      "execution_count": 13,
      "metadata": {
        "colab": {
          "base_uri": "https://localhost:8080/",
          "height": 455
        },
        "id": "WpYlD7Uz9yzL",
        "outputId": "786083c7-85d8-43c9-cc21-6a39868cf1de"
      },
      "outputs": [
        {
          "output_type": "execute_result",
          "data": {
            "text/html": [
              "\n",
              "  <div id=\"df-d78b30c9-b2b7-45ca-abf2-f46ecb438c4c\">\n",
              "    <div class=\"colab-df-container\">\n",
              "      <div>\n",
              "<style scoped>\n",
              "    .dataframe tbody tr th:only-of-type {\n",
              "        vertical-align: middle;\n",
              "    }\n",
              "\n",
              "    .dataframe tbody tr th {\n",
              "        vertical-align: top;\n",
              "    }\n",
              "\n",
              "    .dataframe thead th {\n",
              "        text-align: right;\n",
              "    }\n",
              "</style>\n",
              "<table border=\"1\" class=\"dataframe\">\n",
              "  <thead>\n",
              "    <tr style=\"text-align: right;\">\n",
              "      <th></th>\n",
              "      <th>field</th>\n",
              "      <th>undergra</th>\n",
              "      <th>mn_sat</th>\n",
              "      <th>tuition</th>\n",
              "      <th>from</th>\n",
              "      <th>zipcode</th>\n",
              "      <th>income</th>\n",
              "      <th>career</th>\n",
              "    </tr>\n",
              "    <tr>\n",
              "      <th>id</th>\n",
              "      <th></th>\n",
              "      <th></th>\n",
              "      <th></th>\n",
              "      <th></th>\n",
              "      <th></th>\n",
              "      <th></th>\n",
              "      <th></th>\n",
              "      <th></th>\n",
              "    </tr>\n",
              "  </thead>\n",
              "  <tbody>\n",
              "    <tr>\n",
              "      <th>2583</th>\n",
              "      <td>Ed.D. in higher education policy at TC</td>\n",
              "      <td>University of Michigan-Ann Arbor</td>\n",
              "      <td>1,290.00</td>\n",
              "      <td>21,645.00</td>\n",
              "      <td>Palo Alto, CA</td>\n",
              "      <td>NaN</td>\n",
              "      <td>NaN</td>\n",
              "      <td>University President</td>\n",
              "    </tr>\n",
              "    <tr>\n",
              "      <th>6830</th>\n",
              "      <td>Engineering</td>\n",
              "      <td>NaN</td>\n",
              "      <td>NaN</td>\n",
              "      <td>NaN</td>\n",
              "      <td>Boston, MA</td>\n",
              "      <td>2,021</td>\n",
              "      <td>NaN</td>\n",
              "      <td>Engineer or iBanker or consultant</td>\n",
              "    </tr>\n",
              "    <tr>\n",
              "      <th>4840</th>\n",
              "      <td>Urban Planning</td>\n",
              "      <td>Rizvi College of Architecture, Bombay University</td>\n",
              "      <td>NaN</td>\n",
              "      <td>NaN</td>\n",
              "      <td>Bombay, India</td>\n",
              "      <td>NaN</td>\n",
              "      <td>NaN</td>\n",
              "      <td>Real Estate Consulting</td>\n",
              "    </tr>\n",
              "    <tr>\n",
              "      <th>5508</th>\n",
              "      <td>International Affairs</td>\n",
              "      <td>NaN</td>\n",
              "      <td>NaN</td>\n",
              "      <td>NaN</td>\n",
              "      <td>Washington, DC</td>\n",
              "      <td>10,471</td>\n",
              "      <td>45,300.00</td>\n",
              "      <td>public service</td>\n",
              "    </tr>\n",
              "    <tr>\n",
              "      <th>4828</th>\n",
              "      <td>Business</td>\n",
              "      <td>Harvard College</td>\n",
              "      <td>1,400.00</td>\n",
              "      <td>26,019.00</td>\n",
              "      <td>Midwest USA</td>\n",
              "      <td>66,208</td>\n",
              "      <td>46,138.00</td>\n",
              "      <td>undecided</td>\n",
              "    </tr>\n",
              "    <tr>\n",
              "      <th>...</th>\n",
              "      <td>...</td>\n",
              "      <td>...</td>\n",
              "      <td>...</td>\n",
              "      <td>...</td>\n",
              "      <td>...</td>\n",
              "      <td>...</td>\n",
              "      <td>...</td>\n",
              "      <td>...</td>\n",
              "    </tr>\n",
              "    <tr>\n",
              "      <th>7982</th>\n",
              "      <td>Neuroscience and Education</td>\n",
              "      <td>Columbia</td>\n",
              "      <td>1,430.00</td>\n",
              "      <td>26,908.00</td>\n",
              "      <td>Hong Kong</td>\n",
              "      <td>0</td>\n",
              "      <td>NaN</td>\n",
              "      <td>Academic</td>\n",
              "    </tr>\n",
              "    <tr>\n",
              "      <th>7299</th>\n",
              "      <td>School Psychology</td>\n",
              "      <td>Bucknell University</td>\n",
              "      <td>1,290.00</td>\n",
              "      <td>25,335.00</td>\n",
              "      <td>Erie, PA</td>\n",
              "      <td>NaN</td>\n",
              "      <td>NaN</td>\n",
              "      <td>school psychologist</td>\n",
              "    </tr>\n",
              "    <tr>\n",
              "      <th>1818</th>\n",
              "      <td>Law</td>\n",
              "      <td>NaN</td>\n",
              "      <td>NaN</td>\n",
              "      <td>NaN</td>\n",
              "      <td>Brooklyn</td>\n",
              "      <td>11,204</td>\n",
              "      <td>26,482.00</td>\n",
              "      <td>Intellectual Property Attorney</td>\n",
              "    </tr>\n",
              "    <tr>\n",
              "      <th>937</th>\n",
              "      <td>Mathematics</td>\n",
              "      <td>NaN</td>\n",
              "      <td>NaN</td>\n",
              "      <td>NaN</td>\n",
              "      <td>Vestal</td>\n",
              "      <td>13,850</td>\n",
              "      <td>42,640.00</td>\n",
              "      <td>college professor</td>\n",
              "    </tr>\n",
              "    <tr>\n",
              "      <th>6691</th>\n",
              "      <td>General management/finance</td>\n",
              "      <td>LUISS, Rome</td>\n",
              "      <td>NaN</td>\n",
              "      <td>NaN</td>\n",
              "      <td>Italy</td>\n",
              "      <td>136</td>\n",
              "      <td>NaN</td>\n",
              "      <td>General management/consulting</td>\n",
              "    </tr>\n",
              "  </tbody>\n",
              "</table>\n",
              "<p>8378 rows × 8 columns</p>\n",
              "</div>\n",
              "      <button class=\"colab-df-convert\" onclick=\"convertToInteractive('df-d78b30c9-b2b7-45ca-abf2-f46ecb438c4c')\"\n",
              "              title=\"Convert this dataframe to an interactive table.\"\n",
              "              style=\"display:none;\">\n",
              "        \n",
              "  <svg xmlns=\"http://www.w3.org/2000/svg\" height=\"24px\"viewBox=\"0 0 24 24\"\n",
              "       width=\"24px\">\n",
              "    <path d=\"M0 0h24v24H0V0z\" fill=\"none\"/>\n",
              "    <path d=\"M18.56 5.44l.94 2.06.94-2.06 2.06-.94-2.06-.94-.94-2.06-.94 2.06-2.06.94zm-11 1L8.5 8.5l.94-2.06 2.06-.94-2.06-.94L8.5 2.5l-.94 2.06-2.06.94zm10 10l.94 2.06.94-2.06 2.06-.94-2.06-.94-.94-2.06-.94 2.06-2.06.94z\"/><path d=\"M17.41 7.96l-1.37-1.37c-.4-.4-.92-.59-1.43-.59-.52 0-1.04.2-1.43.59L10.3 9.45l-7.72 7.72c-.78.78-.78 2.05 0 2.83L4 21.41c.39.39.9.59 1.41.59.51 0 1.02-.2 1.41-.59l7.78-7.78 2.81-2.81c.8-.78.8-2.07 0-2.86zM5.41 20L4 18.59l7.72-7.72 1.47 1.35L5.41 20z\"/>\n",
              "  </svg>\n",
              "      </button>\n",
              "      \n",
              "  <style>\n",
              "    .colab-df-container {\n",
              "      display:flex;\n",
              "      flex-wrap:wrap;\n",
              "      gap: 12px;\n",
              "    }\n",
              "\n",
              "    .colab-df-convert {\n",
              "      background-color: #E8F0FE;\n",
              "      border: none;\n",
              "      border-radius: 50%;\n",
              "      cursor: pointer;\n",
              "      display: none;\n",
              "      fill: #1967D2;\n",
              "      height: 32px;\n",
              "      padding: 0 0 0 0;\n",
              "      width: 32px;\n",
              "    }\n",
              "\n",
              "    .colab-df-convert:hover {\n",
              "      background-color: #E2EBFA;\n",
              "      box-shadow: 0px 1px 2px rgba(60, 64, 67, 0.3), 0px 1px 3px 1px rgba(60, 64, 67, 0.15);\n",
              "      fill: #174EA6;\n",
              "    }\n",
              "\n",
              "    [theme=dark] .colab-df-convert {\n",
              "      background-color: #3B4455;\n",
              "      fill: #D2E3FC;\n",
              "    }\n",
              "\n",
              "    [theme=dark] .colab-df-convert:hover {\n",
              "      background-color: #434B5C;\n",
              "      box-shadow: 0px 1px 3px 1px rgba(0, 0, 0, 0.15);\n",
              "      filter: drop-shadow(0px 1px 2px rgba(0, 0, 0, 0.3));\n",
              "      fill: #FFFFFF;\n",
              "    }\n",
              "  </style>\n",
              "\n",
              "      <script>\n",
              "        const buttonEl =\n",
              "          document.querySelector('#df-d78b30c9-b2b7-45ca-abf2-f46ecb438c4c button.colab-df-convert');\n",
              "        buttonEl.style.display =\n",
              "          google.colab.kernel.accessAllowed ? 'block' : 'none';\n",
              "\n",
              "        async function convertToInteractive(key) {\n",
              "          const element = document.querySelector('#df-d78b30c9-b2b7-45ca-abf2-f46ecb438c4c');\n",
              "          const dataTable =\n",
              "            await google.colab.kernel.invokeFunction('convertToInteractive',\n",
              "                                                     [key], {});\n",
              "          if (!dataTable) return;\n",
              "\n",
              "          const docLinkHtml = 'Like what you see? Visit the ' +\n",
              "            '<a target=\"_blank\" href=https://colab.research.google.com/notebooks/data_table.ipynb>data table notebook</a>'\n",
              "            + ' to learn more about interactive tables.';\n",
              "          element.innerHTML = '';\n",
              "          dataTable['output_type'] = 'display_data';\n",
              "          await google.colab.output.renderOutput(dataTable, element);\n",
              "          const docLink = document.createElement('div');\n",
              "          docLink.innerHTML = docLinkHtml;\n",
              "          element.appendChild(docLink);\n",
              "        }\n",
              "      </script>\n",
              "    </div>\n",
              "  </div>\n",
              "  "
            ],
            "text/plain": [
              "                                       field  \\\n",
              "id                                             \n",
              "2583  Ed.D. in higher education policy at TC   \n",
              "6830                             Engineering   \n",
              "4840                          Urban Planning   \n",
              "5508                   International Affairs   \n",
              "4828                                Business   \n",
              "...                                      ...   \n",
              "7982              Neuroscience and Education   \n",
              "7299                       School Psychology   \n",
              "1818                                     Law   \n",
              "937                              Mathematics   \n",
              "6691              General management/finance   \n",
              "\n",
              "                                              undergra    mn_sat    tuition  \\\n",
              "id                                                                            \n",
              "2583                  University of Michigan-Ann Arbor  1,290.00  21,645.00   \n",
              "6830                                               NaN       NaN        NaN   \n",
              "4840  Rizvi College of Architecture, Bombay University       NaN        NaN   \n",
              "5508                                               NaN       NaN        NaN   \n",
              "4828                                   Harvard College  1,400.00  26,019.00   \n",
              "...                                                ...       ...        ...   \n",
              "7982                                          Columbia  1,430.00  26,908.00   \n",
              "7299                               Bucknell University  1,290.00  25,335.00   \n",
              "1818                                               NaN       NaN        NaN   \n",
              "937                                                NaN       NaN        NaN   \n",
              "6691                                       LUISS, Rome       NaN        NaN   \n",
              "\n",
              "                from zipcode     income                             career  \n",
              "id                                                                          \n",
              "2583   Palo Alto, CA     NaN        NaN               University President  \n",
              "6830      Boston, MA   2,021        NaN  Engineer or iBanker or consultant  \n",
              "4840   Bombay, India     NaN        NaN             Real Estate Consulting  \n",
              "5508  Washington, DC  10,471  45,300.00                     public service  \n",
              "4828     Midwest USA  66,208  46,138.00                          undecided  \n",
              "...              ...     ...        ...                                ...  \n",
              "7982       Hong Kong       0        NaN                           Academic  \n",
              "7299        Erie, PA     NaN        NaN                school psychologist  \n",
              "1818        Brooklyn  11,204  26,482.00     Intellectual Property Attorney  \n",
              "937           Vestal  13,850  42,640.00                  college professor  \n",
              "6691           Italy     136        NaN      General management/consulting  \n",
              "\n",
              "[8378 rows x 8 columns]"
            ]
          },
          "metadata": {},
          "execution_count": 13
        }
      ],
      "source": [
        "#all categorical data on dataset\n",
        "categorical_columns_selector = selector(dtype_include=object)#select columns that have object as type\n",
        "categorical_columns = categorical_columns_selector(data)\n",
        "data_categorical =data[categorical_columns]\n",
        "data_categorical"
      ]
    },
    {
      "cell_type": "code",
      "execution_count": 14,
      "metadata": {
        "id": "6dwPgfIN944q"
      },
      "outputs": [],
      "source": [
        "# categorical encoding of field\n",
        "data['field'] = data['field'].astype(\"category\")"
      ]
    },
    {
      "cell_type": "code",
      "execution_count": 15,
      "metadata": {
        "id": "S5VExtmh_s4U"
      },
      "outputs": [],
      "source": [
        "# categorical encoding of from\n",
        "data['from'] = data['from'].astype(\"category\")"
      ]
    },
    {
      "cell_type": "code",
      "execution_count": 16,
      "metadata": {
        "id": "M10rD-04_xoM"
      },
      "outputs": [],
      "source": [
        "# categorical encoding of undergra\n",
        "data['undergra'] = data['undergra'].astype(\"category\")"
      ]
    },
    {
      "cell_type": "code",
      "execution_count": 17,
      "metadata": {
        "id": "oTskSWL3_2UE"
      },
      "outputs": [],
      "source": [
        "# categorical encoding of zipcode\n",
        "data['zipcode'] = data['zipcode'].astype(\"category\")"
      ]
    },
    {
      "cell_type": "code",
      "execution_count": 18,
      "metadata": {
        "id": "hu_YhFE5_5M0"
      },
      "outputs": [],
      "source": [
        "# categorical encoding of career\n",
        "data['career'] = data['career'].astype(\"category\")"
      ]
    },
    {
      "cell_type": "code",
      "execution_count": 19,
      "metadata": {
        "id": "qd03gJWo__qM"
      },
      "outputs": [],
      "source": [
        "# categorical encoding of mn_sat\n",
        "data['mn_sat'] = data['mn_sat'].astype(\"category\")"
      ]
    },
    {
      "cell_type": "code",
      "execution_count": 20,
      "metadata": {
        "id": "IZK_xAnkAO7N"
      },
      "outputs": [],
      "source": [
        "# categorical encoding of tuition\n",
        "data['tuition'] = data['tuition'].astype(\"category\")"
      ]
    },
    {
      "cell_type": "code",
      "execution_count": 21,
      "metadata": {
        "id": "za7gInSZAcce"
      },
      "outputs": [],
      "source": [
        "# categorical encoding of income\n",
        "data['income'] = data['income'].astype(\"category\")"
      ]
    },
    {
      "cell_type": "code",
      "execution_count": 22,
      "metadata": {
        "colab": {
          "base_uri": "https://localhost:8080/"
        },
        "id": "B2JHMWvgAzxe",
        "outputId": "684d553e-d3d6-4c57-a2ab-9845fbb49aeb"
      },
      "outputs": [
        {
          "output_type": "execute_result",
          "data": {
            "text/plain": [
              "(8378, 170)"
            ]
          },
          "metadata": {},
          "execution_count": 22
        }
      ],
      "source": [
        "data.shape# check shape"
      ]
    },
    {
      "cell_type": "code",
      "execution_count": 23,
      "metadata": {
        "colab": {
          "base_uri": "https://localhost:8080/"
        },
        "id": "P_DillEDBGbr",
        "outputId": "53eb32a6-bfb7-4d43-9499-65f38f94f412"
      },
      "outputs": [
        {
          "output_type": "stream",
          "name": "stdout",
          "text": [
            "<class 'pandas.core.frame.DataFrame'>\n",
            "Int64Index: 8378 entries, 2583 to 6691\n",
            "Columns: 170 entries, gender to amb3_3\n",
            "dtypes: category(8), float64(152), int64(10)\n",
            "memory usage: 10.6 MB\n"
          ]
        }
      ],
      "source": [
        "data.info()#information of data after transform to category"
      ]
    },
    {
      "cell_type": "markdown",
      "metadata": {
        "id": "n_oxTouuBNsb"
      },
      "source": [
        "\n",
        "\n",
        "---\n"
      ]
    },
    {
      "cell_type": "markdown",
      "metadata": {
        "id": "0D2jAzqeBPp6"
      },
      "source": [
        "### **Split Data**"
      ]
    },
    {
      "cell_type": "code",
      "execution_count": 24,
      "metadata": {
        "colab": {
          "base_uri": "https://localhost:8080/"
        },
        "id": "CRtr6mjVBJFb",
        "outputId": "2865a957-9493-4778-a298-bb726b8e8a4d"
      },
      "outputs": [
        {
          "output_type": "stream",
          "name": "stdout",
          "text": [
            "(5909, 170)\n",
            "2469\n",
            "(2469, 170)\n"
          ]
        }
      ],
      "source": [
        "#split data into train and test \n",
        "train_data_index = df1.shape[0]\n",
        "train_data = data.iloc[:train_data_index]\n",
        "train_data_cleaned_index = data.shape[0]\n",
        "print(train_data.shape)\n",
        "test_data_index = df2.shape[0]\n",
        "print(test_data_index)\n",
        "test_data= data.iloc[train_data_index :]\n",
        "print(test_data.shape)\n",
        "test_data= test_data.drop('match', axis=1)# drop match from test data"
      ]
    },
    {
      "cell_type": "code",
      "execution_count": 25,
      "metadata": {
        "colab": {
          "base_uri": "https://localhost:8080/"
        },
        "id": "POkflFG3BjtF",
        "outputId": "348ebac5-0a9b-49fa-9298-4269150fc526"
      },
      "outputs": [
        {
          "output_type": "stream",
          "name": "stdout",
          "text": [
            "<class 'pandas.core.frame.DataFrame'>\n",
            "Int64Index: 5909 entries, 2583 to 8149\n",
            "Columns: 170 entries, gender to amb3_3\n",
            "dtypes: category(8), float64(152), int64(10)\n",
            "memory usage: 7.5 MB\n"
          ]
        }
      ],
      "source": [
        "train_data.info()#information for train data "
      ]
    },
    {
      "cell_type": "code",
      "execution_count": 26,
      "metadata": {
        "colab": {
          "base_uri": "https://localhost:8080/"
        },
        "id": "-MTfGWAABwT1",
        "outputId": "11b7f4a4-aa8b-4036-9cc7-ff0b8658e855"
      },
      "outputs": [
        {
          "output_type": "stream",
          "name": "stdout",
          "text": [
            "<class 'pandas.core.frame.DataFrame'>\n",
            "Int64Index: 2469 entries, 934 to 6691\n",
            "Columns: 169 entries, gender to amb3_3\n",
            "dtypes: category(8), float64(152), int64(9)\n",
            "memory usage: 3.2 MB\n"
          ]
        }
      ],
      "source": [
        "test_data.info()#information for test data"
      ]
    },
    {
      "cell_type": "code",
      "execution_count": 27,
      "metadata": {
        "id": "iytIPM5pB07F"
      },
      "outputs": [],
      "source": [
        "X_train=train_data.drop('match',axis=1)#split train file to X_train and y_train"
      ]
    },
    {
      "cell_type": "code",
      "execution_count": 28,
      "metadata": {
        "id": "hhvvytjDDr8F"
      },
      "outputs": [],
      "source": [
        "y_train=train_data['match']#label"
      ]
    },
    {
      "cell_type": "markdown",
      "metadata": {
        "id": "_lSmOrmfEbZV"
      },
      "source": [
        "\n",
        "\n",
        "---"
      ]
    },
    {
      "cell_type": "code",
      "execution_count": 29,
      "metadata": {
        "colab": {
          "base_uri": "https://localhost:8080/"
        },
        "id": "kw0WTwQFDwXt",
        "outputId": "f1e242bf-e348-453e-9ca7-101546b1b5ce"
      },
      "outputs": [
        {
          "output_type": "stream",
          "name": "stdout",
          "text": [
            "numeric features: ['gender', 'idg', 'condtn', 'wave', 'round', 'position', 'positin1', 'order', 'partner', 'pid', 'int_corr', 'samerace', 'age_o', 'race_o', 'pf_o_att', 'pf_o_sin', 'pf_o_int', 'pf_o_fun', 'pf_o_amb', 'pf_o_sha', 'attr_o', 'sinc_o', 'intel_o', 'fun_o', 'amb_o', 'shar_o', 'like_o', 'prob_o', 'met_o', 'age', 'field_cd', 'race', 'imprace', 'imprelig', 'goal', 'date', 'go_out', 'career_c', 'sports', 'tvsports', 'exercise', 'dining', 'museums', 'art', 'hiking', 'gaming', 'clubbing', 'reading', 'tv', 'theater', 'movies', 'concerts', 'music', 'shopping', 'yoga', 'exphappy', 'attr1_1', 'sinc1_1', 'intel1_1', 'fun1_1', 'amb1_1', 'shar1_1', 'attr4_1', 'sinc4_1', 'intel4_1', 'fun4_1', 'amb4_1', 'shar4_1', 'attr2_1', 'sinc2_1', 'intel2_1', 'fun2_1', 'amb2_1', 'shar2_1', 'attr3_1', 'sinc3_1', 'fun3_1', 'intel3_1', 'amb3_1', 'attr5_1', 'sinc5_1', 'intel5_1', 'fun5_1', 'amb5_1', 'attr', 'sinc', 'intel', 'fun', 'amb', 'shar', 'like', 'prob', 'met', 'match_es', 'attr1_s', 'sinc1_s', 'intel1_s', 'fun1_s', 'amb1_s', 'shar1_s', 'attr3_s', 'sinc3_s', 'intel3_s', 'fun3_s', 'amb3_s', 'satis_2', 'length', 'numdat_2', 'attr1_2', 'sinc1_2', 'intel1_2', 'fun1_2', 'amb1_2', 'shar1_2', 'attr4_2', 'sinc4_2', 'intel4_2', 'fun4_2', 'amb4_2', 'shar4_2', 'attr2_2', 'sinc2_2', 'intel2_2', 'fun2_2', 'amb2_2', 'shar2_2', 'attr3_2', 'sinc3_2', 'intel3_2', 'fun3_2', 'amb3_2', 'attr5_2', 'sinc5_2', 'intel5_2', 'fun5_2', 'amb5_2', 'you_call', 'them_cal', 'date_3', 'attr1_3', 'sinc1_3', 'intel1_3', 'fun1_3', 'amb1_3', 'shar1_3', 'attr4_3', 'sinc4_3', 'intel4_3', 'fun4_3', 'amb4_3', 'shar4_3', 'attr2_3', 'sinc2_3', 'intel2_3', 'fun2_3', 'amb2_3', 'attr3_3', 'sinc3_3', 'intel3_3', 'fun3_3', 'amb3_3']\n",
            "categorical features: ['field', 'undergra', 'mn_sat', 'tuition', 'from', 'zipcode', 'income', 'career']\n"
          ]
        }
      ],
      "source": [
        "#extract numeric features and categorical features names\n",
        "\n",
        "numeric_features = list(X_train.select_dtypes(include=['float64', 'int64']))\n",
        "\n",
        "categorical_features = list(X_train.select_dtypes(include=['category']))\n",
        "\n",
        "print('numeric features:', numeric_features)\n",
        "print('categorical features:', categorical_features)"
      ]
    },
    {
      "cell_type": "markdown",
      "metadata": {
        "id": "fopid6ukBPiE"
      },
      "source": [
        "# **Model_1**"
      ]
    },
    {
      "cell_type": "code",
      "execution_count": 30,
      "metadata": {
        "colab": {
          "base_uri": "https://localhost:8080/"
        },
        "id": "5XDm5S9sEUIM",
        "outputId": "b58e3219-99a9-4aeb-a101-aaabf38d5974"
      },
      "outputs": [
        {
          "output_type": "execute_result",
          "data": {
            "text/plain": [
              "Pipeline(steps=[('preprocessor',\n",
              "                 ColumnTransformer(transformers=[('num',\n",
              "                                                  Pipeline(steps=[('imputer',\n",
              "                                                                   SimpleImputer()),\n",
              "                                                                  ('scaler',\n",
              "                                                                   StandardScaler())]),\n",
              "                                                  ['gender', 'idg', 'condtn',\n",
              "                                                   'wave', 'round', 'position',\n",
              "                                                   'positin1', 'order',\n",
              "                                                   'partner', 'pid', 'int_corr',\n",
              "                                                   'samerace', 'age_o',\n",
              "                                                   'race_o', 'pf_o_att',\n",
              "                                                   'pf_o_sin', 'pf_o_int',\n",
              "                                                   'pf_o_fun', 'pf_o_amb',\n",
              "                                                   'pf_o_sha', 'attr_o',\n",
              "                                                   'sinc...\n",
              "                                                                   OneHotEncoder(handle_unknown='ignore'))]),\n",
              "                                                  ['field', 'undergra',\n",
              "                                                   'mn_sat', 'tuition', 'from',\n",
              "                                                   'zipcode', 'income',\n",
              "                                                   'career'])])),\n",
              "                ('selector',\n",
              "                 SelectKBest(k=125,\n",
              "                             score_func=<function mutual_info_classif at 0x7f9746a0b9e0>)),\n",
              "                ('my_classifier',\n",
              "                 XGBClassifier(colsample_bytree=0.4, learning_rate=0.02,\n",
              "                               max_depth=11, n_estimators=900, reg_alpha=0.3,\n",
              "                               silent=False, subsample=0.8))])"
            ]
          },
          "metadata": {},
          "execution_count": 30
        }
      ],
      "source": [
        "from sklearn.feature_selection import SelectKBest, mutual_info_classif\n",
        "# pipe line for numeric features preprocessing\n",
        "\n",
        "pip_numeric = Pipeline(\n",
        "    steps=[\n",
        "        ('imputer', SimpleImputer()),\n",
        "        ('scaler', StandardScaler())]\n",
        ")\n",
        "\n",
        "# pipe line for categorical features preprocessing\n",
        "\n",
        "pip_categorical = Pipeline(\n",
        "    steps=[\n",
        "        ('imputer', SimpleImputer(strategy='constant')),\n",
        "        ('onehot', OneHotEncoder(handle_unknown='ignore'))\n",
        "    ]\n",
        ")\n",
        "# define preprocessor\n",
        "preprocessor = ColumnTransformer(\n",
        "    transformers=[\n",
        "        ('num', pip_numeric, numeric_features),\n",
        "        ('cat', pip_categorical, categorical_features)\n",
        "    ]\n",
        ")\n",
        "#My_classifier\n",
        "xgb = XGBClassifier(silent=False, \n",
        "                      scale_pos_weight=1, \n",
        "                      colsample_bytree = 0.4,\n",
        "                      learning_rate=0.02,\n",
        "                       max_depth=11,\n",
        "                      n_estimators=900,\n",
        "                      subsample = 0.8,\n",
        "                      objective='binary:logistic', \n",
        "                      reg_alpha = 0.3,\n",
        "                    )\n",
        "# combine the preprocessor with the model as a full tunable pipeline\n",
        "full_pipline = Pipeline(\n",
        "    steps=[\n",
        "        ('preprocessor', preprocessor),\n",
        "         ('selector', SelectKBest(mutual_info_classif, k=125)),\n",
        "        ('my_classifier', xgb,)\n",
        "    ]\n",
        ")\n",
        "full_pipline"
      ]
    },
    {
      "cell_type": "code",
      "execution_count": 31,
      "metadata": {
        "id": "ww9v2dZnH1RW"
      },
      "outputs": [],
      "source": [
        "full_pipline = full_pipline.fit(X_train,y_train)#fit X_train and y_train "
      ]
    },
    {
      "cell_type": "markdown",
      "metadata": {
        "id": "eGKH8YXUIwuW"
      },
      "source": [
        "\n",
        "\n",
        "---\n"
      ]
    },
    {
      "cell_type": "markdown",
      "source": [
        "## **Trail1**"
      ],
      "metadata": {
        "id": "_AgSvpjXsQhs"
      }
    },
    {
      "cell_type": "markdown",
      "metadata": {
        "id": "yeJmOHuSI1nm"
      },
      "source": [
        "### **Grid Search with cross validation**"
      ]
    },
    {
      "cell_type": "code",
      "execution_count": 32,
      "metadata": {
        "colab": {
          "base_uri": "https://localhost:8080/"
        },
        "id": "4HTtElozIgPu",
        "outputId": "b224d08f-11ed-4ab9-8510-118251727f8a"
      },
      "outputs": [
        {
          "output_type": "stream",
          "name": "stdout",
          "text": [
            "Fitting 10 folds for each of 1 candidates, totalling 10 fits\n",
            "best score 0.8872048833125863\n",
            "best score {'preprocessor__num__imputer__strategy': 'mean'}\n"
          ]
        }
      ],
      "source": [
        "# here we specify the search space\n",
        "param_grid = {\n",
        "     'preprocessor__num__imputer__strategy': ['mean'],\n",
        "      #'my_classifier__n_estimators': [900],           #I comment parameter to spead process after got parameter \n",
        "      #'my_classifier__max_depth':[11] ,\n",
        "      #'my_classifier__learning_rate ' :[0.02]   \n",
        "     \n",
        "}\n",
        "# cv=10 means ten-fold cross-validation\n",
        "\n",
        "grid_search = GridSearchCV(\n",
        "    full_pipline, param_grid, cv=10, verbose=1, n_jobs=2, \n",
        "    scoring='roc_auc')\n",
        "\n",
        "grid_search.fit(X_train, y_train)\n",
        "print('best score {}'.format(grid_search.best_score_))\n",
        "print('best score {}'.format(grid_search.best_params_))"
      ]
    },
    {
      "cell_type": "markdown",
      "source": [
        "* **Observations**"
      ],
      "metadata": {
        "id": "PVo9tuuTxowJ"
      }
    },
    {
      "cell_type": "markdown",
      "metadata": {
        "id": "hQSP4aBJ5JfP"
      },
      "source": [
        "\n",
        "\n",
        "```\n",
        "I used XGBClassifier Model and used grid search for tuning parameter\n",
        "[colsample_bytree=0.4,learning_rate=0.02,max_depth=13,n_estimators=600,\n",
        "reg_alpha=0.3,silent=False,subsample=0.8]  \n",
        "I used kfold cross validation set k=5  \n",
        "I found :\n",
        "best score 0.8839822523555426  \n",
        "score on leaderboard 0.88279 Public and 0.88989 private\n",
        "```\n",
        "\n",
        "\n",
        "---"
      ]
    },
    {
      "cell_type": "markdown",
      "metadata": {
        "id": "78d4XkOM92FR"
      },
      "source": [
        "\n",
        "\n",
        "```\n",
        "I used XGBClassifier Model and used grid search for tuning parameter\n",
        "[colsample_bytree=0.4,learning_rate=0.02,max_depth=11,n_estimators=600,\n",
        "reg_alpha=0.3,silent=False,subsample=0.8]  \n",
        "I used kfold cross validation set k=10  \n",
        "I found :\n",
        "best score 0.8856390103849305  \n",
        "score on leaderboard 0.88324 Public and 0.89005 private\n",
        "```\n",
        "\n",
        "---"
      ]
    },
    {
      "cell_type": "markdown",
      "metadata": {
        "id": "H54J0Nd6_6Nh"
      },
      "source": [
        "\n",
        "\n",
        "```\n",
        "In this trail i add feature selection and choose k=100 \n",
        "my model still XGBclassifier \n",
        "kfold with cv=10\n",
        "parameter still as trail2                             \n",
        "best score 0.8858435733121226\n",
        "score  on leaderboard 0.88419 public 0.88885\n",
        "```\n",
        "\n",
        "\n",
        "\n",
        "---"
      ]
    },
    {
      "cell_type": "markdown",
      "metadata": {
        "id": "TyNjvh8IFe5D"
      },
      "source": [
        "\n",
        "```\n",
        "In this trail i add feature selection and choose k=120 \n",
        "my model still XGBclassifier \n",
        "kfold with cv=10\n",
        "parameter still as trail2 but n_estimators:900                           \n",
        "best score 0.8863755674641173\n",
        "score on leader board 0.88580 Private 0.89054\n",
        "```\n",
        "\n",
        "\n",
        "---"
      ]
    },
    {
      "cell_type": "markdown",
      "metadata": {
        "id": "l7HzTM2jjfob"
      },
      "source": [
        "\n",
        "\n",
        "```\n",
        "last trail and this is the best\n",
        "I change K=125 feature selection\n",
        "best score 0.8872048833125863\n",
        "score  on leaderboard 0.88584 public 0.89154 Private\n",
        "```\n",
        "\n",
        "\n",
        "---\n",
        "\n"
      ]
    },
    {
      "cell_type": "code",
      "execution_count": 33,
      "metadata": {
        "colab": {
          "base_uri": "https://localhost:8080/"
        },
        "id": "x_WK1mIMI6gn",
        "outputId": "b47be2bb-e5db-4b21-f126-467468eb898d"
      },
      "outputs": [
        {
          "output_type": "execute_result",
          "data": {
            "text/plain": [
              "array([[0.98775005, 0.01224994],\n",
              "       [0.50905013, 0.49094987],\n",
              "       [0.84801376, 0.15198621],\n",
              "       ...,\n",
              "       [0.9763    , 0.02370002],\n",
              "       [0.99383616, 0.00616385],\n",
              "       [0.99601316, 0.00398683]], dtype=float32)"
            ]
          },
          "metadata": {},
          "execution_count": 33
        }
      ],
      "source": [
        "# trained on the full training set. we can use it directly\n",
        "y_pred1=grid_search.predict_proba(test_data)\n",
        "y_pred1"
      ]
    },
    {
      "cell_type": "code",
      "execution_count": 34,
      "metadata": {
        "id": "gwzkUJaDJ2RZ"
      },
      "outputs": [],
      "source": [
        "submission = pd.DataFrame()#submission file\n",
        "\n",
        "submission['id'] = df2['id']\n",
        "\n",
        "submission['match'] = y_pred1[:,1]\n",
        "\n",
        "submission.to_csv('sample_submission_walkthrough_2.csv', index=False)#submition file (sample_submission_walkthrough_2.csv)"
      ]
    },
    {
      "cell_type": "markdown",
      "source": [
        "# **Trail2**"
      ],
      "metadata": {
        "id": "yIXUhGtvso6d"
      }
    },
    {
      "cell_type": "markdown",
      "metadata": {
        "id": "NXbVo9qC6uvc"
      },
      "source": [
        "### **Bayesian Search**"
      ]
    },
    {
      "cell_type": "code",
      "execution_count": 35,
      "metadata": {
        "id": "MynhGolPJ83Q",
        "colab": {
          "base_uri": "https://localhost:8080/"
        },
        "outputId": "d76dbb2e-25fe-4026-8bcd-e667ab942219"
      },
      "outputs": [
        {
          "output_type": "stream",
          "name": "stdout",
          "text": [
            "Requirement already satisfied: scikit-optimize in /usr/local/lib/python3.7/dist-packages (0.9.0)\n",
            "Requirement already satisfied: numpy>=1.13.3 in /usr/local/lib/python3.7/dist-packages (from scikit-optimize) (1.21.5)\n",
            "Requirement already satisfied: joblib>=0.11 in /usr/local/lib/python3.7/dist-packages (from scikit-optimize) (1.1.0)\n",
            "Requirement already satisfied: scikit-learn>=0.20.0 in /usr/local/lib/python3.7/dist-packages (from scikit-optimize) (1.0.2)\n",
            "Requirement already satisfied: pyaml>=16.9 in /usr/local/lib/python3.7/dist-packages (from scikit-optimize) (21.10.1)\n",
            "Requirement already satisfied: scipy>=0.19.1 in /usr/local/lib/python3.7/dist-packages (from scikit-optimize) (1.4.1)\n",
            "Requirement already satisfied: PyYAML in /usr/local/lib/python3.7/dist-packages (from pyaml>=16.9->scikit-optimize) (3.13)\n",
            "Requirement already satisfied: threadpoolctl>=2.0.0 in /usr/local/lib/python3.7/dist-packages (from scikit-learn>=0.20.0->scikit-optimize) (3.1.0)\n"
          ]
        }
      ],
      "source": [
        "!pip install scikit-optimize#install optimize"
      ]
    },
    {
      "cell_type": "code",
      "execution_count": 36,
      "metadata": {
        "colab": {
          "base_uri": "https://localhost:8080/"
        },
        "id": "3b08Ykaf68Kb",
        "outputId": "ce7d758c-4b10-4fe1-8cbd-51616027bfb3"
      },
      "outputs": [
        {
          "output_type": "stream",
          "name": "stdout",
          "text": [
            "Fitting 5 folds for each of 1 candidates, totalling 5 fits\n",
            "Fitting 5 folds for each of 1 candidates, totalling 5 fits\n",
            "Fitting 5 folds for each of 1 candidates, totalling 5 fits\n",
            "best score 0.8860754628926835\n",
            "best score OrderedDict([('preprocessor__num__imputer__strategy', 'mean')])\n"
          ]
        }
      ],
      "source": [
        "from skopt import BayesSearchCV #use bayessearchcv for tuning hyperparameter with cross validation k=5\n",
        "\n",
        "bayes_search = BayesSearchCV(full_pipline,param_grid, cv=5, verbose=1, n_jobs=2, n_iter=3,scoring='roc_auc')\n",
        "\n",
        "bayes_search.fit(X_train,y_train)\n",
        "\n",
        "print('best score {}'.format(bayes_search.best_score_))\n",
        "\n",
        "print('best score {}'.format(bayes_search.best_params_))"
      ]
    },
    {
      "cell_type": "markdown",
      "source": [
        "* **observations**\n",
        "\n",
        "```\n",
        "I used bayessearchcv for tuning hyperparameter with cross validation k=5 with\n",
        "same paramer of trail5 to check score \n",
        "best score 0.8860754628926835\n",
        "```\n",
        "\n"
      ],
      "metadata": {
        "id": "t5XkSyBA4SUe"
      }
    },
    {
      "cell_type": "markdown",
      "source": [
        "# **Trail3**"
      ],
      "metadata": {
        "id": "Q4CNwoBdsXh9"
      }
    },
    {
      "cell_type": "markdown",
      "metadata": {
        "id": "iR8nH_SIoV6z"
      },
      "source": [
        "### **Random Search**"
      ]
    },
    {
      "cell_type": "code",
      "execution_count": 38,
      "metadata": {
        "colab": {
          "base_uri": "https://localhost:8080/"
        },
        "id": "CfAare-ZL5SA",
        "outputId": "2f5bc7d3-8750-4257-90ae-39aae5430c40"
      },
      "outputs": [
        {
          "output_type": "stream",
          "name": "stdout",
          "text": [
            "Fitting 10 folds for each of 5 candidates, totalling 50 fits\n",
            "best score 0.8873832053571402\n",
            "best score {'preprocessor__num__imputer__strategy': 'mean', 'my_classifier__n_estimators': 700, 'my_classifier__max_depth': 11, 'my_classifier__learning_rate ': 0.03}\n"
          ]
        }
      ],
      "source": [
        "from sklearn.model_selection import  RandomizedSearchCV#tuning by randum search\n",
        "#from sklearn.model_selection import PredefinedSplit\n",
        "param_grid_rs = {\n",
        "      'preprocessor__num__imputer__strategy': ['mean'],\n",
        "      'my_classifier__n_estimators': [700,600,900],  \n",
        "      'my_classifier__max_depth':[11,13,16] ,\n",
        "      'my_classifier__learning_rate ' :[0.02,0.03,0.04]     \n",
        "}\n",
        "\n",
        "random_search = RandomizedSearchCV(\n",
        "    full_pipline, param_grid_rs, cv=10, verbose=1, n_jobs=2, \n",
        "    # number of random trials\n",
        "    n_iter=5,\n",
        "    scoring='roc_auc')\n",
        "\n",
        "random_search.fit(X_train, y_train)\n",
        "\n",
        "print('best score {}'.format(random_search.best_score_))\n",
        "print('best score {}'.format(random_search.best_params_))"
      ]
    },
    {
      "cell_type": "code",
      "source": [
        "y_pred3=random_search.predict_proba(test_data)\n",
        "y_pred3"
      ],
      "metadata": {
        "colab": {
          "base_uri": "https://localhost:8080/"
        },
        "id": "s93FZF1yPFP9",
        "outputId": "e3765bb9-0cf2-4ff1-eb67-6370437c7b60"
      },
      "execution_count": 39,
      "outputs": [
        {
          "output_type": "execute_result",
          "data": {
            "text/plain": [
              "array([[0.98306155, 0.01693846],\n",
              "       [0.51121616, 0.48878384],\n",
              "       [0.84016716, 0.1598328 ],\n",
              "       ...,\n",
              "       [0.9719833 , 0.0280167 ],\n",
              "       [0.9914367 , 0.00856329],\n",
              "       [0.9942778 , 0.00572225]], dtype=float32)"
            ]
          },
          "metadata": {},
          "execution_count": 39
        }
      ]
    },
    {
      "cell_type": "code",
      "source": [
        "submission = pd.DataFrame()\n",
        "\n",
        "submission['id'] = df2['id']\n",
        "\n",
        "submission['match'] = y_pred3[:,1]\n",
        "\n",
        "submission.to_csv('sample_submission_walkthrough_rs.csv', index=False)#submition file (sample_submission_walkthrough_2.csv)"
      ],
      "metadata": {
        "id": "2VaZtokEPTDl"
      },
      "execution_count": 40,
      "outputs": []
    },
    {
      "cell_type": "markdown",
      "source": [
        "* **observations** \n",
        "```\n",
        "Random search\n",
        "preprocessor__num__imputer__strategy': 'mean'\n",
        "'my_classifier__n_estimators': 700,\n",
        "'my_classifier__max_depth': 11,\n",
        "'my_classifier__learning_rate ': 0.03\n",
        "public:0.88615 private:0.89139\n",
        "\n"
      ],
      "metadata": {
        "id": "nz2bWLNLQO-M"
      }
    },
    {
      "cell_type": "markdown",
      "metadata": {
        "id": "0HNOHuf62r0J"
      },
      "source": [
        "\n",
        "\n",
        "---\n"
      ]
    },
    {
      "cell_type": "markdown",
      "source": [
        "# **Trail4**"
      ],
      "metadata": {
        "id": "j74r0SVGsyhU"
      }
    },
    {
      "cell_type": "markdown",
      "metadata": {
        "id": "W5ZAyN_o20E4"
      },
      "source": [
        "##**Model_2**"
      ]
    },
    {
      "cell_type": "markdown",
      "source": [
        "`I used Model GradientBoostingClassifier`"
      ],
      "metadata": {
        "id": "fWQJ7ObmRT29"
      }
    },
    {
      "cell_type": "code",
      "execution_count": 47,
      "metadata": {
        "colab": {
          "base_uri": "https://localhost:8080/"
        },
        "id": "HlyleT0_ocbt",
        "outputId": "7f578cff-ffb4-4ec2-d2cd-1aae8e436679"
      },
      "outputs": [
        {
          "output_type": "execute_result",
          "data": {
            "text/plain": [
              "Pipeline(steps=[('preprocessor',\n",
              "                 ColumnTransformer(transformers=[('num',\n",
              "                                                  Pipeline(steps=[('imputer',\n",
              "                                                                   SimpleImputer()),\n",
              "                                                                  ('scaler',\n",
              "                                                                   StandardScaler())]),\n",
              "                                                  ['gender', 'idg', 'condtn',\n",
              "                                                   'wave', 'round', 'position',\n",
              "                                                   'positin1', 'order',\n",
              "                                                   'partner', 'pid', 'int_corr',\n",
              "                                                   'samerace', 'age_o',\n",
              "                                                   'race_o', 'pf_o_att',\n",
              "                                                   'pf_o_sin', 'pf_o_int',\n",
              "                                                   'pf_o_fun', 'pf_o_amb',\n",
              "                                                   'pf_o_sha', 'attr_o',\n",
              "                                                   'sinc...\n",
              "                                                                   OneHotEncoder(handle_unknown='ignore'))]),\n",
              "                                                  ['field', 'undergra',\n",
              "                                                   'mn_sat', 'tuition', 'from',\n",
              "                                                   'zipcode', 'income',\n",
              "                                                   'career'])])),\n",
              "                ('selector',\n",
              "                 SelectKBest(k=125,\n",
              "                             score_func=<function mutual_info_classif at 0x7f9746a0b9e0>)),\n",
              "                ('my_classifier',\n",
              "                 GradientBoostingClassifier(learning_rate=0.02, max_depth=11,\n",
              "                                            max_features='sqrt',\n",
              "                                            min_samples_split=500,\n",
              "                                            n_estimators=900, random_state=42,\n",
              "                                            subsample=0.8))])"
            ]
          },
          "metadata": {},
          "execution_count": 47
        }
      ],
      "source": [
        "from sklearn.feature_selection import SelectKBest, mutual_info_classif\n",
        "from sklearn.ensemble import GradientBoostingClassifier#Model for classification\n",
        "# pipe line for numeric features preprocessing\n",
        "\n",
        "pip_numeric = Pipeline(\n",
        "    steps=[\n",
        "        ('imputer', SimpleImputer()),\n",
        "        ('scaler', StandardScaler())]\n",
        ")\n",
        "\n",
        "# pipe line for categorical features preprocessing\n",
        "\n",
        "pip_categorical = Pipeline(\n",
        "    steps=[\n",
        "        ('imputer', SimpleImputer(strategy='constant')),\n",
        "        ('onehot', OneHotEncoder(handle_unknown='ignore'))\n",
        "    ]\n",
        ")\n",
        "# define preprocessor\n",
        "preprocessor = ColumnTransformer(\n",
        "    transformers=[\n",
        "        ('num', pip_numeric, numeric_features),\n",
        "        ('cat', pip_categorical, categorical_features)\n",
        "    ]\n",
        ")\n",
        "#My_classifier\n",
        "model = GradientBoostingClassifier( min_samples_split=500,max_features='sqrt',subsample=0.8,random_state=42,max_depth=11,n_estimators=900,learning_rate=0.02)\n",
        "# combine the preprocessor with the model as a full tunable pipeline\n",
        "full_pipline = Pipeline(\n",
        "    steps=[\n",
        "        ('preprocessor', preprocessor),\n",
        "         ('selector', SelectKBest(mutual_info_classif, k=125)),\n",
        "        ('my_classifier', model)\n",
        "    ]\n",
        ")\n",
        "full_pipline"
      ]
    },
    {
      "cell_type": "code",
      "execution_count": 48,
      "metadata": {
        "id": "417Lqr6531Cz"
      },
      "outputs": [],
      "source": [
        "param_grid = {\n",
        "      'preprocessor__num__imputer__strategy': ['mean'], \n",
        "      #'my_classifier__max_depth':[6,8,10] ,\n",
        "      #'my_classifier__learning_rate ' :[0.002,0.02,0.04,0.06]   \n",
        "}"
      ]
    },
    {
      "cell_type": "markdown",
      "metadata": {
        "id": "cm7Z74tcA-db"
      },
      "source": [
        "### **Grid search**"
      ]
    },
    {
      "cell_type": "code",
      "execution_count": 49,
      "metadata": {
        "colab": {
          "base_uri": "https://localhost:8080/"
        },
        "id": "gwOLXoghA9bc",
        "outputId": "52cbf306-e8f5-46c8-ea26-2372690e27cd"
      },
      "outputs": [
        {
          "output_type": "stream",
          "name": "stdout",
          "text": [
            "Fitting 10 folds for each of 1 candidates, totalling 10 fits\n",
            "best score 0.8866311262294928\n",
            "best score {'preprocessor__num__imputer__strategy': 'mean'}\n"
          ]
        }
      ],
      "source": [
        "grid_search = GridSearchCV(\n",
        "    full_pipline, param_grid, cv=10, verbose=1, n_jobs=2, \n",
        "    scoring='roc_auc')\n",
        "\n",
        "grid_search.fit(X_train, y_train)\n",
        "print('best score {}'.format(grid_search.best_score_))\n",
        "print('best score {}'.format(grid_search.best_params_))"
      ]
    },
    {
      "cell_type": "code",
      "source": [
        "y_pred4=grid_search.predict_proba(test_data)\n",
        "y_pred4"
      ],
      "metadata": {
        "colab": {
          "base_uri": "https://localhost:8080/"
        },
        "id": "GVTDqDs4fC05",
        "outputId": "36a674ba-c084-4bdb-815f-36bc15f72a69"
      },
      "execution_count": 50,
      "outputs": [
        {
          "output_type": "execute_result",
          "data": {
            "text/plain": [
              "array([[0.95841152, 0.04158848],\n",
              "       [0.64756472, 0.35243528],\n",
              "       [0.7495133 , 0.2504867 ],\n",
              "       ...,\n",
              "       [0.93315274, 0.06684726],\n",
              "       [0.97896431, 0.02103569],\n",
              "       [0.97478453, 0.02521547]])"
            ]
          },
          "metadata": {},
          "execution_count": 50
        }
      ]
    },
    {
      "cell_type": "code",
      "source": [
        "submission = pd.DataFrame()\n",
        "\n",
        "submission['id'] = df2['id']\n",
        "\n",
        "submission['match'] = y_pred4[:,1]\n",
        "\n",
        "submission.to_csv('sample_submission_walkthrough_4.csv', index=False)#submition file (sample_submission_walkthrough_4.csv)"
      ],
      "metadata": {
        "id": "N-WmANpffOAA"
      },
      "execution_count": 53,
      "outputs": []
    },
    {
      "cell_type": "markdown",
      "source": [
        "* **observations**\n",
        "```\n",
        "I used model GradientBoostingClassifier\n",
        "with Parameter [\n",
        "min_samples_split=500\n",
        "max_features='sqrt'\n",
        "subsample=0.8 \n",
        "random_state=42\n",
        "max_depth=11\n",
        "n_estimators=900\n",
        "learning_rate=0.02]\n",
        "feature selection with k=125\n",
        "Puplic score 0.88474 Private 0.89124\n",
        "```\n",
        "\n"
      ],
      "metadata": {
        "id": "Ra4rZA8Bg4Ly"
      }
    },
    {
      "cell_type": "markdown",
      "source": [
        "# **Trail5**"
      ],
      "metadata": {
        "id": "2QAU1v1cs7kV"
      }
    },
    {
      "cell_type": "markdown",
      "metadata": {
        "id": "Mtf6s-0_UMg5"
      },
      "source": [
        "##**Model_3**"
      ]
    },
    {
      "cell_type": "markdown",
      "source": [
        "\n",
        "```\n",
        "I used Model ExtraTreesClassifier\n",
        "```\n",
        "\n"
      ],
      "metadata": {
        "id": "Aq07jJmXSCI3"
      }
    },
    {
      "cell_type": "code",
      "execution_count": 69,
      "metadata": {
        "colab": {
          "base_uri": "https://localhost:8080/"
        },
        "id": "YVd7x8irURmh",
        "outputId": "d567e4d3-775d-4459-8b53-fa19342c451e"
      },
      "outputs": [
        {
          "output_type": "execute_result",
          "data": {
            "text/plain": [
              "Pipeline(steps=[('preprocessor',\n",
              "                 ColumnTransformer(transformers=[('num',\n",
              "                                                  Pipeline(steps=[('imputer',\n",
              "                                                                   SimpleImputer()),\n",
              "                                                                  ('scaler',\n",
              "                                                                   StandardScaler())]),\n",
              "                                                  ['gender', 'idg', 'condtn',\n",
              "                                                   'wave', 'round', 'position',\n",
              "                                                   'positin1', 'order',\n",
              "                                                   'partner', 'pid', 'int_corr',\n",
              "                                                   'samerace', 'age_o',\n",
              "                                                   'race_o', 'pf_o_att',\n",
              "                                                   'pf_o_sin', 'pf_o_int',\n",
              "                                                   'pf_o_fun', 'pf_o_amb',\n",
              "                                                   'pf_o_sha', 'attr_o',\n",
              "                                                   'sinc...\n",
              "                                                                   SimpleImputer(strategy='constant')),\n",
              "                                                                  ('onehot',\n",
              "                                                                   OneHotEncoder(handle_unknown='ignore'))]),\n",
              "                                                  ['field', 'undergra',\n",
              "                                                   'mn_sat', 'tuition', 'from',\n",
              "                                                   'zipcode', 'income',\n",
              "                                                   'career'])])),\n",
              "                ('selector',\n",
              "                 SelectKBest(k=125,\n",
              "                             score_func=<function mutual_info_classif at 0x7f9746a0b9e0>)),\n",
              "                ('my_classifier',\n",
              "                 ExtraTreesClassifier(min_samples_leaf=35, min_samples_split=25,\n",
              "                                      n_estimators=900, n_jobs=4))])"
            ]
          },
          "metadata": {},
          "execution_count": 69
        }
      ],
      "source": [
        "from sklearn.ensemble import ExtraTreesClassifier\n",
        "# pipe line for numeric features preprocessing\n",
        "\n",
        "pip_numeric = Pipeline(\n",
        "    steps=[\n",
        "        ('imputer', SimpleImputer()),\n",
        "        ('scaler', StandardScaler())]\n",
        ")\n",
        "\n",
        "# pipe line for categorical features preprocessing\n",
        "\n",
        "pip_categorical = Pipeline(\n",
        "    steps=[\n",
        "        ('imputer', SimpleImputer(strategy='constant')),\n",
        "        ('onehot', OneHotEncoder(handle_unknown='ignore'))\n",
        "    ]\n",
        ")\n",
        "# define preprocessor\n",
        "preprocessor = ColumnTransformer(\n",
        "    transformers=[\n",
        "        ('num', pip_numeric, numeric_features),\n",
        "        ('cat', pip_categorical, categorical_features)\n",
        "    ]\n",
        ")\n",
        "#My_classifier\n",
        "clf = ExtraTreesClassifier(n_estimators=900, n_jobs=4, min_samples_split=25,\n",
        "                            min_samples_leaf=35)\n",
        "# combine the preprocessor with the model as a full tunable pipeline\n",
        "full_pipline = Pipeline(\n",
        "    steps=[\n",
        "        ('preprocessor', preprocessor),\n",
        "         ('selector', SelectKBest(mutual_info_classif, k=125)),\n",
        "        ('my_classifier', clf)\n",
        "    ]\n",
        ")\n",
        "full_pipline"
      ]
    },
    {
      "cell_type": "markdown",
      "metadata": {
        "id": "GP0D2oT6WW9i"
      },
      "source": [
        "### **Grid search**"
      ]
    },
    {
      "cell_type": "code",
      "execution_count": 71,
      "metadata": {
        "colab": {
          "base_uri": "https://localhost:8080/"
        },
        "id": "NtR5ctfCUXjz",
        "outputId": "7a23484a-ddc7-41eb-bfdf-31b1401c200e"
      },
      "outputs": [
        {
          "output_type": "stream",
          "name": "stdout",
          "text": [
            "Fitting 5 folds for each of 6 candidates, totalling 30 fits\n",
            "best score 0.8626363196657694\n",
            "best score {'my_classifier__max_depth': 12, 'preprocessor__num__imputer__strategy': 'mean'}\n"
          ]
        }
      ],
      "source": [
        "param_grid = {\n",
        "      'preprocessor__num__imputer__strategy': ['mean','median'], \n",
        "      'my_classifier__max_depth':[11,12,13] ,\n",
        "      #'my_classifier__learning_rate ' :[0.002,0.02,0.04,0.06]   \n",
        "}\n",
        "grid_search = GridSearchCV(\n",
        "    full_pipline, param_grid, cv=5, verbose=1, n_jobs=2, \n",
        "    scoring='roc_auc')\n",
        "\n",
        "grid_search.fit(X_train, y_train)\n",
        "print('best score {}'.format(grid_search.best_score_))\n",
        "print('best score {}'.format(grid_search.best_params_))"
      ]
    },
    {
      "cell_type": "markdown",
      "source": [
        " * **observations**\n",
        "```\n",
        "I used Model ExtraTreesClassifier\n",
        "Parameter[\n",
        "n_estimators=900\n",
        " n_jobs=4\n",
        " min_samples_split=25\n",
        " min_samples_leaf=35, max_depth=12]\n",
        " best score 0.8626363196657694\n",
        "```"
      ],
      "metadata": {
        "id": "XGX12ztnh2eK"
      }
    },
    {
      "cell_type": "markdown",
      "source": [
        "# **Trial6**"
      ],
      "metadata": {
        "id": "2R55aXkHuPN1"
      }
    },
    {
      "cell_type": "markdown",
      "source": [
        "## **BayesSearch**"
      ],
      "metadata": {
        "id": "IFDvW8pzuZJO"
      }
    },
    {
      "cell_type": "code",
      "source": [
        "# pipe line for numeric features preprocessing\n",
        "\n",
        "pip_numeric = Pipeline(\n",
        "    steps=[\n",
        "        ('imputer', SimpleImputer()),\n",
        "        ('scaler', StandardScaler())]\n",
        ")\n",
        "\n",
        "# pipe line for categorical features preprocessing\n",
        "\n",
        "pip_categorical = Pipeline(\n",
        "    steps=[\n",
        "        ('imputer', SimpleImputer(strategy='constant')),\n",
        "        ('onehot', OneHotEncoder(handle_unknown='ignore'))\n",
        "    ]\n",
        ")\n",
        "# define preprocessor\n",
        "preprocessor = ColumnTransformer(\n",
        "    transformers=[\n",
        "        ('num', pip_numeric, numeric_features),\n",
        "        ('cat', pip_categorical, categorical_features)\n",
        "    ]\n",
        ")\n",
        "#My_classifier\n",
        "clf = ExtraTreesClassifier()\n",
        "# combine the preprocessor with the model as a full tunable pipeline\n",
        "full_pipline = Pipeline(\n",
        "    steps=[\n",
        "        ('preprocessor', preprocessor),\n",
        "         ('selector', SelectKBest(mutual_info_classif, k=125)),\n",
        "        ('my_classifier', clf)\n",
        "    ]\n",
        ")\n",
        "full_pipline"
      ],
      "metadata": {
        "colab": {
          "base_uri": "https://localhost:8080/"
        },
        "id": "tGJo2U5JurGt",
        "outputId": "8de281e2-147b-460d-92a8-c43598917e7d"
      },
      "execution_count": 65,
      "outputs": [
        {
          "output_type": "execute_result",
          "data": {
            "text/plain": [
              "Pipeline(steps=[('preprocessor',\n",
              "                 ColumnTransformer(transformers=[('num',\n",
              "                                                  Pipeline(steps=[('imputer',\n",
              "                                                                   SimpleImputer()),\n",
              "                                                                  ('scaler',\n",
              "                                                                   StandardScaler())]),\n",
              "                                                  ['gender', 'idg', 'condtn',\n",
              "                                                   'wave', 'round', 'position',\n",
              "                                                   'positin1', 'order',\n",
              "                                                   'partner', 'pid', 'int_corr',\n",
              "                                                   'samerace', 'age_o',\n",
              "                                                   'race_o', 'pf_o_att',\n",
              "                                                   'pf_o_sin', 'pf_o_int',\n",
              "                                                   'pf_o_fun', 'pf_o_amb',\n",
              "                                                   'pf_o_sha', 'attr_o',\n",
              "                                                   'sinc...\n",
              "                                                   'prob_o', 'met_o', 'age', ...]),\n",
              "                                                 ('cat',\n",
              "                                                  Pipeline(steps=[('imputer',\n",
              "                                                                   SimpleImputer(strategy='constant')),\n",
              "                                                                  ('onehot',\n",
              "                                                                   OneHotEncoder(handle_unknown='ignore'))]),\n",
              "                                                  ['field', 'undergra',\n",
              "                                                   'mn_sat', 'tuition', 'from',\n",
              "                                                   'zipcode', 'income',\n",
              "                                                   'career'])])),\n",
              "                ('selector',\n",
              "                 SelectKBest(k=125,\n",
              "                             score_func=<function mutual_info_classif at 0x7f9746a0b9e0>)),\n",
              "                ('my_classifier', ExtraTreesClassifier())])"
            ]
          },
          "metadata": {},
          "execution_count": 65
        }
      ]
    },
    {
      "cell_type": "code",
      "source": [
        "#set hyperparameters to tuning them\n",
        "param_grid = {\n",
        "      'preprocessor__num__imputer__strategy': ['mean','median'], \n",
        "      'my_classifier__max_depth':[10,11,12] , \n",
        "}"
      ],
      "metadata": {
        "id": "4fWYHA3Iuq_W"
      },
      "execution_count": 66,
      "outputs": []
    },
    {
      "cell_type": "code",
      "source": [
        "from skopt import BayesSearchCV #use bayessearchcv for tuning hyperparameter with cross validation k=5\n",
        "\n",
        "bayes_search = BayesSearchCV(full_pipline,param_grid, cv=5, verbose=1, n_jobs=2, n_iter=3,scoring='roc_auc')\n",
        "\n",
        "bayes_search.fit(X_train,y_train)\n",
        "\n",
        "print('best score {}'.format(bayes_search.best_score_))\n",
        "\n",
        "print('best score {}'.format(bayes_search.best_params_))"
      ],
      "metadata": {
        "colab": {
          "base_uri": "https://localhost:8080/"
        },
        "id": "bA4tqkB2ukbR",
        "outputId": "6ab45777-9064-4223-ec73-9075e9bf330e"
      },
      "execution_count": 67,
      "outputs": [
        {
          "output_type": "stream",
          "name": "stdout",
          "text": [
            "Fitting 5 folds for each of 1 candidates, totalling 5 fits\n",
            "Fitting 5 folds for each of 1 candidates, totalling 5 fits\n",
            "Fitting 5 folds for each of 1 candidates, totalling 5 fits\n",
            "best score 0.8659915497445514\n",
            "best score OrderedDict([('my_classifier__max_depth', 11), ('preprocessor__num__imputer__strategy', 'mean')])\n"
          ]
        }
      ]
    },
    {
      "cell_type": "markdown",
      "source": [
        "* **observations**\n",
        "\n",
        "\n",
        "```\n",
        "I used Model ExtraTreesClassifier cv=5\n",
        "and used BayesSearch without any parameter just mean and feature selection k=125\n",
        "best score 0.8659915497445514\n",
        "'my_classifier__max_depth':11\n",
        "'preprocessor__num__imputer__strategy':'mean'\n",
        "```\n",
        "\n",
        "\n"
      ],
      "metadata": {
        "id": "wBo3n9K2wIcn"
      }
    },
    {
      "cell_type": "markdown",
      "source": [
        "* **Conclusion**\n",
        "```\n",
        "From all trials I notice some notes:\n",
        "the best classifier is XGBclassifier with hyperparamter\n",
        " 1-silent=False\n",
        " 2-scale_pos_weight=1\n",
        " 3-colsample_bytree = 0.4\n",
        " 4-learning_rate=0.02\n",
        " 5-max_depth=11\n",
        " 6-n_estimators=900\n",
        " 7-subsample = 0.8\n",
        " 8-objective='binary:logistic' \n",
        " 9-reg_alpha = 0.3\n",
        "\n",
        "* **Notes**\n",
        "\n",
        "```\n",
        "1-XGBoost:\n",
        "is a decision-tree-based ensemble Machine Learning algorithm that uses a gradient boosting framework\n",
        "2-Gradient Boosting:\n",
        "A special case of boosting where errors are minimized by gradient descent algorithm\n",
        "3-XGBoost: \n",
        "Think of XGBoost as gradient boosting on ‘steroids’\n",
        "(well it is called ‘Extreme Gradient Boosting’ for a reason!). \n",
        "It is a perfect combination of software and hardware optimization techniques\n",
        "to yield superior results using less computing resources in the shortest amount of time\n",
        "4- grid search is better  but it took alot of  time to give parameters \n",
        "5-Bayesian optimization methods\n",
        "are efficient because they select hyperparameters in an informed manner. \n",
        "By prioritizing hyperparameters \n",
        "that appear more promising from past results,\n",
        "Bayesian methods can find the best\n",
        "hyperparameters in lesser time (in fewer iterations)\n",
        "than both grid search and random search\n",
        "```"
      ],
      "metadata": {
        "id": "PAfNwcUcK6tW"
      }
    },
    {
      "cell_type": "markdown",
      "source": [
        "* **Referances** \n",
        "\n",
        "```\n",
        "`1-http://medium.com/analytics-vidhya/comparison-of-hyperparameter-tuning-algorithms-grid-search-\n",
        "random-search-bayesia\n",
        "n-optimization-5326aaef1bd1`\n",
        "2-https://www.tomasbeuzen.com/post/scikit-learn-gridsearch-pipelines/\n",
        "3-https://towardsdatascience.com/\n",
        "https-medium-com-vishalmorde-xgboost-algorithm-long-she-may-rein-edd9f99be63d\n",
        "```\n"
      ],
      "metadata": {
        "id": "zUuvZ84pIIXx"
      }
    }
  ],
  "metadata": {
    "colab": {
      "name": "assignment_2.ipynb",
      "provenance": []
    },
    "kernelspec": {
      "display_name": "Python 3",
      "name": "python3"
    },
    "language_info": {
      "name": "python"
    }
  },
  "nbformat": 4,
  "nbformat_minor": 0
}
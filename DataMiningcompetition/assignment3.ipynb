{
  "nbformat": 4,
  "nbformat_minor": 0,
  "metadata": {
    "colab": {
      "name": "assignment3 (1).ipynb",
      "provenance": []
    },
    "kernelspec": {
      "name": "python3",
      "display_name": "Python 3"
    },
    "language_info": {
      "name": "python"
    }
  },
  "cells": [
    {
      "cell_type": "markdown",
      "source": [
        "# **Documentation**"
      ],
      "metadata": {
        "id": "J3FgBeWy3TvB"
      }
    },
    {
      "cell_type": "markdown",
      "source": [
        "##✔️ **Answer Questions**"
      ],
      "metadata": {
        "id": "qJpWPC6H3fbg"
      }
    },
    {
      "cell_type": "markdown",
      "source": [
        " **What is the difference between Character n-gram and Word n-gram? Which one tends to suffer more from the OOV issue?**\n",
        "\n",
        "**1-**\n",
        "* `Character N-Grams it is split each words based on character but ` \n",
        " `word N-Grams it is split whole text based on words`\n",
        "* `For a given document in a language, there are more character N-grams repetitions than word n-gram repetitions`\n",
        "\n",
        " `character N-grams split highlights some common properties that a word n-gram split does not`\n",
        "\n",
        " ` character N-grams make languages more comparable revealing more repeated`\n",
        "\n",
        "**2-**\n",
        "* `Word n-gram tends to suffer more from OOV (Out-Of-Vocabulary) issue because of the new words that presented in the testing dataset and not appear in training dataset`\n",
        "\n",
        "---"
      ],
      "metadata": {
        "id": "kgea24Hp3wcH"
      }
    },
    {
      "cell_type": "markdown",
      "source": [
        "**What is the difference between stop word removal and stemming? Are these techniques language-dependent?**\n",
        "\n",
        "**1-**\n",
        "* `Stop word removal and stemming are commonly used method in indexing the different between them are ` \n",
        "\n",
        "* `Stop word removal Some common words that are present in text but do not contribute in the meaning of a sentence. Such words are not at all important for the purpose of information retrieval or natural language processing. The most common stopwords are ‘the’ and ‘a’.` \n",
        "\n",
        "* `Stemming is a technique used to extract the base form of the words by removing affixes from them. It is just like cutting down the branches of a tree to its stems. For example, the stem of the words eating, eats, eaten is eat.`\n",
        "\n",
        "**2-**\n",
        "* `yes, these techniques are language-dependent`\n",
        "\n",
        "\n",
        "---"
      ],
      "metadata": {
        "id": "aZTBMQ1DjRUc"
      }
    },
    {
      "cell_type": "markdown",
      "source": [
        " **Is tokenization techniques language dependent? Why?**\n",
        "\n",
        "* `Tokenization is breaking the raw text into small chunks and helps in interpreting the meaning of the text by analyzing the sequence of the words\n",
        "so it is language dependent `\n",
        "* `becouse it needs to know meaning of each word to split it depend on language`\n",
        "`for example: wasn't>> wasnt>>was n't>>wasn t >> these all possable of tokenization but some of these doesn't have meaning in the language `\n",
        "\n",
        "\n",
        "---"
      ],
      "metadata": {
        "id": "3hcb5NsVvsn7"
      }
    },
    {
      "cell_type": "markdown",
      "source": [
        "**What is the difference between count vectorizer and tf-idf vectorizer? Would it be feasible to use all possible n-grams? If not, how should you select them?**\n",
        "\n",
        "**1-**\n",
        "* `TfidfVectorizer and CountVectorizer both are methods for converting text data into vectors as model can process only numerical data.`\n",
        "\n",
        "* `In CountVectorizer we only count the number of times a word appears in the document which results in biasing in favour of most frequent words. this ends up in ignoring rare words which could have helped is in processing our data more efficiently.`\n",
        "\n",
        "\n",
        "\n",
        "* `In TfidfVectorizer we consider overall document weightage of a word. It helps us in dealing with most frequent words. Using it we can penalize them. TfidfVectorizer weights the word counts by a measure of how often they appear in the documents.`\n",
        "\n",
        "**2-**\n",
        "* `it isn't feasible to use all possible n-grams`\n",
        "\n",
        "```\n",
        "N-gram range sets if features to be used to characterize texts will be:\n",
        "Unigrams or words (n-gram size = 1)\n",
        "Bigrams or terms compounded by two words (n-gram size = 2)\n",
        "Trigrams or terms compounded by up to three words (n-gram size = 3)\n",
        "```\n",
        "\n",
        "\n",
        "```\n",
        "I should select between them depend on problem like :\n",
        "Sentiment Analysis, setting n-gram ranges that use bigrams \n",
        "or trigrams can dramatically improve the accuracy of classification,\n",
        "as they can capture more complex expressions formed by the composition of more\n",
        "than one word. The rationale is that in Sentiment Analysis the outcome depends\n",
        "not only on the frequency of words but also on how they are combined:\n",
        "good has a different meaning alone than when preceded by a not as in not good.\n",
        "```\n",
        "\n",
        "\n",
        "---"
      ],
      "metadata": {
        "id": "aF6um57b0KqT"
      }
    },
    {
      "cell_type": "markdown",
      "source": [
        "### ✔️ **Problem Formulation**\n",
        "\n",
        "**Define the problem:**\n",
        "* `the problem is how are we  going to predict if a specific reddit(website) post is fake news or not`\n",
        "\n",
        "**What is the input:**  \n",
        "* `the input is text that has a lot of rows containing fake news and right news and has some noise needed be cleaned`\n",
        "\n",
        "**What is the output:**\n",
        "* `predict if the news are fake news or True news`\n",
        "\n",
        "**What data mining function is required:**\n",
        "* `data mining function is required  classification problem`\n",
        "\n",
        "**What could be the challenges**\n",
        "* `the challenges are to clean the text data by Preprocessing techniques in NLP to make the sentence pure to predict correctly and choose best classifier for this mission.`\n",
        "\n",
        "**What is the impact:**\n",
        "\n",
        "* `Reducing the spread of rumors and fake news`\n",
        "\n",
        "**What is an ideal solution:**\n",
        "\n",
        "`the ideal solution is getting high accuracy for predict which fake or true news,and which model perfect to train input text (NLP or text classification) in this proplem randomforest classifier is the best and logestic regresion` "
      ],
      "metadata": {
        "id": "WXS_mFQLC79s"
      }
    },
    {
      "cell_type": "markdown",
      "source": [
        "\n",
        "\n",
        "---"
      ],
      "metadata": {
        "id": "eP9uR-MRU3Kk"
      }
    },
    {
      "cell_type": "markdown",
      "source": [
        "## **Import Libraries**"
      ],
      "metadata": {
        "id": "1k_F0QdqAaZA"
      }
    },
    {
      "cell_type": "code",
      "execution_count": null,
      "metadata": {
        "id": "Y1QVWqLm_HAo"
      },
      "outputs": [],
      "source": [
        "import numpy as np # linear algebra\n",
        "import pandas as pd # data processing, CSV file I/O (e.g. pd.read_csv)\n",
        "import string as st#Common string operations\n",
        "import re#Regular expression operations\n",
        "import nltk#Natural Language Toolkit\n",
        "from nltk.tokenize import word_tokenize#Tokenizers divide strings into lists of substrings\n",
        "from nltk.corpus import stopwords#remove stop words\n",
        "from sklearn.pipeline import Pipeline#create pipline\n",
        "from sklearn.model_selection import GridSearchCV, RandomizedSearchCV#model tuning\n",
        "from xgboost import XGBClassifier#XGBClassifier model for classification\n",
        "from nltk.stem.snowball import SnowballStemmer\n",
        "from sklearn.model_selection import train_test_split#split text into train and test \n",
        "from sklearn.feature_extraction.text import TfidfVectorizer#vectorize text into numeric useing Tfidf\n",
        "import warnings #handling warning \n",
        "warnings.filterwarnings('ignore')"
      ]
    },
    {
      "cell_type": "markdown",
      "source": [
        "## **Download Pakages**"
      ],
      "metadata": {
        "id": "CDkI02_YBeqg"
      }
    },
    {
      "cell_type": "code",
      "source": [
        "nltk.download('punkt')#download punkt pakages from nltk library\n",
        "nltk.download('stopwords')#download stopwords pakages from nltk library\n",
        "nltk.download('wordnet')#download wordnet pakages from nltk library"
      ],
      "metadata": {
        "colab": {
          "base_uri": "https://localhost:8080/"
        },
        "id": "xXQ2_fsdApTY",
        "outputId": "d92b22aa-a512-4de0-b400-1f026f0e84fd"
      },
      "execution_count": null,
      "outputs": [
        {
          "output_type": "stream",
          "name": "stdout",
          "text": [
            "[nltk_data] Downloading package punkt to /root/nltk_data...\n",
            "[nltk_data]   Unzipping tokenizers/punkt.zip.\n",
            "[nltk_data] Downloading package stopwords to /root/nltk_data...\n",
            "[nltk_data]   Unzipping corpora/stopwords.zip.\n",
            "[nltk_data] Downloading package wordnet to /root/nltk_data...\n",
            "[nltk_data]   Unzipping corpora/wordnet.zip.\n"
          ]
        },
        {
          "output_type": "execute_result",
          "data": {
            "text/plain": [
              "True"
            ]
          },
          "metadata": {},
          "execution_count": 2
        }
      ]
    },
    {
      "cell_type": "markdown",
      "source": [
        "##**Read Train Data**"
      ],
      "metadata": {
        "id": "G4gtnQrDBqBw"
      }
    },
    {
      "cell_type": "code",
      "source": [
        "# Read raw data (train data)\n",
        "FILE_REVIEWS = \"xy_train.csv\"\n",
        "data = pd.read_csv(FILE_REVIEWS, sep=\",\", na_values=[\"\"])"
      ],
      "metadata": {
        "id": "kV_CekJjBc3K"
      },
      "execution_count": null,
      "outputs": []
    },
    {
      "cell_type": "code",
      "source": [
        "#take copy from original file\n",
        "data_train=data.copy()"
      ],
      "metadata": {
        "id": "pTVfrZF7EX9C"
      },
      "execution_count": null,
      "outputs": []
    },
    {
      "cell_type": "code",
      "source": [
        "#drop id\n",
        "data_train=data_train.drop(['id'],axis=1)"
      ],
      "metadata": {
        "id": "YY-k7tebEgng"
      },
      "execution_count": null,
      "outputs": []
    },
    {
      "cell_type": "markdown",
      "source": [
        "## **Label Of Train Data**"
      ],
      "metadata": {
        "id": "p8RcyJhvFILY"
      }
    },
    {
      "cell_type": "code",
      "source": [
        "#label of our data \n",
        "y_train=data_train['label']"
      ],
      "metadata": {
        "id": "Yra8a2j9Eicg"
      },
      "execution_count": null,
      "outputs": []
    },
    {
      "cell_type": "code",
      "source": [
        "#check balance of data\n",
        "import matplotlib.pyplot as plt #to visualization \n",
        "import seaborn as sns#to visualization\n",
        "g = sns.countplot(y_train)\n",
        "g.set_xticklabels([0,1])\n",
        "plt.show()"
      ],
      "metadata": {
        "colab": {
          "base_uri": "https://localhost:8080/",
          "height": 279
        },
        "id": "TMYGx_g3FQ3Q",
        "outputId": "c5e0eb87-bc0e-41f8-8029-01dea4b391eb"
      },
      "execution_count": null,
      "outputs": [
        {
          "output_type": "display_data",
          "data": {
            "text/plain": [
              "<Figure size 432x288 with 1 Axes>"
            ],
            "image/png": "[encoded data removed]"
          },
          "metadata": {
            "needs_background": "light"
          }
        }
      ]
    },
    {
      "cell_type": "markdown",
      "source": [
        "\n",
        "\n",
        "```\n",
        "As we see there are label equal=2 and our label 0 or 1 only so i will drop it \n",
        "```\n",
        "\n"
      ],
      "metadata": {
        "id": "tla2nB1cFYLo"
      }
    },
    {
      "cell_type": "code",
      "source": [
        "#drop row of label equal 2\n",
        "data_train = data_train[data_train.label!= 2]"
      ],
      "metadata": {
        "id": "WbeyNEEZFToB"
      },
      "execution_count": null,
      "outputs": []
    },
    {
      "cell_type": "code",
      "source": [
        "#label of our data \n",
        "y_train=data_train['label']"
      ],
      "metadata": {
        "id": "YMyEGar7Go3g"
      },
      "execution_count": null,
      "outputs": []
    },
    {
      "cell_type": "code",
      "source": [
        "#check balance of data after drop rows have value 2\n",
        "g = sns.countplot(y_train)\n",
        "g.set_xticklabels([0,1])\n",
        "plt.show()"
      ],
      "metadata": {
        "colab": {
          "base_uri": "https://localhost:8080/",
          "height": 279
        },
        "id": "g39kei-YGOQ4",
        "outputId": "785b2d52-4cb1-4af8-dd38-09231c2b596d"
      },
      "execution_count": null,
      "outputs": [
        {
          "output_type": "display_data",
          "data": {
            "text/plain": [
              "<Figure size 432x288 with 1 Axes>"
            ],
            "image/png": "[encoded data removed]"
          },
          "metadata": {
            "needs_background": "light"
          }
        }
      ]
    },
    {
      "cell_type": "code",
      "source": [
        "data_train#data befor any preprocessing "
      ],
      "metadata": {
        "colab": {
          "base_uri": "https://localhost:8080/",
          "height": 423
        },
        "id": "DsmFXd5mGQOg",
        "outputId": "c1d462fd-a279-4cef-8f6d-7698b0eb6129"
      },
      "execution_count": null,
      "outputs": [
        {
          "output_type": "execute_result",
          "data": {
            "text/plain": [
              "                                                    text  label\n",
              "0      A group of friends began to volunteer at a hom...      0\n",
              "1      British Prime Minister @Theresa_May on Nerve A...      0\n",
              "2      In 1961, Goodyear released a kit that allows P...      0\n",
              "3      Happy Birthday, Bob Barker! The Price Is Right...      0\n",
              "4      Obama to Nation: 聙\"Innocent Cops and Unarmed Y...      0\n",
              "...                                                  ...    ...\n",
              "59995  Finish Sniper Simo H盲yh盲 during the invasion o...      0\n",
              "59996  Nigerian Prince Scam took $110K from Kansas ma...      1\n",
              "59997  Is It Safe To Smoke Marijuana During Pregnancy...      0\n",
              "59998  Julius Caesar upon realizing that everyone in ...      0\n",
              "59999  Jeff Bridges Releasing 鈥楽leeping Tapes,鈥?a New...      1\n",
              "\n",
              "[59768 rows x 2 columns]"
            ],
            "text/html": [
              "\n",
              "  <div id=\"df-30c1daf5-4742-455d-9595-d8562df5f886\">\n",
              "    <div class=\"colab-df-container\">\n",
              "      <div>\n",
              "<style scoped>\n",
              "    .dataframe tbody tr th:only-of-type {\n",
              "        vertical-align: middle;\n",
              "    }\n",
              "\n",
              "    .dataframe tbody tr th {\n",
              "        vertical-align: top;\n",
              "    }\n",
              "\n",
              "    .dataframe thead th {\n",
              "        text-align: right;\n",
              "    }\n",
              "</style>\n",
              "<table border=\"1\" class=\"dataframe\">\n",
              "  <thead>\n",
              "    <tr style=\"text-align: right;\">\n",
              "      <th></th>\n",
              "      <th>text</th>\n",
              "      <th>label</th>\n",
              "    </tr>\n",
              "  </thead>\n",
              "  <tbody>\n",
              "    <tr>\n",
              "      <th>0</th>\n",
              "      <td>A group of friends began to volunteer at a hom...</td>\n",
              "      <td>0</td>\n",
              "    </tr>\n",
              "    <tr>\n",
              "      <th>1</th>\n",
              "      <td>British Prime Minister @Theresa_May on Nerve A...</td>\n",
              "      <td>0</td>\n",
              "    </tr>\n",
              "    <tr>\n",
              "      <th>2</th>\n",
              "      <td>In 1961, Goodyear released a kit that allows P...</td>\n",
              "      <td>0</td>\n",
              "    </tr>\n",
              "    <tr>\n",
              "      <th>3</th>\n",
              "      <td>Happy Birthday, Bob Barker! The Price Is Right...</td>\n",
              "      <td>0</td>\n",
              "    </tr>\n",
              "    <tr>\n",
              "      <th>4</th>\n",
              "      <td>Obama to Nation: 聙\"Innocent Cops and Unarmed Y...</td>\n",
              "      <td>0</td>\n",
              "    </tr>\n",
              "    <tr>\n",
              "      <th>...</th>\n",
              "      <td>...</td>\n",
              "      <td>...</td>\n",
              "    </tr>\n",
              "    <tr>\n",
              "      <th>59995</th>\n",
              "      <td>Finish Sniper Simo H盲yh盲 during the invasion o...</td>\n",
              "      <td>0</td>\n",
              "    </tr>\n",
              "    <tr>\n",
              "      <th>59996</th>\n",
              "      <td>Nigerian Prince Scam took $110K from Kansas ma...</td>\n",
              "      <td>1</td>\n",
              "    </tr>\n",
              "    <tr>\n",
              "      <th>59997</th>\n",
              "      <td>Is It Safe To Smoke Marijuana During Pregnancy...</td>\n",
              "      <td>0</td>\n",
              "    </tr>\n",
              "    <tr>\n",
              "      <th>59998</th>\n",
              "      <td>Julius Caesar upon realizing that everyone in ...</td>\n",
              "      <td>0</td>\n",
              "    </tr>\n",
              "    <tr>\n",
              "      <th>59999</th>\n",
              "      <td>Jeff Bridges Releasing 鈥楽leeping Tapes,鈥?a New...</td>\n",
              "      <td>1</td>\n",
              "    </tr>\n",
              "  </tbody>\n",
              "</table>\n",
              "<p>59768 rows × 2 columns</p>\n",
              "</div>\n",
              "      <button class=\"colab-df-convert\" onclick=\"convertToInteractive('df-30c1daf5-4742-455d-9595-d8562df5f886')\"\n",
              "              title=\"Convert this dataframe to an interactive table.\"\n",
              "              style=\"display:none;\">\n",
              "        \n",
              "  <svg xmlns=\"http://www.w3.org/2000/svg\" height=\"24px\"viewBox=\"0 0 24 24\"\n",
              "       width=\"24px\">\n",
              "    <path d=\"M0 0h24v24H0V0z\" fill=\"none\"/>\n",
              "    <path d=\"M18.56 5.44l.94 2.06.94-2.06 2.06-.94-2.06-.94-.94-2.06-.94 2.06-2.06.94zm-11 1L8.5 8.5l.94-2.06 2.06-.94-2.06-.94L8.5 2.5l-.94 2.06-2.06.94zm10 10l.94 2.06.94-2.06 2.06-.94-2.06-.94-.94-2.06-.94 2.06-2.06.94z\"/><path d=\"M17.41 7.96l-1.37-1.37c-.4-.4-.92-.59-1.43-.59-.52 0-1.04.2-1.43.59L10.3 9.45l-7.72 7.72c-.78.78-.78 2.05 0 2.83L4 21.41c.39.39.9.59 1.41.59.51 0 1.02-.2 1.41-.59l7.78-7.78 2.81-2.81c.8-.78.8-2.07 0-2.86zM5.41 20L4 18.59l7.72-7.72 1.47 1.35L5.41 20z\"/>\n",
              "  </svg>\n",
              "      </button>\n",
              "      \n",
              "  <style>\n",
              "    .colab-df-container {\n",
              "      display:flex;\n",
              "      flex-wrap:wrap;\n",
              "      gap: 12px;\n",
              "    }\n",
              "\n",
              "    .colab-df-convert {\n",
              "      background-color: #E8F0FE;\n",
              "      border: none;\n",
              "      border-radius: 50%;\n",
              "      cursor: pointer;\n",
              "      display: none;\n",
              "      fill: #1967D2;\n",
              "      height: 32px;\n",
              "      padding: 0 0 0 0;\n",
              "      width: 32px;\n",
              "    }\n",
              "\n",
              "    .colab-df-convert:hover {\n",
              "      background-color: #E2EBFA;\n",
              "      box-shadow: 0px 1px 2px rgba(60, 64, 67, 0.3), 0px 1px 3px 1px rgba(60, 64, 67, 0.15);\n",
              "      fill: #174EA6;\n",
              "    }\n",
              "\n",
              "    [theme=dark] .colab-df-convert {\n",
              "      background-color: #3B4455;\n",
              "      fill: #D2E3FC;\n",
              "    }\n",
              "\n",
              "    [theme=dark] .colab-df-convert:hover {\n",
              "      background-color: #434B5C;\n",
              "      box-shadow: 0px 1px 3px 1px rgba(0, 0, 0, 0.15);\n",
              "      filter: drop-shadow(0px 1px 2px rgba(0, 0, 0, 0.3));\n",
              "      fill: #FFFFFF;\n",
              "    }\n",
              "  </style>\n",
              "\n",
              "      <script>\n",
              "        const buttonEl =\n",
              "          document.querySelector('#df-30c1daf5-4742-455d-9595-d8562df5f886 button.colab-df-convert');\n",
              "        buttonEl.style.display =\n",
              "          google.colab.kernel.accessAllowed ? 'block' : 'none';\n",
              "\n",
              "        async function convertToInteractive(key) {\n",
              "          const element = document.querySelector('#df-30c1daf5-4742-455d-9595-d8562df5f886');\n",
              "          const dataTable =\n",
              "            await google.colab.kernel.invokeFunction('convertToInteractive',\n",
              "                                                     [key], {});\n",
              "          if (!dataTable) return;\n",
              "\n",
              "          const docLinkHtml = 'Like what you see? Visit the ' +\n",
              "            '<a target=\"_blank\" href=https://colab.research.google.com/notebooks/data_table.ipynb>data table notebook</a>'\n",
              "            + ' to learn more about interactive tables.';\n",
              "          element.innerHTML = '';\n",
              "          dataTable['output_type'] = 'display_data';\n",
              "          await google.colab.output.renderOutput(dataTable, element);\n",
              "          const docLink = document.createElement('div');\n",
              "          docLink.innerHTML = docLinkHtml;\n",
              "          element.appendChild(docLink);\n",
              "        }\n",
              "      </script>\n",
              "    </div>\n",
              "  </div>\n",
              "  "
            ]
          },
          "metadata": {},
          "execution_count": 11
        }
      ]
    },
    {
      "cell_type": "markdown",
      "source": [
        "\n",
        "\n",
        "---"
      ],
      "metadata": {
        "id": "CiCvToQpHBRA"
      }
    },
    {
      "cell_type": "markdown",
      "source": [
        "## **Trial_1**"
      ],
      "metadata": {
        "id": "OZM-UK5iE_xB"
      }
    },
    {
      "cell_type": "markdown",
      "source": [
        "## **Cleaning and pre processing**"
      ],
      "metadata": {
        "id": "Ekbb8lLUIHqR"
      }
    },
    {
      "cell_type": "markdown",
      "source": [
        "\n",
        "* **Steps**\n",
        "\n",
        "```\n",
        "-Removing HTML characters,ASCII\n",
        "-Convert Text to Lowercase\n",
        "-Remove Punctuation's\n",
        "-Remove Stop words\n",
        "-Tokenization\n",
        "-Stemming vs Lemmatization(which one to choose?)\n",
        "\n",
        "```\n",
        "\n"
      ],
      "metadata": {
        "id": "MRHmlKwNKuQR"
      }
    },
    {
      "cell_type": "markdown",
      "source": [
        "**Text clean**"
      ],
      "metadata": {
        "id": "bzGcYVzkTdSR"
      }
    },
    {
      "cell_type": "code",
      "source": [
        "# A stop word is a commonly used word (such as “the”, “a”, “an”, “in”) that a search engine has been programmed to ignore\n",
        "stemmer = SnowballStemmer(language='english')\n",
        "stop_words = set(stopwords.words(\"english\"))"
      ],
      "metadata": {
        "id": "30GLevCEXDvZ"
      },
      "execution_count": null,
      "outputs": []
    },
    {
      "cell_type": "code",
      "source": [
        "from nltk.stem import WordNetLemmatizer #Lemmatization is the process of converting a word to its base form\n",
        "from nltk.corpus import stopwords#we remove the low-level information from our text in order to give more focus to the important\n",
        "stop_words = set(stopwords.words(\"english\")) \n",
        "lemmatizer = WordNetLemmatizer() "
      ],
      "metadata": {
        "id": "ltrrrWoUcK-Z"
      },
      "execution_count": null,
      "outputs": []
    },
    {
      "cell_type": "code",
      "source": [
        "# convert all whitespaces (tabs etc.) to single wspace\n",
        "# all lowercase\n",
        "#remove stopwords, punctuation and stemm\n",
        "#Keep only ASCII + European Chars and whitespace, no digits\n",
        "#remove any html tags (< /br> often found)\n",
        "import string\n",
        "def text_clean(text,for_embedding=True):#I will apply embedding \n",
        "    RE_WSPACE = re.compile(r\"\\s+\", re.IGNORECASE)\n",
        "    RE_TAGS = re.compile(r\"<[^>]+>\")\n",
        "    RE_ASCII = re.compile(r\"[^A-Za-zÀ-ž ]\", re.IGNORECASE)\n",
        "    RE_SINGLECHAR = re.compile(r\"\\b[A-Za-zÀ-ž]\\b\", re.IGNORECASE)    \n",
        "    text = text.lower()\n",
        "    if for_embedding:\n",
        "        # Keep punctuation\n",
        "        RE_ASCII = re.compile(r\"[^A-Za-zÀ-ž,.!? ]\", re.IGNORECASE)\n",
        "        RE_SINGLECHAR = re.compile(r\"\\b[A-Za-zÀ-ž,.!?]\\b\", re.IGNORECASE)\n",
        "\n",
        "    text = re.sub(RE_TAGS, \" \", text)\n",
        "    text = re.sub(RE_ASCII, \" \", text)\n",
        "    text = re.sub(RE_SINGLECHAR, \" \", text)\n",
        "    text = re.sub(RE_WSPACE, \" \", text)\n",
        "\n",
        "    word_tokens = word_tokenize(text)\n",
        "    words_tokens_lower = [word.lower() for word in word_tokens]\n",
        "\n",
        "    if for_embedding:\n",
        "        # no stemming, lowering and punctuation / stop words removal\n",
        "        words_filtered = word_tokens\n",
        "    else:#apply stemmer\n",
        "        words_filtered = [\n",
        "            stemmer.stem(word) for word in words_tokens_lower if word not in stop_words\n",
        "        ]\n",
        "\n",
        "    text_clean = \" \".join(words_filtered)\n",
        "    return text_clean"
      ],
      "metadata": {
        "id": "39XIW2m7duNw"
      },
      "execution_count": null,
      "outputs": []
    },
    {
      "cell_type": "code",
      "source": [
        "data_train['text_clean'] = data_train['text'].apply(text_clean)#apply function text_clean on text data "
      ],
      "metadata": {
        "id": "cXx_QgTtiyQS"
      },
      "execution_count": null,
      "outputs": []
    },
    {
      "cell_type": "code",
      "source": [
        "data_train"
      ],
      "metadata": {
        "id": "xzubSzoAi6bo",
        "colab": {
          "base_uri": "https://localhost:8080/",
          "height": 423
        },
        "outputId": "a11c570c-6a40-443c-b4b9-b94149d80138"
      },
      "execution_count": null,
      "outputs": [
        {
          "output_type": "execute_result",
          "data": {
            "text/plain": [
              "                                                    text  label  \\\n",
              "0      A group of friends began to volunteer at a hom...      0   \n",
              "1      British Prime Minister @Theresa_May on Nerve A...      0   \n",
              "2      In 1961, Goodyear released a kit that allows P...      0   \n",
              "3      Happy Birthday, Bob Barker! The Price Is Right...      0   \n",
              "4      Obama to Nation: 聙\"Innocent Cops and Unarmed Y...      0   \n",
              "...                                                  ...    ...   \n",
              "59995  Finish Sniper Simo H盲yh盲 during the invasion o...      0   \n",
              "59996  Nigerian Prince Scam took $110K from Kansas ma...      1   \n",
              "59997  Is It Safe To Smoke Marijuana During Pregnancy...      0   \n",
              "59998  Julius Caesar upon realizing that everyone in ...      0   \n",
              "59999  Jeff Bridges Releasing 鈥楽leeping Tapes,鈥?a New...      1   \n",
              "\n",
              "                                              text_clean  \n",
              "0      group of friends began to volunteer at homeles...  \n",
              "1      british prime minister theresa may on nerve at...  \n",
              "2      in , goodyear released kit that allows ps to b...  \n",
              "3      happy birthday , bob barker ! the price is rig...  \n",
              "4      obama to nation innocent cops and unarmed youn...  \n",
              "...                                                  ...  \n",
              "59995  finish sniper simo yh during the invasion of f...  \n",
              "59996  nigerian prince scam took from kansas man year...  \n",
              "59997  is it safe to smoke marijuana during pregnancy...  \n",
              "59998  julius caesar upon realizing that everyone in ...  \n",
              "59999  jeff bridges releasing leeping tapes , ? new a...  \n",
              "\n",
              "[59768 rows x 3 columns]"
            ],
            "text/html": [
              "\n",
              "  <div id=\"df-666311fe-bb75-4dba-b0cc-d53e4e80d50c\">\n",
              "    <div class=\"colab-df-container\">\n",
              "      <div>\n",
              "<style scoped>\n",
              "    .dataframe tbody tr th:only-of-type {\n",
              "        vertical-align: middle;\n",
              "    }\n",
              "\n",
              "    .dataframe tbody tr th {\n",
              "        vertical-align: top;\n",
              "    }\n",
              "\n",
              "    .dataframe thead th {\n",
              "        text-align: right;\n",
              "    }\n",
              "</style>\n",
              "<table border=\"1\" class=\"dataframe\">\n",
              "  <thead>\n",
              "    <tr style=\"text-align: right;\">\n",
              "      <th></th>\n",
              "      <th>text</th>\n",
              "      <th>label</th>\n",
              "      <th>text_clean</th>\n",
              "    </tr>\n",
              "  </thead>\n",
              "  <tbody>\n",
              "    <tr>\n",
              "      <th>0</th>\n",
              "      <td>A group of friends began to volunteer at a hom...</td>\n",
              "      <td>0</td>\n",
              "      <td>group of friends began to volunteer at homeles...</td>\n",
              "    </tr>\n",
              "    <tr>\n",
              "      <th>1</th>\n",
              "      <td>British Prime Minister @Theresa_May on Nerve A...</td>\n",
              "      <td>0</td>\n",
              "      <td>british prime minister theresa may on nerve at...</td>\n",
              "    </tr>\n",
              "    <tr>\n",
              "      <th>2</th>\n",
              "      <td>In 1961, Goodyear released a kit that allows P...</td>\n",
              "      <td>0</td>\n",
              "      <td>in , goodyear released kit that allows ps to b...</td>\n",
              "    </tr>\n",
              "    <tr>\n",
              "      <th>3</th>\n",
              "      <td>Happy Birthday, Bob Barker! The Price Is Right...</td>\n",
              "      <td>0</td>\n",
              "      <td>happy birthday , bob barker ! the price is rig...</td>\n",
              "    </tr>\n",
              "    <tr>\n",
              "      <th>4</th>\n",
              "      <td>Obama to Nation: 聙\"Innocent Cops and Unarmed Y...</td>\n",
              "      <td>0</td>\n",
              "      <td>obama to nation innocent cops and unarmed youn...</td>\n",
              "    </tr>\n",
              "    <tr>\n",
              "      <th>...</th>\n",
              "      <td>...</td>\n",
              "      <td>...</td>\n",
              "      <td>...</td>\n",
              "    </tr>\n",
              "    <tr>\n",
              "      <th>59995</th>\n",
              "      <td>Finish Sniper Simo H盲yh盲 during the invasion o...</td>\n",
              "      <td>0</td>\n",
              "      <td>finish sniper simo yh during the invasion of f...</td>\n",
              "    </tr>\n",
              "    <tr>\n",
              "      <th>59996</th>\n",
              "      <td>Nigerian Prince Scam took $110K from Kansas ma...</td>\n",
              "      <td>1</td>\n",
              "      <td>nigerian prince scam took from kansas man year...</td>\n",
              "    </tr>\n",
              "    <tr>\n",
              "      <th>59997</th>\n",
              "      <td>Is It Safe To Smoke Marijuana During Pregnancy...</td>\n",
              "      <td>0</td>\n",
              "      <td>is it safe to smoke marijuana during pregnancy...</td>\n",
              "    </tr>\n",
              "    <tr>\n",
              "      <th>59998</th>\n",
              "      <td>Julius Caesar upon realizing that everyone in ...</td>\n",
              "      <td>0</td>\n",
              "      <td>julius caesar upon realizing that everyone in ...</td>\n",
              "    </tr>\n",
              "    <tr>\n",
              "      <th>59999</th>\n",
              "      <td>Jeff Bridges Releasing 鈥楽leeping Tapes,鈥?a New...</td>\n",
              "      <td>1</td>\n",
              "      <td>jeff bridges releasing leeping tapes , ? new a...</td>\n",
              "    </tr>\n",
              "  </tbody>\n",
              "</table>\n",
              "<p>59768 rows × 3 columns</p>\n",
              "</div>\n",
              "      <button class=\"colab-df-convert\" onclick=\"convertToInteractive('df-666311fe-bb75-4dba-b0cc-d53e4e80d50c')\"\n",
              "              title=\"Convert this dataframe to an interactive table.\"\n",
              "              style=\"display:none;\">\n",
              "        \n",
              "  <svg xmlns=\"http://www.w3.org/2000/svg\" height=\"24px\"viewBox=\"0 0 24 24\"\n",
              "       width=\"24px\">\n",
              "    <path d=\"M0 0h24v24H0V0z\" fill=\"none\"/>\n",
              "    <path d=\"M18.56 5.44l.94 2.06.94-2.06 2.06-.94-2.06-.94-.94-2.06-.94 2.06-2.06.94zm-11 1L8.5 8.5l.94-2.06 2.06-.94-2.06-.94L8.5 2.5l-.94 2.06-2.06.94zm10 10l.94 2.06.94-2.06 2.06-.94-2.06-.94-.94-2.06-.94 2.06-2.06.94z\"/><path d=\"M17.41 7.96l-1.37-1.37c-.4-.4-.92-.59-1.43-.59-.52 0-1.04.2-1.43.59L10.3 9.45l-7.72 7.72c-.78.78-.78 2.05 0 2.83L4 21.41c.39.39.9.59 1.41.59.51 0 1.02-.2 1.41-.59l7.78-7.78 2.81-2.81c.8-.78.8-2.07 0-2.86zM5.41 20L4 18.59l7.72-7.72 1.47 1.35L5.41 20z\"/>\n",
              "  </svg>\n",
              "      </button>\n",
              "      \n",
              "  <style>\n",
              "    .colab-df-container {\n",
              "      display:flex;\n",
              "      flex-wrap:wrap;\n",
              "      gap: 12px;\n",
              "    }\n",
              "\n",
              "    .colab-df-convert {\n",
              "      background-color: #E8F0FE;\n",
              "      border: none;\n",
              "      border-radius: 50%;\n",
              "      cursor: pointer;\n",
              "      display: none;\n",
              "      fill: #1967D2;\n",
              "      height: 32px;\n",
              "      padding: 0 0 0 0;\n",
              "      width: 32px;\n",
              "    }\n",
              "\n",
              "    .colab-df-convert:hover {\n",
              "      background-color: #E2EBFA;\n",
              "      box-shadow: 0px 1px 2px rgba(60, 64, 67, 0.3), 0px 1px 3px 1px rgba(60, 64, 67, 0.15);\n",
              "      fill: #174EA6;\n",
              "    }\n",
              "\n",
              "    [theme=dark] .colab-df-convert {\n",
              "      background-color: #3B4455;\n",
              "      fill: #D2E3FC;\n",
              "    }\n",
              "\n",
              "    [theme=dark] .colab-df-convert:hover {\n",
              "      background-color: #434B5C;\n",
              "      box-shadow: 0px 1px 3px 1px rgba(0, 0, 0, 0.15);\n",
              "      filter: drop-shadow(0px 1px 2px rgba(0, 0, 0, 0.3));\n",
              "      fill: #FFFFFF;\n",
              "    }\n",
              "  </style>\n",
              "\n",
              "      <script>\n",
              "        const buttonEl =\n",
              "          document.querySelector('#df-666311fe-bb75-4dba-b0cc-d53e4e80d50c button.colab-df-convert');\n",
              "        buttonEl.style.display =\n",
              "          google.colab.kernel.accessAllowed ? 'block' : 'none';\n",
              "\n",
              "        async function convertToInteractive(key) {\n",
              "          const element = document.querySelector('#df-666311fe-bb75-4dba-b0cc-d53e4e80d50c');\n",
              "          const dataTable =\n",
              "            await google.colab.kernel.invokeFunction('convertToInteractive',\n",
              "                                                     [key], {});\n",
              "          if (!dataTable) return;\n",
              "\n",
              "          const docLinkHtml = 'Like what you see? Visit the ' +\n",
              "            '<a target=\"_blank\" href=https://colab.research.google.com/notebooks/data_table.ipynb>data table notebook</a>'\n",
              "            + ' to learn more about interactive tables.';\n",
              "          element.innerHTML = '';\n",
              "          dataTable['output_type'] = 'display_data';\n",
              "          await google.colab.output.renderOutput(dataTable, element);\n",
              "          const docLink = document.createElement('div');\n",
              "          docLink.innerHTML = docLinkHtml;\n",
              "          element.appendChild(docLink);\n",
              "        }\n",
              "      </script>\n",
              "    </div>\n",
              "  </div>\n",
              "  "
            ]
          },
          "metadata": {},
          "execution_count": 16
        }
      ]
    },
    {
      "cell_type": "code",
      "source": [
        "X_train=data_train['text_clean']#define variable by new data that cleaned "
      ],
      "metadata": {
        "id": "sv6tO86xo7op"
      },
      "execution_count": null,
      "outputs": []
    },
    {
      "cell_type": "code",
      "source": [
        "from pandas.core.frame import DataFrame\n",
        "DataFrame(X_train)#just show data by dataframe"
      ],
      "metadata": {
        "id": "0qVZ_E-4s_4A",
        "colab": {
          "base_uri": "https://localhost:8080/",
          "height": 423
        },
        "outputId": "21ade92b-575b-4b6b-8320-a158c346c24c"
      },
      "execution_count": null,
      "outputs": [
        {
          "output_type": "execute_result",
          "data": {
            "text/plain": [
              "                                              text_clean\n",
              "0      group of friends began to volunteer at homeles...\n",
              "1      british prime minister theresa may on nerve at...\n",
              "2      in , goodyear released kit that allows ps to b...\n",
              "3      happy birthday , bob barker ! the price is rig...\n",
              "4      obama to nation innocent cops and unarmed youn...\n",
              "...                                                  ...\n",
              "59995  finish sniper simo yh during the invasion of f...\n",
              "59996  nigerian prince scam took from kansas man year...\n",
              "59997  is it safe to smoke marijuana during pregnancy...\n",
              "59998  julius caesar upon realizing that everyone in ...\n",
              "59999  jeff bridges releasing leeping tapes , ? new a...\n",
              "\n",
              "[59768 rows x 1 columns]"
            ],
            "text/html": [
              "\n",
              "  <div id=\"df-4b4577f8-abf3-4435-a238-7588bd510540\">\n",
              "    <div class=\"colab-df-container\">\n",
              "      <div>\n",
              "<style scoped>\n",
              "    .dataframe tbody tr th:only-of-type {\n",
              "        vertical-align: middle;\n",
              "    }\n",
              "\n",
              "    .dataframe tbody tr th {\n",
              "        vertical-align: top;\n",
              "    }\n",
              "\n",
              "    .dataframe thead th {\n",
              "        text-align: right;\n",
              "    }\n",
              "</style>\n",
              "<table border=\"1\" class=\"dataframe\">\n",
              "  <thead>\n",
              "    <tr style=\"text-align: right;\">\n",
              "      <th></th>\n",
              "      <th>text_clean</th>\n",
              "    </tr>\n",
              "  </thead>\n",
              "  <tbody>\n",
              "    <tr>\n",
              "      <th>0</th>\n",
              "      <td>group of friends began to volunteer at homeles...</td>\n",
              "    </tr>\n",
              "    <tr>\n",
              "      <th>1</th>\n",
              "      <td>british prime minister theresa may on nerve at...</td>\n",
              "    </tr>\n",
              "    <tr>\n",
              "      <th>2</th>\n",
              "      <td>in , goodyear released kit that allows ps to b...</td>\n",
              "    </tr>\n",
              "    <tr>\n",
              "      <th>3</th>\n",
              "      <td>happy birthday , bob barker ! the price is rig...</td>\n",
              "    </tr>\n",
              "    <tr>\n",
              "      <th>4</th>\n",
              "      <td>obama to nation innocent cops and unarmed youn...</td>\n",
              "    </tr>\n",
              "    <tr>\n",
              "      <th>...</th>\n",
              "      <td>...</td>\n",
              "    </tr>\n",
              "    <tr>\n",
              "      <th>59995</th>\n",
              "      <td>finish sniper simo yh during the invasion of f...</td>\n",
              "    </tr>\n",
              "    <tr>\n",
              "      <th>59996</th>\n",
              "      <td>nigerian prince scam took from kansas man year...</td>\n",
              "    </tr>\n",
              "    <tr>\n",
              "      <th>59997</th>\n",
              "      <td>is it safe to smoke marijuana during pregnancy...</td>\n",
              "    </tr>\n",
              "    <tr>\n",
              "      <th>59998</th>\n",
              "      <td>julius caesar upon realizing that everyone in ...</td>\n",
              "    </tr>\n",
              "    <tr>\n",
              "      <th>59999</th>\n",
              "      <td>jeff bridges releasing leeping tapes , ? new a...</td>\n",
              "    </tr>\n",
              "  </tbody>\n",
              "</table>\n",
              "<p>59768 rows × 1 columns</p>\n",
              "</div>\n",
              "      <button class=\"colab-df-convert\" onclick=\"convertToInteractive('df-4b4577f8-abf3-4435-a238-7588bd510540')\"\n",
              "              title=\"Convert this dataframe to an interactive table.\"\n",
              "              style=\"display:none;\">\n",
              "        \n",
              "  <svg xmlns=\"http://www.w3.org/2000/svg\" height=\"24px\"viewBox=\"0 0 24 24\"\n",
              "       width=\"24px\">\n",
              "    <path d=\"M0 0h24v24H0V0z\" fill=\"none\"/>\n",
              "    <path d=\"M18.56 5.44l.94 2.06.94-2.06 2.06-.94-2.06-.94-.94-2.06-.94 2.06-2.06.94zm-11 1L8.5 8.5l.94-2.06 2.06-.94-2.06-.94L8.5 2.5l-.94 2.06-2.06.94zm10 10l.94 2.06.94-2.06 2.06-.94-2.06-.94-.94-2.06-.94 2.06-2.06.94z\"/><path d=\"M17.41 7.96l-1.37-1.37c-.4-.4-.92-.59-1.43-.59-.52 0-1.04.2-1.43.59L10.3 9.45l-7.72 7.72c-.78.78-.78 2.05 0 2.83L4 21.41c.39.39.9.59 1.41.59.51 0 1.02-.2 1.41-.59l7.78-7.78 2.81-2.81c.8-.78.8-2.07 0-2.86zM5.41 20L4 18.59l7.72-7.72 1.47 1.35L5.41 20z\"/>\n",
              "  </svg>\n",
              "      </button>\n",
              "      \n",
              "  <style>\n",
              "    .colab-df-container {\n",
              "      display:flex;\n",
              "      flex-wrap:wrap;\n",
              "      gap: 12px;\n",
              "    }\n",
              "\n",
              "    .colab-df-convert {\n",
              "      background-color: #E8F0FE;\n",
              "      border: none;\n",
              "      border-radius: 50%;\n",
              "      cursor: pointer;\n",
              "      display: none;\n",
              "      fill: #1967D2;\n",
              "      height: 32px;\n",
              "      padding: 0 0 0 0;\n",
              "      width: 32px;\n",
              "    }\n",
              "\n",
              "    .colab-df-convert:hover {\n",
              "      background-color: #E2EBFA;\n",
              "      box-shadow: 0px 1px 2px rgba(60, 64, 67, 0.3), 0px 1px 3px 1px rgba(60, 64, 67, 0.15);\n",
              "      fill: #174EA6;\n",
              "    }\n",
              "\n",
              "    [theme=dark] .colab-df-convert {\n",
              "      background-color: #3B4455;\n",
              "      fill: #D2E3FC;\n",
              "    }\n",
              "\n",
              "    [theme=dark] .colab-df-convert:hover {\n",
              "      background-color: #434B5C;\n",
              "      box-shadow: 0px 1px 3px 1px rgba(0, 0, 0, 0.15);\n",
              "      filter: drop-shadow(0px 1px 2px rgba(0, 0, 0, 0.3));\n",
              "      fill: #FFFFFF;\n",
              "    }\n",
              "  </style>\n",
              "\n",
              "      <script>\n",
              "        const buttonEl =\n",
              "          document.querySelector('#df-4b4577f8-abf3-4435-a238-7588bd510540 button.colab-df-convert');\n",
              "        buttonEl.style.display =\n",
              "          google.colab.kernel.accessAllowed ? 'block' : 'none';\n",
              "\n",
              "        async function convertToInteractive(key) {\n",
              "          const element = document.querySelector('#df-4b4577f8-abf3-4435-a238-7588bd510540');\n",
              "          const dataTable =\n",
              "            await google.colab.kernel.invokeFunction('convertToInteractive',\n",
              "                                                     [key], {});\n",
              "          if (!dataTable) return;\n",
              "\n",
              "          const docLinkHtml = 'Like what you see? Visit the ' +\n",
              "            '<a target=\"_blank\" href=https://colab.research.google.com/notebooks/data_table.ipynb>data table notebook</a>'\n",
              "            + ' to learn more about interactive tables.';\n",
              "          element.innerHTML = '';\n",
              "          dataTable['output_type'] = 'display_data';\n",
              "          await google.colab.output.renderOutput(dataTable, element);\n",
              "          const docLink = document.createElement('div');\n",
              "          docLink.innerHTML = docLinkHtml;\n",
              "          element.appendChild(docLink);\n",
              "        }\n",
              "      </script>\n",
              "    </div>\n",
              "  </div>\n",
              "  "
            ]
          },
          "metadata": {},
          "execution_count": 18
        }
      ]
    },
    {
      "cell_type": "markdown",
      "source": [
        "## **Split and validationset**"
      ],
      "metadata": {
        "id": "dPkoVSCItMs3"
      }
    },
    {
      "cell_type": "code",
      "source": [
        "X_train1, X_test, y_train1, y_test = train_test_split(X_train, y_train, test_size=0.33, random_state=42)#split data to ttrain and validation "
      ],
      "metadata": {
        "id": "ekm6mv3VtCYh"
      },
      "execution_count": null,
      "outputs": []
    },
    {
      "cell_type": "code",
      "source": [
        "# Further split the original training set to a train and a validation set\n",
        "X_train2, X_val, y_train2, y_val = train_test_split(\n",
        "    X_train1, y_train1, train_size = 0.8, stratify = y_train1, random_state = 2022)"
      ],
      "metadata": {
        "id": "5Pf9Q2JZtQiw"
      },
      "execution_count": null,
      "outputs": []
    },
    {
      "cell_type": "code",
      "source": [
        "from sklearn.model_selection import train_test_split, GridSearchCV\n",
        "from sklearn.model_selection import PredefinedSplit\n",
        "\n",
        "# Create a list where train data indices are -1 and validation data indices are 0\n",
        "# X_train2 (new training set), X_train\n",
        "split_index = [-1 if x in X_train2.index else 0 for x in X_train.index]\n",
        "# Use the list to create PredefinedSplit\n",
        "pds = PredefinedSplit(test_fold = split_index)"
      ],
      "metadata": {
        "id": "H2HmjILutTIg"
      },
      "execution_count": null,
      "outputs": []
    },
    {
      "cell_type": "code",
      "source": [
        "#TF-IDF are word frequency scores that try to highlight words that are more interesting\n",
        "vectorizer = TfidfVectorizer(\n",
        "    analyzer=\"word\", max_df=0.6, min_df=10, ngram_range=(1, 2),\n",
        ")"
      ],
      "metadata": {
        "id": "qUeQ8Ijc-J4Y"
      },
      "execution_count": null,
      "outputs": []
    },
    {
      "cell_type": "code",
      "source": [
        "vectorizer.fit(X_train)#fit text to apply vectorization"
      ],
      "metadata": {
        "id": "FdpifloetVsh",
        "colab": {
          "base_uri": "https://localhost:8080/"
        },
        "outputId": "caae2c8c-8c38-4d18-ade3-50ec8f18f4ba"
      },
      "execution_count": null,
      "outputs": [
        {
          "output_type": "execute_result",
          "data": {
            "text/plain": [
              "TfidfVectorizer(max_df=0.6, min_df=10, ngram_range=(1, 2))"
            ]
          },
          "metadata": {},
          "execution_count": 23
        }
      ]
    },
    {
      "cell_type": "code",
      "source": [
        "X_train_transformed = vectorizer.transform(X_train)#apply transform"
      ],
      "metadata": {
        "id": "aElEp31ZtaJQ"
      },
      "execution_count": null,
      "outputs": []
    },
    {
      "cell_type": "code",
      "source": [
        "print('X_train_transformed', X_train_transformed.shape)\n",
        "print('y_train', y_train.shape)"
      ],
      "metadata": {
        "id": "yza6_J6ktfvA",
        "colab": {
          "base_uri": "https://localhost:8080/"
        },
        "outputId": "5ed15881-4509-4aba-d507-95e27f4bd8da"
      },
      "execution_count": null,
      "outputs": [
        {
          "output_type": "stream",
          "name": "stdout",
          "text": [
            "X_train_transformed (59768, 21030)\n",
            "y_train (59768,)\n"
          ]
        }
      ]
    },
    {
      "cell_type": "code",
      "source": [
        "%%time\n",
        "from sklearn.linear_model import LogisticRegression#classifier for train the data \n",
        "from sklearn.model_selection import train_test_split, RandomizedSearchCV\n",
        "#use pipline and gridsearch to tuning hyperparameter \n",
        "pipe_Log_reg =  Pipeline([(\"Log_reg\", LogisticRegression())])\n",
        "params = {\n",
        "          'Log_reg__penalty': ['l2'],#l2 regularization\n",
        "          'Log_reg__C' : [0.6,0.9,1,1.3,1.4,1.6],#The parameter C is the the inverse of regularization strength in Logistic Regression\n",
        "          'Log_reg__class_weight': ['balanced',None],\n",
        "          'Log_reg__solver': ['newton-cg', 'lbfgs', 'liblinear', 'sag', 'saga']\n",
        "          }\n",
        "param_grid  = GridSearchCV(\n",
        "    pipe_Log_reg, params, cv=pds, verbose=1, n_jobs=2, \n",
        "    scoring='roc_auc')\n",
        "#fit X_train and y_train\n",
        "param_grid.fit(X_train_transformed,y_train)\n",
        "#print best score\n",
        "print(f'Best_score = {param_grid.best_score_}')\n",
        "#print best Params\n",
        "print(f'Best_params = {param_grid.best_params_}')"
      ],
      "metadata": {
        "id": "rS9x5Z6ptjqg",
        "colab": {
          "base_uri": "https://localhost:8080/"
        },
        "outputId": "1e24ee6c-3fa9-4f87-be50-9e2216e19946"
      },
      "execution_count": null,
      "outputs": [
        {
          "output_type": "stream",
          "name": "stdout",
          "text": [
            "Fitting 1 folds for each of 60 candidates, totalling 60 fits\n",
            "Best_score = 0.8879981495788997\n",
            "Best_params = {'Log_reg__C': 1.6, 'Log_reg__class_weight': 'balanced', 'Log_reg__penalty': 'l2', 'Log_reg__solver': 'liblinear'}\n",
            "CPU times: user 2.59 s, sys: 1.17 s, total: 3.76 s\n",
            "Wall time: 38.6 s\n"
          ]
        }
      ]
    },
    {
      "cell_type": "markdown",
      "source": [
        "\n",
        "\n",
        "---"
      ],
      "metadata": {
        "id": "CLZgUS4fF5Ka"
      }
    },
    {
      "cell_type": "markdown",
      "source": [
        "## **Test Data**"
      ],
      "metadata": {
        "id": "VNJJ5M3NuHAo"
      }
    },
    {
      "cell_type": "code",
      "source": [
        "# Read raw of train data\n",
        "FILE_REVIEWS = \"x_test.csv\"\n",
        "df = pd.read_csv(FILE_REVIEWS)\n",
        "df"
      ],
      "metadata": {
        "id": "ees7N28RtsQg",
        "colab": {
          "base_uri": "https://localhost:8080/",
          "height": 423
        },
        "outputId": "8afb0dda-afcf-4c63-b7be-3ef300922e53"
      },
      "execution_count": null,
      "outputs": [
        {
          "output_type": "execute_result",
          "data": {
            "text/plain": [
              "          id                                               text\n",
              "0          0                                         stargazer \n",
              "1          1                                               yeah\n",
              "2          2  PD: Phoenix car thief gets instructions from Y...\n",
              "3          3  As Trump Accuses Iran, He Has One Problem: His...\n",
              "4          4                       \"Believers\" - Hezbollah 2011\n",
              "...      ...                                                ...\n",
              "59146  59146                  Bicycle taxi drivers of New Delhi\n",
              "59147  59147  Trump blows up GOP's formula for winning House...\n",
              "59148  59148  Napoleon returns from his exile on the island ...\n",
              "59149  59149   Deep down he always wanted to be a ballet dancer\n",
              "59150  59150  Toddler miraculously survives 6-story fall lan...\n",
              "\n",
              "[59151 rows x 2 columns]"
            ],
            "text/html": [
              "\n",
              "  <div id=\"df-bf79845c-8e1c-49c8-a1a3-a210e419758f\">\n",
              "    <div class=\"colab-df-container\">\n",
              "      <div>\n",
              "<style scoped>\n",
              "    .dataframe tbody tr th:only-of-type {\n",
              "        vertical-align: middle;\n",
              "    }\n",
              "\n",
              "    .dataframe tbody tr th {\n",
              "        vertical-align: top;\n",
              "    }\n",
              "\n",
              "    .dataframe thead th {\n",
              "        text-align: right;\n",
              "    }\n",
              "</style>\n",
              "<table border=\"1\" class=\"dataframe\">\n",
              "  <thead>\n",
              "    <tr style=\"text-align: right;\">\n",
              "      <th></th>\n",
              "      <th>id</th>\n",
              "      <th>text</th>\n",
              "    </tr>\n",
              "  </thead>\n",
              "  <tbody>\n",
              "    <tr>\n",
              "      <th>0</th>\n",
              "      <td>0</td>\n",
              "      <td>stargazer</td>\n",
              "    </tr>\n",
              "    <tr>\n",
              "      <th>1</th>\n",
              "      <td>1</td>\n",
              "      <td>yeah</td>\n",
              "    </tr>\n",
              "    <tr>\n",
              "      <th>2</th>\n",
              "      <td>2</td>\n",
              "      <td>PD: Phoenix car thief gets instructions from Y...</td>\n",
              "    </tr>\n",
              "    <tr>\n",
              "      <th>3</th>\n",
              "      <td>3</td>\n",
              "      <td>As Trump Accuses Iran, He Has One Problem: His...</td>\n",
              "    </tr>\n",
              "    <tr>\n",
              "      <th>4</th>\n",
              "      <td>4</td>\n",
              "      <td>\"Believers\" - Hezbollah 2011</td>\n",
              "    </tr>\n",
              "    <tr>\n",
              "      <th>...</th>\n",
              "      <td>...</td>\n",
              "      <td>...</td>\n",
              "    </tr>\n",
              "    <tr>\n",
              "      <th>59146</th>\n",
              "      <td>59146</td>\n",
              "      <td>Bicycle taxi drivers of New Delhi</td>\n",
              "    </tr>\n",
              "    <tr>\n",
              "      <th>59147</th>\n",
              "      <td>59147</td>\n",
              "      <td>Trump blows up GOP's formula for winning House...</td>\n",
              "    </tr>\n",
              "    <tr>\n",
              "      <th>59148</th>\n",
              "      <td>59148</td>\n",
              "      <td>Napoleon returns from his exile on the island ...</td>\n",
              "    </tr>\n",
              "    <tr>\n",
              "      <th>59149</th>\n",
              "      <td>59149</td>\n",
              "      <td>Deep down he always wanted to be a ballet dancer</td>\n",
              "    </tr>\n",
              "    <tr>\n",
              "      <th>59150</th>\n",
              "      <td>59150</td>\n",
              "      <td>Toddler miraculously survives 6-story fall lan...</td>\n",
              "    </tr>\n",
              "  </tbody>\n",
              "</table>\n",
              "<p>59151 rows × 2 columns</p>\n",
              "</div>\n",
              "      <button class=\"colab-df-convert\" onclick=\"convertToInteractive('df-bf79845c-8e1c-49c8-a1a3-a210e419758f')\"\n",
              "              title=\"Convert this dataframe to an interactive table.\"\n",
              "              style=\"display:none;\">\n",
              "        \n",
              "  <svg xmlns=\"http://www.w3.org/2000/svg\" height=\"24px\"viewBox=\"0 0 24 24\"\n",
              "       width=\"24px\">\n",
              "    <path d=\"M0 0h24v24H0V0z\" fill=\"none\"/>\n",
              "    <path d=\"M18.56 5.44l.94 2.06.94-2.06 2.06-.94-2.06-.94-.94-2.06-.94 2.06-2.06.94zm-11 1L8.5 8.5l.94-2.06 2.06-.94-2.06-.94L8.5 2.5l-.94 2.06-2.06.94zm10 10l.94 2.06.94-2.06 2.06-.94-2.06-.94-.94-2.06-.94 2.06-2.06.94z\"/><path d=\"M17.41 7.96l-1.37-1.37c-.4-.4-.92-.59-1.43-.59-.52 0-1.04.2-1.43.59L10.3 9.45l-7.72 7.72c-.78.78-.78 2.05 0 2.83L4 21.41c.39.39.9.59 1.41.59.51 0 1.02-.2 1.41-.59l7.78-7.78 2.81-2.81c.8-.78.8-2.07 0-2.86zM5.41 20L4 18.59l7.72-7.72 1.47 1.35L5.41 20z\"/>\n",
              "  </svg>\n",
              "      </button>\n",
              "      \n",
              "  <style>\n",
              "    .colab-df-container {\n",
              "      display:flex;\n",
              "      flex-wrap:wrap;\n",
              "      gap: 12px;\n",
              "    }\n",
              "\n",
              "    .colab-df-convert {\n",
              "      background-color: #E8F0FE;\n",
              "      border: none;\n",
              "      border-radius: 50%;\n",
              "      cursor: pointer;\n",
              "      display: none;\n",
              "      fill: #1967D2;\n",
              "      height: 32px;\n",
              "      padding: 0 0 0 0;\n",
              "      width: 32px;\n",
              "    }\n",
              "\n",
              "    .colab-df-convert:hover {\n",
              "      background-color: #E2EBFA;\n",
              "      box-shadow: 0px 1px 2px rgba(60, 64, 67, 0.3), 0px 1px 3px 1px rgba(60, 64, 67, 0.15);\n",
              "      fill: #174EA6;\n",
              "    }\n",
              "\n",
              "    [theme=dark] .colab-df-convert {\n",
              "      background-color: #3B4455;\n",
              "      fill: #D2E3FC;\n",
              "    }\n",
              "\n",
              "    [theme=dark] .colab-df-convert:hover {\n",
              "      background-color: #434B5C;\n",
              "      box-shadow: 0px 1px 3px 1px rgba(0, 0, 0, 0.15);\n",
              "      filter: drop-shadow(0px 1px 2px rgba(0, 0, 0, 0.3));\n",
              "      fill: #FFFFFF;\n",
              "    }\n",
              "  </style>\n",
              "\n",
              "      <script>\n",
              "        const buttonEl =\n",
              "          document.querySelector('#df-bf79845c-8e1c-49c8-a1a3-a210e419758f button.colab-df-convert');\n",
              "        buttonEl.style.display =\n",
              "          google.colab.kernel.accessAllowed ? 'block' : 'none';\n",
              "\n",
              "        async function convertToInteractive(key) {\n",
              "          const element = document.querySelector('#df-bf79845c-8e1c-49c8-a1a3-a210e419758f');\n",
              "          const dataTable =\n",
              "            await google.colab.kernel.invokeFunction('convertToInteractive',\n",
              "                                                     [key], {});\n",
              "          if (!dataTable) return;\n",
              "\n",
              "          const docLinkHtml = 'Like what you see? Visit the ' +\n",
              "            '<a target=\"_blank\" href=https://colab.research.google.com/notebooks/data_table.ipynb>data table notebook</a>'\n",
              "            + ' to learn more about interactive tables.';\n",
              "          element.innerHTML = '';\n",
              "          dataTable['output_type'] = 'display_data';\n",
              "          await google.colab.output.renderOutput(dataTable, element);\n",
              "          const docLink = document.createElement('div');\n",
              "          docLink.innerHTML = docLinkHtml;\n",
              "          element.appendChild(docLink);\n",
              "        }\n",
              "      </script>\n",
              "    </div>\n",
              "  </div>\n",
              "  "
            ]
          },
          "metadata": {},
          "execution_count": 27
        }
      ]
    },
    {
      "cell_type": "code",
      "source": [
        "data_test=df.copy()#copy data from original file "
      ],
      "metadata": {
        "id": "GPOHmZCGuNFQ"
      },
      "execution_count": null,
      "outputs": []
    },
    {
      "cell_type": "code",
      "source": [
        "data_test=data_test.drop(['id'],axis=1)#drop id columns "
      ],
      "metadata": {
        "id": "-OfJgUa1uaDQ"
      },
      "execution_count": null,
      "outputs": []
    },
    {
      "cell_type": "code",
      "source": [
        "data_test.isnull().sum()#check null values"
      ],
      "metadata": {
        "id": "M0EUQXalumHC",
        "colab": {
          "base_uri": "https://localhost:8080/"
        },
        "outputId": "4a8bd762-66af-49e8-f4ff-a1ff8f9a664e"
      },
      "execution_count": null,
      "outputs": [
        {
          "output_type": "execute_result",
          "data": {
            "text/plain": [
              "text    0\n",
              "dtype: int64"
            ]
          },
          "metadata": {},
          "execution_count": 30
        }
      ]
    },
    {
      "cell_type": "code",
      "source": [
        "data_test['text_clean'] = data_test['text'].apply(text_clean)#apply func text_clean on test data "
      ],
      "metadata": {
        "id": "buhBEyBvumyg"
      },
      "execution_count": null,
      "outputs": []
    },
    {
      "cell_type": "code",
      "source": [
        "X_test=data_test['text_clean']#assign the new data to variable"
      ],
      "metadata": {
        "id": "58JzTa4nuzo7"
      },
      "execution_count": null,
      "outputs": []
    },
    {
      "cell_type": "code",
      "source": [
        "DataFrame(X_test)#just show the data "
      ],
      "metadata": {
        "id": "ulCknOQuu4O6",
        "colab": {
          "base_uri": "https://localhost:8080/",
          "height": 423
        },
        "outputId": "f1d3196b-d6d0-4f00-8f2f-e454a917c71a"
      },
      "execution_count": null,
      "outputs": [
        {
          "output_type": "execute_result",
          "data": {
            "text/plain": [
              "                                              text_clean\n",
              "0                                              stargazer\n",
              "1                                                   yeah\n",
              "2      pd phoenix car thief gets instructions from yo...\n",
              "3      as trump accuses iran , he has one problem his...\n",
              "4                                    believers hezbollah\n",
              "...                                                  ...\n",
              "59146                  bicycle taxi drivers of new delhi\n",
              "59147  trump blows up gop formula for winning house r...\n",
              "59148  napoleon returns from his exile on the island ...\n",
              "59149     deep down he always wanted to be ballet dancer\n",
              "59150  toddler miraculously survives story fall landi...\n",
              "\n",
              "[59151 rows x 1 columns]"
            ],
            "text/html": [
              "\n",
              "  <div id=\"df-364451c7-f896-4f79-97a0-7f5af4ceb018\">\n",
              "    <div class=\"colab-df-container\">\n",
              "      <div>\n",
              "<style scoped>\n",
              "    .dataframe tbody tr th:only-of-type {\n",
              "        vertical-align: middle;\n",
              "    }\n",
              "\n",
              "    .dataframe tbody tr th {\n",
              "        vertical-align: top;\n",
              "    }\n",
              "\n",
              "    .dataframe thead th {\n",
              "        text-align: right;\n",
              "    }\n",
              "</style>\n",
              "<table border=\"1\" class=\"dataframe\">\n",
              "  <thead>\n",
              "    <tr style=\"text-align: right;\">\n",
              "      <th></th>\n",
              "      <th>text_clean</th>\n",
              "    </tr>\n",
              "  </thead>\n",
              "  <tbody>\n",
              "    <tr>\n",
              "      <th>0</th>\n",
              "      <td>stargazer</td>\n",
              "    </tr>\n",
              "    <tr>\n",
              "      <th>1</th>\n",
              "      <td>yeah</td>\n",
              "    </tr>\n",
              "    <tr>\n",
              "      <th>2</th>\n",
              "      <td>pd phoenix car thief gets instructions from yo...</td>\n",
              "    </tr>\n",
              "    <tr>\n",
              "      <th>3</th>\n",
              "      <td>as trump accuses iran , he has one problem his...</td>\n",
              "    </tr>\n",
              "    <tr>\n",
              "      <th>4</th>\n",
              "      <td>believers hezbollah</td>\n",
              "    </tr>\n",
              "    <tr>\n",
              "      <th>...</th>\n",
              "      <td>...</td>\n",
              "    </tr>\n",
              "    <tr>\n",
              "      <th>59146</th>\n",
              "      <td>bicycle taxi drivers of new delhi</td>\n",
              "    </tr>\n",
              "    <tr>\n",
              "      <th>59147</th>\n",
              "      <td>trump blows up gop formula for winning house r...</td>\n",
              "    </tr>\n",
              "    <tr>\n",
              "      <th>59148</th>\n",
              "      <td>napoleon returns from his exile on the island ...</td>\n",
              "    </tr>\n",
              "    <tr>\n",
              "      <th>59149</th>\n",
              "      <td>deep down he always wanted to be ballet dancer</td>\n",
              "    </tr>\n",
              "    <tr>\n",
              "      <th>59150</th>\n",
              "      <td>toddler miraculously survives story fall landi...</td>\n",
              "    </tr>\n",
              "  </tbody>\n",
              "</table>\n",
              "<p>59151 rows × 1 columns</p>\n",
              "</div>\n",
              "      <button class=\"colab-df-convert\" onclick=\"convertToInteractive('df-364451c7-f896-4f79-97a0-7f5af4ceb018')\"\n",
              "              title=\"Convert this dataframe to an interactive table.\"\n",
              "              style=\"display:none;\">\n",
              "        \n",
              "  <svg xmlns=\"http://www.w3.org/2000/svg\" height=\"24px\"viewBox=\"0 0 24 24\"\n",
              "       width=\"24px\">\n",
              "    <path d=\"M0 0h24v24H0V0z\" fill=\"none\"/>\n",
              "    <path d=\"M18.56 5.44l.94 2.06.94-2.06 2.06-.94-2.06-.94-.94-2.06-.94 2.06-2.06.94zm-11 1L8.5 8.5l.94-2.06 2.06-.94-2.06-.94L8.5 2.5l-.94 2.06-2.06.94zm10 10l.94 2.06.94-2.06 2.06-.94-2.06-.94-.94-2.06-.94 2.06-2.06.94z\"/><path d=\"M17.41 7.96l-1.37-1.37c-.4-.4-.92-.59-1.43-.59-.52 0-1.04.2-1.43.59L10.3 9.45l-7.72 7.72c-.78.78-.78 2.05 0 2.83L4 21.41c.39.39.9.59 1.41.59.51 0 1.02-.2 1.41-.59l7.78-7.78 2.81-2.81c.8-.78.8-2.07 0-2.86zM5.41 20L4 18.59l7.72-7.72 1.47 1.35L5.41 20z\"/>\n",
              "  </svg>\n",
              "      </button>\n",
              "      \n",
              "  <style>\n",
              "    .colab-df-container {\n",
              "      display:flex;\n",
              "      flex-wrap:wrap;\n",
              "      gap: 12px;\n",
              "    }\n",
              "\n",
              "    .colab-df-convert {\n",
              "      background-color: #E8F0FE;\n",
              "      border: none;\n",
              "      border-radius: 50%;\n",
              "      cursor: pointer;\n",
              "      display: none;\n",
              "      fill: #1967D2;\n",
              "      height: 32px;\n",
              "      padding: 0 0 0 0;\n",
              "      width: 32px;\n",
              "    }\n",
              "\n",
              "    .colab-df-convert:hover {\n",
              "      background-color: #E2EBFA;\n",
              "      box-shadow: 0px 1px 2px rgba(60, 64, 67, 0.3), 0px 1px 3px 1px rgba(60, 64, 67, 0.15);\n",
              "      fill: #174EA6;\n",
              "    }\n",
              "\n",
              "    [theme=dark] .colab-df-convert {\n",
              "      background-color: #3B4455;\n",
              "      fill: #D2E3FC;\n",
              "    }\n",
              "\n",
              "    [theme=dark] .colab-df-convert:hover {\n",
              "      background-color: #434B5C;\n",
              "      box-shadow: 0px 1px 3px 1px rgba(0, 0, 0, 0.15);\n",
              "      filter: drop-shadow(0px 1px 2px rgba(0, 0, 0, 0.3));\n",
              "      fill: #FFFFFF;\n",
              "    }\n",
              "  </style>\n",
              "\n",
              "      <script>\n",
              "        const buttonEl =\n",
              "          document.querySelector('#df-364451c7-f896-4f79-97a0-7f5af4ceb018 button.colab-df-convert');\n",
              "        buttonEl.style.display =\n",
              "          google.colab.kernel.accessAllowed ? 'block' : 'none';\n",
              "\n",
              "        async function convertToInteractive(key) {\n",
              "          const element = document.querySelector('#df-364451c7-f896-4f79-97a0-7f5af4ceb018');\n",
              "          const dataTable =\n",
              "            await google.colab.kernel.invokeFunction('convertToInteractive',\n",
              "                                                     [key], {});\n",
              "          if (!dataTable) return;\n",
              "\n",
              "          const docLinkHtml = 'Like what you see? Visit the ' +\n",
              "            '<a target=\"_blank\" href=https://colab.research.google.com/notebooks/data_table.ipynb>data table notebook</a>'\n",
              "            + ' to learn more about interactive tables.';\n",
              "          element.innerHTML = '';\n",
              "          dataTable['output_type'] = 'display_data';\n",
              "          await google.colab.output.renderOutput(dataTable, element);\n",
              "          const docLink = document.createElement('div');\n",
              "          docLink.innerHTML = docLinkHtml;\n",
              "          element.appendChild(docLink);\n",
              "        }\n",
              "      </script>\n",
              "    </div>\n",
              "  </div>\n",
              "  "
            ]
          },
          "metadata": {},
          "execution_count": 33
        }
      ]
    },
    {
      "cell_type": "code",
      "source": [
        "X_test_transformed = vectorizer.transform(X_test)#apply vectorization on test data "
      ],
      "metadata": {
        "id": "Fs1o73i0u6Sw"
      },
      "execution_count": null,
      "outputs": []
    },
    {
      "cell_type": "code",
      "source": [
        "print('X_test_transformed', X_test_transformed.shape)#check shape of test data "
      ],
      "metadata": {
        "id": "jC0ace78u9jA",
        "colab": {
          "base_uri": "https://localhost:8080/"
        },
        "outputId": "e970c444-2b60-4004-b4fb-aecab61577de"
      },
      "execution_count": null,
      "outputs": [
        {
          "output_type": "stream",
          "name": "stdout",
          "text": [
            "X_test_transformed (59151, 21030)\n"
          ]
        }
      ]
    },
    {
      "cell_type": "code",
      "source": [
        "y_pred=param_grid.predict_proba(X_test_transformed)#predict yhat"
      ],
      "metadata": {
        "id": "_1iWGOhivAOw"
      },
      "execution_count": null,
      "outputs": []
    },
    {
      "cell_type": "code",
      "source": [
        "y_pred"
      ],
      "metadata": {
        "id": "DQyLefgWvCww",
        "colab": {
          "base_uri": "https://localhost:8080/"
        },
        "outputId": "5ecfc584-b301-4e5e-f1ac-bd8d88f4c914"
      },
      "execution_count": null,
      "outputs": [
        {
          "output_type": "execute_result",
          "data": {
            "text/plain": [
              "array([[0.49803348, 0.50196652],\n",
              "       [0.83913674, 0.16086326],\n",
              "       [0.28132142, 0.71867858],\n",
              "       ...,\n",
              "       [0.8956773 , 0.1043227 ],\n",
              "       [0.79407826, 0.20592174],\n",
              "       [0.14170906, 0.85829094]])"
            ]
          },
          "metadata": {},
          "execution_count": 37
        }
      ]
    },
    {
      "cell_type": "code",
      "source": [
        "submission = pd.DataFrame()\n",
        "\n",
        "submission['id'] = df['id']\n",
        "\n",
        "submission['label'] = y_pred[:,1]\n",
        "\n",
        "submission.to_csv('sample_submission_1.csv', index=False)"
      ],
      "metadata": {
        "id": "7pJV5eVwvFw6"
      },
      "execution_count": null,
      "outputs": []
    },
    {
      "cell_type": "markdown",
      "source": [
        "### **OBSERVATION_1**\n",
        "```\n",
        "trail1:\n",
        "1-using grid search tuning \n",
        "2-using validation set and logestic regresion\n",
        "3-using TfidfVectorizer analyzer word \n",
        "when I apply for_embedding=True the score is\n",
        "Private Score: 0.85850\n",
        "Public score: 0.86018\n",
        "when I apply for_embedding=False the score is\n",
        "Private Score:0.83451\n",
        "Public score:0.83231\n",
        "```\n",
        "\n",
        "**hyperparameter of logestic**\n",
        "```\n",
        "1-Penalized logistic regression imposes a penalty to the logistic model \n",
        "for having too many variables. This results in shrinking the \n",
        "coefficients of the less contributive variables toward zero. \n",
        "This is also known as regularization.\n",
        "```\n",
        "\n",
        "\n",
        "```\n",
        "2-A high value of C tells the model to give high weight to the \n",
        "training data, and a lower weight to the complexity penalty\n",
        "```\n",
        "\n",
        "\n",
        "\n",
        "```\n",
        "3-with class_weight=\"balanced\" you capture more true events \n",
        "(higher TRUE recall) but also you are more likely to get false alerts (lower TRUE precision)\n",
        "```\n",
        "\n",
        "\n",
        "\n",
        "```\n",
        "Solver :It's a linear classification that supports logistic regression and \n",
        "linear support vector machines. The solver uses a Coordinate Descent \n",
        "(CD) algorithm that solves optimization problems by successively \n",
        "performing approximate minimization along coordinate directions or \n",
        "coordinate hyperplanes.\n",
        "```\n",
        "\n",
        "\n",
        "\n",
        "\n"
      ],
      "metadata": {
        "id": "QCSKyouNE9jX"
      }
    },
    {
      "cell_type": "markdown",
      "source": [
        "# **Trail_2**"
      ],
      "metadata": {
        "id": "DkgbiCmvGEIg"
      }
    },
    {
      "cell_type": "code",
      "source": [
        "#data before preprocessing\n",
        "X_train=data_train['text_clean']"
      ],
      "metadata": {
        "id": "rWeLR4eyGD1J"
      },
      "execution_count": null,
      "outputs": []
    },
    {
      "cell_type": "markdown",
      "source": [
        "* **Features in Bag of Words**"
      ],
      "metadata": {
        "id": "MRdfsRgMKVy5"
      }
    },
    {
      "cell_type": "markdown",
      "source": [
        "* `N-grams (sets of consecutive words)`\n",
        "* `N=2`\n",
        "*` Min_df ignores terms that have a document frequency (presence in % of documents).`\n",
        "* `min_df is used to limit the vocabulary size, so it learns only those terms that appear in at least 10%, 20%, etc. of the documents`\n",
        "*`When building the vocabulary, it ignores terms that have a document frequency strictly higher than the given threshold. This could be used to exclude terms that are too frequent and are unlikely to help predict the label.`\n",
        "* `Max_features :Limit the amount of features (vocabulary) that the vectorizer will learn`"
      ],
      "metadata": {
        "id": "2Upi8Je4Ly3t"
      }
    },
    {
      "cell_type": "code",
      "source": [
        "from sklearn.feature_extraction.text import CountVectorizer\n",
        "# Initialize a CountVectorizer object: count_vectorizer\n",
        "Count_vec = CountVectorizer(stop_words=\"english\", analyzer='word', \n",
        "                            ngram_range=(1, 2),max_df=0.3, min_df=10, max_features=None,strip_accents='unicode',token_pattern=r'\\w{2,}')"
      ],
      "metadata": {
        "id": "MkgDf9WUGO8x"
      },
      "execution_count": null,
      "outputs": []
    },
    {
      "cell_type": "code",
      "source": [
        "# Transforms the data into a bag of words\n",
        "Count_train = Count_vec.fit(X_train)\n",
        "X_train_trans= Count_vec.transform(X_train)"
      ],
      "metadata": {
        "id": "5dYqotE6Kj0j"
      },
      "execution_count": null,
      "outputs": []
    },
    {
      "cell_type": "code",
      "source": [
        "print('X_train_transformed', X_train_trans.shape)\n",
        "print('y_train', y_train.shape)"
      ],
      "metadata": {
        "id": "8mJd2dkgLZDf",
        "colab": {
          "base_uri": "https://localhost:8080/"
        },
        "outputId": "f875d5ab-0970-4fbe-9cd1-c0d982c9ab5e"
      },
      "execution_count": null,
      "outputs": [
        {
          "output_type": "stream",
          "name": "stdout",
          "text": [
            "X_train_transformed (59768, 11393)\n",
            "y_train (59768,)\n"
          ]
        }
      ]
    },
    {
      "cell_type": "markdown",
      "source": [
        "* `Use log_reg for modeling`"
      ],
      "metadata": {
        "id": "JiAtJCyuQLAx"
      }
    },
    {
      "cell_type": "code",
      "source": [
        "%%time\n",
        "pipe_Log_reg =  Pipeline([(\"Log_reg\", LogisticRegression())])\n",
        "params = {\n",
        "          'Log_reg__penalty': ['l2'],\n",
        "          'Log_reg__C' : [0.8],\n",
        "          'Log_reg__class_weight': ['balanced',None],\n",
        "          'Log_reg__solver': ['newton-cg', 'lbfgs', 'liblinear', 'sag', 'saga']\n",
        "          }\n",
        "param_grid  = GridSearchCV(\n",
        "    pipe_Log_reg, params, cv=10, verbose=1, n_jobs=2, \n",
        "    scoring='roc_auc')\n",
        "#fit X_train and y_train\n",
        "param_grid.fit(X_train_trans,y_train)\n",
        "print(f'Best_score = {param_grid.best_score_}')\n",
        "print(f'Best_params = {param_grid.best_params_}')"
      ],
      "metadata": {
        "id": "NLlTxFdbP6wZ",
        "colab": {
          "base_uri": "https://localhost:8080/"
        },
        "outputId": "77f650bf-8854-43ae-ff8d-f6b436059505"
      },
      "execution_count": null,
      "outputs": [
        {
          "output_type": "stream",
          "name": "stdout",
          "text": [
            "Fitting 10 folds for each of 10 candidates, totalling 100 fits\n",
            "Best_score = 0.8674251391097332\n",
            "Best_params = {'Log_reg__C': 0.8, 'Log_reg__class_weight': 'balanced', 'Log_reg__penalty': 'l2', 'Log_reg__solver': 'liblinear'}\n",
            "CPU times: user 5.76 s, sys: 2.29 s, total: 8.05 s\n",
            "Wall time: 3min 52s\n"
          ]
        }
      ]
    },
    {
      "cell_type": "markdown",
      "source": [
        "**Test Data**"
      ],
      "metadata": {
        "id": "q0h_g_hfRKKh"
      }
    },
    {
      "cell_type": "code",
      "source": [
        "X_test=data_test['text_clean']"
      ],
      "metadata": {
        "id": "yMziLTWGQa6L"
      },
      "execution_count": null,
      "outputs": []
    },
    {
      "cell_type": "code",
      "source": [
        "X_test_trans= Count_vec.transform(X_test)"
      ],
      "metadata": {
        "id": "_cTftUs0RUX5"
      },
      "execution_count": null,
      "outputs": []
    },
    {
      "cell_type": "code",
      "source": [
        "print('X_train_transformed', X_test_trans.shape)"
      ],
      "metadata": {
        "id": "D1beSx4_RaGZ",
        "colab": {
          "base_uri": "https://localhost:8080/"
        },
        "outputId": "28b3b2d6-f12a-4e93-de27-c17cf38a2f3e"
      },
      "execution_count": null,
      "outputs": [
        {
          "output_type": "stream",
          "name": "stdout",
          "text": [
            "X_train_transformed (59151, 11393)\n"
          ]
        }
      ]
    },
    {
      "cell_type": "code",
      "source": [
        "y_pred2=param_grid.predict_proba(X_test_trans)"
      ],
      "metadata": {
        "id": "l1bQCJ1PRjZJ"
      },
      "execution_count": null,
      "outputs": []
    },
    {
      "cell_type": "code",
      "source": [
        "#prediction file\n",
        "submission = pd.DataFrame()\n",
        "\n",
        "submission['id'] = df['id']\n",
        "\n",
        "submission['label'] = y_pred2[:,1]\n",
        "\n",
        "submission.to_csv('sample_submission_2.csv', index=False)"
      ],
      "metadata": {
        "id": "Em77kwKaR1nC"
      },
      "execution_count": null,
      "outputs": []
    },
    {
      "cell_type": "markdown",
      "source": [
        "**OBSERVATION_2**\n",
        "\n",
        "\n",
        "```\n",
        "trail2:\n",
        "1-using grid search tuning \n",
        "2-using cv and logestic regresion\n",
        "3-using CountVectorizer analyzer word \n",
        "when I apply for_embedding=True the score is\n",
        "private Score: 0.81896\n",
        "Public score: 0.82004\n",
        "this mean that TfidfVectorizer is best than CountVectorizer\n",
        "\n",
        "```\n",
        "\n",
        "```\n",
        "CountVectorizer:\n",
        "Convert a collection of text documents to a matrix of token counts. \n",
        "This implementation produces a sparse representation of the counts using scipy\n",
        "```\n",
        "\n",
        "\n",
        "```\n",
        "Which is better CountVectorizer or Tfidfvectorizer?\n",
        "TF-IDF is better than Count Vectorizers because it not only focuses on \n",
        "the frequency of words present in the corpus but also provides the \n",
        "importance of the words. We can then remove the words that are \n",
        "less important for analysis, hence making the model building less \n",
        "complex by reducing the input dimensions\n",
        "```\n",
        "\n",
        "\n",
        "\n",
        "\n",
        "\n"
      ],
      "metadata": {
        "id": "gbc_q2V1af1_"
      }
    },
    {
      "cell_type": "markdown",
      "source": [
        "\n",
        "\n",
        "---"
      ],
      "metadata": {
        "id": "TLd5_cClR-WJ"
      }
    },
    {
      "cell_type": "markdown",
      "source": [
        "#**Trail_3**\n",
        "* `Lemmatizing and stemming gives us a lower ROC-AUC score. So we will only clean \\\\n's, Username, IP and http links`"
      ],
      "metadata": {
        "id": "yzgPT2x0SRAM"
      }
    },
    {
      "cell_type": "code",
      "source": [
        "data_train"
      ],
      "metadata": {
        "id": "S4FYkReeTR5h",
        "colab": {
          "base_uri": "https://localhost:8080/",
          "height": 423
        },
        "outputId": "9ff50388-b62e-4b27-a2d9-b4dcdb154c24"
      },
      "execution_count": null,
      "outputs": [
        {
          "output_type": "execute_result",
          "data": {
            "text/plain": [
              "                                                    text  label  \\\n",
              "0      A group of friends began to volunteer at a hom...      0   \n",
              "1      British Prime Minister @Theresa_May on Nerve A...      0   \n",
              "2      In 1961, Goodyear released a kit that allows P...      0   \n",
              "3      Happy Birthday, Bob Barker! The Price Is Right...      0   \n",
              "4      Obama to Nation: 聙\"Innocent Cops and Unarmed Y...      0   \n",
              "...                                                  ...    ...   \n",
              "59995  Finish Sniper Simo H盲yh盲 during the invasion o...      0   \n",
              "59996  Nigerian Prince Scam took $110K from Kansas ma...      1   \n",
              "59997  Is It Safe To Smoke Marijuana During Pregnancy...      0   \n",
              "59998  Julius Caesar upon realizing that everyone in ...      0   \n",
              "59999  Jeff Bridges Releasing 鈥楽leeping Tapes,鈥?a New...      1   \n",
              "\n",
              "                                              text_clean  \\\n",
              "0      group of friends began to volunteer at homeles...   \n",
              "1      british prime minister theresa may on nerve at...   \n",
              "2      in , goodyear released kit that allows ps to b...   \n",
              "3      happy birthday , bob barker ! the price is rig...   \n",
              "4      obama to nation innocent cops and unarmed youn...   \n",
              "...                                                  ...   \n",
              "59995  finish sniper simo yh during the invasion of f...   \n",
              "59996  nigerian prince scam took from kansas man year...   \n",
              "59997  is it safe to smoke marijuana during pregnancy...   \n",
              "59998  julius caesar upon realizing that everyone in ...   \n",
              "59999  jeff bridges releasing leeping tapes , ? new a...   \n",
              "\n",
              "                                              clean_text  \n",
              "0      group of friends began to volunteer at homeles...  \n",
              "1      british prime minister theresa may on nerve at...  \n",
              "2      in , goodyear released kit that allows ps to b...  \n",
              "3      happy birthday , bob barker ! the price is rig...  \n",
              "4      obama to nation innocent cops and unarmed youn...  \n",
              "...                                                  ...  \n",
              "59995  finish sniper simo yh during the invasion of f...  \n",
              "59996  nigerian prince scam took from kansas man year...  \n",
              "59997  is it safe to smoke marijuana during pregnancy...  \n",
              "59998  julius caesar upon realizing that everyone in ...  \n",
              "59999  jeff bridges releasing leeping tapes , ? new a...  \n",
              "\n",
              "[59768 rows x 4 columns]"
            ],
            "text/html": [
              "\n",
              "  <div id=\"df-553cd61b-a780-47e9-b74b-d0bcb1cba26b\">\n",
              "    <div class=\"colab-df-container\">\n",
              "      <div>\n",
              "<style scoped>\n",
              "    .dataframe tbody tr th:only-of-type {\n",
              "        vertical-align: middle;\n",
              "    }\n",
              "\n",
              "    .dataframe tbody tr th {\n",
              "        vertical-align: top;\n",
              "    }\n",
              "\n",
              "    .dataframe thead th {\n",
              "        text-align: right;\n",
              "    }\n",
              "</style>\n",
              "<table border=\"1\" class=\"dataframe\">\n",
              "  <thead>\n",
              "    <tr style=\"text-align: right;\">\n",
              "      <th></th>\n",
              "      <th>text</th>\n",
              "      <th>label</th>\n",
              "      <th>text_clean</th>\n",
              "      <th>clean_text</th>\n",
              "    </tr>\n",
              "  </thead>\n",
              "  <tbody>\n",
              "    <tr>\n",
              "      <th>0</th>\n",
              "      <td>A group of friends began to volunteer at a hom...</td>\n",
              "      <td>0</td>\n",
              "      <td>group of friends began to volunteer at homeles...</td>\n",
              "      <td>group of friends began to volunteer at homeles...</td>\n",
              "    </tr>\n",
              "    <tr>\n",
              "      <th>1</th>\n",
              "      <td>British Prime Minister @Theresa_May on Nerve A...</td>\n",
              "      <td>0</td>\n",
              "      <td>british prime minister theresa may on nerve at...</td>\n",
              "      <td>british prime minister theresa may on nerve at...</td>\n",
              "    </tr>\n",
              "    <tr>\n",
              "      <th>2</th>\n",
              "      <td>In 1961, Goodyear released a kit that allows P...</td>\n",
              "      <td>0</td>\n",
              "      <td>in , goodyear released kit that allows ps to b...</td>\n",
              "      <td>in , goodyear released kit that allows ps to b...</td>\n",
              "    </tr>\n",
              "    <tr>\n",
              "      <th>3</th>\n",
              "      <td>Happy Birthday, Bob Barker! The Price Is Right...</td>\n",
              "      <td>0</td>\n",
              "      <td>happy birthday , bob barker ! the price is rig...</td>\n",
              "      <td>happy birthday , bob barker ! the price is rig...</td>\n",
              "    </tr>\n",
              "    <tr>\n",
              "      <th>4</th>\n",
              "      <td>Obama to Nation: 聙\"Innocent Cops and Unarmed Y...</td>\n",
              "      <td>0</td>\n",
              "      <td>obama to nation innocent cops and unarmed youn...</td>\n",
              "      <td>obama to nation innocent cops and unarmed youn...</td>\n",
              "    </tr>\n",
              "    <tr>\n",
              "      <th>...</th>\n",
              "      <td>...</td>\n",
              "      <td>...</td>\n",
              "      <td>...</td>\n",
              "      <td>...</td>\n",
              "    </tr>\n",
              "    <tr>\n",
              "      <th>59995</th>\n",
              "      <td>Finish Sniper Simo H盲yh盲 during the invasion o...</td>\n",
              "      <td>0</td>\n",
              "      <td>finish sniper simo yh during the invasion of f...</td>\n",
              "      <td>finish sniper simo yh during the invasion of f...</td>\n",
              "    </tr>\n",
              "    <tr>\n",
              "      <th>59996</th>\n",
              "      <td>Nigerian Prince Scam took $110K from Kansas ma...</td>\n",
              "      <td>1</td>\n",
              "      <td>nigerian prince scam took from kansas man year...</td>\n",
              "      <td>nigerian prince scam took from kansas man year...</td>\n",
              "    </tr>\n",
              "    <tr>\n",
              "      <th>59997</th>\n",
              "      <td>Is It Safe To Smoke Marijuana During Pregnancy...</td>\n",
              "      <td>0</td>\n",
              "      <td>is it safe to smoke marijuana during pregnancy...</td>\n",
              "      <td>is it safe to smoke marijuana during pregnancy...</td>\n",
              "    </tr>\n",
              "    <tr>\n",
              "      <th>59998</th>\n",
              "      <td>Julius Caesar upon realizing that everyone in ...</td>\n",
              "      <td>0</td>\n",
              "      <td>julius caesar upon realizing that everyone in ...</td>\n",
              "      <td>julius caesar upon realizing that everyone in ...</td>\n",
              "    </tr>\n",
              "    <tr>\n",
              "      <th>59999</th>\n",
              "      <td>Jeff Bridges Releasing 鈥楽leeping Tapes,鈥?a New...</td>\n",
              "      <td>1</td>\n",
              "      <td>jeff bridges releasing leeping tapes , ? new a...</td>\n",
              "      <td>jeff bridges releasing leeping tapes , ? new a...</td>\n",
              "    </tr>\n",
              "  </tbody>\n",
              "</table>\n",
              "<p>59768 rows × 4 columns</p>\n",
              "</div>\n",
              "      <button class=\"colab-df-convert\" onclick=\"convertToInteractive('df-553cd61b-a780-47e9-b74b-d0bcb1cba26b')\"\n",
              "              title=\"Convert this dataframe to an interactive table.\"\n",
              "              style=\"display:none;\">\n",
              "        \n",
              "  <svg xmlns=\"http://www.w3.org/2000/svg\" height=\"24px\"viewBox=\"0 0 24 24\"\n",
              "       width=\"24px\">\n",
              "    <path d=\"M0 0h24v24H0V0z\" fill=\"none\"/>\n",
              "    <path d=\"M18.56 5.44l.94 2.06.94-2.06 2.06-.94-2.06-.94-.94-2.06-.94 2.06-2.06.94zm-11 1L8.5 8.5l.94-2.06 2.06-.94-2.06-.94L8.5 2.5l-.94 2.06-2.06.94zm10 10l.94 2.06.94-2.06 2.06-.94-2.06-.94-.94-2.06-.94 2.06-2.06.94z\"/><path d=\"M17.41 7.96l-1.37-1.37c-.4-.4-.92-.59-1.43-.59-.52 0-1.04.2-1.43.59L10.3 9.45l-7.72 7.72c-.78.78-.78 2.05 0 2.83L4 21.41c.39.39.9.59 1.41.59.51 0 1.02-.2 1.41-.59l7.78-7.78 2.81-2.81c.8-.78.8-2.07 0-2.86zM5.41 20L4 18.59l7.72-7.72 1.47 1.35L5.41 20z\"/>\n",
              "  </svg>\n",
              "      </button>\n",
              "      \n",
              "  <style>\n",
              "    .colab-df-container {\n",
              "      display:flex;\n",
              "      flex-wrap:wrap;\n",
              "      gap: 12px;\n",
              "    }\n",
              "\n",
              "    .colab-df-convert {\n",
              "      background-color: #E8F0FE;\n",
              "      border: none;\n",
              "      border-radius: 50%;\n",
              "      cursor: pointer;\n",
              "      display: none;\n",
              "      fill: #1967D2;\n",
              "      height: 32px;\n",
              "      padding: 0 0 0 0;\n",
              "      width: 32px;\n",
              "    }\n",
              "\n",
              "    .colab-df-convert:hover {\n",
              "      background-color: #E2EBFA;\n",
              "      box-shadow: 0px 1px 2px rgba(60, 64, 67, 0.3), 0px 1px 3px 1px rgba(60, 64, 67, 0.15);\n",
              "      fill: #174EA6;\n",
              "    }\n",
              "\n",
              "    [theme=dark] .colab-df-convert {\n",
              "      background-color: #3B4455;\n",
              "      fill: #D2E3FC;\n",
              "    }\n",
              "\n",
              "    [theme=dark] .colab-df-convert:hover {\n",
              "      background-color: #434B5C;\n",
              "      box-shadow: 0px 1px 3px 1px rgba(0, 0, 0, 0.15);\n",
              "      filter: drop-shadow(0px 1px 2px rgba(0, 0, 0, 0.3));\n",
              "      fill: #FFFFFF;\n",
              "    }\n",
              "  </style>\n",
              "\n",
              "      <script>\n",
              "        const buttonEl =\n",
              "          document.querySelector('#df-553cd61b-a780-47e9-b74b-d0bcb1cba26b button.colab-df-convert');\n",
              "        buttonEl.style.display =\n",
              "          google.colab.kernel.accessAllowed ? 'block' : 'none';\n",
              "\n",
              "        async function convertToInteractive(key) {\n",
              "          const element = document.querySelector('#df-553cd61b-a780-47e9-b74b-d0bcb1cba26b');\n",
              "          const dataTable =\n",
              "            await google.colab.kernel.invokeFunction('convertToInteractive',\n",
              "                                                     [key], {});\n",
              "          if (!dataTable) return;\n",
              "\n",
              "          const docLinkHtml = 'Like what you see? Visit the ' +\n",
              "            '<a target=\"_blank\" href=https://colab.research.google.com/notebooks/data_table.ipynb>data table notebook</a>'\n",
              "            + ' to learn more about interactive tables.';\n",
              "          element.innerHTML = '';\n",
              "          dataTable['output_type'] = 'display_data';\n",
              "          await google.colab.output.renderOutput(dataTable, element);\n",
              "          const docLink = document.createElement('div');\n",
              "          docLink.innerHTML = docLinkHtml;\n",
              "          element.appendChild(docLink);\n",
              "        }\n",
              "      </script>\n",
              "    </div>\n",
              "  </div>\n",
              "  "
            ]
          },
          "metadata": {},
          "execution_count": 80
        }
      ]
    },
    {
      "cell_type": "code",
      "source": [
        "import time\n",
        "start_time=time.time()\n",
        "# remove '\\\\n'\n",
        "data_train['clean_text'] = data_train['text_clean'].map(lambda x: re.sub('\\\\n',' ',str(x)))\n",
        "# remove any text starting with User... \n",
        "data_train['clean_text'] = data_train['text_clean'].map(lambda x: re.sub(\"\\[\\[User.*\",'',str(x)))\n",
        "# remove IP addresses or user IDs\n",
        "data_train['clean_text'] = data_train['text_clean'].map(lambda x: re.sub(\"\\d{1,3}\\.\\d{1,3}\\.\\d{1,3}\\.\\d{1,3}\",'',str(x)))\n",
        "#remove http links in the text\n",
        "data_train['clean_text'] = data_train['text_clean'].map(lambda x: re.sub(\"(http://.*?\\s)|(http://.*)\",'',str(x)))\n",
        "end_time=time.time()\n",
        "print(\"total time\",end_time-start_time)"
      ],
      "metadata": {
        "id": "_mbbCHh_Sx-q",
        "colab": {
          "base_uri": "https://localhost:8080/"
        },
        "outputId": "21088e12-3983-4e83-ba84-c7667f9e57db"
      },
      "execution_count": null,
      "outputs": [
        {
          "output_type": "stream",
          "name": "stdout",
          "text": [
            "total time 0.7736074924468994\n"
          ]
        }
      ]
    },
    {
      "cell_type": "code",
      "source": [
        "data_train"
      ],
      "metadata": {
        "id": "9erOfKAhS-E5",
        "colab": {
          "base_uri": "https://localhost:8080/",
          "height": 423
        },
        "outputId": "e7867a28-c455-4e73-8a14-8ca274775902"
      },
      "execution_count": null,
      "outputs": [
        {
          "output_type": "execute_result",
          "data": {
            "text/plain": [
              "                                                    text  label  \\\n",
              "0      A group of friends began to volunteer at a hom...      0   \n",
              "1      British Prime Minister @Theresa_May on Nerve A...      0   \n",
              "2      In 1961, Goodyear released a kit that allows P...      0   \n",
              "3      Happy Birthday, Bob Barker! The Price Is Right...      0   \n",
              "4      Obama to Nation: 聙\"Innocent Cops and Unarmed Y...      0   \n",
              "...                                                  ...    ...   \n",
              "59995  Finish Sniper Simo H盲yh盲 during the invasion o...      0   \n",
              "59996  Nigerian Prince Scam took $110K from Kansas ma...      1   \n",
              "59997  Is It Safe To Smoke Marijuana During Pregnancy...      0   \n",
              "59998  Julius Caesar upon realizing that everyone in ...      0   \n",
              "59999  Jeff Bridges Releasing 鈥楽leeping Tapes,鈥?a New...      1   \n",
              "\n",
              "                                              text_clean  \\\n",
              "0      group of friends began to volunteer at homeles...   \n",
              "1      british prime minister theresa may on nerve at...   \n",
              "2      in , goodyear released kit that allows ps to b...   \n",
              "3      happy birthday , bob barker ! the price is rig...   \n",
              "4      obama to nation innocent cops and unarmed youn...   \n",
              "...                                                  ...   \n",
              "59995  finish sniper simo yh during the invasion of f...   \n",
              "59996  nigerian prince scam took from kansas man year...   \n",
              "59997  is it safe to smoke marijuana during pregnancy...   \n",
              "59998  julius caesar upon realizing that everyone in ...   \n",
              "59999  jeff bridges releasing leeping tapes , ? new a...   \n",
              "\n",
              "                                              clean_text  \n",
              "0      group of friends began to volunteer at homeles...  \n",
              "1      british prime minister theresa may on nerve at...  \n",
              "2      in , goodyear released kit that allows ps to b...  \n",
              "3      happy birthday , bob barker ! the price is rig...  \n",
              "4      obama to nation innocent cops and unarmed youn...  \n",
              "...                                                  ...  \n",
              "59995  finish sniper simo yh during the invasion of f...  \n",
              "59996  nigerian prince scam took from kansas man year...  \n",
              "59997  is it safe to smoke marijuana during pregnancy...  \n",
              "59998  julius caesar upon realizing that everyone in ...  \n",
              "59999  jeff bridges releasing leeping tapes , ? new a...  \n",
              "\n",
              "[59768 rows x 4 columns]"
            ],
            "text/html": [
              "\n",
              "  <div id=\"df-85b73212-9707-492b-90fd-62b95597a81f\">\n",
              "    <div class=\"colab-df-container\">\n",
              "      <div>\n",
              "<style scoped>\n",
              "    .dataframe tbody tr th:only-of-type {\n",
              "        vertical-align: middle;\n",
              "    }\n",
              "\n",
              "    .dataframe tbody tr th {\n",
              "        vertical-align: top;\n",
              "    }\n",
              "\n",
              "    .dataframe thead th {\n",
              "        text-align: right;\n",
              "    }\n",
              "</style>\n",
              "<table border=\"1\" class=\"dataframe\">\n",
              "  <thead>\n",
              "    <tr style=\"text-align: right;\">\n",
              "      <th></th>\n",
              "      <th>text</th>\n",
              "      <th>label</th>\n",
              "      <th>text_clean</th>\n",
              "      <th>clean_text</th>\n",
              "    </tr>\n",
              "  </thead>\n",
              "  <tbody>\n",
              "    <tr>\n",
              "      <th>0</th>\n",
              "      <td>A group of friends began to volunteer at a hom...</td>\n",
              "      <td>0</td>\n",
              "      <td>group of friends began to volunteer at homeles...</td>\n",
              "      <td>group of friends began to volunteer at homeles...</td>\n",
              "    </tr>\n",
              "    <tr>\n",
              "      <th>1</th>\n",
              "      <td>British Prime Minister @Theresa_May on Nerve A...</td>\n",
              "      <td>0</td>\n",
              "      <td>british prime minister theresa may on nerve at...</td>\n",
              "      <td>british prime minister theresa may on nerve at...</td>\n",
              "    </tr>\n",
              "    <tr>\n",
              "      <th>2</th>\n",
              "      <td>In 1961, Goodyear released a kit that allows P...</td>\n",
              "      <td>0</td>\n",
              "      <td>in , goodyear released kit that allows ps to b...</td>\n",
              "      <td>in , goodyear released kit that allows ps to b...</td>\n",
              "    </tr>\n",
              "    <tr>\n",
              "      <th>3</th>\n",
              "      <td>Happy Birthday, Bob Barker! The Price Is Right...</td>\n",
              "      <td>0</td>\n",
              "      <td>happy birthday , bob barker ! the price is rig...</td>\n",
              "      <td>happy birthday , bob barker ! the price is rig...</td>\n",
              "    </tr>\n",
              "    <tr>\n",
              "      <th>4</th>\n",
              "      <td>Obama to Nation: 聙\"Innocent Cops and Unarmed Y...</td>\n",
              "      <td>0</td>\n",
              "      <td>obama to nation innocent cops and unarmed youn...</td>\n",
              "      <td>obama to nation innocent cops and unarmed youn...</td>\n",
              "    </tr>\n",
              "    <tr>\n",
              "      <th>...</th>\n",
              "      <td>...</td>\n",
              "      <td>...</td>\n",
              "      <td>...</td>\n",
              "      <td>...</td>\n",
              "    </tr>\n",
              "    <tr>\n",
              "      <th>59995</th>\n",
              "      <td>Finish Sniper Simo H盲yh盲 during the invasion o...</td>\n",
              "      <td>0</td>\n",
              "      <td>finish sniper simo yh during the invasion of f...</td>\n",
              "      <td>finish sniper simo yh during the invasion of f...</td>\n",
              "    </tr>\n",
              "    <tr>\n",
              "      <th>59996</th>\n",
              "      <td>Nigerian Prince Scam took $110K from Kansas ma...</td>\n",
              "      <td>1</td>\n",
              "      <td>nigerian prince scam took from kansas man year...</td>\n",
              "      <td>nigerian prince scam took from kansas man year...</td>\n",
              "    </tr>\n",
              "    <tr>\n",
              "      <th>59997</th>\n",
              "      <td>Is It Safe To Smoke Marijuana During Pregnancy...</td>\n",
              "      <td>0</td>\n",
              "      <td>is it safe to smoke marijuana during pregnancy...</td>\n",
              "      <td>is it safe to smoke marijuana during pregnancy...</td>\n",
              "    </tr>\n",
              "    <tr>\n",
              "      <th>59998</th>\n",
              "      <td>Julius Caesar upon realizing that everyone in ...</td>\n",
              "      <td>0</td>\n",
              "      <td>julius caesar upon realizing that everyone in ...</td>\n",
              "      <td>julius caesar upon realizing that everyone in ...</td>\n",
              "    </tr>\n",
              "    <tr>\n",
              "      <th>59999</th>\n",
              "      <td>Jeff Bridges Releasing 鈥楽leeping Tapes,鈥?a New...</td>\n",
              "      <td>1</td>\n",
              "      <td>jeff bridges releasing leeping tapes , ? new a...</td>\n",
              "      <td>jeff bridges releasing leeping tapes , ? new a...</td>\n",
              "    </tr>\n",
              "  </tbody>\n",
              "</table>\n",
              "<p>59768 rows × 4 columns</p>\n",
              "</div>\n",
              "      <button class=\"colab-df-convert\" onclick=\"convertToInteractive('df-85b73212-9707-492b-90fd-62b95597a81f')\"\n",
              "              title=\"Convert this dataframe to an interactive table.\"\n",
              "              style=\"display:none;\">\n",
              "        \n",
              "  <svg xmlns=\"http://www.w3.org/2000/svg\" height=\"24px\"viewBox=\"0 0 24 24\"\n",
              "       width=\"24px\">\n",
              "    <path d=\"M0 0h24v24H0V0z\" fill=\"none\"/>\n",
              "    <path d=\"M18.56 5.44l.94 2.06.94-2.06 2.06-.94-2.06-.94-.94-2.06-.94 2.06-2.06.94zm-11 1L8.5 8.5l.94-2.06 2.06-.94-2.06-.94L8.5 2.5l-.94 2.06-2.06.94zm10 10l.94 2.06.94-2.06 2.06-.94-2.06-.94-.94-2.06-.94 2.06-2.06.94z\"/><path d=\"M17.41 7.96l-1.37-1.37c-.4-.4-.92-.59-1.43-.59-.52 0-1.04.2-1.43.59L10.3 9.45l-7.72 7.72c-.78.78-.78 2.05 0 2.83L4 21.41c.39.39.9.59 1.41.59.51 0 1.02-.2 1.41-.59l7.78-7.78 2.81-2.81c.8-.78.8-2.07 0-2.86zM5.41 20L4 18.59l7.72-7.72 1.47 1.35L5.41 20z\"/>\n",
              "  </svg>\n",
              "      </button>\n",
              "      \n",
              "  <style>\n",
              "    .colab-df-container {\n",
              "      display:flex;\n",
              "      flex-wrap:wrap;\n",
              "      gap: 12px;\n",
              "    }\n",
              "\n",
              "    .colab-df-convert {\n",
              "      background-color: #E8F0FE;\n",
              "      border: none;\n",
              "      border-radius: 50%;\n",
              "      cursor: pointer;\n",
              "      display: none;\n",
              "      fill: #1967D2;\n",
              "      height: 32px;\n",
              "      padding: 0 0 0 0;\n",
              "      width: 32px;\n",
              "    }\n",
              "\n",
              "    .colab-df-convert:hover {\n",
              "      background-color: #E2EBFA;\n",
              "      box-shadow: 0px 1px 2px rgba(60, 64, 67, 0.3), 0px 1px 3px 1px rgba(60, 64, 67, 0.15);\n",
              "      fill: #174EA6;\n",
              "    }\n",
              "\n",
              "    [theme=dark] .colab-df-convert {\n",
              "      background-color: #3B4455;\n",
              "      fill: #D2E3FC;\n",
              "    }\n",
              "\n",
              "    [theme=dark] .colab-df-convert:hover {\n",
              "      background-color: #434B5C;\n",
              "      box-shadow: 0px 1px 3px 1px rgba(0, 0, 0, 0.15);\n",
              "      filter: drop-shadow(0px 1px 2px rgba(0, 0, 0, 0.3));\n",
              "      fill: #FFFFFF;\n",
              "    }\n",
              "  </style>\n",
              "\n",
              "      <script>\n",
              "        const buttonEl =\n",
              "          document.querySelector('#df-85b73212-9707-492b-90fd-62b95597a81f button.colab-df-convert');\n",
              "        buttonEl.style.display =\n",
              "          google.colab.kernel.accessAllowed ? 'block' : 'none';\n",
              "\n",
              "        async function convertToInteractive(key) {\n",
              "          const element = document.querySelector('#df-85b73212-9707-492b-90fd-62b95597a81f');\n",
              "          const dataTable =\n",
              "            await google.colab.kernel.invokeFunction('convertToInteractive',\n",
              "                                                     [key], {});\n",
              "          if (!dataTable) return;\n",
              "\n",
              "          const docLinkHtml = 'Like what you see? Visit the ' +\n",
              "            '<a target=\"_blank\" href=https://colab.research.google.com/notebooks/data_table.ipynb>data table notebook</a>'\n",
              "            + ' to learn more about interactive tables.';\n",
              "          element.innerHTML = '';\n",
              "          dataTable['output_type'] = 'display_data';\n",
              "          await google.colab.output.renderOutput(dataTable, element);\n",
              "          const docLink = document.createElement('div');\n",
              "          docLink.innerHTML = docLinkHtml;\n",
              "          element.appendChild(docLink);\n",
              "        }\n",
              "      </script>\n",
              "    </div>\n",
              "  </div>\n",
              "  "
            ]
          },
          "metadata": {},
          "execution_count": 82
        }
      ]
    },
    {
      "cell_type": "code",
      "source": [
        "X_train=data_train['clean_text'] "
      ],
      "metadata": {
        "id": "ult36hC9UIb6"
      },
      "execution_count": null,
      "outputs": []
    },
    {
      "cell_type": "code",
      "source": [
        "# Instantiate the vectorizer\n",
        "vectorizer = TfidfVectorizer(\n",
        "    analyzer=\"char\", max_df=0.3, min_df=8, ngram_range=(1, 2), norm=\"l2\",token_pattern=r'\\w{1,}',stop_words='english'\n",
        ")\n"
      ],
      "metadata": {
        "id": "2Fh0uyLLUiTp"
      },
      "execution_count": null,
      "outputs": []
    },
    {
      "cell_type": "code",
      "source": [
        "# fit and transform on it the training features\n",
        "vectorizer.fit(X_train)\n",
        "X_train_word_features =vectorizer.transform(X_train)"
      ],
      "metadata": {
        "id": "FIz6THh3UuPo"
      },
      "execution_count": null,
      "outputs": []
    },
    {
      "cell_type": "code",
      "source": [
        "print('X_train_transformed', X_train_word_features.shape)\n",
        "print('y_train', y_train.shape)"
      ],
      "metadata": {
        "id": "s_9oUK77U8gJ",
        "colab": {
          "base_uri": "https://localhost:8080/"
        },
        "outputId": "afc15285-53b6-49ab-cb7d-7bb6afcc22f0"
      },
      "execution_count": null,
      "outputs": [
        {
          "output_type": "stream",
          "name": "stdout",
          "text": [
            "X_train_transformed (59768, 678)\n",
            "y_train (59768,)\n"
          ]
        }
      ]
    },
    {
      "cell_type": "code",
      "source": [
        "%%time\n",
        "pipe_Log_reg =  Pipeline([(\"Log_reg\", LogisticRegression())])\n",
        "params = {\n",
        "          'Log_reg__penalty': ['l2'],\n",
        "          'Log_reg__C' : [1.6],\n",
        "          'Log_reg__class_weight': ['balanced',None],\n",
        "          'Log_reg__solver': ['newton-cg', 'lbfgs', 'liblinear', 'sag', 'saga']\n",
        "          }\n",
        "param_grid  = GridSearchCV(\n",
        "    pipe_Log_reg, params, cv=10, verbose=1, n_jobs=2, \n",
        "    scoring='roc_auc')\n",
        "#fit X_train and y_train\n",
        "param_grid.fit(X_train_word_features,y_train)\n",
        "print(f'Best_score = {param_grid.best_score_}')\n",
        "print(f'Best_params = {param_grid.best_params_}')"
      ],
      "metadata": {
        "id": "X-lSMMLiVKk8",
        "colab": {
          "base_uri": "https://localhost:8080/"
        },
        "outputId": "77ebe66f-9ecf-457f-872d-117436e426db"
      },
      "execution_count": null,
      "outputs": [
        {
          "output_type": "stream",
          "name": "stdout",
          "text": [
            "Fitting 10 folds for each of 10 candidates, totalling 100 fits\n",
            "Best_score = 0.7517766269288313\n",
            "Best_params = {'Log_reg__C': 1.6, 'Log_reg__class_weight': None, 'Log_reg__penalty': 'l2', 'Log_reg__solver': 'liblinear'}\n",
            "CPU times: user 3.9 s, sys: 280 ms, total: 4.18 s\n",
            "Wall time: 2min\n"
          ]
        }
      ]
    },
    {
      "cell_type": "markdown",
      "source": [
        "**Test Data**"
      ],
      "metadata": {
        "id": "-qnpPOA0XTe6"
      }
    },
    {
      "cell_type": "code",
      "source": [
        "import time\n",
        "start_time=time.time()\n",
        "# remove '\\\\n'\n",
        "data_test['clean_text'] = data_test['text_clean'].map(lambda x: re.sub('\\\\n',' ',str(x)))\n",
        "# remove any text starting with User... \n",
        "data_test['clean_text'] = data_test['text_clean'].map(lambda x: re.sub(\"\\[\\[User.*\",'',str(x)))\n",
        "# remove IP addresses or user IDs\n",
        "data_test['clean_text'] = data_test['text_clean'].map(lambda x: re.sub(\"\\d{1,3}\\.\\d{1,3}\\.\\d{1,3}\\.\\d{1,3}\",'',str(x)))\n",
        "#remove http links in the text\n",
        "data_test['clean_text'] = data_test['text_clean'].map(lambda x: re.sub(\"(http://.*?\\s)|(http://.*)\",'',str(x)))\n",
        "end_time=time.time()\n",
        "print(\"total time\",end_time-start_time)"
      ],
      "metadata": {
        "id": "MLqtdTZgXNN1",
        "colab": {
          "base_uri": "https://localhost:8080/"
        },
        "outputId": "b0460d95-39b2-46bb-de8d-14a22e0ae918"
      },
      "execution_count": null,
      "outputs": [
        {
          "output_type": "stream",
          "name": "stdout",
          "text": [
            "total time 0.501406192779541\n"
          ]
        }
      ]
    },
    {
      "cell_type": "code",
      "source": [
        "X_test=data_test['clean_text'] "
      ],
      "metadata": {
        "id": "jtTqDvDbY6ud"
      },
      "execution_count": null,
      "outputs": []
    },
    {
      "cell_type": "code",
      "source": [
        "X_test_word_features = vectorizer.transform(X_test)"
      ],
      "metadata": {
        "id": "T1peNb_fZIgU"
      },
      "execution_count": null,
      "outputs": []
    },
    {
      "cell_type": "code",
      "source": [
        "print('X_test_transformed', X_test_word_features.shape)"
      ],
      "metadata": {
        "id": "xSSf_iptY6yF",
        "colab": {
          "base_uri": "https://localhost:8080/"
        },
        "outputId": "ca5cd23e-24e4-4be7-a003-9b2e054d49ab"
      },
      "execution_count": null,
      "outputs": [
        {
          "output_type": "stream",
          "name": "stdout",
          "text": [
            "X_test_transformed (59151, 678)\n"
          ]
        }
      ]
    },
    {
      "cell_type": "code",
      "source": [
        "y_pred3=param_grid.predict_proba(X_test_word_features)"
      ],
      "metadata": {
        "id": "-ak5_rJEZzBr"
      },
      "execution_count": null,
      "outputs": []
    },
    {
      "cell_type": "code",
      "source": [
        "y_pred3"
      ],
      "metadata": {
        "id": "drV2tUBXaADq",
        "colab": {
          "base_uri": "https://localhost:8080/"
        },
        "outputId": "76c05c18-b377-4135-c1c9-bd239f5a6a29"
      },
      "execution_count": null,
      "outputs": [
        {
          "output_type": "execute_result",
          "data": {
            "text/plain": [
              "array([[0.77616083, 0.22383917],\n",
              "       [0.2047805 , 0.7952195 ],\n",
              "       [0.77300679, 0.22699321],\n",
              "       ...,\n",
              "       [0.77345992, 0.22654008],\n",
              "       [0.46323205, 0.53676795],\n",
              "       [0.43900379, 0.56099621]])"
            ]
          },
          "metadata": {},
          "execution_count": 93
        }
      ]
    },
    {
      "cell_type": "code",
      "source": [
        "submission = pd.DataFrame()\n",
        "\n",
        "submission['id'] = df['id']\n",
        "\n",
        "submission['label'] = y_pred3[:,1]\n",
        "\n",
        "submission.to_csv('sample_submission_3.csv', index=False)"
      ],
      "metadata": {
        "id": "o1_t36fUaKtt"
      },
      "execution_count": null,
      "outputs": []
    },
    {
      "cell_type": "markdown",
      "source": [
        "* **OBSERVATION_3**\n",
        "\n",
        "```\n",
        "trail3:\n",
        "1-using grid search tuning \n",
        "2-using cv and logestic regresion\n",
        "3-using TfidfVectorizer analyzer char\n",
        "4-additional cleaning for  text \n",
        "when I apply for_embedding=True the score is\n",
        "\n",
        "private Score: 0.70632\n",
        "Public score: 0.70482\n",
        "this mean that TfidfVectorizer(word) is best than TfidfVectorizer(char)\n",
        "```\n",
        "\n"
      ],
      "metadata": {
        "id": "aPMcQLM1Xyn2"
      }
    },
    {
      "cell_type": "markdown",
      "source": [
        "\n",
        "\n",
        "---"
      ],
      "metadata": {
        "id": "GDr64_YpbDxq"
      }
    },
    {
      "cell_type": "markdown",
      "source": [
        "# **Trail_4**"
      ],
      "metadata": {
        "id": "V4AE4ku4cHK6"
      }
    },
    {
      "cell_type": "markdown",
      "source": [
        "* `Vectorize, Classify (with parameter tuning)`"
      ],
      "metadata": {
        "id": "EYgtyIE9b52N"
      }
    },
    {
      "cell_type": "code",
      "source": [
        "X_train=data_train['text_clean'] "
      ],
      "metadata": {
        "id": "U07ITnqCck6p"
      },
      "execution_count": null,
      "outputs": []
    },
    {
      "cell_type": "code",
      "source": [
        "#data without any preprocessing\n",
        "print(X_train.shape)\n",
        "print(y_train.shape)"
      ],
      "metadata": {
        "id": "profXtnnc2I5",
        "colab": {
          "base_uri": "https://localhost:8080/"
        },
        "outputId": "9244e01d-170c-4009-a63a-89e34682cded"
      },
      "execution_count": null,
      "outputs": [
        {
          "output_type": "stream",
          "name": "stdout",
          "text": [
            "(59768,)\n",
            "(59768,)\n"
          ]
        }
      ]
    },
    {
      "cell_type": "code",
      "source": [
        "from sklearn.multiclass import OneVsRestClassifier\n",
        "from sklearn.pipeline import make_pipeline\n",
        "start_time=time.time()\n",
        "\n",
        "pipe = make_pipeline(TfidfVectorizer(\n",
        "                                    stop_words='english',\n",
        "                                    strip_accents='unicode',\n",
        "                                    token_pattern=r'\\w{1,}', #accept tokens that have 1 or more characters\n",
        "                                    analyzer='word',\n",
        "                                    ngram_range=(1, 2),\n",
        "                                    min_df=10),\n",
        "                     OneVsRestClassifier(LogisticRegression()))\n",
        "param_grid = {\n",
        "              #'tfidfvectorizer__max_features': [10000, 30000],\n",
        "              'onevsrestclassifier__estimator__C': [0.9,1,2,2.5],\n",
        "              'onevsrestclassifier__estimator__solver': ['newton-cg', 'lbfgs', 'liblinear', 'sag', 'saga'],\n",
        "             } \n",
        "grid = GridSearchCV(pipe, param_grid, cv=12, scoring='roc_auc')\n",
        "\n",
        "grid3 = grid.fit(X_train, y_train)\n",
        "\n",
        "end_time=time.time()\n",
        "print(\"total time\",end_time-start_time)\n",
        "print(f'Best_score = {grid3.best_score_}')\n",
        "print(f'Best_params = {grid3.best_params_}')"
      ],
      "metadata": {
        "id": "2MX_fdr1c3-Z",
        "colab": {
          "base_uri": "https://localhost:8080/"
        },
        "outputId": "1c37d329-5227-4e01-dcde-f1e77bd2a2d2"
      },
      "execution_count": null,
      "outputs": [
        {
          "output_type": "stream",
          "name": "stdout",
          "text": [
            "total time 1076.1216955184937\n",
            "Best_score = 0.8739087760313816\n",
            "Best_params = {'onevsrestclassifier__estimator__C': 1, 'onevsrestclassifier__estimator__solver': 'lbfgs'}\n"
          ]
        }
      ]
    },
    {
      "cell_type": "markdown",
      "source": [
        "**Test Data**"
      ],
      "metadata": {
        "id": "QJOQu5EkjHsa"
      }
    },
    {
      "cell_type": "code",
      "source": [
        "X_test=data_test['text_clean']"
      ],
      "metadata": {
        "id": "y5aWDB21eH2j"
      },
      "execution_count": null,
      "outputs": []
    },
    {
      "cell_type": "code",
      "source": [
        "y_pred4=grid3.predict_proba(X_test)\n",
        "y_pred4"
      ],
      "metadata": {
        "id": "GNrhRGbQkLFK",
        "colab": {
          "base_uri": "https://localhost:8080/"
        },
        "outputId": "e79fdaf3-5b73-4b0e-cfca-0c7b6070240b"
      },
      "execution_count": null,
      "outputs": [
        {
          "output_type": "execute_result",
          "data": {
            "text/plain": [
              "array([[0.54712372, 0.45287628],\n",
              "       [0.82736412, 0.17263588],\n",
              "       [0.42575294, 0.57424706],\n",
              "       ...,\n",
              "       [0.9461845 , 0.0538155 ],\n",
              "       [0.64565491, 0.35434509],\n",
              "       [0.22034321, 0.77965679]])"
            ]
          },
          "metadata": {},
          "execution_count": 100
        }
      ]
    },
    {
      "cell_type": "code",
      "source": [
        "submission = pd.DataFrame()\n",
        "\n",
        "submission['id'] = df['id']\n",
        "\n",
        "submission['label'] = y_pred4[:,1]\n",
        "\n",
        "submission.to_csv('sample_submission_4.csv', index=False)"
      ],
      "metadata": {
        "id": "h1XYgIQCkX8K"
      },
      "execution_count": null,
      "outputs": []
    },
    {
      "cell_type": "markdown",
      "source": [
        "*  **OBSERVATION_4**\n",
        "\n",
        "\n",
        "```\n",
        "Trail_4 \n",
        "1- using pipline for TfidfVectorizer(word)\n",
        "2-cv=12 with grid search \n",
        "3-using OneVsRestClassifier (logestic regresion) \n",
        "private Score: 0.83269\n",
        "Public score: 0.83228`\n",
        "```\n",
        "\n"
      ],
      "metadata": {
        "id": "Mf6-tAnxdx1W"
      }
    },
    {
      "cell_type": "markdown",
      "source": [
        "\n",
        "\n",
        "---"
      ],
      "metadata": {
        "id": "t9m5-Ab7k2Qb"
      }
    },
    {
      "cell_type": "markdown",
      "source": [
        "# **Trail_5**"
      ],
      "metadata": {
        "id": "H6_w1l0b_I7M"
      }
    },
    {
      "cell_type": "code",
      "source": [
        "# X_train=data_train['text'] \n",
        "X_train=data_train['text_clean']"
      ],
      "metadata": {
        "id": "oFCBsJO7k3UJ"
      },
      "execution_count": null,
      "outputs": []
    },
    {
      "cell_type": "code",
      "source": [
        "%%time\n",
        "# cv=pds means depending on PredefinedSplit\n",
        "# n_jobs=2 means the cucurrent number of jobs\n",
        "# scoring depends on roc_auc\n",
        "# i used n_iter=10 \n",
        "from sklearn.ensemble import RandomForestClassifier # to use RandomForestClassifier model for my data\n",
        "\n",
        "pipe= Pipeline([(\"tfidf\", TfidfVectorizer(analyzer='word')),\n",
        "        ('my_classifier', \n",
        "           RandomForestClassifier(),\n",
        "        )])\n",
        "\n",
        "param_grid = {\n",
        "    # 'tfidf_numimputer_strategy': ['mean'],\n",
        "    # preprocessor_numimputer_strategy points to preprocessor->num (a Pipeline)-> imputer -> strategy\n",
        "    # 'my_classifier__n_estimators'\n",
        "     'my_classifier__criterion' :['gini'],\n",
        "     'my_classifier__n_estimators': [500], \n",
        "     # my_classifier__n_estimators points to my_classifier->n_estimators \n",
        "         \n",
        "}\n",
        "\n",
        "rf_random = RandomizedSearchCV(\n",
        "    pipe, param_grid, cv=pds, verbose=1, n_jobs=2, \n",
        "    # number of random trials\n",
        "    n_iter=10,\n",
        "    scoring='roc_auc')\n",
        "\n",
        "# fit Random_search\n",
        "rf_random.fit(X_train, y_train)\n",
        "\n",
        "# print best_score and best_params for Random_search\n",
        "print('best score {}'.format(rf_random.best_score_))\n",
        "print('best score {}'.format(rf_random.best_params_))"
      ],
      "metadata": {
        "id": "FOY5wBhMFIEL",
        "colab": {
          "base_uri": "https://localhost:8080/"
        },
        "outputId": "55b1d160-8d6b-4aa6-9d71-3b271e7f77fa"
      },
      "execution_count": null,
      "outputs": [
        {
          "output_type": "stream",
          "name": "stdout",
          "text": [
            "Fitting 1 folds for each of 1 candidates, totalling 1 fits\n",
            "best score 0.8637651185161614\n",
            "best score {'my_classifier__n_estimators': 500, 'my_classifier__criterion': 'gini'}\n",
            "CPU times: user 20min 25s, sys: 4.97 s, total: 20min 30s\n",
            "Wall time: 27min 6s\n"
          ]
        }
      ]
    },
    {
      "cell_type": "markdown",
      "source": [
        "## **Test_data**"
      ],
      "metadata": {
        "id": "kfcsPJoOxO17"
      }
    },
    {
      "cell_type": "code",
      "source": [
        "X_test=data_test['text_clean'] "
      ],
      "metadata": {
        "id": "vb7yFSx6xVqq"
      },
      "execution_count": null,
      "outputs": []
    },
    {
      "cell_type": "code",
      "source": [
        "# X_test_vectorizer = word_vectorizer.transform(X_test)"
      ],
      "metadata": {
        "id": "UvtCBTYByyfV"
      },
      "execution_count": null,
      "outputs": []
    },
    {
      "cell_type": "code",
      "source": [
        "y_pred5=rf_random.predict_proba(X_test)\n",
        "y_pred5"
      ],
      "metadata": {
        "id": "XTBuCU6sy3HF",
        "colab": {
          "base_uri": "https://localhost:8080/"
        },
        "outputId": "10902554-ccb7-406a-a72b-aa3f09a55230"
      },
      "execution_count": null,
      "outputs": [
        {
          "output_type": "execute_result",
          "data": {
            "text/plain": [
              "array([[0.89543814, 0.10456186],\n",
              "       [0.89675119, 0.10324881],\n",
              "       [0.35901111, 0.64098889],\n",
              "       ...,\n",
              "       [0.82      , 0.18      ],\n",
              "       [0.686     , 0.314     ],\n",
              "       [0.29152399, 0.70847601]])"
            ]
          },
          "metadata": {},
          "execution_count": 122
        }
      ]
    },
    {
      "cell_type": "code",
      "source": [
        "submission = pd.DataFrame()\n",
        "\n",
        "submission['id'] = df['id']\n",
        "\n",
        "submission['label'] = y_pred5[:,1]\n",
        "\n",
        "submission.to_csv('sample_submission_5.csv', index=False)"
      ],
      "metadata": {
        "id": "fhaFV0uhy-T2"
      },
      "execution_count": null,
      "outputs": []
    },
    {
      "cell_type": "markdown",
      "source": [
        "* **OBSERVATION_5**\n",
        "\n",
        "\n",
        "```\n",
        "Trail_5:\n",
        "\n",
        "1-Useing RandomForestClassifier model for my data\n",
        "2-using pipline and TfidfVectorizer (word)\n",
        "3-using RandomizedSearchCV for tuning parameters\n",
        "public Score: 0.87621\n",
        "Private score: 0.87563\n",
        "this mean that RandomForestClassifier is best classifier for this data\n",
        "```\n",
        "\n"
      ],
      "metadata": {
        "id": "pnb94mX1IOjx"
      }
    },
    {
      "cell_type": "markdown",
      "source": [
        "\n",
        "\n",
        "---\n"
      ],
      "metadata": {
        "id": "YtKfkFne2-23"
      }
    },
    {
      "cell_type": "markdown",
      "source": [
        "## **Trail_6**"
      ],
      "metadata": {
        "id": "_b_ectSq3Gqu"
      }
    },
    {
      "cell_type": "code",
      "source": [
        "# X_train=data_train['text'] \n",
        "X_train=data_train['text_clean']"
      ],
      "metadata": {
        "id": "bcvoDVi-7F6D"
      },
      "execution_count": null,
      "outputs": []
    },
    {
      "cell_type": "code",
      "source": [
        "from xgboost import XGBClassifier"
      ],
      "metadata": {
        "id": "uivspLFAGFm5"
      },
      "execution_count": null,
      "outputs": []
    },
    {
      "cell_type": "code",
      "source": [
        "vectorizer = TfidfVectorizer(\n",
        "    analyzer=\"word\", max_df=0.3, min_df=10, ngram_range=(1, 2), norm=\"l2\"\n",
        ")"
      ],
      "metadata": {
        "id": "ANvb-EKH3Tr_"
      },
      "execution_count": null,
      "outputs": []
    },
    {
      "cell_type": "code",
      "source": [
        "# fit and transform on it the training features\n",
        "vectorizer.fit(X_train)\n",
        "X_train_vectorizer = vectorizer.transform(X_train)"
      ],
      "metadata": {
        "id": "BvVi1jBV4yLP"
      },
      "execution_count": null,
      "outputs": []
    },
    {
      "cell_type": "code",
      "source": [
        "# My_classifier\n",
        "xgb = XGBClassifier(silent=False, \n",
        "                      \n",
        "                      objective='binary:logistic',\n",
        "                      #     colsample_bytree=0.4,\n",
        "                      #     gamma=10,\n",
        "                      #  learning_rate=0.05,\n",
        "                      #    max_depth=10 ,\n",
        "                      #   n_estimators=700,\n",
        "                      #    subsample=0.8 \n",
        "                      )\n",
        "\n",
        "full_pipline = Pipeline(\n",
        "    steps=[\n",
        "        ('my_classifier', xgb )\n",
        "    ]\n",
        ")\n",
        "full_pipline"
      ],
      "metadata": {
        "id": "86Um1qEF6v9L",
        "colab": {
          "base_uri": "https://localhost:8080/"
        },
        "outputId": "a5441409-8df8-4082-9049-5093ee0dfe1d"
      },
      "execution_count": null,
      "outputs": [
        {
          "output_type": "execute_result",
          "data": {
            "text/plain": [
              "Pipeline(steps=[('my_classifier', XGBClassifier(silent=False))])"
            ]
          },
          "metadata": {},
          "execution_count": 171
        }
      ]
    },
    {
      "cell_type": "code",
      "source": [
        "full_pipline = full_pipline.fit(X_train_vectorizer,y_train)"
      ],
      "metadata": {
        "id": "zlFI0jQ36yFe"
      },
      "execution_count": null,
      "outputs": []
    },
    {
      "cell_type": "code",
      "source": [
        "# here we specify the search space\n",
        "\n",
        "param_grid = {\n",
        "      'my_classifier__n_estimators': [700],  \n",
        "      'my_classifier__max_depth':[10] ,\n",
        "      'my_classifier__subsample':[0.8] ,\n",
        "      'my_classifier__gamma':[10],           \n",
        "# \n",
        "}\n",
        "\n",
        "# (on colab since we only have two cpu cores, we set it to 2)\n",
        "grid_search = GridSearchCV(\n",
        "    full_pipline, param_grid, verbose=1, n_jobs=2, \n",
        "    scoring='roc_auc')\n",
        "\n",
        "grid_search.fit(X_train_vectorizer, y_train)\n",
        "\n",
        "print('best score {}'.format(grid_search.best_score_))\n",
        "print('best score {}'.format(grid_search.best_params_))"
      ],
      "metadata": {
        "id": "mXJWSQbt6y4s",
        "colab": {
          "base_uri": "https://localhost:8080/"
        },
        "outputId": "792443c8-7642-41b0-d957-7145d0877206"
      },
      "execution_count": null,
      "outputs": [
        {
          "output_type": "stream",
          "name": "stdout",
          "text": [
            "Fitting 5 folds for each of 1 candidates, totalling 5 fits\n"
          ]
        }
      ]
    },
    {
      "cell_type": "markdown",
      "source": [
        "**Test Data**"
      ],
      "metadata": {
        "id": "W-A-3_ccg0L2"
      }
    },
    {
      "cell_type": "code",
      "source": [
        "X_test=data_test['text_clean'] "
      ],
      "metadata": {
        "id": "gWwfs6YZgt_K"
      },
      "execution_count": null,
      "outputs": []
    },
    {
      "cell_type": "code",
      "source": [
        "X_test_vectorizer = vectorizer.transform(X_test)"
      ],
      "metadata": {
        "id": "3Jb8aC-_guFa"
      },
      "execution_count": null,
      "outputs": []
    },
    {
      "cell_type": "code",
      "source": [
        "y_pred6=grid_search.predict_proba(X_test_vectorizer)\n",
        "y_pred6"
      ],
      "metadata": {
        "id": "zSsa-1VOguJP"
      },
      "execution_count": null,
      "outputs": []
    },
    {
      "cell_type": "code",
      "source": [
        "submission = pd.DataFrame()\n",
        "\n",
        "submission['id'] = df['id']\n",
        "\n",
        "submission['label'] = y_pred6[:,1]\n",
        "\n",
        "submission.to_csv('sample_submission_6.csv', index=False)"
      ],
      "metadata": {
        "id": "mzebBxXEguMz"
      },
      "execution_count": null,
      "outputs": []
    },
    {
      "cell_type": "markdown",
      "source": [
        "* **OBSERVATION_6**\n",
        "\n",
        "\n",
        "```\n",
        "1-using XGBClassifier\n",
        "2-using pipline and grid_search tuning \n",
        "3-using TfidfVectorizer\n",
        "(colsample_bytree=0.4, gamma=10,\n",
        "learning_rate=0.05, max_depth=10 n_estimators=700,\n",
        "silent=False,   subsample=0.8)\n",
        "private score  :0.79221\n",
        "public score :0.79512\n",
        "```\n",
        "\n"
      ],
      "metadata": {
        "id": "7edTKvG2Sh9x"
      }
    },
    {
      "cell_type": "code",
      "source": [
        ""
      ],
      "metadata": {
        "id": "zrQooARrZWyC"
      },
      "execution_count": null,
      "outputs": []
    }
  ]
}
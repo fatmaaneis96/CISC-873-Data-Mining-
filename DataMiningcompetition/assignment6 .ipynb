{
  "cells": [
    {
      "cell_type": "markdown",
      "metadata": {
        "id": "MEZDgUmCOVf5"
      },
      "source": [
        "# **Documentation**\n",
        "\n",
        "\n",
        "---"
      ]
    },
    {
      "cell_type": "markdown",
      "source": [
        "## **✔️ Answer the questions**\n",
        "🌈**Based on the provided template, describe the format of the input file (sdf file)**\n",
        "\n",
        " `SDFs (structure data files) consist of a series of molfiles joined together, together with some additional information about the compounds\n",
        " Structure Data Format (SDF) is a chemical file formats to represent multiple chemical structure records and associated data fields. SDF was developed and published by Molecular Design Limited (MDL) and became the the most widely used standard for importing and exporting information on chemicals. Below is a sample chemical record in SDF format:\n",
        "`. \n",
        "\n",
        "  ```\n",
        "    -OEChem-02271511112D\n",
        "\n",
        "    9  8  0     0  0  0  0  0  0999 V2000\n",
        "    0.5369    0.9749    0.0000 O   0  0  0  0  0  0  0  0  0  0  0  0\n",
        "    1.4030    0.4749    0.0000 C   0  0  0  0  0  0  0  0  0  0  0  0\n",
        "    2.2690    0.9749    0.0000 C   0  0  0  0  0  0  0  0  0  0  0  0\n",
        "    1.8015    0.0000    0.0000 H   0  0  0  0  0  0  0  0  0  0  0  0\n",
        "    1.0044    0.0000    0.0000 H   0  0  0  0  0  0  0  0  0  0  0  0\n",
        "    1.9590    1.5118    0.0000 H   0  0  0  0  0  0  0  0  0  0  0  0\n",
        "    2.8059    1.2849    0.0000 H   0  0  0  0  0  0  0  0  0  0  0  0\n",
        "    2.5790    0.4380    0.0000 H   0  0  0  0  0  0  0  0  0  0  0  0\n",
        "    0.0000    0.6649    0.0000 H   0  0  0  0  0  0  0  0  0  0  0  0\n",
        "  1  2  1  0  0  0  0\n",
        "  1  9  1  0  0  0  0\n",
        "  2  3  1  0  0  0  0\n",
        "  2  4  1  0  0  0  0\n",
        "  2  5  1  0  0  0  0\n",
        "  3  6  1  0  0  0  0\n",
        "  3  7  1  0  0  0  0\n",
        "  3  8  1  0  0  0  0\n",
        "M  END\n",
        "> <ID>\n",
        "00001\n",
        "> <DESCRIPTION>\n",
        "Solvent produced by yeast-based fermentation of sugars.\n",
        "$$$$\n",
        "\n",
        "\n",
        "`Each sample/molecule starts with header which tells about the \n",
        "name/title of the compound. Other sections includes information \n",
        "about Atom count, version number, connections etc. Atom block tells \n",
        "about the elements of the compound. Bond block block tells about the \n",
        "bonding structure of the compound. These both blocks \n",
        "are used in this assignment to get information about \n",
        "the compound and saving them \n",
        "in form of edges and nodes. Each node is the atom given \n",
        "in the chemical molecule.`\n",
        "\n",
        "\n"
      ],
      "metadata": {
        "id": "zPkrBmYkZUjX"
      }
    },
    {
      "cell_type": "markdown",
      "source": [
        "🌈**What are the input tensors to the neural network model (their meaning, not just symbol)? What is each of their dims and their meaning (e.g. batch_size)**\n",
        "\n",
        "`The input tensors in this network`\n",
        "\n",
        "```data: The data contains the nodes of the chemical compound in the tokenized form. Nodes for each compound are extracted, then they are tokenized using the tokenizer and finally padding is done using pad_sequence method. The shape for each batch is [batch_size*max_len_nodes], where batch_size is the number of samples in the batch and max_len_nodes is the length of tokenized nodes after padding is done.```\n",
        "\n",
        "```edge: edge is the input tensor which carries information about connections between atoms. The shape of edge is [sum_of_all_edges,2]. The sum_of_all_edges represents the sum(no. of edges of each sample) of the batch_size. For example in a batch of 3 samples, the number of edges in sample 1: 21, sample 2: 20 and sample 3: 40. So the size of edge tensor would be [81,2].```\n",
        "\n",
        "```node2graph: It is the input tensor which is used for segmented mean and contains information about segmented ids. The shape for each batch is [batch_size*max_len_nodes], where batch_size is the number of samples in the batch and max_len_nodes is the length of tokenized nodes after padding is done.```\n",
        "\n",
        "`\n",
        "\n",
        "\n"
      ],
      "metadata": {
        "id": "E5TSkc98d_X5"
      }
    },
    {
      "cell_type": "markdown",
      "source": [
        "🌈**For each dim of gnn_out, what does it symbolize? For each dim of avg, what does it symbolize?**\n",
        "\n",
        "`gnn_out: The gnn_out is of shape [batch_size_node_dimension,hidden layers], where batch_size_node_dimension is the dimension of the input data (node)` `vector (dimension of tokenized vector for the complete batch). It represents the aggregation output of the model for each hidden layer.`\n",
        "\n",
        "`avg: Average takes the segmented mean of the gnn_out based on the segmented ids. For each sample in the batch_size, the output of gnn_out is ``[tokenized_vector_dimension, hidden_layers]. Each sample has one segment id.` `Thus the segment_mean takes the mean of all the output data in the gnn_out output and represents one sample with one number for each hidden layer. The ` `final output of the avg tensor is of shape [batch_size, hidden_layer]. It is a way of collecting information for each sample and representing it in the form of mean data.`\n"
      ],
      "metadata": {
        "id": "aBqS-DSpkH_T"
      }
    },
    {
      "cell_type": "markdown",
      "source": [
        "🌈**What is the difference between segment_mean and tf.reduce_mean? For each dim of pred, what does it symbolize?**\n",
        "\n",
        "`segment_mean takes the mean of the data which have same segmented ids`\n",
        "\n",
        "`reduce_mean: computes the mean of elements across dimensions of a tensor given the arguments.`\n",
        "\n",
        "`pred: The final output (pred) tells about the probability of a chemical compound to be active for the cancer cell or not. The shape of pred is [batch_size,1]. Thus for each sample, the final output is a number which represents the probability associated with each chemical compound about its activity.`"
      ],
      "metadata": {
        "id": "w--ZyGPVhdbI"
      }
    },
    {
      "cell_type": "markdown",
      "source": [
        "🌈**What is the motivation/theory/idea to use multiple gcn layers comparing to just one? How many layers were used in the template?**\n",
        "\n",
        "`The default template implements the default setting of the number of layers in the gcn network. The default layer are 4 as given in the documentaion. The default message passing method is rgcn (Graph convolution layers). Using multiple gcn helps in incorporating all the graph complexity properly and thus creates a better model.`\n",
        "\n",
        "`I used 6 mechanism for gcn `"
      ],
      "metadata": {
        "id": "6TW7MFK3jBx2"
      }
    },
    {
      "cell_type": "markdown",
      "source": [
        "## ✔️**Problem Formulation**\n",
        "\n",
        "**1-Define the problem**\n",
        "\n",
        "`problem based on the graph data ,`\n",
        " `The task is to predict the anticancer activity of a chemical compound using the chemical structure of the compound. The chemical compound can be positive or negative against lung cancer cell and thus labelled as either 0 or 1`\n",
        "\n",
        "---\n",
        "2- **What is the input**\n",
        "\n",
        "`The data is in the form of graph which represents the chemical structure of the compound. Each sample of data contains information about the atoms and the connections between atoms of the molecule. So in this problem the features are the atoms and connections.`\n",
        "\n",
        "---\n",
        "**3-What is the output**\n",
        "\n",
        "`The ouput is The chemical compound can be positive or negative against lung cancer cell and thus labelled as either 0 or 1.`\n",
        "\n",
        "---\n",
        "**4-What data mining function is required**\n",
        "\n",
        "`the data mining function required is a binary classification`\n",
        "\n",
        "---\n",
        "\n",
        "**5- What could be the challenges**\n",
        "\n",
        "`first the data unbalanced so we should apply upsampling or downsampling to make the data be balanced `\n",
        "\n",
        "`second the gcn mechanism layer ,we should use the best one to get high prediction`\n",
        "\n",
        "`the data is more complex so we should find simple method to deal with it`\n",
        "\n",
        "`the data has nodes contains of some char so we should tokenize and embedding them`\n",
        "\n",
        "---\n",
        "**6-What is the impact**\n",
        "\n",
        "`Correct classification of chemical compound  saves time and effort in treating the disease`\n",
        "\n",
        "---\n",
        "\n",
        "**7-What is an ideal solution?**\n",
        "\n",
        "`the Ideal solution for this case ,resampling the  data to be balanced and using gcn mechanism (GGNN)`\n",
        "\n",
        " `using good optimizer such as Adam Optimizer`\n",
        "\n",
        " ---\n",
        "\n",
        "\n",
        "\n",
        "\n",
        "\n"
      ],
      "metadata": {
        "id": "uQRxS9cGjnkD"
      }
    },
    {
      "cell_type": "markdown",
      "source": [
        "What is the search space and what is the criteria to determine good/bad hyper-parameters?\n",
        "\n",
        "the search space that we want to search for it to achieve the bets performance like the type of messaging passing also num if hidden_dim also optimizer and learning rate , batch size, epoches, max_vocab, max_length,.... we tune many time and change these hyperparameter to achieve and reach the model that give us high accuracy but the most imortant less lose."
      ],
      "metadata": {
        "id": "0dOEdrz6eTpb"
      }
    },
    {
      "cell_type": "markdown",
      "source": [
        "## **Import Libraries**"
      ],
      "metadata": {
        "id": "eu63k4udjGoq"
      }
    },
    {
      "cell_type": "code",
      "execution_count": 1,
      "metadata": {
        "id": "lPe0q7j6U96w"
      },
      "outputs": [],
      "source": [
        "# Ignore  the warnings\n",
        "import warnings\n",
        "warnings.filterwarnings('ignore')\n",
        "# for dealing with arrays\n",
        "import numpy as np \n",
        "#for creating Progress Meters or Progress Bars\n",
        "from tqdm.notebook import tqdm\n",
        "#split data into feature and labels \n",
        "from sklearn.model_selection import train_test_split"
      ]
    },
    {
      "cell_type": "markdown",
      "source": [
        "## **Data Preparation**"
      ],
      "metadata": {
        "id": "x1feNGbfkwOJ"
      }
    },
    {
      "cell_type": "markdown",
      "source": [
        "\n",
        "\n",
        "```\n",
        "Read SDF format data (structured-data format)\n",
        "```\n",
        "\n"
      ],
      "metadata": {
        "id": "oq5gLPcklsJY"
      }
    },
    {
      "cell_type": "code",
      "execution_count": 2,
      "metadata": {
        "id": "7mMmityh8YN-"
      },
      "outputs": [],
      "source": [
        "'''method to read sdf file\n",
        "the chemical composition of a molecule is saved as SDF(structure data file) file\n",
        "sdf file store information about position of individual atom\n",
        "molecules are delimited by $$$$\n",
        "the atom block lines start with '    ' and have information about atoms(C,O,N,Cl..)\n",
        "bond block starts with ' ' and contains info about connection between atoms'''\n",
        "#define function to read file sdf \n",
        "def read_sdf(file):\n",
        "    with open(file, 'r') as rf: #opening the file in read mode\n",
        "        content = rf.read()     #reading the contents of the file\n",
        "    samples = content.split('$$$$') #split samples after every $$$$ \n",
        "#method to read each molecule configuration\n",
        "#s represents one molecule\n",
        "#define function to split data into nodes and its labels \n",
        "    def parse_sample(s):\n",
        "        lines = s.splitlines()  #splitting the text data to lines\n",
        "        links = []               #empty array for links\n",
        "        nodes = []               #empty array for nodes\n",
        "        label = 0\n",
        "        for l in lines:          #loop over each line\n",
        "            if l.strip() == '1.0':#if line has value 1.0 but label equal 1\n",
        "                label = 1\n",
        "            if l.strip() == '-1.0':#if line has value -1.0 but label equal 0\n",
        "                label = 0\n",
        "            if l.startswith('    '):#if the line start with '    ' set it as a node \n",
        "                feature = l.split()\n",
        "                node = feature[3]\n",
        "                nodes.append(node)\n",
        "            elif l.startswith(' '):#if the line has ' ' space white but it in lnk \n",
        "                lnk = l.split()\n",
        "                # edge: (from, to,) (1-based index)\n",
        "                if int(lnk[0]) - 1 < len(nodes):\n",
        "                    links.append((\n",
        "                        int(lnk[0])-1, \n",
        "                        int(lnk[1])-1, # zero-based index\n",
        "                        # int(lnk[2]) ignore edge weight\n",
        "                    ))\n",
        "        return nodes, np.array(links), label #then returning nodes, links and label\n",
        "    \n",
        "    return [parse_sample(s) for s in tqdm(samples) if len(s[0]) > 0] #parse_sample for each molecule\n",
        "                \n",
        "        \n",
        "        "
      ]
    },
    {
      "cell_type": "markdown",
      "source": [
        "## **Steps**"
      ],
      "metadata": {
        "id": "x_tmHFFu4MrO"
      }
    },
    {
      "cell_type": "markdown",
      "source": [
        "What is the experimental protocol used and how was it carried out?"
      ],
      "metadata": {
        "id": "lW6_j7hydFe_"
      }
    },
    {
      "cell_type": "markdown",
      "source": [
        "`The first step is to read the sdf file to get the information about the atoms and their connectivity in the compound. The atoms are described as nodes and connections are described as edges. The read_sdf method is used to read sdf file and the chemical composition of the compound.`"
      ],
      "metadata": {
        "id": "Cyw-Jy5v3-8n"
      }
    },
    {
      "cell_type": "markdown",
      "source": [
        "`The nodes(atoms) are given as characters (like ['O','N','Cl'....]). Thus it is treated as sequence of text data and best way to describe the text data sequence to tokenize the data and then adding the embeddig layer.`"
      ],
      "metadata": {
        "id": "ilaFHRFk4Jsv"
      }
    },
    {
      "cell_type": "markdown",
      "source": [
        "`Graph convolutional network is used in this assignment to calculate the probability of the output class. Different methods differ in implementing message passing methods as:`\n",
        "\n",
        "`R-GCN Method: (Graph convolution layers) Compute new graph states by neural message passing.`\n",
        "\n",
        "`R-GAT Method: (Relation graph attention network layer) Compute new graph states by neural message passing using attention.`\n",
        "\n",
        "`R-GIN Method: (Relation Graph Isomorphism Network message propogation layer) Compute new graph states by neural message passing using MLPs for state updates and message computation.`\n",
        "\n",
        "`GGNN Method: (Gated graph neural network layer) Compute new graph states by neural message passing and gated units on the nodes. This method works best for this problem as given in Aggregation Method 2 below.`"
      ],
      "metadata": {
        "id": "6O30J-SK4Qba"
      }
    },
    {
      "cell_type": "code",
      "execution_count": 3,
      "metadata": {
        "colab": {
          "base_uri": "https://localhost:8080/",
          "height": 49,
          "referenced_widgets": [
            "a0eacfc8f0c24e949db2ca3e2ade848c",
            "a3eb89bfd3384eb6a1ef43b412a6f4b8",
            "4adb9d75180e4a989436e5cafd7de072",
            "16787c6fc7644378a60119ecfb90e4c6",
            "37e88377f2e84c7aa102786dd2651908",
            "42b4a81ef46c46748094a2fea57c9659",
            "b53cd8e7eaaf4a4aa556943d445142b5",
            "a1c7d209e6094d4680c91098a0bc390b",
            "14082a9bdd7a4c898247d65b234af0bc",
            "d03efa0893734bb19d487e2300c5329a",
            "059143257b66431cb240373aa3727453"
          ]
        },
        "id": "vjiRDgVW8YOB",
        "outputId": "e810e913-31ed-49fe-b701-7ea03162b615"
      },
      "outputs": [
        {
          "output_type": "display_data",
          "data": {
            "text/plain": [
              "  0%|          | 0/25024 [00:00<?, ?it/s]"
            ],
            "application/vnd.jupyter.widget-view+json": {
              "version_major": 2,
              "version_minor": 0,
              "model_id": "a0eacfc8f0c24e949db2ca3e2ade848c"
            }
          },
          "metadata": {}
        }
      ],
      "source": [
        "#read train file sdf by calling function read_sdf()\n",
        "training_set = read_sdf('train.sdf')\n",
        "#split training data to train and validation by test size =0.15\n",
        "training_set, validation_set = train_test_split(training_set, test_size=0.15,random_state=35)"
      ]
    },
    {
      "cell_type": "code",
      "execution_count": 4,
      "metadata": {
        "colab": {
          "base_uri": "https://localhost:8080/",
          "height": 49,
          "referenced_widgets": [
            "9f53cac53acb4bd29189323cad4716d7",
            "663bce1224004e71b34a788ab55f6070",
            "c03def973aba47b1bc909ae873dec24d",
            "54ee04594c434581bd4030e4ad9634b0",
            "da7efc0130b442e6b86f548e4b7ffdc4",
            "f2842d1118f541bfa994b6d91fb5844a",
            "17ba74ed5a7a499c93f48370c8993685",
            "5ea66f1844654cc98907bd555e9d1a6f",
            "5c726edd16fe4d14829f43c32c4a2304",
            "82c5d5ac52e448e0809b8888c374756b",
            "1b5feda8d95f4e298863621519725d99"
          ]
        },
        "id": "AhjPtcXj8YOE",
        "outputId": "ea5195b5-0b28-4a94-f9cf-e4cff54dc7d1"
      },
      "outputs": [
        {
          "output_type": "display_data",
          "data": {
            "text/plain": [
              "  0%|          | 0/12326 [00:00<?, ?it/s]"
            ],
            "application/vnd.jupyter.widget-view+json": {
              "version_major": 2,
              "version_minor": 0,
              "model_id": "9f53cac53acb4bd29189323cad4716d7"
            }
          },
          "metadata": {}
        }
      ],
      "source": [
        "#read test file sdf by calling function read_sdf()\n",
        "testing_set  = read_sdf('test_x.sdf')"
      ]
    },
    {
      "cell_type": "code",
      "execution_count": 5,
      "metadata": {
        "colab": {
          "base_uri": "https://localhost:8080/"
        },
        "id": "DeNLTYOA8YOF",
        "outputId": "08a24132-ee9c-47a6-a209-0ec040d06209"
      },
      "outputs": [
        {
          "output_type": "stream",
          "name": "stdout",
          "text": [
            "(['P', 'O', 'O', 'O', 'N', 'N', 'N', 'C', 'C', 'C', 'C', 'C', 'C', 'C', 'C', 'C', 'C'], array([[ 0,  1],\n",
            "       [ 0,  2],\n",
            "       [ 0,  3],\n",
            "       [ 0,  7],\n",
            "       [ 1, 11],\n",
            "       [ 2, 12],\n",
            "       [ 4,  9],\n",
            "       [ 4, 13],\n",
            "       [ 5,  9],\n",
            "       [ 5, 14],\n",
            "       [ 6, 10],\n",
            "       [ 7,  8],\n",
            "       [ 7, 10],\n",
            "       [ 8,  9],\n",
            "       [11, 15],\n",
            "       [12, 16],\n",
            "       [13, 14]]), 0)\n"
          ]
        }
      ],
      "source": [
        "# this show how data look like (nodes and label and links)\n",
        "print(training_set[1])"
      ]
    },
    {
      "cell_type": "markdown",
      "source": [
        "\n",
        "\n",
        "---"
      ],
      "metadata": {
        "id": "Sc7MEhLHosyN"
      }
    },
    {
      "cell_type": "markdown",
      "metadata": {
        "id": "1V3zZcYn8YOG"
      },
      "source": [
        "## **Visualizing/Inspecting a Sample**"
      ]
    },
    {
      "cell_type": "markdown",
      "source": [
        "\n",
        "\n",
        "```\n",
        "NetworkX is a Python language software package for the \n",
        "creation, manipulation, and study of the structure, dynamics, \n",
        "and function of complex networks. It is used to study large \n",
        "complex networks represented in form of graphs with nodes and edges. \n",
        "Using networkx we can load and store complex networks\n",
        "```\n",
        "\n"
      ],
      "metadata": {
        "id": "iQb2r68Oqfit"
      }
    },
    {
      "cell_type": "code",
      "execution_count": 6,
      "metadata": {
        "id": "ld_yNAzH8YOH"
      },
      "outputs": [],
      "source": [
        "# --quiet to control the console log level.\n",
        "!pip install --quiet networkx\n",
        "import networkx as nx #import networkx to deal with nodes and edges\n",
        "# data visualisation and manipulation\n",
        "import matplotlib.pyplot as plt\n",
        "# Builtin colormaps, colormap handling utilities, and the ScalarMappable mixin.\n",
        "from matplotlib import cm \n",
        "colors = cm.rainbow(np.linspace(0, 1, 50))"
      ]
    },
    {
      "cell_type": "code",
      "execution_count": 7,
      "metadata": {
        "id": "kCkj_m6l8YOI"
      },
      "outputs": [],
      "source": [
        "#method to visualize the compound graph\n",
        "#atoms are given as nodes\n",
        "#the connections are defined as edges\n",
        "def visualize(sample):\n",
        "    G=nx.Graph() #initiating an instance of Graph\n",
        "    nodes = sample[0]  #atoms as nodes\n",
        "    edges = sample[1]  #connections as edges\n",
        "    \n",
        "    labeldict={}  #empty dictionary for labels for the nodes\n",
        "    node_color=[] #empty array for each node color\n",
        "    for i,n in enumerate(nodes): #for each node in the sample\n",
        "        G.add_node(i) #adding node to the graph each node as (0,1,2,3..)\n",
        "        labeldict[i]=n  #dictionary building with [key,value] as [0:'C']\n",
        "        node_color.append(colors[hash(n)%len(colors)])\n",
        "\n",
        "    # a list of nodes:\n",
        "    for e in edges: #for each edge\n",
        "        G.add_edge(e[0], e[1]) #adding egde to the graph from one connection to other connection\n",
        "        \n",
        "#drawing the graph with labels for nodes as atoms and connections as edges\n",
        "    nx.draw(G, labels=labeldict, with_labels = True, node_color = node_color)\n",
        "    plt.show()\n",
        "   #returns graph\n",
        "    return G"
      ]
    },
    {
      "cell_type": "code",
      "execution_count": 8,
      "metadata": {
        "colab": {
          "base_uri": "https://localhost:8080/",
          "height": 336
        },
        "id": "MHg-H5Xm8YOO",
        "outputId": "062494c3-6bf7-4f1c-b793-330b894a4515"
      },
      "outputs": [
        {
          "output_type": "display_data",
          "data": {
            "text/plain": [
              "<Figure size 432x288 with 1 Axes>"
            ],
            "image/png": "[encoded data removed]"
          },
          "metadata": {}
        },
        {
          "output_type": "execute_result",
          "data": {
            "text/plain": [
              "<networkx.classes.graph.Graph at 0x7f998750c450>"
            ]
          },
          "metadata": {},
          "execution_count": 8
        }
      ],
      "source": [
        "#displaying one sample\n",
        "plt.clf() #to clear the current figure.\n",
        "visualize(training_set[60])#visualize first 60 nodes of training set"
      ]
    },
    {
      "cell_type": "markdown",
      "metadata": {
        "id": "m70fzivz8YOQ"
      },
      "source": [
        "## **Preprocessing**"
      ]
    },
    {
      "cell_type": "markdown",
      "source": [
        "**Data Preprocessing**\n",
        "\n",
        "The dataset used in this experiment contains 121 SMT-LIB files, which can be all transformed to\n",
        "different Constrained Horn Clauses (CHC) files. From those CHC files, we can draw Horn graphs\n",
        "and generate initial predicates. The GNN input is a json file that contains essential elements (e.g.\n",
        "nodes and edges information) for the subsequent training of GNN. \n",
        "\n",
        "---\n",
        "\n",
        "After reading the inputs from the json files, these raw inputs still need more adjustments so that\n",
        "they can be shaped into appropriate sizes for feeding into the algorithm. The detailed steps are\n",
        "shown below in Fig 3.2. Firstly, the build_vocabulary function uses the graph node symbols to\n",
        "build the vocabulary set and token map.\n",
        "In the vocabulary set, the build_vocabulary function eliminates the repetitive node symbols and\n",
        "adds in a default set of “unknown symbols”. In the token map, it is a dictionary that contains the\n",
        "map of the node symbols and a unique number. Then, the variables will go through the\n",
        "form_GNN_inputs and labels function which uses the token map to obtain the\n",
        "tokenized_node_label_ids. Tokenized_node_label_ids is the list of the numbers that represents\n",
        "the node symbols according to the token map. After this stage, the data will be collected in a\n",
        "dictionary called for later use.\n",
        "\n",
        "![Screenshot (23).png](data:image/png;base64,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)"
      ],
      "metadata": {
        "id": "LZIolnf-Eut4"
      }
    },
    {
      "cell_type": "code",
      "execution_count": 9,
      "metadata": {
        "id": "xZd-q2fS8YOR"
      },
      "outputs": [],
      "source": [
        "#Tokenizer importing \n",
        "from tensorflow.keras.preprocessing.text import Tokenizer\n",
        "#vocabulary size\n",
        "max_vocab = 500 #maximum vocab of words in each sentances 500\n",
        "max_len = 100 #max length of sentences \n",
        "\n",
        "\n",
        "# build vocabulary from training set only for nodes characters\n",
        "all_nodes = [s[0] for s in training_set]\n",
        "#training tokenizer\n",
        "tokenizer = Tokenizer(num_words=max_vocab)\n",
        "tokenizer.fit_on_texts(all_nodes)"
      ]
    },
    {
      "cell_type": "code",
      "execution_count": 10,
      "metadata": {
        "id": "FwY13Rmp8YOS"
      },
      "outputs": [],
      "source": [
        "# pad_sequences is used to ensure that all sequences in a list have the same length.\n",
        "# By default this is done by padding 0 in the beginning of each sequence until\n",
        "#each sequence has the same length as the longest sequence\n",
        "from tensorflow.keras.preprocessing.sequence import pad_sequences\n",
        "#random data set \n",
        "import random\n",
        "random.seed(1)\n",
        "#define function to prepare single batch from samples \n",
        "def prepare_single_batch(samples):\n",
        "    sample_nodes = [s[0] for s in samples]  #nodes characters array\n",
        "    sample_nodes = tokenizer.texts_to_sequences(sample_nodes)#tokenizing the sample nodes\n",
        "    sample_nodes = pad_sequences(sample_nodes, padding='post') #pad_sequences for each sample node with post padding\n",
        "    max_nodes_len = np.shape(sample_nodes)[1]   #shape : (num of samples ,number of nodes)\n",
        "    edges = [s[1]+i*max_nodes_len for i,s in enumerate(samples)] #s[1]:links,i*max_nodes_len :to start indexing from current node not from 0 again\n",
        "    edges = [e for e in edges if len(e) > 0] #make sure all elements are non_zero\n",
        "    node_to_graph = [[i]*max_nodes_len for i in range(len(samples))]\n",
        "    \n",
        "    all_nodes = np.reshape(sample_nodes, -1)#concatenate nodes of all samples together \n",
        "    all_edges = np.concatenate(edges) #concatenate edges of all samples together (because edge is tuple ,doesn't hae reshape ,output is 20)\n",
        "\n",
        "    node_to_graph = np.reshape(node_to_graph, -1)\n",
        "    #returns a dictionary of features(data,edges,node2grah) and label\n",
        "    return {\n",
        "        'data': all_nodes,\n",
        "        'edges': all_edges,\n",
        "        'node2grah': node_to_graph,\n",
        "    }, np.array([s[2] for s in samples])\n",
        "\n",
        "#generating batch with given btch_size\n",
        "def gen_batch(dataset, batch_size=16, repeat=False, shuffle=True):\n",
        "    while True: #infinity loop\n",
        "        dataset = list(dataset) #data in the array\n",
        "        if shuffle:             # if shuffle is True\n",
        "            random.shuffle(dataset) #return data shuffled \n",
        "        l = len(dataset)\n",
        "        for ndx in range(0, l, batch_size):#loop for  creating batches from given dataset\n",
        "            batch_samples = dataset[ndx:min(ndx + batch_size, l)] #creating batch samples with given batch_size\n",
        "            yield prepare_single_batch(batch_samples)  #returning a generator with prepared batches\n",
        "        if not repeat:  #breaking loop if repeat is false\n",
        "            break\n"
      ]
    },
    {
      "cell_type": "code",
      "execution_count": 11,
      "metadata": {
        "colab": {
          "base_uri": "https://localhost:8080/"
        },
        "id": "gXZevLjs8YOT",
        "outputId": "2c208277-5813-4f38-a7c7-f353deb5d343"
      },
      "outputs": [
        {
          "output_type": "stream",
          "name": "stdout",
          "text": [
            "data\n",
            "[5 2 2 2 3 3 1 1 1 1 1 1 1 1 1 1 1 1 1 1 1 1 4 2 3 3 3 3 1 1 1 1 1 1 1 1 1\n",
            " 0 0 0 0 0 0 0 4 2 1 1 1 1 1 1 1 1 1 1 1 1 1 1 0 0 0 0 0 0 2 2 3 3 3 1 1 1\n",
            " 1 1 1 1 1 0 0 0 0 0 0 0 0 0]\n",
            "edges\n",
            "[[ 0 16]\n",
            " [ 1  8]\n",
            " [ 1  9]\n",
            " [ 2  9]\n",
            " [ 3 11]\n",
            " [ 4  5]\n",
            " [ 4 11]\n",
            " [ 5 17]\n",
            " [ 5 18]\n",
            " [ 6  9]\n",
            " [ 6 10]\n",
            " [ 6 11]\n",
            " [ 7  8]\n",
            " [ 7 10]\n",
            " [ 7 12]\n",
            " [ 8 13]\n",
            " [12 14]\n",
            " [13 15]\n",
            " [14 15]\n",
            " [14 16]\n",
            " [17 19]\n",
            " [18 20]\n",
            " [19 21]\n",
            " [20 21]\n",
            " [22 29]\n",
            " [22 36]\n",
            " [23 33]\n",
            " [24 30]\n",
            " [24 33]\n",
            " [25 26]\n",
            " [25 30]\n",
            " [26 32]\n",
            " [27 34]\n",
            " [28 29]\n",
            " [28 30]\n",
            " [28 32]\n",
            " [29 31]\n",
            " [31 33]\n",
            " [31 34]\n",
            " [32 35]\n",
            " [44 46]\n",
            " [44 55]\n",
            " [45 48]\n",
            " [46 47]\n",
            " [46 48]\n",
            " [47 52]\n",
            " [47 53]\n",
            " [48 51]\n",
            " [49 50]\n",
            " [49 51]\n",
            " [49 56]\n",
            " [50 54]\n",
            " [50 57]\n",
            " [52 54]\n",
            " [53 55]\n",
            " [56 58]\n",
            " [57 59]\n",
            " [58 59]\n",
            " [66 71]\n",
            " [66 73]\n",
            " [67 74]\n",
            " [67 77]\n",
            " [68 71]\n",
            " [68 72]\n",
            " [69 73]\n",
            " [70 76]\n",
            " [71 74]\n",
            " [72 73]\n",
            " [72 76]\n",
            " [74 75]\n",
            " [75 78]\n",
            " [77 78]]\n",
            "node2grah\n",
            "[0 0 0 0 0 0 0 0 0 0 0 0 0 0 0 0 0 0 0 0 0 0 1 1 1 1 1 1 1 1 1 1 1 1 1 1 1\n",
            " 1 1 1 1 1 1 1 2 2 2 2 2 2 2 2 2 2 2 2 2 2 2 2 2 2 2 2 2 2 3 3 3 3 3 3 3 3\n",
            " 3 3 3 3 3 3 3 3 3 3 3 3 3 3]\n",
            "label [0 0 0 0]\n"
          ]
        }
      ],
      "source": [
        "# showing one batch of data set it has label , nodes and links\n",
        "for train_batch in gen_batch(training_set, batch_size=4):\n",
        "    for k,v in train_batch[0].items(): #batch zero has nodes and links \n",
        "        print(k)\n",
        "        print(v)\n",
        "        pass   #put batch[1] has label of this batch\n",
        "    print('label', train_batch[1])\n",
        "    break"
      ]
    },
    {
      "cell_type": "markdown",
      "source": [
        "**After the data preprocessing**, it is the time to train the model. The main task used in this section is\n",
        "called node binary classification task. This kind of entity classification is a common use for\n",
        "RGCN , the prediction task would be predicting the labels of\n",
        "the template nodes. To show the entire training process and the relationship of the input and\n",
        "output data"
      ],
      "metadata": {
        "id": "EbdhM4twF0lZ"
      }
    },
    {
      "cell_type": "markdown",
      "source": [
        "![Screenshot (24).png](data:image/png;base64,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)"
      ],
      "metadata": {
        "id": "3BNc_j2PGlHP"
      }
    },
    {
      "cell_type": "markdown",
      "source": [
        "### Graph Neural Networks in TF2\n"
      ],
      "metadata": {
        "id": "j9vl3u2r1jq5"
      }
    },
    {
      "cell_type": "markdown",
      "source": [
        "```Graph Network (GN) block and Notation```\n",
        "\n",
        "Graph neural networks operate on the graphs and structure their computation accordingly [15], a\n",
        "graph as shown below in Fig 2.3 is formed by nodes and edges. Usually the nodes are denoted as\n",
        "edges are denoted as and as a graph-level attribute represents global attribute, so\n",
        "\n",
        "generally a graph is defined as a 3 tuple G = (u, V, E) \n",
        "![Screenshot (22).png](data:image/png;base64,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)\n"
      ],
      "metadata": {
        "id": "N98yGoroBm2p"
      }
    },
    {
      "cell_type": "code",
      "execution_count": 12,
      "metadata": {
        "id": "EJ3hAhY_8YOU",
        "colab": {
          "base_uri": "https://localhost:8080/"
        },
        "outputId": "6866df5d-f6bd-4cfc-972c-deb921239575"
      },
      "outputs": [
        {
          "output_type": "stream",
          "name": "stdout",
          "text": [
            "\u001b[K     |████████████████████████████████| 54 kB 2.4 MB/s \n",
            "\u001b[K     |████████████████████████████████| 73 kB 1.6 MB/s \n",
            "\u001b[K     |████████████████████████████████| 346 kB 45.8 MB/s \n",
            "\u001b[K     |████████████████████████████████| 1.2 MB 39.8 MB/s \n",
            "\u001b[K     |████████████████████████████████| 134 kB 42.3 MB/s \n",
            "\u001b[K     |████████████████████████████████| 462 kB 48.8 MB/s \n",
            "\u001b[K     |████████████████████████████████| 79 kB 7.1 MB/s \n",
            "\u001b[K     |████████████████████████████████| 178 kB 48.1 MB/s \n",
            "\u001b[K     |████████████████████████████████| 3.6 MB 48.4 MB/s \n",
            "\u001b[K     |████████████████████████████████| 85 kB 3.9 MB/s \n",
            "\u001b[K     |████████████████████████████████| 41 kB 535 kB/s \n",
            "\u001b[?25h  Building wheel for tf2-gnn (setup.py) ... \u001b[?25l\u001b[?25hdone\n",
            "\u001b[31mERROR: pip's dependency resolver does not currently take into account all the packages that are installed. This behaviour is the source of the following dependency conflicts.\n",
            "arviz 0.11.4 requires typing-extensions<4,>=3.7.4.3, but you have typing-extensions 4.1.1 which is incompatible.\u001b[0m\n"
          ]
        }
      ],
      "source": [
        "#first installing tf2_gnn\n",
        "!pip install --quiet tf2_gnn\n",
        "# https://github.com/microsoft/tf2-gnn\n",
        "# https://github.com/microsoft/tf2-gnn/blob/master/tf2_gnn/layers/gnn.py\n",
        "#then we will use its layer in our model train \n",
        "from tf2_gnn.layers.gnn import GNN, GNNInput"
      ]
    },
    {
      "cell_type": "markdown",
      "source": [
        "## **Trail_1**"
      ],
      "metadata": {
        "id": "i1ldtraS4aw4"
      }
    },
    {
      "cell_type": "markdown",
      "source": [
        " **Steps**\n",
        "\n",
        "* `in this trail I will use Embedding and tokenizer for nodes`\n",
        "\n",
        "* `features of node was embedded `\n",
        "\n",
        "* `then I will define gnn input as a variable to define all input layers`\n",
        "\n",
        "* ` I will use default layers of gnn but I will set Params (hidden_dim) by  value 32 ` \n",
        "\n",
        "* in this trail I will use **message_calculation_class** : **\"GGNN\"**"
      ],
      "metadata": {
        "id": "XsPEQ7DM4i7z"
      }
    },
    {
      "cell_type": "markdown",
      "source": [
        "**Graph neural network (GNNs)**\n",
        "\n",
        "is a way of analysing complex problems by portraying them with\n",
        "compositions and interactions between the entities [3]. By structuring and reasoning about the\n",
        "relations, the connectivity of the entities was introduced and utilized in this train of thought. In\n",
        "this way, by aligning the relational structure\n",
        "\n",
        "\n"
      ],
      "metadata": {
        "id": "7XKdU2Qh-Vn4"
      }
    },
    {
      "cell_type": "markdown",
      "source": [
        " **Graph Neural Networks in TensorFlow2**\n",
        "\n",
        "The implementation of the graph neural network in this thesis is an open source framework called\n",
        "tensorflow-2 graph neural network(tf2-gnn)1\n",
        ". It provides the implementation and training scripts\n",
        "of several kinds of graph neural networks based on TensorFlow 2.0 "
      ],
      "metadata": {
        "id": "m3l0SCv2DBAp"
      }
    },
    {
      "cell_type": "markdown",
      "source": [
        "**Embedding Layer**\n",
        "\n",
        "there are several layers stacked in the node binary classification task for\n",
        "processing the data, the first layer is the embedding layer. Normally machine learning models\n",
        "take vector as input instead of string, therefore the node features need to be vectorized [20]. And\n",
        "in this thesis in order to represent the words as numerical values, the word embedding method is\n",
        "used. In this method, the length of each vector that specifies each word can be customized.\n",
        "Additionally, the dense representation of the words are trainable values, which are also the\n",
        "weights learnt during the training [20], the embedding will have a\n",
        "matrix of size vocabulary_size by number of the dimension of output. In this experiment, the\n",
        "dimension is set as 64 and the number of the vocabulary varies from different graphs\n",
        "`\n",
        "\n"
      ],
      "metadata": {
        "id": "KAzTTyMgHJGY"
      }
    },
    {
      "cell_type": "markdown",
      "source": [
        "**GNN Layer**\n",
        "\n",
        "Next layer stacked in the predicates selection task is the GNN layer. This prebuilt layer is\n",
        "included in the tf2-gnn frame. The GNN layer takes four inputs which are node features,\n",
        "adjacency list, node to graph map and number of the graphs. When calling for the GNN layer in\n",
        "the task, the embedded node label from the previous embedding layer will be fed into the node\n",
        "feature. Meanwhile, the adjacency list and node to graph map from inputs will be taken as the\n",
        "GNN input as well. Number of the graphs implies the number of the graphs in the current batch"
      ],
      "metadata": {
        "id": "vYXdG879JnJa"
      }
    },
    {
      "cell_type": "markdown",
      "source": [
        "Inside the GNN layer there are also several layers such as message passing layer, global exchange\n",
        "layer and dense layer. In the message passing layer, for implementing the message passing\n",
        "neural network ,This layer will provide the frame for continuous\n",
        "neighborhood aggregation by calculating the messages passed from a source node to target node.\n",
        "In this layer an extended version of the GGNN model is implemented. This model utilizes the\n",
        "multi-layer perceptrons(MLP) to learn aggregation and updates. The updates node representation"
      ],
      "metadata": {
        "id": "0COrhqrrKL-O"
      }
    },
    {
      "cell_type": "code",
      "execution_count": 13,
      "metadata": {
        "colab": {
          "base_uri": "https://localhost:8080/"
        },
        "id": "rnHUe4sZ8YOV",
        "outputId": "98850618-faad-4213-aedb-cbb2a9dc6252"
      },
      "outputs": [
        {
          "output_type": "stream",
          "name": "stdout",
          "text": [
            "gnn_out KerasTensor(type_spec=TensorSpec(shape=(None, 32), dtype=tf.float32, name=None), name='gnn/StatefulPartitionedCall:0', description=\"created by layer 'gnn'\")\n",
            "mean: KerasTensor(type_spec=TensorSpec(shape=(None, 32), dtype=tf.float32, name=None), name='tf.math.segment_mean/SegmentMean:0', description=\"created by layer 'tf.math.segment_mean'\")\n",
            "pred: KerasTensor(type_spec=TensorSpec(shape=(None, 1), dtype=tf.float32, name=None), name='dense/Sigmoid:0', description=\"created by layer 'dense'\")\n",
            "Model: \"model\"\n",
            "__________________________________________________________________________________________________\n",
            " Layer (type)                   Output Shape         Param #     Connected to                     \n",
            "==================================================================================================\n",
            " input_3 (InputLayer)           [(None,)]            0           []                               \n",
            "                                                                                                  \n",
            " input_1 (InputLayer)           [(None,)]            0           []                               \n",
            "                                                                                                  \n",
            " tf.math.reduce_max (TFOpLambda  ()                  0           ['input_3[0][0]']                \n",
            " )                                                                                                \n",
            "                                                                                                  \n",
            " embedding (Embedding)          (None, 60)           30000       ['input_1[0][0]']                \n",
            "                                                                                                  \n",
            " input_2 (InputLayer)           [(None, 2)]          0           []                               \n",
            "                                                                                                  \n",
            " tf.__operators__.add (TFOpLamb  ()                  0           ['tf.math.reduce_max[0][0]']     \n",
            " da)                                                                                              \n",
            "                                                                                                  \n",
            " gnn (GNN)                      (None, 32)           49088       ['embedding[0][0]',              \n",
            "                                                                  'input_2[0][0]',                \n",
            "                                                                  'input_3[0][0]',                \n",
            "                                                                  'tf.__operators__.add[0][0]']   \n",
            "                                                                                                  \n",
            " tf.math.segment_mean (TFOpLamb  (None, 32)          0           ['gnn[0][0]',                    \n",
            " da)                                                              'input_3[0][0]']                \n",
            "                                                                                                  \n",
            " dense (Dense)                  (None, 1)            33          ['tf.math.segment_mean[0][0]']   \n",
            "                                                                                                  \n",
            "==================================================================================================\n",
            "Total params: 79,121\n",
            "Trainable params: 79,121\n",
            "Non-trainable params: 0\n",
            "__________________________________________________________________________________________________\n"
          ]
        }
      ],
      "source": [
        "#import tensorflow framework\n",
        "import tensorflow as tf \n",
        "# segment_mean is used to find the mean of elements in segments of a tensor.\n",
        "from tensorflow.math import segment_mean\n",
        "#import keras \n",
        "from tensorflow import keras\n",
        "#Input() is used to instantiate a Keras tensor.\n",
        "from tensorflow.keras import Input, Model\n",
        "#Embedding layer enables us to convert each word into a fixed length vector of defined size\n",
        "from tensorflow.keras.layers import Embedding, Dense\n",
        "#import optimizers\n",
        "from tensorflow.keras.optimizers import Adam ,SGD,RMSprop\n",
        "'''\n",
        "\n",
        "To understand the dimensions:\n",
        "Let's assume the batch contains 10 samples of data.\n",
        "The nodes are tokenized using 44 dimension array that is each sample node is of shape [44]\n",
        "Thus 10 samples are of shape [440] after applying get_batch method\n",
        "node2graph is also of shape [440] like [0,0,0,0,0,...,1,1,1,1,....2,2,2,....] each number is repeated 44 times [0,0,0,0,... 44 times]\n",
        "Lets assume edges are of size [257,2]\n",
        "\n",
        "The GNN layer takes a GNNInput named tuple as input, which encapsulates initial node features, adjacency lists, and auxiliary information.\n",
        "\n",
        "'''\n",
        "\n",
        "data = keras.Input(batch_shape=(None,)) #Input layer for nodes (tokenized text data) \n",
        "\n",
        "# the first dim is different to the previous one. it is the total number of edges in this batch\n",
        "edge = keras.Input(batch_shape=(None, 2), dtype=tf.int32) \n",
        "node2graph = keras.Input(batch_shape=(None,), dtype=tf.int32)\n",
        "embeded = Embedding(tokenizer.num_words, 60)(data) #embedding layer over data with each token embedded as  size vector eg. [440,50]\n",
        "\n",
        "# number of graphs (number of samples)\n",
        "num_graph = tf.reduce_max(node2graph)+1  #calculating number of samples (or min(batch_size,no._of_samples))   \n",
        "\n",
        "#gnn_input layer with inputs as defined above\n",
        "gnn_input = GNNInput(\n",
        "    node_features=embeded,\n",
        "    adjacency_lists=(edge,),\n",
        "    node_to_graph_map=node2graph, \n",
        "    num_graphs=num_graph,\n",
        ")\n",
        "# https://github.com/microsoft/tf2-gnn/blob/master/tf2_gnn/layers/gnn.py\n",
        "#\"message_calculation_class\" configures the message passing style. \n",
        "# This chooses the tf2_gnn.layers.message_passing.* layer used in each step.\n",
        "params = GNN.get_default_hyperparameters()\n",
        "params[\"hidden_dim\"] = 32 #defining hidden dimension of the gnn layer\n",
        "#use GGNN as a calculation class \n",
        "params[\"message_calculation_class\"]= \"GGNN\" #Gated Graph Neural Networks\n",
        "#gnn layer with defined hyperparameters\n",
        "gnn_layer = GNN(params)\n",
        "#gnn output layer \n",
        "gnn_out = gnn_layer(gnn_input)\n",
        "\n",
        "print('gnn_out', gnn_out)\n",
        "\n",
        "# https://www.tensorflow.org/api_docs/python/tf/math/segment_mean\n",
        "#calculating segmented mean based on segment_ids\n",
        "avg = segment_mean(\n",
        "    data=gnn_out,\n",
        "    segment_ids=node2graph\n",
        ")\n",
        "print('mean:', avg)\n",
        "\n",
        "pred = Dense(1, activation='sigmoid')(avg)\n",
        "print('pred:', pred)\n",
        "\n",
        "#building model \n",
        "#inputs are data,edges and node2graph\n",
        "#input: dictionary\n",
        "#output: prediction value from dense layer\n",
        "model = Model(\n",
        "    inputs={                   # input \n",
        "        'data': data,\n",
        "        'edges': edge,\n",
        "        'node2grah': node2graph,\n",
        "    },\n",
        "    outputs=pred              #output \n",
        ")\n",
        "#printing summary of the model\n",
        "model.summary() "
      ]
    },
    {
      "cell_type": "markdown",
      "source": [
        "`When finished with the GNN layer, the graph representation will be gathered and sent to MLPs to`\n",
        "`perform the binary classification task. In the compute_task_output method, it implements the`\n",
        "`regression layer that is formed by dense layers which are simple multilayer perceptrons (MLP).`\n",
        "`These regression layers are used to perform binary classification task on gathered nodes`"
      ],
      "metadata": {
        "id": "7xR21KXlJPxd"
      }
    },
    {
      "cell_type": "code",
      "execution_count": 14,
      "metadata": {
        "id": "K_ZgoMMF8YOW"
      },
      "outputs": [],
      "source": [
        "model.compile(\n",
        "    optimizer=tf.keras.optimizers.Adam(), #use Adam as optimizer \n",
        "    loss='BinaryCrossentropy', #label is binary classification so I used  BinaryCrossentropy \n",
        "    metrics=['AUC']            #as leaderbord metrics I used AUC\n",
        ")"
      ]
    },
    {
      "cell_type": "code",
      "execution_count": 16,
      "metadata": {
        "colab": {
          "base_uri": "https://localhost:8080/"
        },
        "id": "8yakiRqe8YOX",
        "outputId": "15e9126e-bb88-4ce0-af8c-5574e0dfcc5e"
      },
      "outputs": [
        {
          "output_type": "stream",
          "name": "stdout",
          "text": [
            "Epoch 1/10\n",
            "1330/1330 [==============================] - 29s 22ms/step - loss: 0.1930 - auc: 0.6157 - val_loss: 0.1678 - val_auc: 0.6785\n",
            "Epoch 2/10\n",
            "1330/1330 [==============================] - 28s 21ms/step - loss: 0.1857 - auc: 0.6664 - val_loss: 0.1669 - val_auc: 0.6994\n",
            "Epoch 3/10\n",
            "1330/1330 [==============================] - 37s 28ms/step - loss: 0.1788 - auc: 0.7028 - val_loss: 0.1619 - val_auc: 0.7035\n",
            "Epoch 4/10\n",
            "1330/1330 [==============================] - 28s 21ms/step - loss: 0.1739 - auc: 0.7398 - val_loss: 0.1648 - val_auc: 0.7303\n",
            "Epoch 5/10\n",
            "1330/1330 [==============================] - 28s 21ms/step - loss: 0.1717 - auc: 0.7527 - val_loss: 0.1553 - val_auc: 0.7362\n",
            "Epoch 6/10\n",
            "1330/1330 [==============================] - 48s 36ms/step - loss: 0.1707 - auc: 0.7639 - val_loss: 0.1569 - val_auc: 0.7480\n",
            "Epoch 7/10\n",
            "1330/1330 [==============================] - 45s 34ms/step - loss: 0.1680 - auc: 0.7793 - val_loss: 0.1624 - val_auc: 0.7500\n",
            "Epoch 8/10\n",
            "1330/1330 [==============================] - 34s 26ms/step - loss: 0.1657 - auc: 0.7853 - val_loss: 0.1614 - val_auc: 0.7491\n",
            "Epoch 9/10\n",
            "1330/1330 [==============================] - 28s 21ms/step - loss: 0.1645 - auc: 0.7926 - val_loss: 0.1612 - val_auc: 0.7577\n",
            "Epoch 10/10\n",
            "1330/1330 [==============================] - 32s 24ms/step - loss: 0.1618 - auc: 0.8073 - val_loss: 0.1536 - val_auc: 0.7597\n"
          ]
        }
      ],
      "source": [
        "import math\n",
        "batch_size = 16\n",
        "#math.ceil: returns the smallest integral value greater than the number\n",
        "num_batchs = math.ceil(len(training_set) / batch_size)#no. of batches for training data\n",
        "num_batchs_validation = math.ceil(len(validation_set) / batch_size)#no. of batches for validation data\n",
        "#fit model \n",
        "history1=model.fit(\n",
        "    gen_batch(\n",
        "        training_set, batch_size=batch_size, repeat=True\n",
        "    ),\n",
        "    steps_per_epoch=num_batchs,\n",
        "    epochs=10,\n",
        "    validation_data=gen_batch(\n",
        "        validation_set, batch_size=16, repeat=True\n",
        "    ),\n",
        "    validation_steps=num_batchs_validation,\n",
        ")"
      ]
    },
    {
      "cell_type": "markdown",
      "source": [
        "### **PLot AUC** "
      ],
      "metadata": {
        "id": "BRzQ01wWPFkW"
      }
    },
    {
      "cell_type": "code",
      "source": [
        "plt.plot(history1.history['auc'])\n",
        "plt.plot(history1.history['val_auc'])\n",
        "plt.title('model AUC')\n",
        "plt.ylabel('AUC')\n",
        "plt.xlabel('epoch')\n",
        "plt.legend(['train', 'val'], loc='upper left')\n",
        "plt.show()"
      ],
      "metadata": {
        "colab": {
          "base_uri": "https://localhost:8080/",
          "height": 295
        },
        "id": "EiGxQiMZNqtr",
        "outputId": "f67a68ff-ac5c-4ae1-a9e5-f1812ea777a8"
      },
      "execution_count": 19,
      "outputs": [
        {
          "output_type": "display_data",
          "data": {
            "text/plain": [
              "<Figure size 432x288 with 1 Axes>"
            ],
            "image/png": "[encoded data removed]"
          },
          "metadata": {
            "needs_background": "light"
          }
        }
      ]
    },
    {
      "cell_type": "markdown",
      "source": [
        "### **Loss**"
      ],
      "metadata": {
        "id": "UVoSC-wTPmOE"
      }
    },
    {
      "cell_type": "code",
      "source": [
        "plt.plot(history1.history['loss'])\n",
        "plt.plot(history1.history['val_loss'])\n",
        "plt.title('model loss')\n",
        "plt.ylabel('loss')\n",
        "plt.xlabel('epoch')\n",
        "plt.legend(['train', 'val'], loc='upper left')\n",
        "plt.show()"
      ],
      "metadata": {
        "colab": {
          "base_uri": "https://localhost:8080/",
          "height": 295
        },
        "id": "xwGggXjjOKTl",
        "outputId": "30e226a1-ef40-41b4-fa1a-cc6ae1bbe21f"
      },
      "execution_count": 20,
      "outputs": [
        {
          "output_type": "display_data",
          "data": {
            "text/plain": [
              "<Figure size 432x288 with 1 Axes>"
            ],
            "image/png": "[encoded data removed]"
          },
          "metadata": {
            "needs_background": "light"
          }
        }
      ]
    },
    {
      "cell_type": "markdown",
      "source": [
        "## **Prediction**"
      ],
      "metadata": {
        "id": "w2iwgPh1ObHf"
      }
    },
    {
      "cell_type": "code",
      "execution_count": 21,
      "metadata": {
        "id": "d0vPEJGb8YOX"
      },
      "outputs": [],
      "source": [
        "y_pred = model.predict(\n",
        "    gen_batch(testing_set, batch_size=22, shuffle=False)\n",
        ")\n",
        "y_pred = np.reshape(y_pred, -1)"
      ]
    },
    {
      "cell_type": "code",
      "execution_count": 22,
      "metadata": {
        "id": "CeC3hLdK8YOY",
        "colab": {
          "base_uri": "https://localhost:8080/"
        },
        "outputId": "4f47dc2d-0259-47cc-8dda-938ace12380e"
      },
      "outputs": [
        {
          "output_type": "execute_result",
          "data": {
            "text/plain": [
              "12326"
            ]
          },
          "metadata": {},
          "execution_count": 22
        }
      ],
      "source": [
        "len(y_pred)"
      ]
    },
    {
      "cell_type": "code",
      "execution_count": 23,
      "metadata": {
        "id": "uWmF7Sjm8YOY"
      },
      "outputs": [],
      "source": [
        "import pandas as pd \n",
        "submission = pd.DataFrame({'label':y_pred})\n",
        "submission.index.name = 'id'\n",
        "submission.to_csv('trail_1.csv')"
      ]
    },
    {
      "cell_type": "markdown",
      "source": [
        "## **Observation_1**\n",
        "\n",
        "* as we see when I used Gated Graph Neural Networks the accuracy was increased\n",
        "\n",
        "* loss was decreased\n",
        "\n",
        "* when I used Adam optimizer I noticed that accuracy was increased clearly \n",
        "\n",
        "* with batch size 16 and epoch 10 \n",
        "\n",
        "* I get score in private 0.86608 / public  0.85802\n",
        "\n",
        "* So GGNN is the best calculationn method \n",
        "\n"
      ],
      "metadata": {
        "id": "5n-MSQArOOo2"
      }
    },
    {
      "cell_type": "markdown",
      "source": [
        "\n",
        "\n",
        "---"
      ],
      "metadata": {
        "id": "L2t_Yyq2SFLg"
      }
    },
    {
      "cell_type": "markdown",
      "source": [
        "## **Trail_2**"
      ],
      "metadata": {
        "id": "izcKWuIcOGGX"
      }
    },
    {
      "cell_type": "markdown",
      "source": [
        " **Steps**\n",
        "\n",
        "* `in this trail I will use Embedding and tokenizer for nodes`\n",
        "\n",
        "* `features of node was embedded `\n",
        "\n",
        "* `then I will define gnn input as a variable to define all input layers`\n",
        "\n",
        "* ` I will use default layers of gnn but I will set Params (hidden_dim) by  value 32 ` \n",
        "\n",
        "* in this trail I will use **message_calculation_class** : **RGCN**"
      ],
      "metadata": {
        "id": "TZshqT0POm1Q"
      }
    },
    {
      "cell_type": "code",
      "execution_count": 24,
      "metadata": {
        "id": "XoP__6Fr8YOZ",
        "colab": {
          "base_uri": "https://localhost:8080/"
        },
        "outputId": "2b8b516e-c25f-4868-fe6e-fb87972abcc0"
      },
      "outputs": [
        {
          "output_type": "stream",
          "name": "stdout",
          "text": [
            "gnn_out KerasTensor(type_spec=TensorSpec(shape=(None, 32), dtype=tf.float32, name=None), name='gnn_1/StatefulPartitionedCall:0', description=\"created by layer 'gnn_1'\")\n",
            "mean: KerasTensor(type_spec=TensorSpec(shape=(None, 32), dtype=tf.float32, name=None), name='tf.math.segment_mean_1/SegmentMean:0', description=\"created by layer 'tf.math.segment_mean_1'\")\n",
            "pred: KerasTensor(type_spec=TensorSpec(shape=(None, 1), dtype=tf.float32, name=None), name='dense_1/Sigmoid:0', description=\"created by layer 'dense_1'\")\n",
            "Model: \"model_1\"\n",
            "__________________________________________________________________________________________________\n",
            " Layer (type)                   Output Shape         Param #     Connected to                     \n",
            "==================================================================================================\n",
            " input_5 (InputLayer)           [(None,)]            0           []                               \n",
            "                                                                                                  \n",
            " input_1 (InputLayer)           [(None,)]            0           []                               \n",
            "                                                                                                  \n",
            " tf.math.reduce_max_1 (TFOpLamb  ()                  0           ['input_5[0][0]']                \n",
            " da)                                                                                              \n",
            "                                                                                                  \n",
            " embedding_1 (Embedding)        (None, 60)           30000       ['input_1[0][0]']                \n",
            "                                                                                                  \n",
            " input_4 (InputLayer)           [(None, 2)]          0           []                               \n",
            "                                                                                                  \n",
            " tf.__operators__.add_1 (TFOpLa  ()                  0           ['tf.math.reduce_max_1[0][0]']   \n",
            " mbda)                                                                                            \n",
            "                                                                                                  \n",
            " gnn_1 (GNN)                    (None, 32)           23744       ['embedding_1[0][0]',            \n",
            "                                                                  'input_4[0][0]',                \n",
            "                                                                  'input_5[0][0]',                \n",
            "                                                                  'tf.__operators__.add_1[0][0]'] \n",
            "                                                                                                  \n",
            " tf.math.segment_mean_1 (TFOpLa  (None, 32)          0           ['gnn_1[0][0]',                  \n",
            " mbda)                                                            'input_5[0][0]']                \n",
            "                                                                                                  \n",
            " dense_1 (Dense)                (None, 1)            33          ['tf.math.segment_mean_1[0][0]'] \n",
            "                                                                                                  \n",
            "==================================================================================================\n",
            "Total params: 53,777\n",
            "Trainable params: 53,777\n",
            "Non-trainable params: 0\n",
            "__________________________________________________________________________________________________\n"
          ]
        }
      ],
      "source": [
        "# the first dim is different to the previous one. it is the total number of edges in this batch\n",
        "edge = keras.Input(batch_shape=(None, 2), dtype=tf.int32)\n",
        "node2graph = keras.Input(batch_shape=(None,), dtype=tf.int32)\n",
        "embeded = Embedding(tokenizer.num_words, 60)(data)\n",
        "\n",
        "# number of graphs (number of samples)\n",
        "num_graph = tf.reduce_max(node2graph)+1\n",
        "\n",
        "gnn_input = GNNInput(\n",
        "    node_features=embeded,\n",
        "    adjacency_lists=(edge,),\n",
        "    node_to_graph_map=node2graph, \n",
        "    num_graphs=num_graph,\n",
        ")\n",
        "# https://github.com/microsoft/tf2-gnn/blob/master/tf2_gnn/layers/gnn.py\n",
        "#\"message_calculation_class\" configures the message passing style. \n",
        "# This chooses the tf2_gnn.layers.message_passing.* layer used in each step.\n",
        "params = GNN.get_default_hyperparameters()\n",
        "params[\"hidden_dim\"] = 32 \n",
        "#use GGNN as a calculation class \n",
        "params[\"message_calculation_class\"]= \"RGCN\" #Relational Graph Convolutional Networks \n",
        "gnn_layer = GNN(params)\n",
        "gnn_out = gnn_layer(gnn_input)\n",
        "\n",
        "print('gnn_out', gnn_out)\n",
        "\n",
        "# https://www.tensorflow.org/api_docs/python/tf/math/segment_mean\n",
        "avg = segment_mean(\n",
        "    data=gnn_out,\n",
        "    segment_ids=node2graph\n",
        ")\n",
        "print('mean:', avg)\n",
        "\n",
        "pred = Dense(1, activation='sigmoid')(avg)\n",
        "print('pred:', pred)\n",
        "# create model \n",
        "model = Model(\n",
        "    inputs={\n",
        "        'data': data,\n",
        "        'edges': edge,\n",
        "        'node2grah': node2graph,\n",
        "    },\n",
        "    outputs=pred\n",
        ")\n",
        "model.summary() "
      ]
    },
    {
      "cell_type": "code",
      "source": [
        "model.compile(\n",
        "    optimizer=tf.keras.optimizers.Adam(), #use Adam as optimizer \n",
        "    loss='BinaryCrossentropy', #label is binary classification so I used  BinaryCrossentropy \n",
        "    metrics=['AUC']            #as leaderbord metrics I used AUC\n",
        ")"
      ],
      "metadata": {
        "id": "aXb8b7v8Rqw-"
      },
      "execution_count": 25,
      "outputs": []
    },
    {
      "cell_type": "code",
      "source": [
        "batch_size = 15\n",
        "num_batchs = math.ceil(len(training_set) / batch_size)\n",
        "num_batchs_validation = math.ceil(len(validation_set) / batch_size)\n",
        "#fit Model\n",
        "history2=model.fit(\n",
        "    gen_batch(\n",
        "        training_set, batch_size=batch_size, repeat=True\n",
        "    ),\n",
        "    steps_per_epoch=num_batchs,\n",
        "    epochs=10,\n",
        "    validation_data=gen_batch(\n",
        "        validation_set, batch_size=15, repeat=True\n",
        "    ),\n",
        "    validation_steps=num_batchs_validation,\n",
        ")"
      ],
      "metadata": {
        "colab": {
          "base_uri": "https://localhost:8080/"
        },
        "id": "ZSgl_RjrRqyn",
        "outputId": "13a32567-6e27-4558-9035-1e98a5f970c8"
      },
      "execution_count": 27,
      "outputs": [
        {
          "output_type": "stream",
          "name": "stdout",
          "text": [
            "Epoch 1/10\n",
            "1418/1418 [==============================] - 28s 19ms/step - loss: 0.1917 - auc: 0.6506 - val_loss: 0.1703 - val_auc: 0.6726\n",
            "Epoch 2/10\n",
            "1418/1418 [==============================] - 33s 23ms/step - loss: 0.1874 - auc: 0.6801 - val_loss: 0.1681 - val_auc: 0.6946\n",
            "Epoch 3/10\n",
            "1418/1418 [==============================] - 34s 24ms/step - loss: 0.1826 - auc: 0.7073 - val_loss: 0.1657 - val_auc: 0.7102\n",
            "Epoch 4/10\n",
            "1418/1418 [==============================] - 30s 21ms/step - loss: 0.1806 - auc: 0.7170 - val_loss: 0.1794 - val_auc: 0.7120\n",
            "Epoch 5/10\n",
            "1418/1418 [==============================] - 35s 25ms/step - loss: 0.1767 - auc: 0.7407 - val_loss: 0.1632 - val_auc: 0.7318\n",
            "Epoch 6/10\n",
            "1418/1418 [==============================] - 32s 23ms/step - loss: 0.1759 - auc: 0.7449 - val_loss: 0.1643 - val_auc: 0.7597\n",
            "Epoch 7/10\n",
            "1418/1418 [==============================] - 34s 24ms/step - loss: 0.1749 - auc: 0.7500 - val_loss: 0.1632 - val_auc: 0.7510\n",
            "Epoch 8/10\n",
            "1418/1418 [==============================] - 30s 21ms/step - loss: 0.1722 - auc: 0.7645 - val_loss: 0.1658 - val_auc: 0.7379\n",
            "Epoch 9/10\n",
            "1418/1418 [==============================] - 33s 23ms/step - loss: 0.1711 - auc: 0.7670 - val_loss: 0.1621 - val_auc: 0.7416\n",
            "Epoch 10/10\n",
            "1418/1418 [==============================] - 24s 17ms/step - loss: 0.1704 - auc: 0.7721 - val_loss: 0.1670 - val_auc: 0.7250\n"
          ]
        }
      ]
    },
    {
      "cell_type": "markdown",
      "source": [
        "### **AUC_plot**"
      ],
      "metadata": {
        "id": "icxgBmyRQL2f"
      }
    },
    {
      "cell_type": "code",
      "source": [
        "plt.plot(history2.history['auc'])\n",
        "plt.plot(history2.history['val_auc'])\n",
        "plt.title('model AUC')\n",
        "plt.ylabel('AUC')\n",
        "plt.xlabel('epoch')\n",
        "plt.legend(['train', 'val'], loc='upper left')\n",
        "plt.show()"
      ],
      "metadata": {
        "colab": {
          "base_uri": "https://localhost:8080/",
          "height": 295
        },
        "id": "FPa-mr9BQKwP",
        "outputId": "9a44f64b-c2c6-4f50-912d-fdf2a6e0c120"
      },
      "execution_count": 28,
      "outputs": [
        {
          "output_type": "display_data",
          "data": {
            "text/plain": [
              "<Figure size 432x288 with 1 Axes>"
            ],
            "image/png": "[encoded data removed]"
          },
          "metadata": {
            "needs_background": "light"
          }
        }
      ]
    },
    {
      "cell_type": "markdown",
      "source": [
        "### **Loss_plot**"
      ],
      "metadata": {
        "id": "qLdiilrXQUQM"
      }
    },
    {
      "cell_type": "code",
      "source": [
        "plt.plot(history2.history['loss'])\n",
        "plt.plot(history2.history['val_loss'])\n",
        "plt.title('model loss')\n",
        "plt.ylabel('loss')\n",
        "plt.xlabel('epoch')\n",
        "plt.legend(['train', 'val'], loc='upper left')\n",
        "plt.show()"
      ],
      "metadata": {
        "colab": {
          "base_uri": "https://localhost:8080/",
          "height": 295
        },
        "id": "_u6TSkerQKoM",
        "outputId": "cee985ed-fd97-42d3-fddd-28ac2ab6e0ad"
      },
      "execution_count": 29,
      "outputs": [
        {
          "output_type": "display_data",
          "data": {
            "text/plain": [
              "<Figure size 432x288 with 1 Axes>"
            ],
            "image/png": "[encoded data removed]"
          },
          "metadata": {
            "needs_background": "light"
          }
        }
      ]
    },
    {
      "cell_type": "markdown",
      "source": [
        "### **Prediction**"
      ],
      "metadata": {
        "id": "MQId9JftR373"
      }
    },
    {
      "cell_type": "code",
      "source": [
        "y_pred = model.predict(\n",
        "    gen_batch(testing_set, batch_size=15, shuffle=False)\n",
        ")\n",
        "y_pred = np.reshape(y_pred, -1)"
      ],
      "metadata": {
        "id": "GCVUVZFiRq1-"
      },
      "execution_count": 30,
      "outputs": []
    },
    {
      "cell_type": "code",
      "source": [
        "import pandas as pd \n",
        "submission = pd.DataFrame({'label':y_pred})\n",
        "submission.index.name = 'id'\n",
        "submission.to_csv('Trail2.csv')"
      ],
      "metadata": {
        "id": "6A8OGlnsR_NR"
      },
      "execution_count": 31,
      "outputs": []
    },
    {
      "cell_type": "markdown",
      "source": [
        "## **Observation_2**\n",
        "\n",
        "* as we see when I used Relational Graph Convolutional Networks,the accuracy was not increased enough\n",
        "\n",
        "* loss still same value \n",
        "\n",
        "* when I used Adam optimizer I noticed that accuracy was increased clearly \n",
        "\n",
        "* with batch size 16 and epoch 10 \n",
        "\n",
        "* I get score in private Score: 0.77139 /Public score: 0.78040\n",
        "\n",
        "* So  RGCN is not best calculationn method \n"
      ],
      "metadata": {
        "id": "1kxyvJNsmo09"
      }
    },
    {
      "cell_type": "markdown",
      "source": [
        "\n",
        "\n",
        "---"
      ],
      "metadata": {
        "id": "k8YjUrliSVTe"
      }
    },
    {
      "cell_type": "markdown",
      "source": [
        "## **Trail_3**"
      ],
      "metadata": {
        "id": "Q6uAKSz9SXwq"
      }
    },
    {
      "cell_type": "markdown",
      "source": [
        " **Steps**\n",
        "\n",
        "* `in this trail I will use Embedding and tokenizer for nodes`\n",
        "\n",
        "* `features of node was embedded `\n",
        "\n",
        "* `then I will define gnn input as a variable to define all input layers`\n",
        "\n",
        "* ` I will use default layers of gnn but I will set Params (hidden_dim) by  value 32 ` \n",
        "\n",
        "* in this trail I will use **message_calculation_class** : **RGAT**"
      ],
      "metadata": {
        "id": "27F0yz_hoN6J"
      }
    },
    {
      "cell_type": "code",
      "source": [
        "# the first dim is different to the previous one. it is the total number of edges in this batch\n",
        "edge = keras.Input(batch_shape=(None, 2), dtype=tf.int32)\n",
        "node2graph = keras.Input(batch_shape=(None,), dtype=tf.int32)\n",
        "embeded = Embedding(tokenizer.num_words, 60)(data)\n",
        "\n",
        "# number of graphs (number of samples)\n",
        "num_graph = tf.reduce_max(node2graph)+1\n",
        "\n",
        "gnn_input = GNNInput(\n",
        "    node_features=embeded,\n",
        "    adjacency_lists=(edge,),\n",
        "    node_to_graph_map=node2graph, \n",
        "    num_graphs=num_graph,\n",
        ")\n",
        "# https://github.com/microsoft/tf2-gnn/blob/master/tf2_gnn/layers/gnn.py\n",
        "#\"message_calculation_class\" configures the message passing style. \n",
        "# This chooses the tf2_gnn.layers.message_passing.* layer used in each step.\n",
        "params = GNN.get_default_hyperparameters()\n",
        "params[\"hidden_dim\"] = 32 \n",
        "#use GGNN as a calculation class \n",
        "params[\"message_calculation_class\"]= \"RGAT\" #Relational Graph Attention Networks \n",
        "params[\"num_heads\"]=32\n",
        "gnn_layer = GNN(params)\n",
        "gnn_out = gnn_layer(gnn_input)\n",
        "\n",
        "print('gnn_out', gnn_out)\n",
        "\n",
        "# https://www.tensorflow.org/api_docs/python/tf/math/segment_mean\n",
        "avg = segment_mean(\n",
        "    data=gnn_out,\n",
        "    segment_ids=node2graph\n",
        ")\n",
        "print('mean:', avg)\n",
        "\n",
        "pred = Dense(1, activation='sigmoid')(avg)\n",
        "print('pred:', pred)\n",
        "# create model \n",
        "model = Model(\n",
        "    inputs={\n",
        "        'data': data,\n",
        "        'edges': edge,\n",
        "        'node2grah': node2graph,\n",
        "    },\n",
        "    outputs=pred\n",
        ")\n",
        "model.summary() "
      ],
      "metadata": {
        "colab": {
          "base_uri": "https://localhost:8080/"
        },
        "id": "FWheGp-RR_PM",
        "outputId": "5cc2dc59-289b-4353-ff65-fea0806f059c"
      },
      "execution_count": 32,
      "outputs": [
        {
          "output_type": "stream",
          "name": "stdout",
          "text": [
            "gnn_out KerasTensor(type_spec=TensorSpec(shape=(None, 32), dtype=tf.float32, name=None), name='gnn_2/StatefulPartitionedCall:0', description=\"created by layer 'gnn_2'\")\n",
            "mean: KerasTensor(type_spec=TensorSpec(shape=(None, 32), dtype=tf.float32, name=None), name='tf.math.segment_mean_2/SegmentMean:0', description=\"created by layer 'tf.math.segment_mean_2'\")\n",
            "pred: KerasTensor(type_spec=TensorSpec(shape=(None, 1), dtype=tf.float32, name=None), name='dense_2/Sigmoid:0', description=\"created by layer 'dense_2'\")\n",
            "Model: \"model_2\"\n",
            "__________________________________________________________________________________________________\n",
            " Layer (type)                   Output Shape         Param #     Connected to                     \n",
            "==================================================================================================\n",
            " input_7 (InputLayer)           [(None,)]            0           []                               \n",
            "                                                                                                  \n",
            " input_1 (InputLayer)           [(None,)]            0           []                               \n",
            "                                                                                                  \n",
            " tf.math.reduce_max_2 (TFOpLamb  ()                  0           ['input_7[0][0]']                \n",
            " da)                                                                                              \n",
            "                                                                                                  \n",
            " embedding_2 (Embedding)        (None, 60)           30000       ['input_1[0][0]']                \n",
            "                                                                                                  \n",
            " input_6 (InputLayer)           [(None, 2)]          0           []                               \n",
            "                                                                                                  \n",
            " tf.__operators__.add_2 (TFOpLa  ()                  0           ['tf.math.reduce_max_2[0][0]']   \n",
            " mbda)                                                                                            \n",
            "                                                                                                  \n",
            " gnn_2 (GNN)                    (None, 32)           24000       ['embedding_2[0][0]',            \n",
            "                                                                  'input_6[0][0]',                \n",
            "                                                                  'input_7[0][0]',                \n",
            "                                                                  'tf.__operators__.add_2[0][0]'] \n",
            "                                                                                                  \n",
            " tf.math.segment_mean_2 (TFOpLa  (None, 32)          0           ['gnn_2[0][0]',                  \n",
            " mbda)                                                            'input_7[0][0]']                \n",
            "                                                                                                  \n",
            " dense_2 (Dense)                (None, 1)            33          ['tf.math.segment_mean_2[0][0]'] \n",
            "                                                                                                  \n",
            "==================================================================================================\n",
            "Total params: 54,033\n",
            "Trainable params: 54,033\n",
            "Non-trainable params: 0\n",
            "__________________________________________________________________________________________________\n"
          ]
        }
      ]
    },
    {
      "cell_type": "code",
      "source": [
        "model.compile(\n",
        "    optimizer=tf.keras.optimizers.Adam(), #use Adam as optimizer \n",
        "    loss='BinaryCrossentropy', #label is binary classification so I used  BinaryCrossentropy \n",
        "    metrics=['AUC']            #as leaderbord metrics I used AUC\n",
        ")"
      ],
      "metadata": {
        "id": "K2BgnhCWTDNI"
      },
      "execution_count": 33,
      "outputs": []
    },
    {
      "cell_type": "code",
      "source": [
        "batch_size = 300\n",
        "num_batchs = math.ceil(len(training_set) / batch_size)\n",
        "num_batchs_validation = math.ceil(len(validation_set) / batch_size)\n",
        "\n",
        "history3=model.fit(\n",
        "    gen_batch(\n",
        "        training_set, batch_size=batch_size, repeat=True\n",
        "    ),\n",
        "    steps_per_epoch=num_batchs,\n",
        "    epochs=6,\n",
        "    validation_data=gen_batch(\n",
        "        validation_set, batch_size=300, repeat=True\n",
        "    ),\n",
        "    validation_steps=num_batchs_validation,\n",
        ")"
      ],
      "metadata": {
        "colab": {
          "base_uri": "https://localhost:8080/"
        },
        "id": "LHDacowOTEOf",
        "outputId": "768cfdc6-a963-4127-b134-b45441ca9216"
      },
      "execution_count": 34,
      "outputs": [
        {
          "output_type": "stream",
          "name": "stdout",
          "text": [
            "Epoch 1/6\n",
            "71/71 [==============================] - 52s 212ms/step - loss: 0.4948 - auc: 0.4753 - val_loss: 0.2606 - val_auc: 0.3731\n",
            "Epoch 2/6\n",
            "71/71 [==============================] - 13s 187ms/step - loss: 0.2846 - auc: 0.3569 - val_loss: 0.2552 - val_auc: 0.3660\n",
            "Epoch 3/6\n",
            "71/71 [==============================] - 13s 179ms/step - loss: 0.2798 - auc: 0.3614 - val_loss: 0.2436 - val_auc: 0.3674\n",
            "Epoch 4/6\n",
            "71/71 [==============================] - 13s 178ms/step - loss: 0.2599 - auc: 0.3603 - val_loss: 0.2074 - val_auc: 0.4221\n",
            "Epoch 5/6\n",
            "71/71 [==============================] - 14s 192ms/step - loss: 0.2226 - auc: 0.4660 - val_loss: 0.1946 - val_auc: 0.5963\n",
            "Epoch 6/6\n",
            "71/71 [==============================] - 13s 183ms/step - loss: 0.1994 - auc: 0.6051 - val_loss: 0.1911 - val_auc: 0.5961\n"
          ]
        }
      ]
    },
    {
      "cell_type": "code",
      "source": [
        "plt.plot(history3.history['auc'])\n",
        "plt.plot(history3.history['val_auc'])\n",
        "plt.title('model AUC')\n",
        "plt.ylabel('AUC')\n",
        "plt.xlabel('epoch')\n",
        "plt.legend(['train', 'val'], loc='upper left')\n",
        "plt.show()"
      ],
      "metadata": {
        "colab": {
          "base_uri": "https://localhost:8080/",
          "height": 295
        },
        "id": "rQBZYuhRQnl9",
        "outputId": "897dbec9-58e2-4972-dee7-0bebcd724eff"
      },
      "execution_count": 35,
      "outputs": [
        {
          "output_type": "display_data",
          "data": {
            "text/plain": [
              "<Figure size 432x288 with 1 Axes>"
            ],
            "image/png": "[encoded data removed]"
          },
          "metadata": {
            "needs_background": "light"
          }
        }
      ]
    },
    {
      "cell_type": "code",
      "source": [
        "plt.plot(history3.history['loss'])\n",
        "plt.plot(history3.history['val_loss'])\n",
        "plt.title('model loss')\n",
        "plt.ylabel('loss')\n",
        "plt.xlabel('epoch')\n",
        "plt.legend(['train', 'val'], loc='upper left')\n",
        "plt.show()"
      ],
      "metadata": {
        "colab": {
          "base_uri": "https://localhost:8080/",
          "height": 295
        },
        "id": "B7xe1dStRPnm",
        "outputId": "ce2829ad-8a05-46ef-cb99-5777420a087b"
      },
      "execution_count": 36,
      "outputs": [
        {
          "output_type": "display_data",
          "data": {
            "text/plain": [
              "<Figure size 432x288 with 1 Axes>"
            ],
            "image/png": "[encoded data removed]"
          },
          "metadata": {
            "needs_background": "light"
          }
        }
      ]
    },
    {
      "cell_type": "markdown",
      "source": [
        "### **Prediction**"
      ],
      "metadata": {
        "id": "iNszAz12TLW4"
      }
    },
    {
      "cell_type": "code",
      "source": [
        "y_pred = model.predict(\n",
        "    gen_batch(testing_set, batch_size=15, shuffle=False)\n",
        ")\n",
        "y_pred = np.reshape(y_pred, -1)"
      ],
      "metadata": {
        "id": "aNujbifCTEQT"
      },
      "execution_count": 37,
      "outputs": []
    },
    {
      "cell_type": "code",
      "source": [
        "import pandas as pd \n",
        "submission = pd.DataFrame({'label':y_pred})\n",
        "submission.index.name = 'id'\n",
        "submission.to_csv('trail_3.csv')"
      ],
      "metadata": {
        "id": "df4NN6DkTETk"
      },
      "execution_count": 38,
      "outputs": []
    },
    {
      "cell_type": "markdown",
      "source": [
        "## **Observation_3**\n",
        "\n",
        "* as we see when I used Relational Graph Attention Networks,the accuracy was not increased enough\n",
        "\n",
        "* loss still same value \n",
        "\n",
        "* when I used Adam optimizer I noticed that accuracy was increased clearly \n",
        "\n",
        "* with batch size 300 and epoch 6\n",
        "\n",
        "* I get Score: 0.66903 /Public score: 0.69668\n",
        "\n",
        "* So  RGAT is not best calculationn method "
      ],
      "metadata": {
        "id": "L02Umm5fpzwz"
      }
    },
    {
      "cell_type": "markdown",
      "source": [
        "\n",
        "\n",
        "---"
      ],
      "metadata": {
        "id": "N94dFo2QTeV5"
      }
    },
    {
      "cell_type": "markdown",
      "source": [
        "## **Trail_4**"
      ],
      "metadata": {
        "id": "31w81KeYTgmC"
      }
    },
    {
      "cell_type": "markdown",
      "source": [
        " **Steps**\n",
        "\n",
        "* `in this trail I will use Embedding and tokenizer for nodes`\n",
        "\n",
        "* `features of node was embedded `\n",
        "\n",
        "* `then I will define gnn input as a variable to define all input layers`\n",
        "\n",
        "* ` I will use default layers of gnn but I will set Params (hidden_dim) by  value 32 ` \n",
        "\n",
        "* in this trail I will use **message_calculation_class** : **RGIN**"
      ],
      "metadata": {
        "id": "eIRdWs-DrBuc"
      }
    },
    {
      "cell_type": "code",
      "source": [
        "# the first dim is different to the previous one. it is the total number of edges in this batch\n",
        "edge = keras.Input(batch_shape=(None, 2), dtype=tf.int32)\n",
        "node2graph = keras.Input(batch_shape=(None,), dtype=tf.int32)\n",
        "embeded = Embedding(tokenizer.num_words, 60)(data)\n",
        "\n",
        "# number of graphs (number of samples)\n",
        "num_graph = tf.reduce_max(node2graph)+1\n",
        "\n",
        "gnn_input = GNNInput(\n",
        "    node_features=embeded,\n",
        "    adjacency_lists=(edge,),\n",
        "    node_to_graph_map=node2graph, \n",
        "    num_graphs=num_graph,\n",
        ")\n",
        "# https://github.com/microsoft/tf2-gnn/blob/master/tf2_gnn/layers/gnn.py\n",
        "#\"message_calculation_class\" configures the message passing style. \n",
        "# This chooses the tf2_gnn.layers.message_passing.* layer used in each step.\n",
        "params = GNN.get_default_hyperparameters()\n",
        "params[\"hidden_dim\"] = 32 \n",
        "#use GGNN as a calculation class \n",
        "params[\"message_calculation_class\"]= \"RGIN\" #Relational Graph Isomorphism Networks \n",
        "params[\"num_aggr_MLP_hidden_layers\"]=4\n",
        "params[\"num_heads\"]=32\n",
        "gnn_layer = GNN(params)\n",
        "gnn_out = gnn_layer(gnn_input)\n",
        "\n",
        "print('gnn_out', gnn_out)\n",
        "\n",
        "# https://www.tensorflow.org/api_docs/python/tf/math/segment_mean\n",
        "avg = segment_mean(\n",
        "    data=gnn_out,\n",
        "    segment_ids=node2graph\n",
        ")\n",
        "print('mean:', avg)\n",
        "\n",
        "pred = Dense(1, activation='sigmoid')(avg)\n",
        "print('pred:', pred)\n",
        "# create model \n",
        "model = Model(\n",
        "    inputs={\n",
        "        'data': data,\n",
        "        'edges': edge,\n",
        "        'node2grah': node2graph,\n",
        "    },\n",
        "    outputs=pred\n",
        ")\n",
        "model.summary() "
      ],
      "metadata": {
        "colab": {
          "base_uri": "https://localhost:8080/"
        },
        "id": "GtUGS231TEVj",
        "outputId": "f668b49a-c54a-4116-e7ed-a243df579141"
      },
      "execution_count": 39,
      "outputs": [
        {
          "output_type": "stream",
          "name": "stdout",
          "text": [
            "gnn_out KerasTensor(type_spec=TensorSpec(shape=(None, 32), dtype=tf.float32, name=None), name='gnn_3/StatefulPartitionedCall:0', description=\"created by layer 'gnn_3'\")\n",
            "mean: KerasTensor(type_spec=TensorSpec(shape=(None, 32), dtype=tf.float32, name=None), name='tf.math.segment_mean_3/SegmentMean:0', description=\"created by layer 'tf.math.segment_mean_3'\")\n",
            "pred: KerasTensor(type_spec=TensorSpec(shape=(None, 1), dtype=tf.float32, name=None), name='dense_3/Sigmoid:0', description=\"created by layer 'dense_3'\")\n",
            "Model: \"model_3\"\n",
            "__________________________________________________________________________________________________\n",
            " Layer (type)                   Output Shape         Param #     Connected to                     \n",
            "==================================================================================================\n",
            " input_9 (InputLayer)           [(None,)]            0           []                               \n",
            "                                                                                                  \n",
            " input_1 (InputLayer)           [(None,)]            0           []                               \n",
            "                                                                                                  \n",
            " tf.math.reduce_max_3 (TFOpLamb  ()                  0           ['input_9[0][0]']                \n",
            " da)                                                                                              \n",
            "                                                                                                  \n",
            " embedding_3 (Embedding)        (None, 60)           30000       ['input_1[0][0]']                \n",
            "                                                                                                  \n",
            " input_8 (InputLayer)           [(None, 2)]          0           []                               \n",
            "                                                                                                  \n",
            " tf.__operators__.add_3 (TFOpLa  ()                  0           ['tf.math.reduce_max_3[0][0]']   \n",
            " mbda)                                                                                            \n",
            "                                                                                                  \n",
            " gnn_3 (GNN)                    (None, 32)           44224       ['embedding_3[0][0]',            \n",
            "                                                                  'input_8[0][0]',                \n",
            "                                                                  'input_9[0][0]',                \n",
            "                                                                  'tf.__operators__.add_3[0][0]'] \n",
            "                                                                                                  \n",
            " tf.math.segment_mean_3 (TFOpLa  (None, 32)          0           ['gnn_3[0][0]',                  \n",
            " mbda)                                                            'input_9[0][0]']                \n",
            "                                                                                                  \n",
            " dense_3 (Dense)                (None, 1)            33          ['tf.math.segment_mean_3[0][0]'] \n",
            "                                                                                                  \n",
            "==================================================================================================\n",
            "Total params: 74,257\n",
            "Trainable params: 74,257\n",
            "Non-trainable params: 0\n",
            "__________________________________________________________________________________________________\n"
          ]
        }
      ]
    },
    {
      "cell_type": "code",
      "source": [
        "model.compile(\n",
        "    optimizer=tf.keras.optimizers.Adam(), #use Adam as optimizer \n",
        "    loss='BinaryCrossentropy', #label is binary classification so I used  BinaryCrossentropy \n",
        "    metrics=['AUC']            #as leaderbord metrics I used AUC\n",
        ")"
      ],
      "metadata": {
        "id": "6qLRreYLTEZK"
      },
      "execution_count": 40,
      "outputs": []
    },
    {
      "cell_type": "code",
      "source": [
        "batch_size = 400\n",
        "num_batchs = math.ceil(len(training_set) / batch_size)\n",
        "num_batchs_validation = math.ceil(len(validation_set) / batch_size)\n",
        "\n",
        "history4=model.fit(\n",
        "    gen_batch(\n",
        "        training_set, batch_size=batch_size, repeat=True\n",
        "    ),\n",
        "    steps_per_epoch=num_batchs,\n",
        "    epochs=20,\n",
        "    validation_data=gen_batch(\n",
        "        validation_set, batch_size=400, repeat=True\n",
        "    ),\n",
        "    validation_steps=num_batchs_validation,\n",
        ")"
      ],
      "metadata": {
        "colab": {
          "base_uri": "https://localhost:8080/"
        },
        "id": "u_bGO_YwpXEH",
        "outputId": "1ad9fb85-875f-44c5-f235-6e6d478de665"
      },
      "execution_count": 41,
      "outputs": [
        {
          "output_type": "stream",
          "name": "stdout",
          "text": [
            "Epoch 1/20\n",
            "54/54 [==============================] - 15s 103ms/step - loss: 0.6154 - auc: 0.4871 - val_loss: 0.3119 - val_auc: 0.3679\n",
            "Epoch 2/20\n",
            "54/54 [==============================] - 4s 77ms/step - loss: 0.2866 - auc: 0.3980 - val_loss: 0.1940 - val_auc: 0.5370\n",
            "Epoch 3/20\n",
            "54/54 [==============================] - 4s 76ms/step - loss: 0.2079 - auc: 0.5609 - val_loss: 0.2168 - val_auc: 0.6236\n",
            "Epoch 4/20\n",
            "54/54 [==============================] - 4s 76ms/step - loss: 0.2027 - auc: 0.5913 - val_loss: 0.1743 - val_auc: 0.6308\n",
            "Epoch 5/20\n",
            "54/54 [==============================] - 4s 76ms/step - loss: 0.1946 - auc: 0.6337 - val_loss: 0.1776 - val_auc: 0.6483\n",
            "Epoch 6/20\n",
            "54/54 [==============================] - 4s 70ms/step - loss: 0.1964 - auc: 0.6291 - val_loss: 0.1858 - val_auc: 0.6937\n",
            "Epoch 7/20\n",
            "54/54 [==============================] - 4s 67ms/step - loss: 0.1887 - auc: 0.6687 - val_loss: 0.1631 - val_auc: 0.6854\n",
            "Epoch 8/20\n",
            "54/54 [==============================] - 4s 66ms/step - loss: 0.1899 - auc: 0.6503 - val_loss: 0.1859 - val_auc: 0.5973\n",
            "Epoch 9/20\n",
            "54/54 [==============================] - 4s 66ms/step - loss: 0.1876 - auc: 0.6677 - val_loss: 0.1698 - val_auc: 0.6834\n",
            "Epoch 10/20\n",
            "54/54 [==============================] - 4s 67ms/step - loss: 0.1852 - auc: 0.6760 - val_loss: 0.1692 - val_auc: 0.6679\n",
            "Epoch 11/20\n",
            "54/54 [==============================] - 4s 67ms/step - loss: 0.1876 - auc: 0.6648 - val_loss: 0.1778 - val_auc: 0.6580\n",
            "Epoch 12/20\n",
            "54/54 [==============================] - 4s 66ms/step - loss: 0.1880 - auc: 0.6605 - val_loss: 0.1685 - val_auc: 0.6712\n",
            "Epoch 13/20\n",
            "54/54 [==============================] - 4s 67ms/step - loss: 0.1857 - auc: 0.6713 - val_loss: 0.1744 - val_auc: 0.6873\n",
            "Epoch 14/20\n",
            "54/54 [==============================] - 4s 67ms/step - loss: 0.1860 - auc: 0.6717 - val_loss: 0.1677 - val_auc: 0.6851\n",
            "Epoch 15/20\n",
            "54/54 [==============================] - 4s 65ms/step - loss: 0.1846 - auc: 0.6837 - val_loss: 0.1721 - val_auc: 0.6747\n",
            "Epoch 16/20\n",
            "54/54 [==============================] - 4s 65ms/step - loss: 0.1823 - auc: 0.6979 - val_loss: 0.1677 - val_auc: 0.6978\n",
            "Epoch 17/20\n",
            "54/54 [==============================] - 4s 70ms/step - loss: 0.1836 - auc: 0.6964 - val_loss: 0.1960 - val_auc: 0.6354\n",
            "Epoch 18/20\n",
            "54/54 [==============================] - 4s 73ms/step - loss: 0.1851 - auc: 0.6793 - val_loss: 0.1724 - val_auc: 0.6844\n",
            "Epoch 19/20\n",
            "54/54 [==============================] - 4s 75ms/step - loss: 0.1815 - auc: 0.7060 - val_loss: 0.1708 - val_auc: 0.6805\n",
            "Epoch 20/20\n",
            "54/54 [==============================] - 4s 74ms/step - loss: 0.1799 - auc: 0.7083 - val_loss: 0.1672 - val_auc: 0.7043\n"
          ]
        }
      ]
    },
    {
      "cell_type": "code",
      "source": [
        "plt.plot(history4.history['auc'])\n",
        "plt.plot(history4.history['val_auc'])\n",
        "plt.title('model AUC')\n",
        "plt.ylabel('AUC')\n",
        "plt.xlabel('epoch')\n",
        "plt.legend(['train', 'val'], loc='upper left')\n",
        "plt.show()"
      ],
      "metadata": {
        "colab": {
          "base_uri": "https://localhost:8080/",
          "height": 295
        },
        "id": "mzNPdoa1QsU8",
        "outputId": "fbbd84fb-fe0d-4ee2-87f2-c0366be8a94e"
      },
      "execution_count": 42,
      "outputs": [
        {
          "output_type": "display_data",
          "data": {
            "text/plain": [
              "<Figure size 432x288 with 1 Axes>"
            ],
            "image/png": "[encoded data removed]"
          },
          "metadata": {
            "needs_background": "light"
          }
        }
      ]
    },
    {
      "cell_type": "code",
      "source": [
        "plt.plot(history4.history['loss'])\n",
        "plt.plot(history4.history['val_loss'])\n",
        "plt.title('model loss')\n",
        "plt.ylabel('loss')\n",
        "plt.xlabel('epoch')\n",
        "plt.legend(['train', 'val'], loc='upper left')\n",
        "plt.show()"
      ],
      "metadata": {
        "colab": {
          "base_uri": "https://localhost:8080/",
          "height": 295
        },
        "id": "yfDR4n7kRSjp",
        "outputId": "a284258d-41e6-4ee9-da27-2c5a915ddb29"
      },
      "execution_count": 43,
      "outputs": [
        {
          "output_type": "display_data",
          "data": {
            "text/plain": [
              "<Figure size 432x288 with 1 Axes>"
            ],
            "image/png": "[encoded data removed]"
          },
          "metadata": {
            "needs_background": "light"
          }
        }
      ]
    },
    {
      "cell_type": "markdown",
      "source": [
        "### **Prediction**"
      ],
      "metadata": {
        "id": "Aoq9Km-UqBqf"
      }
    },
    {
      "cell_type": "code",
      "source": [
        "y_pred = model.predict(\n",
        "    gen_batch(testing_set, batch_size=15, shuffle=False)\n",
        ")\n",
        "y_pred = np.reshape(y_pred, -1)"
      ],
      "metadata": {
        "id": "rr1WINZopcWB"
      },
      "execution_count": 44,
      "outputs": []
    },
    {
      "cell_type": "code",
      "source": [
        "import pandas as pd \n",
        "submission = pd.DataFrame({'label':y_pred})\n",
        "submission.index.name = 'id'\n",
        "submission.to_csv('trail_4.csv')"
      ],
      "metadata": {
        "id": "3FkfKvWuqZXg"
      },
      "execution_count": 45,
      "outputs": []
    },
    {
      "cell_type": "markdown",
      "source": [
        "## **Observation_4**\n",
        "\n",
        "* as we see when I used Relational Graph Isomorphism Networks ,the accuracy was not increased enough\n",
        "\n",
        "* loss still same value \n",
        "\n",
        "* when I used Adam optimizer I noticed that accuracy was increased clearly \n",
        "\n",
        "* with batch size 400 and epoch 20\n",
        "\n",
        "* So  RGIN is not best calculationn method "
      ],
      "metadata": {
        "id": "Q6-W6NntrqzL"
      }
    },
    {
      "cell_type": "markdown",
      "source": [
        "\n",
        "\n",
        "---"
      ],
      "metadata": {
        "id": "1s15qxEcqiaZ"
      }
    },
    {
      "cell_type": "markdown",
      "source": [
        "## **Trail_5**"
      ],
      "metadata": {
        "id": "npYmouuHqkL1"
      }
    },
    {
      "cell_type": "markdown",
      "source": [
        " **Steps**\n",
        "\n",
        "* `in this trail I will use Embedding and tokenizer for nodes`\n",
        "\n",
        "* `features of node was embedded `\n",
        "\n",
        "* `then I will define gnn input as a variable to define all input layers`\n",
        "\n",
        "* ` I will use default layers of gnn but I will set Params (hidden_dim) by  value 32 ` \n",
        "\n",
        "* in this trail I will use **message_calculation_class** : **GNN-Edge-MLP**"
      ],
      "metadata": {
        "id": "zGA5DnDlv87w"
      }
    },
    {
      "cell_type": "code",
      "source": [
        "# the first dim is different to the previous one. it is the total number of edges in this batch\n",
        "edge = keras.Input(batch_shape=(None, 2), dtype=tf.int32)\n",
        "node2graph = keras.Input(batch_shape=(None,), dtype=tf.int32)\n",
        "embeded = Embedding(tokenizer.num_words, 60)(data)\n",
        "\n",
        "# number of graphs (number of samples)\n",
        "num_graph = tf.reduce_max(node2graph)+1\n",
        "\n",
        "gnn_input = GNNInput(\n",
        "    node_features=embeded,\n",
        "    adjacency_lists=(edge,),\n",
        "    node_to_graph_map=node2graph, \n",
        "    num_graphs=num_graph,\n",
        ")\n",
        "# https://github.com/microsoft/tf2-gnn/blob/master/tf2_gnn/layers/gnn.py\n",
        "#\"message_calculation_class\" configures the message passing style. \n",
        "# This chooses the tf2_gnn.layers.message_passing.* layer used in each step.\n",
        "params = GNN.get_default_hyperparameters()\n",
        "params[\"hidden_dim\"] = 32 \n",
        "#use GGNN as a calculation class \n",
        "params[\"message_calculation_class\"]= \"GNN_Edge_MLP\" #Graph Neural Network with Edge MLPs\n",
        "# params[\"num_aggr_MLP_hidden_layers\"]=4\n",
        "# params[\"num_heads\"]=32\n",
        "gnn_layer = GNN(params)\n",
        "gnn_out = gnn_layer(gnn_input)\n",
        "\n",
        "print('gnn_out', gnn_out)\n",
        "\n",
        "# https://www.tensorflow.org/api_docs/python/tf/math/segment_mean\n",
        "avg = segment_mean(\n",
        "    data=gnn_out,\n",
        "    segment_ids=node2graph\n",
        ")\n",
        "print('mean:', avg)\n",
        "\n",
        "pred = Dense(1, activation='sigmoid')(avg)\n",
        "print('pred:', pred)\n",
        "# create model \n",
        "model = Model(\n",
        "    inputs={\n",
        "        'data': data,\n",
        "        'edges': edge,\n",
        "        'node2grah': node2graph,\n",
        "    },\n",
        "    outputs=pred\n",
        ")\n",
        "model.summary()"
      ],
      "metadata": {
        "colab": {
          "base_uri": "https://localhost:8080/"
        },
        "id": "AptzrsPeqhPR",
        "outputId": "173bf820-8ec1-49c4-b94e-d211c2d04f7b"
      },
      "execution_count": 46,
      "outputs": [
        {
          "output_type": "stream",
          "name": "stdout",
          "text": [
            "gnn_out KerasTensor(type_spec=TensorSpec(shape=(None, 32), dtype=tf.float32, name=None), name='gnn_4/StatefulPartitionedCall:0', description=\"created by layer 'gnn_4'\")\n",
            "mean: KerasTensor(type_spec=TensorSpec(shape=(None, 32), dtype=tf.float32, name=None), name='tf.math.segment_mean_4/SegmentMean:0', description=\"created by layer 'tf.math.segment_mean_4'\")\n",
            "pred: KerasTensor(type_spec=TensorSpec(shape=(None, 1), dtype=tf.float32, name=None), name='dense_4/Sigmoid:0', description=\"created by layer 'dense_4'\")\n",
            "Model: \"model_4\"\n",
            "__________________________________________________________________________________________________\n",
            " Layer (type)                   Output Shape         Param #     Connected to                     \n",
            "==================================================================================================\n",
            " input_11 (InputLayer)          [(None,)]            0           []                               \n",
            "                                                                                                  \n",
            " input_1 (InputLayer)           [(None,)]            0           []                               \n",
            "                                                                                                  \n",
            " tf.math.reduce_max_4 (TFOpLamb  ()                  0           ['input_11[0][0]']               \n",
            " da)                                                                                              \n",
            "                                                                                                  \n",
            " embedding_4 (Embedding)        (None, 60)           30000       ['input_1[0][0]']                \n",
            "                                                                                                  \n",
            " input_10 (InputLayer)          [(None, 2)]          0           []                               \n",
            "                                                                                                  \n",
            " tf.__operators__.add_4 (TFOpLa  ()                  0           ['tf.math.reduce_max_4[0][0]']   \n",
            " mbda)                                                                                            \n",
            "                                                                                                  \n",
            " gnn_4 (GNN)                    (None, 32)           23744       ['embedding_4[0][0]',            \n",
            "                                                                  'input_10[0][0]',               \n",
            "                                                                  'input_11[0][0]',               \n",
            "                                                                  'tf.__operators__.add_4[0][0]'] \n",
            "                                                                                                  \n",
            " tf.math.segment_mean_4 (TFOpLa  (None, 32)          0           ['gnn_4[0][0]',                  \n",
            " mbda)                                                            'input_11[0][0]']               \n",
            "                                                                                                  \n",
            " dense_4 (Dense)                (None, 1)            33          ['tf.math.segment_mean_4[0][0]'] \n",
            "                                                                                                  \n",
            "==================================================================================================\n",
            "Total params: 53,777\n",
            "Trainable params: 53,777\n",
            "Non-trainable params: 0\n",
            "__________________________________________________________________________________________________\n"
          ]
        }
      ]
    },
    {
      "cell_type": "code",
      "source": [
        "model.compile(\n",
        "    optimizer=tf.keras.optimizers.Adam( ),\n",
        "    loss='BinaryCrossentropy',\n",
        "    metrics=['AUC']\n",
        ")"
      ],
      "metadata": {
        "id": "OJ_m8PdBrIA3"
      },
      "execution_count": 47,
      "outputs": []
    },
    {
      "cell_type": "code",
      "source": [
        "batch_size = 45\n",
        "num_batchs = math.ceil(len(training_set) / batch_size)\n",
        "num_batchs_validation = math.ceil(len(validation_set) / batch_size)\n",
        "\n",
        "history5=model.fit(\n",
        "    gen_batch(\n",
        "        training_set, batch_size=batch_size, repeat=True\n",
        "    ),\n",
        "    steps_per_epoch=num_batchs,\n",
        "    epochs=20,\n",
        "    validation_data=gen_batch(\n",
        "        validation_set, batch_size=45, repeat=True\n",
        "    ),\n",
        "    validation_steps=num_batchs_validation,\n",
        ")"
      ],
      "metadata": {
        "colab": {
          "base_uri": "https://localhost:8080/"
        },
        "id": "daxekLNbsTqM",
        "outputId": "0e1af5e1-5fc7-4269-e790-c2a7f2cd0d86"
      },
      "execution_count": 48,
      "outputs": [
        {
          "output_type": "stream",
          "name": "stdout",
          "text": [
            "Epoch 1/20\n",
            "473/473 [==============================] - 13s 22ms/step - loss: 0.2894 - auc: 0.3991 - val_loss: 0.1950 - val_auc: 0.5188\n",
            "Epoch 2/20\n",
            "473/473 [==============================] - 10s 20ms/step - loss: 0.2012 - auc: 0.5837 - val_loss: 0.1735 - val_auc: 0.6088\n",
            "Epoch 3/20\n",
            "473/473 [==============================] - 10s 20ms/step - loss: 0.1926 - auc: 0.6332 - val_loss: 0.1698 - val_auc: 0.6906\n",
            "Epoch 4/20\n",
            "473/473 [==============================] - 10s 21ms/step - loss: 0.1900 - auc: 0.6575 - val_loss: 0.1778 - val_auc: 0.7081\n",
            "Epoch 5/20\n",
            "473/473 [==============================] - 10s 21ms/step - loss: 0.1863 - auc: 0.6734 - val_loss: 0.1701 - val_auc: 0.6926\n",
            "Epoch 6/20\n",
            "473/473 [==============================] - 10s 21ms/step - loss: 0.1835 - auc: 0.6847 - val_loss: 0.1737 - val_auc: 0.6903\n",
            "Epoch 7/20\n",
            "473/473 [==============================] - 10s 21ms/step - loss: 0.1830 - auc: 0.6973 - val_loss: 0.1744 - val_auc: 0.7376\n",
            "Epoch 8/20\n",
            "473/473 [==============================] - 10s 21ms/step - loss: 0.1818 - auc: 0.7036 - val_loss: 0.1690 - val_auc: 0.7246\n",
            "Epoch 9/20\n",
            "473/473 [==============================] - 10s 21ms/step - loss: 0.1805 - auc: 0.7117 - val_loss: 0.1657 - val_auc: 0.7325\n",
            "Epoch 10/20\n",
            "473/473 [==============================] - 10s 22ms/step - loss: 0.1771 - auc: 0.7271 - val_loss: 0.1617 - val_auc: 0.7348\n",
            "Epoch 11/20\n",
            "473/473 [==============================] - 10s 21ms/step - loss: 0.1761 - auc: 0.7339 - val_loss: 0.1654 - val_auc: 0.7281\n",
            "Epoch 12/20\n",
            "473/473 [==============================] - 10s 20ms/step - loss: 0.1747 - auc: 0.7402 - val_loss: 0.1609 - val_auc: 0.7475\n",
            "Epoch 13/20\n",
            "473/473 [==============================] - 10s 21ms/step - loss: 0.1734 - auc: 0.7480 - val_loss: 0.1671 - val_auc: 0.7427\n",
            "Epoch 14/20\n",
            "473/473 [==============================] - 10s 21ms/step - loss: 0.1743 - auc: 0.7421 - val_loss: 0.1552 - val_auc: 0.7310\n",
            "Epoch 15/20\n",
            "473/473 [==============================] - 10s 21ms/step - loss: 0.1725 - auc: 0.7543 - val_loss: 0.1635 - val_auc: 0.7491\n",
            "Epoch 16/20\n",
            "473/473 [==============================] - 10s 20ms/step - loss: 0.1722 - auc: 0.7532 - val_loss: 0.1629 - val_auc: 0.7446\n",
            "Epoch 17/20\n",
            "473/473 [==============================] - 10s 20ms/step - loss: 0.1725 - auc: 0.7550 - val_loss: 0.1586 - val_auc: 0.7708\n",
            "Epoch 18/20\n",
            "473/473 [==============================] - 10s 21ms/step - loss: 0.1696 - auc: 0.7723 - val_loss: 0.1667 - val_auc: 0.7477\n",
            "Epoch 19/20\n",
            "473/473 [==============================] - 10s 20ms/step - loss: 0.1704 - auc: 0.7654 - val_loss: 0.1517 - val_auc: 0.7350\n",
            "Epoch 20/20\n",
            "473/473 [==============================] - 10s 21ms/step - loss: 0.1705 - auc: 0.7661 - val_loss: 0.1612 - val_auc: 0.7499\n"
          ]
        }
      ]
    },
    {
      "cell_type": "code",
      "source": [
        "plt.plot(history5.history['auc'])\n",
        "plt.plot(history5.history['val_auc'])\n",
        "plt.title('model AUC')\n",
        "plt.ylabel('AUC')\n",
        "plt.xlabel('epoch')\n",
        "plt.legend(['train', 'val'], loc='upper left')\n",
        "plt.show()"
      ],
      "metadata": {
        "colab": {
          "base_uri": "https://localhost:8080/",
          "height": 295
        },
        "id": "dqXdPrsnQvqp",
        "outputId": "c581fee5-c420-4515-bfe6-5cee3f41b765"
      },
      "execution_count": 49,
      "outputs": [
        {
          "output_type": "display_data",
          "data": {
            "text/plain": [
              "<Figure size 432x288 with 1 Axes>"
            ],
            "image/png": "[encoded data removed]"
          },
          "metadata": {
            "needs_background": "light"
          }
        }
      ]
    },
    {
      "cell_type": "code",
      "source": [
        "plt.plot(history5.history['loss'])\n",
        "plt.plot(history5.history['val_loss'])\n",
        "plt.title('model loss')\n",
        "plt.ylabel('loss')\n",
        "plt.xlabel('epoch')\n",
        "plt.legend(['train', 'val'], loc='upper left')\n",
        "plt.show()"
      ],
      "metadata": {
        "colab": {
          "base_uri": "https://localhost:8080/",
          "height": 295
        },
        "id": "wMQVrQLWRVF8",
        "outputId": "5ab37f33-ef5a-41a3-df26-18ddd6ec8cd2"
      },
      "execution_count": 50,
      "outputs": [
        {
          "output_type": "display_data",
          "data": {
            "text/plain": [
              "<Figure size 432x288 with 1 Axes>"
            ],
            "image/png": "[encoded data removed]"
          },
          "metadata": {
            "needs_background": "light"
          }
        }
      ]
    },
    {
      "cell_type": "markdown",
      "source": [
        "### **Prediction**"
      ],
      "metadata": {
        "id": "epVI2VNPskAm"
      }
    },
    {
      "cell_type": "code",
      "source": [
        "y_pred = model.predict(\n",
        "    gen_batch(testing_set, batch_size=45, shuffle=False)\n",
        ")\n",
        "y_pred = np.reshape(y_pred, -1)"
      ],
      "metadata": {
        "id": "iVWOy84EsZ9E"
      },
      "execution_count": 51,
      "outputs": []
    },
    {
      "cell_type": "code",
      "source": [
        "import pandas as pd \n",
        "submission = pd.DataFrame({'label':y_pred})\n",
        "submission.index.name = 'id'\n",
        "submission.to_csv('trail_5.csv')"
      ],
      "metadata": {
        "id": "7jYLQDXSsuoj"
      },
      "execution_count": 52,
      "outputs": []
    },
    {
      "cell_type": "markdown",
      "source": [
        "## **Observation_5**\n",
        "\n",
        "* as we see when I used  Graph Neural Network with Edge MLPs ,the accuracy was not increased enough\n",
        "\n",
        "* loss still same value \n",
        "\n",
        "* when I used Adam optimizer I noticed that accuracy was increased clearly \n",
        "\n",
        "* with batch size 45 and epoch 20\n",
        "\n",
        "* So  GNN_Edge_MLP is not best calculationn method "
      ],
      "metadata": {
        "id": "zcYN_bv2xjxp"
      }
    },
    {
      "cell_type": "markdown",
      "source": [
        "\n",
        "\n",
        "---"
      ],
      "metadata": {
        "id": "_pSMCh0CuiWE"
      }
    },
    {
      "cell_type": "markdown",
      "source": [
        "## **Trail_6**"
      ],
      "metadata": {
        "id": "joTBB_YbvD5t"
      }
    },
    {
      "cell_type": "markdown",
      "source": [
        " **Steps**\n",
        "\n",
        "* `in this trail I will use Embedding and tokenizer for nodes`\n",
        "\n",
        "* `features of node was embedded `\n",
        "\n",
        "* `then I will define gnn input as a variable to define all input layers`\n",
        "\n",
        "* ` I will use default layers of gnn but I will set Params (hidden_dim) by  value 32 ` \n",
        "\n",
        "* in this trail I will use **message_calculation_class** : **GNN_FiLM**"
      ],
      "metadata": {
        "id": "aSYBF8DAyLle"
      }
    },
    {
      "cell_type": "code",
      "source": [
        "from tensorflow.python.ops.gen_math_ops import segment_max\n",
        "# the first dim is different to the previous one. it is the total number of edges in this batch\n",
        "edge = keras.Input(batch_shape=(None, 2), dtype=tf.int32)\n",
        "node2graph = keras.Input(batch_shape=(None,), dtype=tf.int32)\n",
        "embeded = Embedding(tokenizer.num_words, 60)(data)\n",
        "\n",
        "# number of graphs (number of samples)\n",
        "num_graph = tf.reduce_max(node2graph)+1\n",
        "\n",
        "gnn_input = GNNInput(\n",
        "    node_features=embeded,\n",
        "    adjacency_lists=(edge,),\n",
        "    node_to_graph_map=node2graph, \n",
        "    num_graphs=num_graph,\n",
        ")\n",
        "# https://github.com/microsoft/tf2-gnn/blob/master/tf2_gnn/layers/gnn.py\n",
        "#\"message_calculation_class\" configures the message passing style. \n",
        "# This chooses the tf2_gnn.layers.message_passing.* layer used in each step.\n",
        "params = GNN.get_default_hyperparameters()\n",
        "params[\"hidden_dim\"] = 32 \n",
        "#use GGNN as a calculation class \n",
        "params[\"message_calculation_class\"]= \"GNN_FiLM\" \n",
        "params[\"film_parameter_MLP_hidden_layers\"]=12\n",
        "gnn_layer = GNN(params)\n",
        "gnn_out = gnn_layer(gnn_input)\n",
        "\n",
        "print('gnn_out', gnn_out)\n",
        "\n",
        "# https://www.tensorflow.org/api_docs/python/tf/math/segment_mean\n",
        "avg = segment_max(\n",
        "    data=gnn_out,\n",
        "    segment_ids=node2graph\n",
        ")\n",
        "print('mean:', avg)\n",
        "\n",
        "pred = Dense(1, activation='sigmoid')(avg)\n",
        "print('pred:', pred)\n",
        "# create model \n",
        "model = Model(\n",
        "    inputs={\n",
        "        'data': data,\n",
        "        'edges': edge,\n",
        "        'node2grah': node2graph,\n",
        "    },\n",
        "    outputs=pred\n",
        ")\n",
        "model.summary()"
      ],
      "metadata": {
        "colab": {
          "base_uri": "https://localhost:8080/"
        },
        "id": "a2kagxBXsuvf",
        "outputId": "802fce82-376d-4f4d-b3cd-28dc69a1254c"
      },
      "execution_count": 53,
      "outputs": [
        {
          "output_type": "stream",
          "name": "stdout",
          "text": [
            "gnn_out KerasTensor(type_spec=TensorSpec(shape=(None, 32), dtype=tf.float32, name=None), name='gnn_5/StatefulPartitionedCall:0', description=\"created by layer 'gnn_5'\")\n",
            "mean: KerasTensor(type_spec=TensorSpec(shape=(None, 32), dtype=tf.float32, name=None), name='tf.math.segment_max/SegmentMax:0', description=\"created by layer 'tf.math.segment_max'\")\n",
            "pred: KerasTensor(type_spec=TensorSpec(shape=(None, 1), dtype=tf.float32, name=None), name='dense_5/Sigmoid:0', description=\"created by layer 'dense_5'\")\n",
            "Model: \"model_5\"\n",
            "__________________________________________________________________________________________________\n",
            " Layer (type)                   Output Shape         Param #     Connected to                     \n",
            "==================================================================================================\n",
            " input_13 (InputLayer)          [(None,)]            0           []                               \n",
            "                                                                                                  \n",
            " input_1 (InputLayer)           [(None,)]            0           []                               \n",
            "                                                                                                  \n",
            " tf.math.reduce_max_5 (TFOpLamb  ()                  0           ['input_13[0][0]']               \n",
            " da)                                                                                              \n",
            "                                                                                                  \n",
            " embedding_5 (Embedding)        (None, 60)           30000       ['input_1[0][0]']                \n",
            "                                                                                                  \n",
            " input_12 (InputLayer)          [(None, 2)]          0           []                               \n",
            "                                                                                                  \n",
            " tf.__operators__.add_5 (TFOpLa  ()                  0           ['tf.math.reduce_max_5[0][0]']   \n",
            " mbda)                                                                                            \n",
            "                                                                                                  \n",
            " gnn_5 (GNN)                    (None, 32)           228544      ['embedding_5[0][0]',            \n",
            "                                                                  'input_12[0][0]',               \n",
            "                                                                  'input_13[0][0]',               \n",
            "                                                                  'tf.__operators__.add_5[0][0]'] \n",
            "                                                                                                  \n",
            " tf.math.segment_max (TFOpLambd  (None, 32)          0           ['gnn_5[0][0]',                  \n",
            " a)                                                               'input_13[0][0]']               \n",
            "                                                                                                  \n",
            " dense_5 (Dense)                (None, 1)            33          ['tf.math.segment_max[0][0]']    \n",
            "                                                                                                  \n",
            "==================================================================================================\n",
            "Total params: 258,577\n",
            "Trainable params: 258,577\n",
            "Non-trainable params: 0\n",
            "__________________________________________________________________________________________________\n"
          ]
        }
      ]
    },
    {
      "cell_type": "code",
      "source": [
        "model.compile(\n",
        "    optimizer=tf.keras.optimizers.Adam( ),\n",
        "    loss='BinaryCrossentropy',\n",
        "    metrics=['AUC']\n",
        ")"
      ],
      "metadata": {
        "id": "nh34F0vWwUnA"
      },
      "execution_count": 54,
      "outputs": []
    },
    {
      "cell_type": "code",
      "source": [
        "batch_size = 150\n",
        "num_batchs = math.ceil(len(training_set) / batch_size)\n",
        "num_batchs_validation = math.ceil(len(validation_set) / batch_size)\n",
        "\n",
        "history6=model.fit(\n",
        "    gen_batch(\n",
        "        training_set, batch_size=batch_size, repeat=True\n",
        "    ),\n",
        "    steps_per_epoch=num_batchs,\n",
        "    epochs=9,\n",
        "    validation_data=gen_batch(\n",
        "        validation_set, batch_size=150, repeat=True\n",
        "    ),\n",
        "    validation_steps=num_batchs_validation,\n",
        ")"
      ],
      "metadata": {
        "colab": {
          "base_uri": "https://localhost:8080/"
        },
        "id": "QQVhH9y8wUqH",
        "outputId": "a0a075bf-d5ec-4367-a0b0-26673995f05d"
      },
      "execution_count": 55,
      "outputs": [
        {
          "output_type": "stream",
          "name": "stdout",
          "text": [
            "Epoch 1/9\n",
            "142/142 [==============================] - 23s 81ms/step - loss: 0.2727 - auc: 0.5198 - val_loss: 0.1818 - val_auc: 0.6412\n",
            "Epoch 2/9\n",
            "142/142 [==============================] - 9s 65ms/step - loss: 0.2014 - auc: 0.5845 - val_loss: 0.1835 - val_auc: 0.6214\n",
            "Epoch 3/9\n",
            "142/142 [==============================] - 7s 51ms/step - loss: 0.1942 - auc: 0.6164 - val_loss: 0.1645 - val_auc: 0.7228\n",
            "Epoch 4/9\n",
            "142/142 [==============================] - 6s 46ms/step - loss: 0.1888 - auc: 0.6646 - val_loss: 0.1958 - val_auc: 0.6804\n",
            "Epoch 5/9\n",
            "142/142 [==============================] - 6s 45ms/step - loss: 0.1833 - auc: 0.6882 - val_loss: 0.1620 - val_auc: 0.7404\n",
            "Epoch 6/9\n",
            "142/142 [==============================] - 6s 44ms/step - loss: 0.1831 - auc: 0.6884 - val_loss: 0.1695 - val_auc: 0.7370\n",
            "Epoch 7/9\n",
            "142/142 [==============================] - 6s 44ms/step - loss: 0.1780 - auc: 0.7241 - val_loss: 0.1591 - val_auc: 0.7325\n",
            "Epoch 8/9\n",
            "142/142 [==============================] - 6s 44ms/step - loss: 0.1820 - auc: 0.7076 - val_loss: 0.1636 - val_auc: 0.7291\n",
            "Epoch 9/9\n",
            "142/142 [==============================] - 6s 44ms/step - loss: 0.1803 - auc: 0.7074 - val_loss: 0.1690 - val_auc: 0.7434\n"
          ]
        }
      ]
    },
    {
      "cell_type": "code",
      "source": [
        "plt.plot(history6.history['auc'])\n",
        "plt.plot(history6.history['val_auc'])\n",
        "plt.title('model AUC')\n",
        "plt.ylabel('AUC')\n",
        "plt.xlabel('epoch')\n",
        "plt.legend(['train', 'val'], loc='upper left')\n",
        "plt.show()"
      ],
      "metadata": {
        "colab": {
          "base_uri": "https://localhost:8080/",
          "height": 295
        },
        "id": "ujWu3CedQylD",
        "outputId": "b05a0da4-94b8-4569-cb3e-3dd7bd8d3577"
      },
      "execution_count": 56,
      "outputs": [
        {
          "output_type": "display_data",
          "data": {
            "text/plain": [
              "<Figure size 432x288 with 1 Axes>"
            ],
            "image/png": "[encoded data removed]"
          },
          "metadata": {
            "needs_background": "light"
          }
        }
      ]
    },
    {
      "cell_type": "code",
      "source": [
        "plt.plot(history6.history['loss'])\n",
        "plt.plot(history6.history['val_loss'])\n",
        "plt.title('model loss')\n",
        "plt.ylabel('loss')\n",
        "plt.xlabel('epoch')\n",
        "plt.legend(['train', 'val'], loc='upper left')\n",
        "plt.show()"
      ],
      "metadata": {
        "colab": {
          "base_uri": "https://localhost:8080/",
          "height": 295
        },
        "id": "wcV9K3PLRYAC",
        "outputId": "44480ee9-c24c-4c13-efce-d2f83a54a607"
      },
      "execution_count": 57,
      "outputs": [
        {
          "output_type": "display_data",
          "data": {
            "text/plain": [
              "<Figure size 432x288 with 1 Axes>"
            ],
            "image/png": "[encoded data removed]"
          },
          "metadata": {
            "needs_background": "light"
          }
        }
      ]
    },
    {
      "cell_type": "markdown",
      "source": [
        "## **Prediction**"
      ],
      "metadata": {
        "id": "4dADobgHwi0C"
      }
    },
    {
      "cell_type": "code",
      "source": [
        "y_pred = model.predict(\n",
        "    gen_batch(testing_set, batch_size=150, shuffle=False)\n",
        ")\n",
        "y_pred = np.reshape(y_pred, -1)"
      ],
      "metadata": {
        "id": "V0epdpWdwUsk"
      },
      "execution_count": 58,
      "outputs": []
    },
    {
      "cell_type": "code",
      "source": [
        "import pandas as pd \n",
        "submission = pd.DataFrame({'label':y_pred})\n",
        "submission.index.name = 'id'\n",
        "submission.to_csv('trail_6.csv')"
      ],
      "metadata": {
        "id": "-9peCyJXwr5F"
      },
      "execution_count": 59,
      "outputs": []
    },
    {
      "cell_type": "markdown",
      "source": [
        "## **Observation_6**\n",
        "\n",
        "* as we see when I used  Graph Neural Networks with Feature-wise Linear Modulation  ,the accuracy was not increased enough\n",
        "\n",
        "* loss still same value \n",
        "\n",
        "* when I used Adam optimizer I noticed that accuracy was increased clearly \n",
        "\n",
        "* with batch size 150 and epoch 9\n",
        "\n",
        "* So  GNN-FiLM is not best calculationn method "
      ],
      "metadata": {
        "id": "iyHSOezvzUN1"
      }
    },
    {
      "cell_type": "markdown",
      "source": [
        "\n",
        "\n",
        "---"
      ],
      "metadata": {
        "id": "J07otaQ50Ioy"
      }
    },
    {
      "cell_type": "markdown",
      "source": [
        "## **Trail_7**"
      ],
      "metadata": {
        "id": "RPRU_kWh0N3A"
      }
    },
    {
      "cell_type": "markdown",
      "source": [
        " **Steps**\n",
        "\n",
        "* `in this trail I will use Embedding and tokenizer for nodes`\n",
        "\n",
        "* `features of node was embedded `\n",
        "\n",
        "* `then I will define gnn input as a variable to define all input layers`\n",
        "\n",
        "* ` I will use default layers of gnn but I will set Params (hidden_dim) by  value 32 ` \n",
        "\n",
        "* also i will use RMSprop optimizer not adam"
      ],
      "metadata": {
        "id": "uh2-mVig2MZs"
      }
    },
    {
      "cell_type": "code",
      "source": [
        "# the first dim is different to the previous one. it is the total number of edges in this batch\n",
        "edge = keras.Input(batch_shape=(None, 2), dtype=tf.int32)\n",
        "node2graph = keras.Input(batch_shape=(None,), dtype=tf.int32)\n",
        "embeded = Embedding(tokenizer.num_words, 60)(data)\n",
        "\n",
        "# number of graphs (number of samples)\n",
        "num_graph = tf.reduce_max(node2graph)+1\n",
        "\n",
        "gnn_input = GNNInput(\n",
        "    node_features=embeded,\n",
        "    adjacency_lists=(edge,),\n",
        "    node_to_graph_map=node2graph, \n",
        "    num_graphs=num_graph,\n",
        ")\n",
        "# https://github.com/microsoft/tf2-gnn/blob/master/tf2_gnn/layers/gnn.py\n",
        "#\"message_calculation_class\" configures the message passing style. \n",
        "# This chooses the tf2_gnn.layers.message_passing.* layer used in each step.\n",
        "params = GNN.get_default_hyperparameters()\n",
        "gnn_layer = GNN(params)\n",
        "gnn_out = gnn_layer(gnn_input)\n",
        "\n",
        "print('gnn_out', gnn_out)\n",
        "\n",
        "# https://www.tensorflow.org/api_docs/python/tf/math/segment_mean\n",
        "avg = segment_max(\n",
        "    data=gnn_out,\n",
        "    segment_ids=node2graph\n",
        ")\n",
        "print('mean:', avg)\n",
        "\n",
        "pred = Dense(1, activation='sigmoid')(avg)\n",
        "print('pred:', pred)\n",
        "# create model \n",
        "model = Model(\n",
        "    inputs={\n",
        "        'data': data,\n",
        "        'edges': edge,\n",
        "        'node2grah': node2graph,\n",
        "    },\n",
        "    outputs=pred\n",
        ")\n",
        "model.summary() "
      ],
      "metadata": {
        "colab": {
          "base_uri": "https://localhost:8080/"
        },
        "id": "8fTuUN4pwsGc",
        "outputId": "1b019928-9ecb-469c-fec1-568514f69e1c"
      },
      "execution_count": 60,
      "outputs": [
        {
          "output_type": "stream",
          "name": "stdout",
          "text": [
            "gnn_out KerasTensor(type_spec=TensorSpec(shape=(None, 16), dtype=tf.float32, name=None), name='gnn_6/StatefulPartitionedCall:0', description=\"created by layer 'gnn_6'\")\n",
            "mean: KerasTensor(type_spec=TensorSpec(shape=(None, 16), dtype=tf.float32, name=None), name='tf.math.segment_max_1/SegmentMax:0', description=\"created by layer 'tf.math.segment_max_1'\")\n",
            "pred: KerasTensor(type_spec=TensorSpec(shape=(None, 1), dtype=tf.float32, name=None), name='dense_6/Sigmoid:0', description=\"created by layer 'dense_6'\")\n",
            "Model: \"model_6\"\n",
            "__________________________________________________________________________________________________\n",
            " Layer (type)                   Output Shape         Param #     Connected to                     \n",
            "==================================================================================================\n",
            " input_15 (InputLayer)          [(None,)]            0           []                               \n",
            "                                                                                                  \n",
            " input_1 (InputLayer)           [(None,)]            0           []                               \n",
            "                                                                                                  \n",
            " tf.math.reduce_max_6 (TFOpLamb  ()                  0           ['input_15[0][0]']               \n",
            " da)                                                                                              \n",
            "                                                                                                  \n",
            " embedding_6 (Embedding)        (None, 60)           30000       ['input_1[0][0]']                \n",
            "                                                                                                  \n",
            " input_14 (InputLayer)          [(None, 2)]          0           []                               \n",
            "                                                                                                  \n",
            " tf.__operators__.add_6 (TFOpLa  ()                  0           ['tf.math.reduce_max_6[0][0]']   \n",
            " mbda)                                                                                            \n",
            "                                                                                                  \n",
            " gnn_6 (GNN)                    (None, 16)           8544        ['embedding_6[0][0]',            \n",
            "                                                                  'input_14[0][0]',               \n",
            "                                                                  'input_15[0][0]',               \n",
            "                                                                  'tf.__operators__.add_6[0][0]'] \n",
            "                                                                                                  \n",
            " tf.math.segment_max_1 (TFOpLam  (None, 16)          0           ['gnn_6[0][0]',                  \n",
            " bda)                                                             'input_15[0][0]']               \n",
            "                                                                                                  \n",
            " dense_6 (Dense)                (None, 1)            17          ['tf.math.segment_max_1[0][0]']  \n",
            "                                                                                                  \n",
            "==================================================================================================\n",
            "Total params: 38,561\n",
            "Trainable params: 38,561\n",
            "Non-trainable params: 0\n",
            "__________________________________________________________________________________________________\n"
          ]
        }
      ]
    },
    {
      "cell_type": "code",
      "source": [
        "model.compile(\n",
        "    optimizer=tf.keras.optimizers.RMSprop(),\n",
        "    loss='BinaryCrossentropy',\n",
        "    metrics=['AUC']\n",
        ")"
      ],
      "metadata": {
        "id": "OUOjanj60myC"
      },
      "execution_count": 61,
      "outputs": []
    },
    {
      "cell_type": "code",
      "source": [
        "batch_size = 150\n",
        "num_batchs = math.ceil(len(training_set) / batch_size)\n",
        "num_batchs_validation = math.ceil(len(validation_set) / batch_size)\n",
        "\n",
        "history7=model.fit(\n",
        "    gen_batch(\n",
        "        training_set, batch_size=batch_size, repeat=True\n",
        "    ),\n",
        "    steps_per_epoch=num_batchs,\n",
        "    epochs=9,\n",
        "    validation_data=gen_batch(\n",
        "        validation_set, batch_size=150, repeat=True\n",
        "    ),\n",
        "    validation_steps=num_batchs_validation,\n",
        ")"
      ],
      "metadata": {
        "colab": {
          "base_uri": "https://localhost:8080/"
        },
        "id": "Ob5MXnt80w9M",
        "outputId": "3aa2d43e-ce78-4635-a3bb-cad1647b5d57"
      },
      "execution_count": 62,
      "outputs": [
        {
          "output_type": "stream",
          "name": "stdout",
          "text": [
            "Epoch 1/9\n",
            "142/142 [==============================] - 9s 44ms/step - loss: 0.2786 - auc: 0.4903 - val_loss: 0.1775 - val_auc: 0.5036\n",
            "Epoch 2/9\n",
            "142/142 [==============================] - 5s 37ms/step - loss: 0.1946 - auc: 0.6125 - val_loss: 0.1710 - val_auc: 0.6659\n",
            "Epoch 3/9\n",
            "142/142 [==============================] - 5s 36ms/step - loss: 0.1907 - auc: 0.6431 - val_loss: 0.1693 - val_auc: 0.6706\n",
            "Epoch 4/9\n",
            "142/142 [==============================] - 5s 36ms/step - loss: 0.1891 - auc: 0.6557 - val_loss: 0.1765 - val_auc: 0.6851\n",
            "Epoch 5/9\n",
            "142/142 [==============================] - 5s 37ms/step - loss: 0.1852 - auc: 0.6899 - val_loss: 0.1581 - val_auc: 0.6964\n",
            "Epoch 6/9\n",
            "142/142 [==============================] - 5s 34ms/step - loss: 0.1838 - auc: 0.6882 - val_loss: 0.1792 - val_auc: 0.6488\n",
            "Epoch 7/9\n",
            "142/142 [==============================] - 4s 30ms/step - loss: 0.1839 - auc: 0.6823 - val_loss: 0.1610 - val_auc: 0.6758\n",
            "Epoch 8/9\n",
            "142/142 [==============================] - 4s 30ms/step - loss: 0.1816 - auc: 0.6970 - val_loss: 0.1817 - val_auc: 0.6325\n",
            "Epoch 9/9\n",
            "142/142 [==============================] - 4s 29ms/step - loss: 0.1808 - auc: 0.7041 - val_loss: 0.1636 - val_auc: 0.6739\n"
          ]
        }
      ]
    },
    {
      "cell_type": "code",
      "source": [
        "plt.plot(history7.history['auc'])\n",
        "plt.plot(history7.history['val_auc'])\n",
        "plt.title('model AUC')\n",
        "plt.ylabel('AUC')\n",
        "plt.xlabel('epoch')\n",
        "plt.legend(['train', 'val'], loc='upper left')\n",
        "plt.show()"
      ],
      "metadata": {
        "colab": {
          "base_uri": "https://localhost:8080/",
          "height": 295
        },
        "id": "gJxWXU3hQ3AK",
        "outputId": "9dfb92b6-bc86-4db4-c315-3245f3a75db3"
      },
      "execution_count": 63,
      "outputs": [
        {
          "output_type": "display_data",
          "data": {
            "text/plain": [
              "<Figure size 432x288 with 1 Axes>"
            ],
            "image/png": "[encoded data removed]"
          },
          "metadata": {
            "needs_background": "light"
          }
        }
      ]
    },
    {
      "cell_type": "code",
      "source": [
        "plt.plot(history7.history['loss'])\n",
        "plt.plot(history7.history['val_loss'])\n",
        "plt.title('model loss')\n",
        "plt.ylabel('loss')\n",
        "plt.xlabel('epoch')\n",
        "plt.legend(['train', 'val'], loc='upper left')\n",
        "plt.show()"
      ],
      "metadata": {
        "colab": {
          "base_uri": "https://localhost:8080/",
          "height": 295
        },
        "id": "F1DatW91RbSq",
        "outputId": "e09ce04e-e98a-475f-bac9-e5c59e470cec"
      },
      "execution_count": 65,
      "outputs": [
        {
          "output_type": "display_data",
          "data": {
            "text/plain": [
              "<Figure size 432x288 with 1 Axes>"
            ],
            "image/png": "[encoded data removed]"
          },
          "metadata": {
            "needs_background": "light"
          }
        }
      ]
    },
    {
      "cell_type": "markdown",
      "source": [
        "## **Prediction**"
      ],
      "metadata": {
        "id": "SlFiGctD2z29"
      }
    },
    {
      "cell_type": "code",
      "source": [
        "y_pred = model.predict(\n",
        "    gen_batch(testing_set, batch_size=150, shuffle=False)\n",
        ")\n",
        "y_pred = np.reshape(y_pred, -1)"
      ],
      "metadata": {
        "id": "tAgs_CYd2-uh"
      },
      "execution_count": 66,
      "outputs": []
    },
    {
      "cell_type": "code",
      "source": [
        "import pandas as pd \n",
        "submission = pd.DataFrame({'label':y_pred})\n",
        "submission.index.name = 'id'\n",
        "submission.to_csv('trail_7.csv')"
      ],
      "metadata": {
        "id": "mJMlSsvE2-ri"
      },
      "execution_count": 67,
      "outputs": []
    },
    {
      "cell_type": "markdown",
      "source": [
        "## **Observation_7**\n",
        "\n",
        "* as we see when I used  default layer and RMSprop optimizer ,the accuracy was not increased enough\n",
        "\n",
        "* loss still same value \n",
        "\n",
        "* when I used RMSprop optimizer I noticed that accuracy not increased clearly \n",
        "\n",
        "* with batch size 150 and epoch 9\n",
        "\n",
        "* So  default layer not the best "
      ],
      "metadata": {
        "id": "74MzIS1_3R3O"
      }
    },
    {
      "cell_type": "markdown",
      "source": [
        "\n",
        "\n",
        "---"
      ],
      "metadata": {
        "id": "jcm5LiBSSyNc"
      }
    },
    {
      "cell_type": "markdown",
      "source": [
        "## **Trail_8**"
      ],
      "metadata": {
        "id": "kx_LZpRMS0J6"
      }
    },
    {
      "cell_type": "markdown",
      "source": [
        "Upsampling\n",
        "\n",
        "`Upsampling refers to manually adding data samples to the minority classes in order to create a more balanced dataset.`\n",
        "\n",
        "`Upsampling By Copying Minority Class Instances`"
      ],
      "metadata": {
        "id": "fzmYYa2QS5Cb"
      }
    },
    {
      "cell_type": "markdown",
      "source": [
        " **Steps**\n",
        "\n",
        "* `in this trail I will use Embedding and tokenizer for nodes`\n",
        "\n",
        "* `features of node was embedded `\n",
        "\n",
        "* `then I will define gnn input as a variable to define all input layers`\n",
        "\n",
        "* ` I will use default layers of gnn but I will set Params (hidden_dim) by  value 32 ` \n",
        "\n",
        "* `also i will use adam optimizer`\n",
        "*` I will use upsampling method to make the data balanced`\n",
        "\n",
        "* in this trail I will use message_calculation_class :**GGNN**"
      ],
      "metadata": {
        "id": "tKI_A2DZ8ZLk"
      }
    },
    {
      "cell_type": "code",
      "source": [
        "#read train file sdf by calling function read_sdf()\n",
        "training_set = read_sdf('train.sdf')"
      ],
      "metadata": {
        "colab": {
          "base_uri": "https://localhost:8080/",
          "height": 49,
          "referenced_widgets": [
            "5099f5ad6b5a4f3bab92cdf8eca38db0",
            "972fce0277954283bee7691db3a53b05",
            "06c73b696da54c6692bf68aa4c6622e3",
            "3f5ca6b9b2174f93976b1a19cf7523d1",
            "b308e109e0464237a238b6b5a1a3a647",
            "6044256fd3604060ac80da0aa4c42728",
            "1558c7f9ca6a4dcea4310981affbbdc6",
            "775f8dfea02f49d98ef7b84dc621f188",
            "704ddb8108254e198259aa2eb6b0733e",
            "f31ed40b6dcc4e27af31d0be8ba3bb07",
            "053611a5f7764cbf82466c198292df6f"
          ]
        },
        "id": "Nd-rHIwdXZtj",
        "outputId": "1fa72daf-3a47-4627-e732-44874c6300c1"
      },
      "execution_count": 68,
      "outputs": [
        {
          "output_type": "display_data",
          "data": {
            "text/plain": [
              "  0%|          | 0/25024 [00:00<?, ?it/s]"
            ],
            "application/vnd.jupyter.widget-view+json": {
              "version_major": 2,
              "version_minor": 0,
              "model_id": "5099f5ad6b5a4f3bab92cdf8eca38db0"
            }
          },
          "metadata": {}
        }
      ]
    },
    {
      "cell_type": "code",
      "source": [
        "np.unique(np.array(training_set)[:,2],return_counts=True)"
      ],
      "metadata": {
        "colab": {
          "base_uri": "https://localhost:8080/"
        },
        "id": "zfgNmQ8YXhYI",
        "outputId": "6c89acb0-fab8-4812-ce6c-8e260249aeb0"
      },
      "execution_count": 69,
      "outputs": [
        {
          "output_type": "execute_result",
          "data": {
            "text/plain": [
              "(array([0, 1], dtype=object), array([23806,  1218]))"
            ]
          },
          "metadata": {},
          "execution_count": 69
        }
      ]
    },
    {
      "cell_type": "code",
      "source": [
        "from pandas.core.frame import DataFrame\n",
        "DataFrame(np.array(training_set))"
      ],
      "metadata": {
        "colab": {
          "base_uri": "https://localhost:8080/",
          "height": 424
        },
        "id": "DPp1Ftv1ZPqw",
        "outputId": "a7837170-15bb-4169-d105-674d52f3d2c0"
      },
      "execution_count": 70,
      "outputs": [
        {
          "output_type": "execute_result",
          "data": {
            "text/plain": [
              "                                                       0  \\\n",
              "0      [S, O, O, O, O, N, N, N, C, C, C, C, C, C, C, ...   \n",
              "1      [O, O, O, O, O, O, N, N, N, C, C, C, C, C, C, ...   \n",
              "2      [F, F, F, O, O, O, O, O, N, N, C, C, C, C, C, ...   \n",
              "3      [Cl, S, S, O, O, O, O, N, N, N, N, C, C, C, C,...   \n",
              "4      [S, O, O, N, N, N, N, N, N, C, C, C, C, C, C, ...   \n",
              "...                                                  ...   \n",
              "25019  [O, O, O, O, O, O, N, N, C, C, C, C, C, C, C, ...   \n",
              "25020  [O, O, O, O, O, N, C, C, C, C, C, C, C, C, C, ...   \n",
              "25021  [O, O, O, O, O, O, O, O, O, N, C, C, C, C, C, ...   \n",
              "25022  [S, O, O, O, O, N, N, N, C, C, C, C, C, C, C, ...   \n",
              "25023  [Cl, Cl, Cl, S, O, O, O, O, N, N, N, N, N, C, ...   \n",
              "\n",
              "                                                       1  2  \n",
              "0      [[0, 8], [0, 14], [1, 10], [2, 11], [3, 7], [4...  0  \n",
              "1      [[0, 6], [0, 15], [1, 15], [2, 7], [3, 8], [4,...  0  \n",
              "2      [[0, 19], [1, 19], [2, 19], [3, 16], [4, 28], ...  0  \n",
              "3      [[0, 12], [1, 15], [1, 18], [2, 4], [2, 5], [2...  0  \n",
              "4      [[0, 1], [0, 2], [0, 5], [0, 9], [3, 4], [3, 1...  0  \n",
              "...                                                  ... ..  \n",
              "25019  [[0, 8], [0, 14], [1, 10], [2, 12], [3, 13], [...  0  \n",
              "25020  [[0, 9], [1, 11], [2, 16], [2, 19], [3, 16], [...  0  \n",
              "25021  [[0, 12], [0, 16], [1, 10], [2, 11], [3, 15], ...  0  \n",
              "25022  [[0, 11], [0, 12], [1, 21], [1, 27], [2, 22], ...  0  \n",
              "25023  [[0, 25], [1, 26], [2, 29], [3, 13], [3, 15], ...  0  \n",
              "\n",
              "[25024 rows x 3 columns]"
            ],
            "text/html": [
              "\n",
              "  <div id=\"df-a55cad5f-31ce-4ee0-b78a-f095628a6999\">\n",
              "    <div class=\"colab-df-container\">\n",
              "      <div>\n",
              "<style scoped>\n",
              "    .dataframe tbody tr th:only-of-type {\n",
              "        vertical-align: middle;\n",
              "    }\n",
              "\n",
              "    .dataframe tbody tr th {\n",
              "        vertical-align: top;\n",
              "    }\n",
              "\n",
              "    .dataframe thead th {\n",
              "        text-align: right;\n",
              "    }\n",
              "</style>\n",
              "<table border=\"1\" class=\"dataframe\">\n",
              "  <thead>\n",
              "    <tr style=\"text-align: right;\">\n",
              "      <th></th>\n",
              "      <th>0</th>\n",
              "      <th>1</th>\n",
              "      <th>2</th>\n",
              "    </tr>\n",
              "  </thead>\n",
              "  <tbody>\n",
              "    <tr>\n",
              "      <th>0</th>\n",
              "      <td>[S, O, O, O, O, N, N, N, C, C, C, C, C, C, C, ...</td>\n",
              "      <td>[[0, 8], [0, 14], [1, 10], [2, 11], [3, 7], [4...</td>\n",
              "      <td>0</td>\n",
              "    </tr>\n",
              "    <tr>\n",
              "      <th>1</th>\n",
              "      <td>[O, O, O, O, O, O, N, N, N, C, C, C, C, C, C, ...</td>\n",
              "      <td>[[0, 6], [0, 15], [1, 15], [2, 7], [3, 8], [4,...</td>\n",
              "      <td>0</td>\n",
              "    </tr>\n",
              "    <tr>\n",
              "      <th>2</th>\n",
              "      <td>[F, F, F, O, O, O, O, O, N, N, C, C, C, C, C, ...</td>\n",
              "      <td>[[0, 19], [1, 19], [2, 19], [3, 16], [4, 28], ...</td>\n",
              "      <td>0</td>\n",
              "    </tr>\n",
              "    <tr>\n",
              "      <th>3</th>\n",
              "      <td>[Cl, S, S, O, O, O, O, N, N, N, N, C, C, C, C,...</td>\n",
              "      <td>[[0, 12], [1, 15], [1, 18], [2, 4], [2, 5], [2...</td>\n",
              "      <td>0</td>\n",
              "    </tr>\n",
              "    <tr>\n",
              "      <th>4</th>\n",
              "      <td>[S, O, O, N, N, N, N, N, N, C, C, C, C, C, C, ...</td>\n",
              "      <td>[[0, 1], [0, 2], [0, 5], [0, 9], [3, 4], [3, 1...</td>\n",
              "      <td>0</td>\n",
              "    </tr>\n",
              "    <tr>\n",
              "      <th>...</th>\n",
              "      <td>...</td>\n",
              "      <td>...</td>\n",
              "      <td>...</td>\n",
              "    </tr>\n",
              "    <tr>\n",
              "      <th>25019</th>\n",
              "      <td>[O, O, O, O, O, O, N, N, C, C, C, C, C, C, C, ...</td>\n",
              "      <td>[[0, 8], [0, 14], [1, 10], [2, 12], [3, 13], [...</td>\n",
              "      <td>0</td>\n",
              "    </tr>\n",
              "    <tr>\n",
              "      <th>25020</th>\n",
              "      <td>[O, O, O, O, O, N, C, C, C, C, C, C, C, C, C, ...</td>\n",
              "      <td>[[0, 9], [1, 11], [2, 16], [2, 19], [3, 16], [...</td>\n",
              "      <td>0</td>\n",
              "    </tr>\n",
              "    <tr>\n",
              "      <th>25021</th>\n",
              "      <td>[O, O, O, O, O, O, O, O, O, N, C, C, C, C, C, ...</td>\n",
              "      <td>[[0, 12], [0, 16], [1, 10], [2, 11], [3, 15], ...</td>\n",
              "      <td>0</td>\n",
              "    </tr>\n",
              "    <tr>\n",
              "      <th>25022</th>\n",
              "      <td>[S, O, O, O, O, N, N, N, C, C, C, C, C, C, C, ...</td>\n",
              "      <td>[[0, 11], [0, 12], [1, 21], [1, 27], [2, 22], ...</td>\n",
              "      <td>0</td>\n",
              "    </tr>\n",
              "    <tr>\n",
              "      <th>25023</th>\n",
              "      <td>[Cl, Cl, Cl, S, O, O, O, O, N, N, N, N, N, C, ...</td>\n",
              "      <td>[[0, 25], [1, 26], [2, 29], [3, 13], [3, 15], ...</td>\n",
              "      <td>0</td>\n",
              "    </tr>\n",
              "  </tbody>\n",
              "</table>\n",
              "<p>25024 rows × 3 columns</p>\n",
              "</div>\n",
              "      <button class=\"colab-df-convert\" onclick=\"convertToInteractive('df-a55cad5f-31ce-4ee0-b78a-f095628a6999')\"\n",
              "              title=\"Convert this dataframe to an interactive table.\"\n",
              "              style=\"display:none;\">\n",
              "        \n",
              "  <svg xmlns=\"http://www.w3.org/2000/svg\" height=\"24px\"viewBox=\"0 0 24 24\"\n",
              "       width=\"24px\">\n",
              "    <path d=\"M0 0h24v24H0V0z\" fill=\"none\"/>\n",
              "    <path d=\"M18.56 5.44l.94 2.06.94-2.06 2.06-.94-2.06-.94-.94-2.06-.94 2.06-2.06.94zm-11 1L8.5 8.5l.94-2.06 2.06-.94-2.06-.94L8.5 2.5l-.94 2.06-2.06.94zm10 10l.94 2.06.94-2.06 2.06-.94-2.06-.94-.94-2.06-.94 2.06-2.06.94z\"/><path d=\"M17.41 7.96l-1.37-1.37c-.4-.4-.92-.59-1.43-.59-.52 0-1.04.2-1.43.59L10.3 9.45l-7.72 7.72c-.78.78-.78 2.05 0 2.83L4 21.41c.39.39.9.59 1.41.59.51 0 1.02-.2 1.41-.59l7.78-7.78 2.81-2.81c.8-.78.8-2.07 0-2.86zM5.41 20L4 18.59l7.72-7.72 1.47 1.35L5.41 20z\"/>\n",
              "  </svg>\n",
              "      </button>\n",
              "      \n",
              "  <style>\n",
              "    .colab-df-container {\n",
              "      display:flex;\n",
              "      flex-wrap:wrap;\n",
              "      gap: 12px;\n",
              "    }\n",
              "\n",
              "    .colab-df-convert {\n",
              "      background-color: #E8F0FE;\n",
              "      border: none;\n",
              "      border-radius: 50%;\n",
              "      cursor: pointer;\n",
              "      display: none;\n",
              "      fill: #1967D2;\n",
              "      height: 32px;\n",
              "      padding: 0 0 0 0;\n",
              "      width: 32px;\n",
              "    }\n",
              "\n",
              "    .colab-df-convert:hover {\n",
              "      background-color: #E2EBFA;\n",
              "      box-shadow: 0px 1px 2px rgba(60, 64, 67, 0.3), 0px 1px 3px 1px rgba(60, 64, 67, 0.15);\n",
              "      fill: #174EA6;\n",
              "    }\n",
              "\n",
              "    [theme=dark] .colab-df-convert {\n",
              "      background-color: #3B4455;\n",
              "      fill: #D2E3FC;\n",
              "    }\n",
              "\n",
              "    [theme=dark] .colab-df-convert:hover {\n",
              "      background-color: #434B5C;\n",
              "      box-shadow: 0px 1px 3px 1px rgba(0, 0, 0, 0.15);\n",
              "      filter: drop-shadow(0px 1px 2px rgba(0, 0, 0, 0.3));\n",
              "      fill: #FFFFFF;\n",
              "    }\n",
              "  </style>\n",
              "\n",
              "      <script>\n",
              "        const buttonEl =\n",
              "          document.querySelector('#df-a55cad5f-31ce-4ee0-b78a-f095628a6999 button.colab-df-convert');\n",
              "        buttonEl.style.display =\n",
              "          google.colab.kernel.accessAllowed ? 'block' : 'none';\n",
              "\n",
              "        async function convertToInteractive(key) {\n",
              "          const element = document.querySelector('#df-a55cad5f-31ce-4ee0-b78a-f095628a6999');\n",
              "          const dataTable =\n",
              "            await google.colab.kernel.invokeFunction('convertToInteractive',\n",
              "                                                     [key], {});\n",
              "          if (!dataTable) return;\n",
              "\n",
              "          const docLinkHtml = 'Like what you see? Visit the ' +\n",
              "            '<a target=\"_blank\" href=https://colab.research.google.com/notebooks/data_table.ipynb>data table notebook</a>'\n",
              "            + ' to learn more about interactive tables.';\n",
              "          element.innerHTML = '';\n",
              "          dataTable['output_type'] = 'display_data';\n",
              "          await google.colab.output.renderOutput(dataTable, element);\n",
              "          const docLink = document.createElement('div');\n",
              "          docLink.innerHTML = docLinkHtml;\n",
              "          element.appendChild(docLink);\n",
              "        }\n",
              "      </script>\n",
              "    </div>\n",
              "  </div>\n",
              "  "
            ]
          },
          "metadata": {},
          "execution_count": 70
        }
      ]
    },
    {
      "cell_type": "code",
      "source": [
        "#check balance of data\n",
        "import matplotlib.pyplot as plt\n",
        "import seaborn as sns\n",
        "g = sns.countplot(DataFrame(np.array(training_set)[:,2]).all())\n",
        "g.set_xticklabels([0,1])\n",
        "plt.show()"
      ],
      "metadata": {
        "colab": {
          "base_uri": "https://localhost:8080/",
          "height": 265
        },
        "id": "DfWMAlJXa7mT",
        "outputId": "3440e8f0-18af-43a6-cbfe-301b0e0d6e40"
      },
      "execution_count": 71,
      "outputs": [
        {
          "output_type": "display_data",
          "data": {
            "text/plain": [
              "<Figure size 432x288 with 1 Axes>"
            ],
            "image/png": "[encoded data removed]"
          },
          "metadata": {
            "needs_background": "light"
          }
        }
      ]
    },
    {
      "cell_type": "code",
      "source": [
        "print(DataFrame(np.array(training_set)[:,2]).value_counts())"
      ],
      "metadata": {
        "colab": {
          "base_uri": "https://localhost:8080/"
        },
        "id": "BakfIwVubbO4",
        "outputId": "0baa9f32-65d7-499f-ca20-c5211f0cbbbd"
      },
      "execution_count": 72,
      "outputs": [
        {
          "output_type": "stream",
          "name": "stdout",
          "text": [
            "0    23806\n",
            "1     1218\n",
            "dtype: int64\n"
          ]
        }
      ]
    },
    {
      "cell_type": "code",
      "source": [
        "DataFrame(np.array(training_set)).rename(columns = {0:'nodes', 1:'edges',2:'label'}, inplace = True)"
      ],
      "metadata": {
        "id": "GZy4Gw4MeS9q"
      },
      "execution_count": 73,
      "outputs": []
    },
    {
      "cell_type": "code",
      "source": [
        "DataFrame(np.array(training_set))[2]"
      ],
      "metadata": {
        "colab": {
          "base_uri": "https://localhost:8080/"
        },
        "id": "2zBX1JRRezhD",
        "outputId": "e9169ac1-129d-4524-d69b-9ca61a8888a5"
      },
      "execution_count": 74,
      "outputs": [
        {
          "output_type": "execute_result",
          "data": {
            "text/plain": [
              "0        0\n",
              "1        0\n",
              "2        0\n",
              "3        0\n",
              "4        0\n",
              "        ..\n",
              "25019    0\n",
              "25020    0\n",
              "25021    0\n",
              "25022    0\n",
              "25023    0\n",
              "Name: 2, Length: 25024, dtype: object"
            ]
          },
          "metadata": {},
          "execution_count": 74
        }
      ]
    },
    {
      "cell_type": "code",
      "source": [
        "DataFrame(np.array(training_set)).groupby(2).size().plot(kind='pie',\n",
        "                                       y = DataFrame(np.array(training_set))[2],\n",
        "                                       label = \"Type\",\n",
        "                                       autopct='%1.1f%%')"
      ],
      "metadata": {
        "colab": {
          "base_uri": "https://localhost:8080/",
          "height": 265
        },
        "id": "s-wJESBFblgs",
        "outputId": "6009e1e2-d1ba-468e-bb91-4b18ff6a2e4b"
      },
      "execution_count": 75,
      "outputs": [
        {
          "output_type": "execute_result",
          "data": {
            "text/plain": [
              "<matplotlib.axes._subplots.AxesSubplot at 0x7f9884572310>"
            ]
          },
          "metadata": {},
          "execution_count": 75
        },
        {
          "output_type": "display_data",
          "data": {
            "text/plain": [
              "<Figure size 432x288 with 1 Axes>"
            ],
            "image/png": "[encoded data removed]"
          },
          "metadata": {}
        }
      ]
    },
    {
      "cell_type": "code",
      "source": [
        "label_0 = DataFrame(np.array(training_set))[DataFrame(np.array(training_set))[2] == 0]\n",
        "label_1 = DataFrame(np.array(training_set))[DataFrame(np.array(training_set))[2] == 1]\n",
        "print(label_0.shape)\n",
        "print(label_1.shape)"
      ],
      "metadata": {
        "colab": {
          "base_uri": "https://localhost:8080/"
        },
        "id": "owdL-8KFXX7p",
        "outputId": "7ca08ffb-df20-4c21-b8f5-dd102f6d07d5"
      },
      "execution_count": 76,
      "outputs": [
        {
          "output_type": "stream",
          "name": "stdout",
          "text": [
            "(23806, 3)\n",
            "(1218, 3)\n"
          ]
        }
      ]
    },
    {
      "cell_type": "code",
      "source": [
        "X_train = pd.DataFrame(np.array(training_set)[:,:-1])\n",
        "y_train = pd.DataFrame(np.array(training_set)[:,2])"
      ],
      "metadata": {
        "id": "v2bPSH3jlEhn"
      },
      "execution_count": 77,
      "outputs": []
    },
    {
      "cell_type": "code",
      "source": [
        "from sklearn.utils import resample\n",
        "\n",
        "resampling = X_train.copy()\n",
        "resampling[2] = y_train.values\n",
        "class_0 = resampling[resampling[2]==0]\n",
        "class_1 = resampling[resampling[2]==1]\n",
        "class_1_after = resample(class_1, replace=True,n_samples=23806)\n",
        "df_upsampled = pd.concat([class_0, class_1_after])"
      ],
      "metadata": {
        "id": "ug3na0wjgxPD"
      },
      "execution_count": 78,
      "outputs": []
    },
    {
      "cell_type": "code",
      "source": [
        "# Display new class counts\n",
        "df_upsampled[2].value_counts()"
      ],
      "metadata": {
        "colab": {
          "base_uri": "https://localhost:8080/"
        },
        "id": "efq-pcfXiwHO",
        "outputId": "9fcc581f-69a3-444f-d814-31ce74fec60c"
      },
      "execution_count": 79,
      "outputs": [
        {
          "output_type": "execute_result",
          "data": {
            "text/plain": [
              "0    23806\n",
              "1    23806\n",
              "Name: 2, dtype: int64"
            ]
          },
          "metadata": {},
          "execution_count": 79
        }
      ]
    },
    {
      "cell_type": "code",
      "source": [
        "#visualize data \n",
        "df_upsampled.groupby(2).size().plot(kind='pie',\n",
        "                                       y = df_upsampled[2],\n",
        "                                       label = \"Type\",\n",
        "                                       autopct='%1.1f%%')"
      ],
      "metadata": {
        "colab": {
          "base_uri": "https://localhost:8080/",
          "height": 265
        },
        "id": "PubnQRqqlrgA",
        "outputId": "d225fa96-cf8e-484d-dae0-87ef38ffe631"
      },
      "execution_count": 80,
      "outputs": [
        {
          "output_type": "execute_result",
          "data": {
            "text/plain": [
              "<matplotlib.axes._subplots.AxesSubplot at 0x7f988449a250>"
            ]
          },
          "metadata": {},
          "execution_count": 80
        },
        {
          "output_type": "display_data",
          "data": {
            "text/plain": [
              "<Figure size 432x288 with 1 Axes>"
            ],
            "image/png": "[encoded data removed]"
          },
          "metadata": {}
        }
      ]
    },
    {
      "cell_type": "code",
      "source": [
        "training_set = df_upsampled.values.tolist() # to return data from dataframe to arry"
      ],
      "metadata": {
        "id": "0uEdOqvSlxP-"
      },
      "execution_count": 81,
      "outputs": []
    },
    {
      "cell_type": "markdown",
      "source": [
        "## **Visualizing/Inspecting a Sample**"
      ],
      "metadata": {
        "id": "f4xa5NakniJE"
      }
    },
    {
      "cell_type": "code",
      "source": [
        "plt.clf()\n",
        "visualize(training_set[0])"
      ],
      "metadata": {
        "colab": {
          "base_uri": "https://localhost:8080/",
          "height": 336
        },
        "id": "n2nsyS6bmIvj",
        "outputId": "90eb6c6b-530a-47cc-bd2f-c6cb07687537"
      },
      "execution_count": 82,
      "outputs": [
        {
          "output_type": "display_data",
          "data": {
            "text/plain": [
              "<Figure size 432x288 with 1 Axes>"
            ],
            "image/png": "[encoded data removed]"
          },
          "metadata": {}
        },
        {
          "output_type": "execute_result",
          "data": {
            "text/plain": [
              "<networkx.classes.graph.Graph at 0x7f98842dcdd0>"
            ]
          },
          "metadata": {},
          "execution_count": 82
        }
      ]
    },
    {
      "cell_type": "code",
      "source": [
        "print('length of training_set:', len(training_set))\n",
        "print('length of traiing_set[0]:', len(training_set[0]))\n",
        "print('length of testing_set:', len(testing_set))\n",
        "print('length of testing_set[0]:', len(testing_set[0]))"
      ],
      "metadata": {
        "colab": {
          "base_uri": "https://localhost:8080/"
        },
        "id": "_tmM0Iy4nqay",
        "outputId": "d962a889-9e8c-4f0d-99cd-685350e1c0b5"
      },
      "execution_count": 83,
      "outputs": [
        {
          "output_type": "stream",
          "name": "stdout",
          "text": [
            "length of training_set: 47612\n",
            "length of traiing_set[0]: 3\n",
            "length of testing_set: 12326\n",
            "length of testing_set[0]: 3\n"
          ]
        }
      ]
    },
    {
      "cell_type": "code",
      "source": [
        "# showing one batch:\n",
        "for train_batch in gen_batch(training_set, batch_size=4):\n",
        "    for k,v in train_batch[0].items():          #k: labels, v: values\n",
        "        print(k)\n",
        "        print(v)\n",
        "        #print(len(v))\n",
        "        pass\n",
        "    print('label', train_batch[1])\n",
        "    break\n"
      ],
      "metadata": {
        "colab": {
          "base_uri": "https://localhost:8080/"
        },
        "id": "NgX_NVIin6H8",
        "outputId": "f1d39423-4b48-4e9d-da4a-c52a950f6c4c"
      },
      "execution_count": 84,
      "outputs": [
        {
          "output_type": "stream",
          "name": "stdout",
          "text": [
            "data\n",
            "[5 5 2 2 2 2 3 3 1 1 1 1 1 1 1 1 1 1 1 1 0 0 0 0 0 0 0 0 0 0 0 0 0 0 0 0 0\n",
            " 0 0 0 0 0 0 0 0 0 0 0 0 0 0 0 0 0 0 0 0 0 0 0 0 0 0 0 0 0 0 0 0 0 0 0 0 0\n",
            " 0 0 0 0 0 0 0 0 0 0 0 0 0 0 0 0 0 0 2 2 2 2 2 2 2 2 2 2 2 2 2 2 2 2 2 2 3\n",
            " 3 3 3 3 3 3 3 3 3 3 3 1 1 1 1 1 1 1 1 1 1 1 1 1 1 1 1 1 1 1 1 1 1 1 1 1 1\n",
            " 1 1 1 1 1 1 1 1 1 1 1 1 1 1 1 1 1 1 1 1 1 1 1 1 1 1 1 1 1 1 1 1 1 1 1 1 2\n",
            " 2 2 3 1 1 1 1 1 1 1 1 1 1 1 1 1 1 1 1 0 0 0 0 0 0 0 0 0 0 0 0 0 0 0 0 0 0\n",
            " 0 0 0 0 0 0 0 0 0 0 0 0 0 0 0 0 0 0 0 0 0 0 0 0 0 0 0 0 0 0 0 0 0 0 0 0 0\n",
            " 0 0 0 0 0 0 0 0 0 0 0 0 0 0 0 0 0 2 2 2 2 2 2 2 2 2 3 1 1 1 1 1 1 1 1 1 1\n",
            " 1 1 1 1 1 1 1 1 1 1 1 1 1 1 1 1 1 1 1 1 1 1 1 1 0 0 0 0 0 0 0 0 0 0 0 0 0\n",
            " 0 0 0 0 0 0 0 0 0 0 0 0 0 0 0 0 0 0 0 0 0 0 0 0 0 0 0 0 0 0 0 0 0 0 0]\n",
            "edges\n",
            "[[  0  16]\n",
            " [  1  17]\n",
            " [  2   7]\n",
            " [  2  15]\n",
            " [  3  10]\n",
            " [  3  18]\n",
            " [  4  10]\n",
            " [  5  15]\n",
            " [  6   9]\n",
            " [  6  15]\n",
            " [  7  16]\n",
            " [  8  10]\n",
            " [  8  13]\n",
            " [  8  14]\n",
            " [  9  11]\n",
            " [  9  12]\n",
            " [ 11  13]\n",
            " [ 12  14]\n",
            " [ 16  17]\n",
            " [ 18  19]\n",
            " [ 92 123]\n",
            " [ 92 126]\n",
            " [ 93 129]\n",
            " [ 94 131]\n",
            " [ 95 133]\n",
            " [ 96 141]\n",
            " [ 96 152]\n",
            " [ 97 143]\n",
            " [ 97 162]\n",
            " [ 98 140]\n",
            " [ 99 142]\n",
            " [100 145]\n",
            " [101 149]\n",
            " [102 150]\n",
            " [103 152]\n",
            " [104 153]\n",
            " [105 155]\n",
            " [106 160]\n",
            " [107 162]\n",
            " [108 166]\n",
            " [109 168]\n",
            " [110 122]\n",
            " [110 125]\n",
            " [111 131]\n",
            " [111 137]\n",
            " [112 128]\n",
            " [113 133]\n",
            " [113 139]\n",
            " [114 145]\n",
            " [114 146]\n",
            " [114 151]\n",
            " [115 140]\n",
            " [115 144]\n",
            " [116 148]\n",
            " [116 149]\n",
            " [116 156]\n",
            " [117 142]\n",
            " [117 147]\n",
            " [118 150]\n",
            " [118 167]\n",
            " [118 176]\n",
            " [119 153]\n",
            " [119 170]\n",
            " [119 177]\n",
            " [120 161]\n",
            " [120 166]\n",
            " [120 178]\n",
            " [121 164]\n",
            " [121 168]\n",
            " [121 179]\n",
            " [122 123]\n",
            " [122 124]\n",
            " [123 127]\n",
            " [124 128]\n",
            " [124 131]\n",
            " [125 126]\n",
            " [125 130]\n",
            " [126 132]\n",
            " [127 129]\n",
            " [127 136]\n",
            " [128 129]\n",
            " [130 133]\n",
            " [130 134]\n",
            " [132 135]\n",
            " [132 138]\n",
            " [134 135]\n",
            " [137 140]\n",
            " [137 141]\n",
            " [139 142]\n",
            " [139 143]\n",
            " [141 159]\n",
            " [143 165]\n",
            " [144 145]\n",
            " [144 157]\n",
            " [146 150]\n",
            " [146 154]\n",
            " [147 149]\n",
            " [147 163]\n",
            " [148 153]\n",
            " [148 158]\n",
            " [151 155]\n",
            " [152 161]\n",
            " [154 155]\n",
            " [156 160]\n",
            " [157 172]\n",
            " [157 173]\n",
            " [158 160]\n",
            " [161 169]\n",
            " [162 164]\n",
            " [163 174]\n",
            " [163 175]\n",
            " [164 171]\n",
            " [166 167]\n",
            " [168 170]\n",
            " [169 180]\n",
            " [169 181]\n",
            " [171 182]\n",
            " [171 183]\n",
            " [184 194]\n",
            " [184 197]\n",
            " [185 195]\n",
            " [186 195]\n",
            " [187 188]\n",
            " [187 190]\n",
            " [188 189]\n",
            " [188 193]\n",
            " [189 191]\n",
            " [189 192]\n",
            " [190 191]\n",
            " [190 195]\n",
            " [192 194]\n",
            " [193 196]\n",
            " [194 196]\n",
            " [197 198]\n",
            " [198 199]\n",
            " [198 200]\n",
            " [199 201]\n",
            " [200 202]\n",
            " [201 203]\n",
            " [202 203]\n",
            " [292 276]\n",
            " [276 307]\n",
            " [293 277]\n",
            " [277 308]\n",
            " [278 280]\n",
            " [278 297]\n",
            " [279 281]\n",
            " [279 297]\n",
            " [280 306]\n",
            " [281 306]\n",
            " [282 307]\n",
            " [283 308]\n",
            " [284 319]\n",
            " [285 319]\n",
            " [286 287]\n",
            " [286 288]\n",
            " [286 299]\n",
            " [286 302]\n",
            " [287 294]\n",
            " [287 298]\n",
            " [288 289]\n",
            " [288 295]\n",
            " [289 291]\n",
            " [289 292]\n",
            " [290 291]\n",
            " [290 293]\n",
            " [290 296]\n",
            " [290 304]\n",
            " [291 300]\n",
            " [292 294]\n",
            " [293 295]\n",
            " [296 303]\n",
            " [296 305]\n",
            " [297 298]\n",
            " [297 301]\n",
            " [299 301]\n",
            " [300 303]\n",
            " [305 309]\n",
            " [305 310]\n",
            " [306 311]\n",
            " [306 312]\n",
            " [307 314]\n",
            " [308 315]\n",
            " [309 313]\n",
            " [311 316]\n",
            " [312 317]\n",
            " [313 319]\n",
            " [316 318]\n",
            " [317 318]]\n",
            "node2grah\n",
            "[0 0 0 0 0 0 0 0 0 0 0 0 0 0 0 0 0 0 0 0 0 0 0 0 0 0 0 0 0 0 0 0 0 0 0 0 0\n",
            " 0 0 0 0 0 0 0 0 0 0 0 0 0 0 0 0 0 0 0 0 0 0 0 0 0 0 0 0 0 0 0 0 0 0 0 0 0\n",
            " 0 0 0 0 0 0 0 0 0 0 0 0 0 0 0 0 0 0 1 1 1 1 1 1 1 1 1 1 1 1 1 1 1 1 1 1 1\n",
            " 1 1 1 1 1 1 1 1 1 1 1 1 1 1 1 1 1 1 1 1 1 1 1 1 1 1 1 1 1 1 1 1 1 1 1 1 1\n",
            " 1 1 1 1 1 1 1 1 1 1 1 1 1 1 1 1 1 1 1 1 1 1 1 1 1 1 1 1 1 1 1 1 1 1 1 1 2\n",
            " 2 2 2 2 2 2 2 2 2 2 2 2 2 2 2 2 2 2 2 2 2 2 2 2 2 2 2 2 2 2 2 2 2 2 2 2 2\n",
            " 2 2 2 2 2 2 2 2 2 2 2 2 2 2 2 2 2 2 2 2 2 2 2 2 2 2 2 2 2 2 2 2 2 2 2 2 2\n",
            " 2 2 2 2 2 2 2 2 2 2 2 2 2 2 2 2 2 3 3 3 3 3 3 3 3 3 3 3 3 3 3 3 3 3 3 3 3\n",
            " 3 3 3 3 3 3 3 3 3 3 3 3 3 3 3 3 3 3 3 3 3 3 3 3 3 3 3 3 3 3 3 3 3 3 3 3 3\n",
            " 3 3 3 3 3 3 3 3 3 3 3 3 3 3 3 3 3 3 3 3 3 3 3 3 3 3 3 3 3 3 3 3 3 3 3]\n",
            "label [0 1 0 1]\n"
          ]
        }
      ]
    },
    {
      "cell_type": "code",
      "source": [
        "# the first dim is different to the previous one. it is the total number of edges in this batch\n",
        "edge = keras.Input(batch_shape=(None, 2), dtype=tf.int32)     #edge is 2D\n",
        "node2graph = keras.Input(batch_shape=(None,), dtype=tf.int32)\n",
        "embeded = Embedding(tokenizer.num_words, 20)(data)\n",
        "\n",
        "# number of graphs (number of samples)\n",
        "num_graph = tf.reduce_max(node2graph)+1\n",
        "\n",
        "gnn_input = GNNInput(\n",
        "    node_features=embeded,\n",
        "    adjacency_lists=(edge,),\n",
        "    node_to_graph_map=node2graph, \n",
        "    num_graphs=num_graph,\n",
        ")\n",
        "\n",
        "# https://github.com/microsoft/tf2-gnn/blob/master/tf2_gnn/layers/gnn.py\n",
        "params = GNN.get_default_hyperparameters()\n",
        "params[\"hidden_dim\"] = 32\n",
        "params[\"message_calculation_class\"]= \"GGNN\"\n",
        "gnn_layer = GNN(params)\n",
        "gnn_out = gnn_layer(gnn_input)\n",
        "\n",
        "print('gnn_out', gnn_out)\n",
        "\n",
        "# https://www.tensorflow.org/api_docs/python/tf/math/segment_mean\n",
        "avg = segment_max(\n",
        "    data=gnn_out,\n",
        "    segment_ids=node2graph\n",
        ")\n",
        "print('mean:', avg)\n",
        "\n",
        "pred = Dense(1, activation='sigmoid')(avg)        #binary classification: Dense(2), but here we only output 1 probability\n",
        "print('pred:', pred)\n",
        "\n",
        "model = Model(\n",
        "    inputs={\n",
        "        'data': data,\n",
        "        'edges': edge,\n",
        "        'node2grah': node2graph,\n",
        "    },\n",
        "    outputs=pred\n",
        ")\n",
        "model.summary()"
      ],
      "metadata": {
        "colab": {
          "base_uri": "https://localhost:8080/"
        },
        "id": "PQ_IzdmGoHBR",
        "outputId": "528dd49c-c515-4ff1-832f-2f69259e979e"
      },
      "execution_count": 85,
      "outputs": [
        {
          "output_type": "stream",
          "name": "stdout",
          "text": [
            "gnn_out KerasTensor(type_spec=TensorSpec(shape=(None, 32), dtype=tf.float32, name=None), name='gnn_7/StatefulPartitionedCall:0', description=\"created by layer 'gnn_7'\")\n",
            "mean: KerasTensor(type_spec=TensorSpec(shape=(None, 32), dtype=tf.float32, name=None), name='tf.math.segment_max_2/SegmentMax:0', description=\"created by layer 'tf.math.segment_max_2'\")\n",
            "pred: KerasTensor(type_spec=TensorSpec(shape=(None, 1), dtype=tf.float32, name=None), name='dense_7/Sigmoid:0', description=\"created by layer 'dense_7'\")\n",
            "Model: \"model_7\"\n",
            "__________________________________________________________________________________________________\n",
            " Layer (type)                   Output Shape         Param #     Connected to                     \n",
            "==================================================================================================\n",
            " input_17 (InputLayer)          [(None,)]            0           []                               \n",
            "                                                                                                  \n",
            " input_1 (InputLayer)           [(None,)]            0           []                               \n",
            "                                                                                                  \n",
            " tf.math.reduce_max_7 (TFOpLamb  ()                  0           ['input_17[0][0]']               \n",
            " da)                                                                                              \n",
            "                                                                                                  \n",
            " embedding_7 (Embedding)        (None, 20)           10000       ['input_1[0][0]']                \n",
            "                                                                                                  \n",
            " input_16 (InputLayer)          [(None, 2)]          0           []                               \n",
            "                                                                                                  \n",
            " tf.__operators__.add_7 (TFOpLa  ()                  0           ['tf.math.reduce_max_7[0][0]']   \n",
            " mbda)                                                                                            \n",
            "                                                                                                  \n",
            " gnn_7 (GNN)                    (None, 32)           47808       ['embedding_7[0][0]',            \n",
            "                                                                  'input_16[0][0]',               \n",
            "                                                                  'input_17[0][0]',               \n",
            "                                                                  'tf.__operators__.add_7[0][0]'] \n",
            "                                                                                                  \n",
            " tf.math.segment_max_2 (TFOpLam  (None, 32)          0           ['gnn_7[0][0]',                  \n",
            " bda)                                                             'input_17[0][0]']               \n",
            "                                                                                                  \n",
            " dense_7 (Dense)                (None, 1)            33          ['tf.math.segment_max_2[0][0]']  \n",
            "                                                                                                  \n",
            "==================================================================================================\n",
            "Total params: 57,841\n",
            "Trainable params: 57,841\n",
            "Non-trainable params: 0\n",
            "__________________________________________________________________________________________________\n"
          ]
        }
      ]
    },
    {
      "cell_type": "code",
      "source": [
        "model.compile(\n",
        "    loss='BinaryCrossentropy',\n",
        "    metrics=['AUC'],\n",
        "    optimizer='Adam'\n",
        ")"
      ],
      "metadata": {
        "id": "otFW5iyWoUof"
      },
      "execution_count": 86,
      "outputs": []
    },
    {
      "cell_type": "code",
      "source": [
        "\n",
        "batch_size = 16\n",
        "num_batchs = math.ceil(len(training_set) / batch_size)\n",
        "num_batchs_validation = math.ceil(len(validation_set) / batch_size)\n",
        "\n",
        "history8=model.fit(\n",
        "    gen_batch(\n",
        "        training_set, batch_size=batch_size, repeat=True\n",
        "    ),\n",
        "    steps_per_epoch=num_batchs,\n",
        "    epochs=10,\n",
        "    validation_data=gen_batch(\n",
        "        validation_set, batch_size=16, repeat=True\n",
        "    ),\n",
        "    validation_steps=num_batchs_validation,\n",
        ")"
      ],
      "metadata": {
        "colab": {
          "base_uri": "https://localhost:8080/"
        },
        "id": "otgAoP9Noaiz",
        "outputId": "40648a5f-2ded-4d17-c1c3-decd80f17254"
      },
      "execution_count": 88,
      "outputs": [
        {
          "output_type": "stream",
          "name": "stdout",
          "text": [
            "Epoch 1/10\n",
            "2976/2976 [==============================] - 84s 28ms/step - loss: 0.5926 - auc: 0.7457 - val_loss: 0.6224 - val_auc: 0.8123\n",
            "Epoch 2/10\n",
            "2976/2976 [==============================] - 65s 22ms/step - loss: 0.4976 - auc: 0.8388 - val_loss: 0.4509 - val_auc: 0.8448\n",
            "Epoch 3/10\n",
            "2976/2976 [==============================] - 62s 21ms/step - loss: 0.4455 - auc: 0.8748 - val_loss: 0.4093 - val_auc: 0.8909\n",
            "Epoch 4/10\n",
            "2976/2976 [==============================] - 63s 21ms/step - loss: 0.3960 - auc: 0.9028 - val_loss: 0.3220 - val_auc: 0.9185\n",
            "Epoch 5/10\n",
            "2976/2976 [==============================] - 62s 21ms/step - loss: 0.3491 - auc: 0.9250 - val_loss: 0.3279 - val_auc: 0.9257\n",
            "Epoch 6/10\n",
            "2976/2976 [==============================] - 62s 21ms/step - loss: 0.3117 - auc: 0.9399 - val_loss: 0.3208 - val_auc: 0.9347\n",
            "Epoch 7/10\n",
            "2976/2976 [==============================] - 63s 21ms/step - loss: 0.2786 - auc: 0.9516 - val_loss: 0.2433 - val_auc: 0.9553\n",
            "Epoch 8/10\n",
            "2976/2976 [==============================] - 62s 21ms/step - loss: 0.2494 - auc: 0.9607 - val_loss: 0.2570 - val_auc: 0.9654\n",
            "Epoch 9/10\n",
            "2976/2976 [==============================] - 62s 21ms/step - loss: 0.2318 - auc: 0.9653 - val_loss: 0.2048 - val_auc: 0.9714\n",
            "Epoch 10/10\n",
            "2976/2976 [==============================] - 62s 21ms/step - loss: 0.2079 - auc: 0.9717 - val_loss: 0.1956 - val_auc: 0.9777\n"
          ]
        }
      ]
    },
    {
      "cell_type": "code",
      "source": [
        "plt.plot(history8.history['auc'])\n",
        "plt.plot(history8.history['val_auc'])\n",
        "plt.title('model AUC')\n",
        "plt.ylabel('AUC')\n",
        "plt.xlabel('epoch')\n",
        "plt.legend(['train', 'val'], loc='upper left')\n",
        "plt.show()"
      ],
      "metadata": {
        "colab": {
          "base_uri": "https://localhost:8080/",
          "height": 295
        },
        "id": "4uiUY_ZmQ941",
        "outputId": "63b12340-f384-45ab-9efd-176ad125b9fc"
      },
      "execution_count": 89,
      "outputs": [
        {
          "output_type": "display_data",
          "data": {
            "text/plain": [
              "<Figure size 432x288 with 1 Axes>"
            ],
            "image/png": "[encoded data removed]"
          },
          "metadata": {
            "needs_background": "light"
          }
        }
      ]
    },
    {
      "cell_type": "code",
      "source": [
        "plt.plot(history8.history['loss'])\n",
        "plt.plot(history8.history['val_loss'])\n",
        "plt.title('model loss')\n",
        "plt.ylabel('loss')\n",
        "plt.xlabel('epoch')\n",
        "plt.legend(['train', 'val'], loc='upper left')\n",
        "plt.show()"
      ],
      "metadata": {
        "colab": {
          "base_uri": "https://localhost:8080/",
          "height": 295
        },
        "id": "GMGRIEdmRer2",
        "outputId": "55659eaa-45ec-4a63-fe1e-1cf79817319b"
      },
      "execution_count": 90,
      "outputs": [
        {
          "output_type": "display_data",
          "data": {
            "text/plain": [
              "<Figure size 432x288 with 1 Axes>"
            ],
            "image/png": "[encoded data removed]"
          },
          "metadata": {
            "needs_background": "light"
          }
        }
      ]
    },
    {
      "cell_type": "markdown",
      "source": [
        "## **Prediction**"
      ],
      "metadata": {
        "id": "X9Z7snkmr9li"
      }
    },
    {
      "cell_type": "code",
      "source": [
        "y_pred = model.predict(\n",
        "    gen_batch(testing_set, batch_size=15, shuffle=False)\n",
        ")\n",
        "y_pred = np.reshape(y_pred, -1)"
      ],
      "metadata": {
        "id": "ih37vvOvojGn"
      },
      "execution_count": 91,
      "outputs": []
    },
    {
      "cell_type": "code",
      "source": [
        "import pandas as pd \n",
        "submission = pd.DataFrame({'label':y_pred})\n",
        "submission.index.name = 'id'\n",
        "submission.to_csv('trail_8.csv')"
      ],
      "metadata": {
        "id": "siqinpSCsGC9"
      },
      "execution_count": 92,
      "outputs": []
    },
    {
      "cell_type": "markdown",
      "source": [
        "\n",
        "## **Observation_8**\n",
        "\n",
        "* `as we see when I used  default layer and Adam optimizer ,the accuracy was  increased` \n",
        "\n",
        "* `loss still was decreased `\n",
        "\n",
        "*` when I used adam optimizer I noticed that accuracy was increased clearly` \n",
        "\n",
        "* `with batch size 16 and epoch 8`\n",
        "\n",
        "* `I used upsambling method and GGNN layer ,so the accuracy was increased than data unbalanced `\n",
        "\n",
        "`Score: 0.88321\n",
        "Public score: 0.88109`"
      ],
      "metadata": {
        "id": "WhDqHCTDxl87"
      }
    },
    {
      "cell_type": "markdown",
      "source": [
        "\n",
        "\n",
        "---\n"
      ],
      "metadata": {
        "id": "_zZ4JNsBxr1t"
      }
    },
    {
      "cell_type": "markdown",
      "source": [
        "## **Trail_9**"
      ],
      "metadata": {
        "id": "Qmn_5RJGxu4i"
      }
    },
    {
      "cell_type": "markdown",
      "source": [
        " **Steps**\n",
        "\n",
        "* `in this trail I will use Embedding and tokenizer for nodes`\n",
        "\n",
        "* `features of node was embedded `\n",
        "\n",
        "* `then I will define gnn input as a variable to define all input layers`\n",
        "\n",
        "* ` I will use default layers of gnn but I will set Params (hidden_dim) by  value 32 ` \n",
        "\n",
        "* `also i will use adam optimizer`\n",
        "*` I will use upsampling method to make the data balanced`\n",
        "\n",
        "* `in this trail I will use default layer with upsamoling method and still use adam optimizer` "
      ],
      "metadata": {
        "id": "rD2Y42LmWnEH"
      }
    },
    {
      "cell_type": "code",
      "source": [
        "# the first dim is different to the previous one. it is the total number of edges in this batch\n",
        "edge = keras.Input(batch_shape=(None, 2), dtype=tf.int32)     #edge is 2D\n",
        "node2graph = keras.Input(batch_shape=(None,), dtype=tf.int32)\n",
        "embeded = Embedding(tokenizer.num_words, 20)(data)\n",
        "\n",
        "# number of graphs (number of samples)\n",
        "num_graph = tf.reduce_max(node2graph)+1\n",
        "\n",
        "gnn_input = GNNInput(\n",
        "    node_features=embeded,\n",
        "    adjacency_lists=(edge,),\n",
        "    node_to_graph_map=node2graph, \n",
        "    num_graphs=num_graph,\n",
        ")\n",
        "\n",
        "# https://github.com/microsoft/tf2-gnn/blob/master/tf2_gnn/layers/gnn.py\n",
        "params = GNN.get_default_hyperparameters()\n",
        "# params[\"hidden_dim\"] = 32\n",
        "# params[\"message_calculation_class\"]= \"GGNN\"\n",
        "gnn_layer = GNN(params)\n",
        "gnn_out = gnn_layer(gnn_input)\n",
        "\n",
        "print('gnn_out', gnn_out)\n",
        "\n",
        "# https://www.tensorflow.org/api_docs/python/tf/math/segment_mean\n",
        "avg = segment_max(\n",
        "    data=gnn_out,\n",
        "    segment_ids=node2graph\n",
        ")\n",
        "print('mean:', avg)\n",
        "\n",
        "pred = Dense(1, activation='sigmoid')(avg)        #binary classification: Dense(2), but here we only output 1 probability\n",
        "print('pred:', pred)\n",
        "\n",
        "model = Model(\n",
        "    inputs={\n",
        "        'data': data,\n",
        "        'edges': edge,\n",
        "        'node2grah': node2graph,\n",
        "    },\n",
        "    outputs=pred\n",
        ")\n",
        "model.summary()"
      ],
      "metadata": {
        "colab": {
          "base_uri": "https://localhost:8080/"
        },
        "id": "gpkMAqgssPlD",
        "outputId": "361005d0-fa71-43c1-bc3e-e9e0d01b4a59"
      },
      "execution_count": 93,
      "outputs": [
        {
          "output_type": "stream",
          "name": "stdout",
          "text": [
            "gnn_out KerasTensor(type_spec=TensorSpec(shape=(None, 16), dtype=tf.float32, name=None), name='gnn_8/StatefulPartitionedCall:0', description=\"created by layer 'gnn_8'\")\n",
            "mean: KerasTensor(type_spec=TensorSpec(shape=(None, 16), dtype=tf.float32, name=None), name='tf.math.segment_max_3/SegmentMax:0', description=\"created by layer 'tf.math.segment_max_3'\")\n",
            "pred: KerasTensor(type_spec=TensorSpec(shape=(None, 1), dtype=tf.float32, name=None), name='dense_8/Sigmoid:0', description=\"created by layer 'dense_8'\")\n",
            "Model: \"model_8\"\n",
            "__________________________________________________________________________________________________\n",
            " Layer (type)                   Output Shape         Param #     Connected to                     \n",
            "==================================================================================================\n",
            " input_19 (InputLayer)          [(None,)]            0           []                               \n",
            "                                                                                                  \n",
            " input_1 (InputLayer)           [(None,)]            0           []                               \n",
            "                                                                                                  \n",
            " tf.math.reduce_max_8 (TFOpLamb  ()                  0           ['input_19[0][0]']               \n",
            " da)                                                                                              \n",
            "                                                                                                  \n",
            " embedding_8 (Embedding)        (None, 20)           10000       ['input_1[0][0]']                \n",
            "                                                                                                  \n",
            " input_18 (InputLayer)          [(None, 2)]          0           []                               \n",
            "                                                                                                  \n",
            " tf.__operators__.add_8 (TFOpLa  ()                  0           ['tf.math.reduce_max_8[0][0]']   \n",
            " mbda)                                                                                            \n",
            "                                                                                                  \n",
            " gnn_8 (GNN)                    (None, 16)           7904        ['embedding_8[0][0]',            \n",
            "                                                                  'input_18[0][0]',               \n",
            "                                                                  'input_19[0][0]',               \n",
            "                                                                  'tf.__operators__.add_8[0][0]'] \n",
            "                                                                                                  \n",
            " tf.math.segment_max_3 (TFOpLam  (None, 16)          0           ['gnn_8[0][0]',                  \n",
            " bda)                                                             'input_19[0][0]']               \n",
            "                                                                                                  \n",
            " dense_8 (Dense)                (None, 1)            17          ['tf.math.segment_max_3[0][0]']  \n",
            "                                                                                                  \n",
            "==================================================================================================\n",
            "Total params: 17,921\n",
            "Trainable params: 17,921\n",
            "Non-trainable params: 0\n",
            "__________________________________________________________________________________________________\n"
          ]
        }
      ]
    },
    {
      "cell_type": "code",
      "source": [
        "model.compile(\n",
        "    loss='BinaryCrossentropy',\n",
        "    metrics=['AUC'],\n",
        "    optimizer='Adam'\n",
        ")"
      ],
      "metadata": {
        "id": "3YA7UdHPyLR1"
      },
      "execution_count": 94,
      "outputs": []
    },
    {
      "cell_type": "code",
      "source": [
        "batch_size = 200\n",
        "num_batchs = math.ceil(len(training_set) / batch_size)\n",
        "num_batchs_validation = math.ceil(len(validation_set) / batch_size)\n",
        "\n",
        "history9=model.fit(\n",
        "    gen_batch(\n",
        "        training_set, batch_size=batch_size, repeat=True\n",
        "    ),\n",
        "    steps_per_epoch=num_batchs,\n",
        "    epochs=10,\n",
        "    validation_data=gen_batch(\n",
        "        validation_set, batch_size=200, repeat=True\n",
        "    ),\n",
        "    validation_steps=num_batchs_validation,\n",
        ")"
      ],
      "metadata": {
        "colab": {
          "base_uri": "https://localhost:8080/"
        },
        "id": "oxsy4IJyyQlW",
        "outputId": "cfc44aab-b383-4c6c-97a1-62279f39568f"
      },
      "execution_count": 96,
      "outputs": [
        {
          "output_type": "stream",
          "name": "stdout",
          "text": [
            "Epoch 1/10\n",
            "239/239 [==============================] - 11s 45ms/step - loss: 0.5759 - auc: 0.7655 - val_loss: 0.4944 - val_auc: 0.7461\n",
            "Epoch 2/10\n",
            "239/239 [==============================] - 9s 36ms/step - loss: 0.5688 - auc: 0.7725 - val_loss: 0.5666 - val_auc: 0.7470\n",
            "Epoch 3/10\n",
            "239/239 [==============================] - 8s 35ms/step - loss: 0.5657 - auc: 0.7758 - val_loss: 0.4810 - val_auc: 0.7537\n",
            "Epoch 4/10\n",
            "239/239 [==============================] - 8s 35ms/step - loss: 0.5630 - auc: 0.7786 - val_loss: 0.6106 - val_auc: 0.7613\n",
            "Epoch 5/10\n",
            "239/239 [==============================] - 8s 35ms/step - loss: 0.5595 - auc: 0.7821 - val_loss: 0.5423 - val_auc: 0.7674\n",
            "Epoch 6/10\n",
            "239/239 [==============================] - 8s 34ms/step - loss: 0.5567 - auc: 0.7845 - val_loss: 0.5383 - val_auc: 0.7634\n",
            "Epoch 7/10\n",
            "239/239 [==============================] - 8s 35ms/step - loss: 0.5539 - auc: 0.7876 - val_loss: 0.6026 - val_auc: 0.7778\n",
            "Epoch 8/10\n",
            "239/239 [==============================] - 9s 36ms/step - loss: 0.5499 - auc: 0.7916 - val_loss: 0.5100 - val_auc: 0.7825\n",
            "Epoch 9/10\n",
            "239/239 [==============================] - 8s 36ms/step - loss: 0.5451 - auc: 0.7960 - val_loss: 0.5069 - val_auc: 0.7867\n",
            "Epoch 10/10\n",
            "239/239 [==============================] - 8s 35ms/step - loss: 0.5420 - auc: 0.7987 - val_loss: 0.6154 - val_auc: 0.7909\n"
          ]
        }
      ]
    },
    {
      "cell_type": "code",
      "source": [
        "plt.plot(history9.history['auc'])\n",
        "plt.plot(history9.history['val_auc'])\n",
        "plt.title('model AUC')\n",
        "plt.ylabel('AUC')\n",
        "plt.xlabel('epoch')\n",
        "plt.legend(['train', 'val'], loc='upper left')\n",
        "plt.show()"
      ],
      "metadata": {
        "colab": {
          "base_uri": "https://localhost:8080/",
          "height": 295
        },
        "id": "i_X729OcRAlF",
        "outputId": "dca4b89a-347e-478a-da62-797558d61047"
      },
      "execution_count": 97,
      "outputs": [
        {
          "output_type": "display_data",
          "data": {
            "text/plain": [
              "<Figure size 432x288 with 1 Axes>"
            ],
            "image/png": "[encoded data removed]"
          },
          "metadata": {
            "needs_background": "light"
          }
        }
      ]
    },
    {
      "cell_type": "code",
      "source": [
        "plt.plot(history9.history['loss'])\n",
        "plt.plot(history9.history['val_loss'])\n",
        "plt.title('model loss')\n",
        "plt.ylabel('loss')\n",
        "plt.xlabel('epoch')\n",
        "plt.legend(['train', 'val'], loc='upper left')\n",
        "plt.show()"
      ],
      "metadata": {
        "colab": {
          "base_uri": "https://localhost:8080/",
          "height": 295
        },
        "id": "pODxFe00RhIF",
        "outputId": "2f5f3d12-fdda-482a-b25e-77f41ed2914e"
      },
      "execution_count": 98,
      "outputs": [
        {
          "output_type": "display_data",
          "data": {
            "text/plain": [
              "<Figure size 432x288 with 1 Axes>"
            ],
            "image/png": "[encoded data removed]"
          },
          "metadata": {
            "needs_background": "light"
          }
        }
      ]
    },
    {
      "cell_type": "markdown",
      "source": [
        "## **Prediction**"
      ],
      "metadata": {
        "id": "zZCxh93A0yKd"
      }
    },
    {
      "cell_type": "code",
      "source": [
        "y_pred = model.predict(\n",
        "    gen_batch(testing_set, batch_size=15, shuffle=False)\n",
        ")\n",
        "y_pred = np.reshape(y_pred, -1)"
      ],
      "metadata": {
        "id": "MZowKK2P0w6L"
      },
      "execution_count": 99,
      "outputs": []
    },
    {
      "cell_type": "code",
      "source": [
        "import pandas as pd \n",
        "submission = pd.DataFrame({'label':y_pred})\n",
        "submission.index.name = 'id'\n",
        "submission.to_csv('trail_9.csv')"
      ],
      "metadata": {
        "id": "bz2jEVzdyWEN"
      },
      "execution_count": 100,
      "outputs": []
    },
    {
      "cell_type": "markdown",
      "source": [
        "## **Observation_9**\n",
        "\n",
        "* `as we see when I used  default layer and Adam optimizer ,the accuracy was  increased` \n",
        "\n",
        "* `loss still was decreased `\n",
        "\n",
        "*` when I used adam optimizer I noticed that accuracy was increased clearly` \n",
        "\n",
        "* `with batch size 16 and epoch 8`\n",
        "\n",
        "* `I used upsambling method ,so the accuracy was increased than  data unbalanced `\n",
        "\n",
        "* `In this trail i used default layer but use upsampling method ,so the accuracy not increased enough but still better than data unbalanced `"
      ],
      "metadata": {
        "id": "v-5aMumjYzOH"
      }
    },
    {
      "cell_type": "markdown",
      "source": [
        "\n",
        "\n",
        "---"
      ],
      "metadata": {
        "id": "TFit7P3P6gUO"
      }
    },
    {
      "cell_type": "markdown",
      "source": [
        "## **Trail_10**"
      ],
      "metadata": {
        "id": "6qAyi-rJ6isz"
      }
    },
    {
      "cell_type": "markdown",
      "source": [
        " **Steps**\n",
        "\n",
        "* `in this trail I will use Embedding and tokenizer for nodes`\n",
        "\n",
        "* `features of node was embedded `\n",
        "\n",
        "* `then I will define gnn input as a variable to define all input layers`\n",
        "\n",
        "* ` I will use default layers of gnn but I will set Params (hidden_dim) by  value 32 ` \n",
        "\n",
        "* `also i will use adam optimizer`\n",
        "*` I will use upsampling method to make the data balanced`\n",
        "\n",
        "* `in this trail I will use  layer of gnn but i will tune them by another values too ,I will use  upsamoling method and still use adam optimizer` \n",
        "* `I will set message_calculation_class= \"GGNN\"`\n",
        "* `I will set hidden_dim =32`\n",
        "* `I will set num_layers = 8`\n",
        "* `I will set dense_every_num_layers = 4`\n",
        "* `set residual_every_num_layers =4`\n",
        "* `set layer_input_dropout_rate =0.001`\n",
        "* `set global_exchange_mode = \"mlp\" `\n",
        "* `set global_exchange_every_num_layers =3`\n",
        "* `set global_exchange_dropout_rate =0.3`\n"
      ],
      "metadata": {
        "id": "4JovGjDMZygB"
      }
    },
    {
      "cell_type": "code",
      "source": [
        "# the first dim is different to the previous one. it is the total number of edges in this batch\n",
        "edge = keras.Input(batch_shape=(None, 2), dtype=tf.int32)     #edge is 2D\n",
        "node2graph = keras.Input(batch_shape=(None,), dtype=tf.int32)\n",
        "embeded = Embedding(tokenizer.num_words, 20)(data)\n",
        "\n",
        "# number of graphs (number of samples)\n",
        "num_graph = tf.reduce_max(node2graph)+1\n",
        "\n",
        "gnn_input = GNNInput(\n",
        "    node_features=embeded,\n",
        "    adjacency_lists=(edge,),\n",
        "    node_to_graph_map=node2graph, \n",
        "    num_graphs=num_graph,\n",
        ")\n",
        "\n",
        "# https://github.com/microsoft/tf2-gnn/blob/master/tf2_gnn/layers/gnn.py\n",
        "params = GNN.get_default_hyperparameters()\n",
        "params[\"hidden_dim\"] = 32\n",
        "params[\"message_calculation_class\"]= \"GGNN\"\n",
        "# params[\"initial_node_representation_activation\"]= \"tanh\"\n",
        "# params[\"dense_intermediate_layer_activation\"]= \"tanh\"\n",
        "params[\"num_layers\"]= 8\n",
        "params[\"dense_every_num_layers\"]= 4\n",
        "params[\"residual_every_num_layers\"]= 4\n",
        "params[\"layer_input_dropout_rate\"]= 0.001\n",
        "          \n",
        "params[\"global_exchange_mode\"]= \"mlp\"\n",
        "params[\"global_exchange_every_num_layers\"]=3\n",
        "\n",
        "params[\"global_exchange_dropout_rate\"]=0.3\n",
        "gnn_layer = GNN(params)\n",
        "gnn_out = gnn_layer(gnn_input)\n",
        "\n",
        "print('gnn_out', gnn_out)\n",
        "\n",
        "# https://www.tensorflow.org/api_docs/python/tf/math/segment_mean\n",
        "avg = segment_max(\n",
        "    data=gnn_out,\n",
        "    segment_ids=node2graph\n",
        ")\n",
        "print('mean:', avg)\n",
        "\n",
        "pred = Dense(1, activation='sigmoid')(avg)        #binary classification: Dense(2), but here we only output 1 probability\n",
        "print('pred:', pred)\n",
        "\n",
        "model = Model(\n",
        "    inputs={\n",
        "        'data': data,\n",
        "        'edges': edge,\n",
        "        'node2grah': node2graph,\n",
        "    },\n",
        "    outputs=pred\n",
        ")\n",
        "model.summary()"
      ],
      "metadata": {
        "colab": {
          "base_uri": "https://localhost:8080/"
        },
        "id": "_Vp-nfjG1BIK",
        "outputId": "be338639-86fc-4f17-f4c0-911da8a362e5"
      },
      "execution_count": 101,
      "outputs": [
        {
          "output_type": "stream",
          "name": "stdout",
          "text": [
            "gnn_out KerasTensor(type_spec=TensorSpec(shape=(None, 32), dtype=tf.float32, name=None), name='gnn_9/StatefulPartitionedCall:0', description=\"created by layer 'gnn_9'\")\n",
            "mean: KerasTensor(type_spec=TensorSpec(shape=(None, 32), dtype=tf.float32, name=None), name='tf.math.segment_max_4/SegmentMax:0', description=\"created by layer 'tf.math.segment_max_4'\")\n",
            "pred: KerasTensor(type_spec=TensorSpec(shape=(None, 1), dtype=tf.float32, name=None), name='dense_9/Sigmoid:0', description=\"created by layer 'dense_9'\")\n",
            "Model: \"model_9\"\n",
            "__________________________________________________________________________________________________\n",
            " Layer (type)                   Output Shape         Param #     Connected to                     \n",
            "==================================================================================================\n",
            " input_21 (InputLayer)          [(None,)]            0           []                               \n",
            "                                                                                                  \n",
            " input_1 (InputLayer)           [(None,)]            0           []                               \n",
            "                                                                                                  \n",
            " tf.math.reduce_max_9 (TFOpLamb  ()                  0           ['input_21[0][0]']               \n",
            " da)                                                                                              \n",
            "                                                                                                  \n",
            " embedding_9 (Embedding)        (None, 20)           10000       ['input_1[0][0]']                \n",
            "                                                                                                  \n",
            " input_20 (InputLayer)          [(None, 2)]          0           []                               \n",
            "                                                                                                  \n",
            " tf.__operators__.add_9 (TFOpLa  ()                  0           ['tf.math.reduce_max_9[0][0]']   \n",
            " mbda)                                                                                            \n",
            "                                                                                                  \n",
            " gnn_9 (GNN)                    (None, 32)           86400       ['embedding_9[0][0]',            \n",
            "                                                                  'input_20[0][0]',               \n",
            "                                                                  'input_21[0][0]',               \n",
            "                                                                  'tf.__operators__.add_9[0][0]'] \n",
            "                                                                                                  \n",
            " tf.math.segment_max_4 (TFOpLam  (None, 32)          0           ['gnn_9[0][0]',                  \n",
            " bda)                                                             'input_21[0][0]']               \n",
            "                                                                                                  \n",
            " dense_9 (Dense)                (None, 1)            33          ['tf.math.segment_max_4[0][0]']  \n",
            "                                                                                                  \n",
            "==================================================================================================\n",
            "Total params: 96,433\n",
            "Trainable params: 96,433\n",
            "Non-trainable params: 0\n",
            "__________________________________________________________________________________________________\n"
          ]
        }
      ]
    },
    {
      "cell_type": "code",
      "source": [
        "model.compile(\n",
        "    loss='BinaryCrossentropy',\n",
        "    metrics=['AUC'],\n",
        "    optimizer='Adam'\n",
        ")"
      ],
      "metadata": {
        "id": "XFQCoFvn6p37"
      },
      "execution_count": 102,
      "outputs": []
    },
    {
      "cell_type": "code",
      "source": [
        "batch_size = 160\n",
        "num_batchs = math.ceil(len(training_set) / batch_size)\n",
        "num_batchs_validation = math.ceil(len(validation_set) / batch_size)\n",
        "\n",
        "history10=model.fit(\n",
        "    gen_batch(\n",
        "        training_set, batch_size=batch_size, repeat=True\n",
        "    ),\n",
        "    steps_per_epoch=num_batchs,\n",
        "    epochs=10,\n",
        "    validation_data=gen_batch(\n",
        "        validation_set, batch_size=160, repeat=True\n",
        "    ),\n",
        "    validation_steps=num_batchs_validation,\n",
        ")"
      ],
      "metadata": {
        "colab": {
          "base_uri": "https://localhost:8080/"
        },
        "id": "77WLhLa36p6p",
        "outputId": "a440250a-9a42-493f-e5d9-bfd8c2cec251"
      },
      "execution_count": 103,
      "outputs": [
        {
          "output_type": "stream",
          "name": "stdout",
          "text": [
            "Epoch 1/10\n",
            "298/298 [==============================] - 30s 69ms/step - loss: 0.6394 - auc: 0.6786 - val_loss: 0.8158 - val_auc: 0.7397\n",
            "Epoch 2/10\n",
            "298/298 [==============================] - 20s 66ms/step - loss: 0.5967 - auc: 0.7380 - val_loss: 0.6871 - val_auc: 0.7719\n",
            "Epoch 3/10\n",
            "298/298 [==============================] - 20s 67ms/step - loss: 0.5686 - auc: 0.7726 - val_loss: 0.5969 - val_auc: 0.8044\n",
            "Epoch 4/10\n",
            "298/298 [==============================] - 20s 68ms/step - loss: 0.5364 - auc: 0.8060 - val_loss: 0.4878 - val_auc: 0.8165\n",
            "Epoch 5/10\n",
            "298/298 [==============================] - 20s 68ms/step - loss: 0.5065 - auc: 0.8327 - val_loss: 0.5293 - val_auc: 0.8452\n",
            "Epoch 6/10\n",
            "298/298 [==============================] - 20s 68ms/step - loss: 0.4777 - auc: 0.8543 - val_loss: 0.4025 - val_auc: 0.8602\n",
            "Epoch 7/10\n",
            "298/298 [==============================] - 20s 66ms/step - loss: 0.4513 - auc: 0.8716 - val_loss: 0.3756 - val_auc: 0.8715\n",
            "Epoch 8/10\n",
            "298/298 [==============================] - 20s 67ms/step - loss: 0.4278 - auc: 0.8859 - val_loss: 0.4105 - val_auc: 0.8718\n",
            "Epoch 9/10\n",
            "298/298 [==============================] - 20s 67ms/step - loss: 0.4056 - auc: 0.8983 - val_loss: 0.4209 - val_auc: 0.8943\n",
            "Epoch 10/10\n",
            "298/298 [==============================] - 20s 67ms/step - loss: 0.3868 - auc: 0.9080 - val_loss: 0.3493 - val_auc: 0.8987\n"
          ]
        }
      ]
    },
    {
      "cell_type": "code",
      "source": [
        "plt.plot(history10.history['auc'])\n",
        "plt.plot(history10.history['val_auc'])\n",
        "plt.title('model AUC')\n",
        "plt.ylabel('AUC')\n",
        "plt.xlabel('epoch')\n",
        "plt.legend(['train', 'val'], loc='upper left')\n",
        "plt.show()"
      ],
      "metadata": {
        "colab": {
          "base_uri": "https://localhost:8080/",
          "height": 295
        },
        "id": "xnQPULK6RDUH",
        "outputId": "db2ed568-8281-4029-f010-0e35b492a2ae"
      },
      "execution_count": 104,
      "outputs": [
        {
          "output_type": "display_data",
          "data": {
            "text/plain": [
              "<Figure size 432x288 with 1 Axes>"
            ],
            "image/png": "[encoded data removed]"
          },
          "metadata": {
            "needs_background": "light"
          }
        }
      ]
    },
    {
      "cell_type": "code",
      "source": [
        "plt.plot(history10.history['loss'])\n",
        "plt.plot(history10.history['val_loss'])\n",
        "plt.title('model loss')\n",
        "plt.ylabel('loss')\n",
        "plt.xlabel('epoch')\n",
        "plt.legend(['train', 'val'], loc='upper left')\n",
        "plt.show()"
      ],
      "metadata": {
        "colab": {
          "base_uri": "https://localhost:8080/",
          "height": 295
        },
        "id": "2V-YZmBkRkY8",
        "outputId": "9d661f5f-b628-4df6-fa98-6764f83df13d"
      },
      "execution_count": 105,
      "outputs": [
        {
          "output_type": "display_data",
          "data": {
            "text/plain": [
              "<Figure size 432x288 with 1 Axes>"
            ],
            "image/png": "[encoded data removed]"
          },
          "metadata": {
            "needs_background": "light"
          }
        }
      ]
    },
    {
      "cell_type": "markdown",
      "source": [
        "## **Prediction**"
      ],
      "metadata": {
        "id": "xUMLJy4EPuvD"
      }
    },
    {
      "cell_type": "code",
      "source": [
        "y_pred = model.predict(\n",
        "    gen_batch(testing_set, batch_size=15, shuffle=False)\n",
        ")\n",
        "y_pred = np.reshape(y_pred, -1)"
      ],
      "metadata": {
        "id": "dyrAT6cu6qHw"
      },
      "execution_count": 106,
      "outputs": []
    },
    {
      "cell_type": "code",
      "source": [
        "import pandas as pd \n",
        "submission = pd.DataFrame({'label':y_pred})\n",
        "submission.index.name = 'id'\n",
        "submission.to_csv('trail_10.csv')"
      ],
      "metadata": {
        "id": "mtPCs67eP_CP"
      },
      "execution_count": 107,
      "outputs": []
    },
    {
      "cell_type": "markdown",
      "source": [
        "## **Observation_10**\n",
        "\n",
        "* `as we see when I used  default layer and Adam optimizer ,the accuracy was  increased` \n",
        "\n",
        "* `loss still was decreased `\n",
        "\n",
        "*` when I used adam optimizer I noticed that accuracy was increased clearly` \n",
        "\n",
        "* `with batch size 16 and epoch 8`\n",
        "\n",
        "* `I used upsambling method ,so the accuracy was increased than  data unbalanced `\n",
        "\n",
        "* `so the accuracy not increased enough but still better than data unbalanced `\n",
        "* `I notice that the default layer with GGNN and Upsampling method is the best` "
      ],
      "metadata": {
        "id": "QAacChn0eRT2"
      }
    },
    {
      "cell_type": "markdown",
      "source": [
        "\n",
        "\n",
        "---"
      ],
      "metadata": {
        "id": "iCOKkQIZe5lV"
      }
    },
    {
      "cell_type": "code",
      "source": [
        ""
      ],
      "metadata": {
        "id": "q5kCqEjtbNVQ"
      },
      "execution_count": 107,
      "outputs": []
    }
  ],
  "metadata": {
    "colab": {
      "collapsed_sections": [],
      "name": "assignment6.ipynb",
      "provenance": []
    },
    "kernelspec": {
      "display_name": "Python [conda env:root] *",
      "language": "python",
      "name": "conda-root-py"
    },
    "language_info": {
      "codemirror_mode": {
        "name": "ipython",
        "version": 3
      },
      "file_extension": ".py",
      "mimetype": "text/x-python",
      "name": "python",
      "nbconvert_exporter": "python",
      "pygments_lexer": "ipython3",
      "version": "3.7.8"
    },
    "widgets": {
      "application/vnd.jupyter.widget-state+json": {
        "a0eacfc8f0c24e949db2ca3e2ade848c": {
          "model_module": "@jupyter-widgets/controls",
          "model_name": "HBoxModel",
          "model_module_version": "1.5.0",
          "state": {
            "_dom_classes": [],
            "_model_module": "@jupyter-widgets/controls",
            "_model_module_version": "1.5.0",
            "_model_name": "HBoxModel",
            "_view_count": null,
            "_view_module": "@jupyter-widgets/controls",
            "_view_module_version": "1.5.0",
            "_view_name": "HBoxView",
            "box_style": "",
            "children": [
              "IPY_MODEL_a3eb89bfd3384eb6a1ef43b412a6f4b8",
              "IPY_MODEL_4adb9d75180e4a989436e5cafd7de072",
              "IPY_MODEL_16787c6fc7644378a60119ecfb90e4c6"
            ],
            "layout": "IPY_MODEL_37e88377f2e84c7aa102786dd2651908"
          }
        },
        "a3eb89bfd3384eb6a1ef43b412a6f4b8": {
          "model_module": "@jupyter-widgets/controls",
          "model_name": "HTMLModel",
          "model_module_version": "1.5.0",
          "state": {
            "_dom_classes": [],
            "_model_module": "@jupyter-widgets/controls",
            "_model_module_version": "1.5.0",
            "_model_name": "HTMLModel",
            "_view_count": null,
            "_view_module": "@jupyter-widgets/controls",
            "_view_module_version": "1.5.0",
            "_view_name": "HTMLView",
            "description": "",
            "description_tooltip": null,
            "layout": "IPY_MODEL_42b4a81ef46c46748094a2fea57c9659",
            "placeholder": "​",
            "style": "IPY_MODEL_b53cd8e7eaaf4a4aa556943d445142b5",
            "value": "100%"
          }
        },
        "4adb9d75180e4a989436e5cafd7de072": {
          "model_module": "@jupyter-widgets/controls",
          "model_name": "FloatProgressModel",
          "model_module_version": "1.5.0",
          "state": {
            "_dom_classes": [],
            "_model_module": "@jupyter-widgets/controls",
            "_model_module_version": "1.5.0",
            "_model_name": "FloatProgressModel",
            "_view_count": null,
            "_view_module": "@jupyter-widgets/controls",
            "_view_module_version": "1.5.0",
            "_view_name": "ProgressView",
            "bar_style": "success",
            "description": "",
            "description_tooltip": null,
            "layout": "IPY_MODEL_a1c7d209e6094d4680c91098a0bc390b",
            "max": 25024,
            "min": 0,
            "orientation": "horizontal",
            "style": "IPY_MODEL_14082a9bdd7a4c898247d65b234af0bc",
            "value": 25024
          }
        },
        "16787c6fc7644378a60119ecfb90e4c6": {
          "model_module": "@jupyter-widgets/controls",
          "model_name": "HTMLModel",
          "model_module_version": "1.5.0",
          "state": {
            "_dom_classes": [],
            "_model_module": "@jupyter-widgets/controls",
            "_model_module_version": "1.5.0",
            "_model_name": "HTMLModel",
            "_view_count": null,
            "_view_module": "@jupyter-widgets/controls",
            "_view_module_version": "1.5.0",
            "_view_name": "HTMLView",
            "description": "",
            "description_tooltip": null,
            "layout": "IPY_MODEL_d03efa0893734bb19d487e2300c5329a",
            "placeholder": "​",
            "style": "IPY_MODEL_059143257b66431cb240373aa3727453",
            "value": " 25024/25024 [00:02&lt;00:00, 8745.24it/s]"
          }
        },
        "37e88377f2e84c7aa102786dd2651908": {
          "model_module": "@jupyter-widgets/base",
          "model_name": "LayoutModel",
          "model_module_version": "1.2.0",
          "state": {
            "_model_module": "@jupyter-widgets/base",
            "_model_module_version": "1.2.0",
            "_model_name": "LayoutModel",
            "_view_count": null,
            "_view_module": "@jupyter-widgets/base",
            "_view_module_version": "1.2.0",
            "_view_name": "LayoutView",
            "align_content": null,
            "align_items": null,
            "align_self": null,
            "border": null,
            "bottom": null,
            "display": null,
            "flex": null,
            "flex_flow": null,
            "grid_area": null,
            "grid_auto_columns": null,
            "grid_auto_flow": null,
            "grid_auto_rows": null,
            "grid_column": null,
            "grid_gap": null,
            "grid_row": null,
            "grid_template_areas": null,
            "grid_template_columns": null,
            "grid_template_rows": null,
            "height": null,
            "justify_content": null,
            "justify_items": null,
            "left": null,
            "margin": null,
            "max_height": null,
            "max_width": null,
            "min_height": null,
            "min_width": null,
            "object_fit": null,
            "object_position": null,
            "order": null,
            "overflow": null,
            "overflow_x": null,
            "overflow_y": null,
            "padding": null,
            "right": null,
            "top": null,
            "visibility": null,
            "width": null
          }
        },
        "42b4a81ef46c46748094a2fea57c9659": {
          "model_module": "@jupyter-widgets/base",
          "model_name": "LayoutModel",
          "model_module_version": "1.2.0",
          "state": {
            "_model_module": "@jupyter-widgets/base",
            "_model_module_version": "1.2.0",
            "_model_name": "LayoutModel",
            "_view_count": null,
            "_view_module": "@jupyter-widgets/base",
            "_view_module_version": "1.2.0",
            "_view_name": "LayoutView",
            "align_content": null,
            "align_items": null,
            "align_self": null,
            "border": null,
            "bottom": null,
            "display": null,
            "flex": null,
            "flex_flow": null,
            "grid_area": null,
            "grid_auto_columns": null,
            "grid_auto_flow": null,
            "grid_auto_rows": null,
            "grid_column": null,
            "grid_gap": null,
            "grid_row": null,
            "grid_template_areas": null,
            "grid_template_columns": null,
            "grid_template_rows": null,
            "height": null,
            "justify_content": null,
            "justify_items": null,
            "left": null,
            "margin": null,
            "max_height": null,
            "max_width": null,
            "min_height": null,
            "min_width": null,
            "object_fit": null,
            "object_position": null,
            "order": null,
            "overflow": null,
            "overflow_x": null,
            "overflow_y": null,
            "padding": null,
            "right": null,
            "top": null,
            "visibility": null,
            "width": null
          }
        },
        "b53cd8e7eaaf4a4aa556943d445142b5": {
          "model_module": "@jupyter-widgets/controls",
          "model_name": "DescriptionStyleModel",
          "model_module_version": "1.5.0",
          "state": {
            "_model_module": "@jupyter-widgets/controls",
            "_model_module_version": "1.5.0",
            "_model_name": "DescriptionStyleModel",
            "_view_count": null,
            "_view_module": "@jupyter-widgets/base",
            "_view_module_version": "1.2.0",
            "_view_name": "StyleView",
            "description_width": ""
          }
        },
        "a1c7d209e6094d4680c91098a0bc390b": {
          "model_module": "@jupyter-widgets/base",
          "model_name": "LayoutModel",
          "model_module_version": "1.2.0",
          "state": {
            "_model_module": "@jupyter-widgets/base",
            "_model_module_version": "1.2.0",
            "_model_name": "LayoutModel",
            "_view_count": null,
            "_view_module": "@jupyter-widgets/base",
            "_view_module_version": "1.2.0",
            "_view_name": "LayoutView",
            "align_content": null,
            "align_items": null,
            "align_self": null,
            "border": null,
            "bottom": null,
            "display": null,
            "flex": null,
            "flex_flow": null,
            "grid_area": null,
            "grid_auto_columns": null,
            "grid_auto_flow": null,
            "grid_auto_rows": null,
            "grid_column": null,
            "grid_gap": null,
            "grid_row": null,
            "grid_template_areas": null,
            "grid_template_columns": null,
            "grid_template_rows": null,
            "height": null,
            "justify_content": null,
            "justify_items": null,
            "left": null,
            "margin": null,
            "max_height": null,
            "max_width": null,
            "min_height": null,
            "min_width": null,
            "object_fit": null,
            "object_position": null,
            "order": null,
            "overflow": null,
            "overflow_x": null,
            "overflow_y": null,
            "padding": null,
            "right": null,
            "top": null,
            "visibility": null,
            "width": null
          }
        },
        "14082a9bdd7a4c898247d65b234af0bc": {
          "model_module": "@jupyter-widgets/controls",
          "model_name": "ProgressStyleModel",
          "model_module_version": "1.5.0",
          "state": {
            "_model_module": "@jupyter-widgets/controls",
            "_model_module_version": "1.5.0",
            "_model_name": "ProgressStyleModel",
            "_view_count": null,
            "_view_module": "@jupyter-widgets/base",
            "_view_module_version": "1.2.0",
            "_view_name": "StyleView",
            "bar_color": null,
            "description_width": ""
          }
        },
        "d03efa0893734bb19d487e2300c5329a": {
          "model_module": "@jupyter-widgets/base",
          "model_name": "LayoutModel",
          "model_module_version": "1.2.0",
          "state": {
            "_model_module": "@jupyter-widgets/base",
            "_model_module_version": "1.2.0",
            "_model_name": "LayoutModel",
            "_view_count": null,
            "_view_module": "@jupyter-widgets/base",
            "_view_module_version": "1.2.0",
            "_view_name": "LayoutView",
            "align_content": null,
            "align_items": null,
            "align_self": null,
            "border": null,
            "bottom": null,
            "display": null,
            "flex": null,
            "flex_flow": null,
            "grid_area": null,
            "grid_auto_columns": null,
            "grid_auto_flow": null,
            "grid_auto_rows": null,
            "grid_column": null,
            "grid_gap": null,
            "grid_row": null,
            "grid_template_areas": null,
            "grid_template_columns": null,
            "grid_template_rows": null,
            "height": null,
            "justify_content": null,
            "justify_items": null,
            "left": null,
            "margin": null,
            "max_height": null,
            "max_width": null,
            "min_height": null,
            "min_width": null,
            "object_fit": null,
            "object_position": null,
            "order": null,
            "overflow": null,
            "overflow_x": null,
            "overflow_y": null,
            "padding": null,
            "right": null,
            "top": null,
            "visibility": null,
            "width": null
          }
        },
        "059143257b66431cb240373aa3727453": {
          "model_module": "@jupyter-widgets/controls",
          "model_name": "DescriptionStyleModel",
          "model_module_version": "1.5.0",
          "state": {
            "_model_module": "@jupyter-widgets/controls",
            "_model_module_version": "1.5.0",
            "_model_name": "DescriptionStyleModel",
            "_view_count": null,
            "_view_module": "@jupyter-widgets/base",
            "_view_module_version": "1.2.0",
            "_view_name": "StyleView",
            "description_width": ""
          }
        },
        "9f53cac53acb4bd29189323cad4716d7": {
          "model_module": "@jupyter-widgets/controls",
          "model_name": "HBoxModel",
          "model_module_version": "1.5.0",
          "state": {
            "_dom_classes": [],
            "_model_module": "@jupyter-widgets/controls",
            "_model_module_version": "1.5.0",
            "_model_name": "HBoxModel",
            "_view_count": null,
            "_view_module": "@jupyter-widgets/controls",
            "_view_module_version": "1.5.0",
            "_view_name": "HBoxView",
            "box_style": "",
            "children": [
              "IPY_MODEL_663bce1224004e71b34a788ab55f6070",
              "IPY_MODEL_c03def973aba47b1bc909ae873dec24d",
              "IPY_MODEL_54ee04594c434581bd4030e4ad9634b0"
            ],
            "layout": "IPY_MODEL_da7efc0130b442e6b86f548e4b7ffdc4"
          }
        },
        "663bce1224004e71b34a788ab55f6070": {
          "model_module": "@jupyter-widgets/controls",
          "model_name": "HTMLModel",
          "model_module_version": "1.5.0",
          "state": {
            "_dom_classes": [],
            "_model_module": "@jupyter-widgets/controls",
            "_model_module_version": "1.5.0",
            "_model_name": "HTMLModel",
            "_view_count": null,
            "_view_module": "@jupyter-widgets/controls",
            "_view_module_version": "1.5.0",
            "_view_name": "HTMLView",
            "description": "",
            "description_tooltip": null,
            "layout": "IPY_MODEL_f2842d1118f541bfa994b6d91fb5844a",
            "placeholder": "​",
            "style": "IPY_MODEL_17ba74ed5a7a499c93f48370c8993685",
            "value": "100%"
          }
        },
        "c03def973aba47b1bc909ae873dec24d": {
          "model_module": "@jupyter-widgets/controls",
          "model_name": "FloatProgressModel",
          "model_module_version": "1.5.0",
          "state": {
            "_dom_classes": [],
            "_model_module": "@jupyter-widgets/controls",
            "_model_module_version": "1.5.0",
            "_model_name": "FloatProgressModel",
            "_view_count": null,
            "_view_module": "@jupyter-widgets/controls",
            "_view_module_version": "1.5.0",
            "_view_name": "ProgressView",
            "bar_style": "success",
            "description": "",
            "description_tooltip": null,
            "layout": "IPY_MODEL_5ea66f1844654cc98907bd555e9d1a6f",
            "max": 12326,
            "min": 0,
            "orientation": "horizontal",
            "style": "IPY_MODEL_5c726edd16fe4d14829f43c32c4a2304",
            "value": 12326
          }
        },
        "54ee04594c434581bd4030e4ad9634b0": {
          "model_module": "@jupyter-widgets/controls",
          "model_name": "HTMLModel",
          "model_module_version": "1.5.0",
          "state": {
            "_dom_classes": [],
            "_model_module": "@jupyter-widgets/controls",
            "_model_module_version": "1.5.0",
            "_model_name": "HTMLModel",
            "_view_count": null,
            "_view_module": "@jupyter-widgets/controls",
            "_view_module_version": "1.5.0",
            "_view_name": "HTMLView",
            "description": "",
            "description_tooltip": null,
            "layout": "IPY_MODEL_82c5d5ac52e448e0809b8888c374756b",
            "placeholder": "​",
            "style": "IPY_MODEL_1b5feda8d95f4e298863621519725d99",
            "value": " 12326/12326 [00:01&lt;00:00, 8279.36it/s]"
          }
        },
        "da7efc0130b442e6b86f548e4b7ffdc4": {
          "model_module": "@jupyter-widgets/base",
          "model_name": "LayoutModel",
          "model_module_version": "1.2.0",
          "state": {
            "_model_module": "@jupyter-widgets/base",
            "_model_module_version": "1.2.0",
            "_model_name": "LayoutModel",
            "_view_count": null,
            "_view_module": "@jupyter-widgets/base",
            "_view_module_version": "1.2.0",
            "_view_name": "LayoutView",
            "align_content": null,
            "align_items": null,
            "align_self": null,
            "border": null,
            "bottom": null,
            "display": null,
            "flex": null,
            "flex_flow": null,
            "grid_area": null,
            "grid_auto_columns": null,
            "grid_auto_flow": null,
            "grid_auto_rows": null,
            "grid_column": null,
            "grid_gap": null,
            "grid_row": null,
            "grid_template_areas": null,
            "grid_template_columns": null,
            "grid_template_rows": null,
            "height": null,
            "justify_content": null,
            "justify_items": null,
            "left": null,
            "margin": null,
            "max_height": null,
            "max_width": null,
            "min_height": null,
            "min_width": null,
            "object_fit": null,
            "object_position": null,
            "order": null,
            "overflow": null,
            "overflow_x": null,
            "overflow_y": null,
            "padding": null,
            "right": null,
            "top": null,
            "visibility": null,
            "width": null
          }
        },
        "f2842d1118f541bfa994b6d91fb5844a": {
          "model_module": "@jupyter-widgets/base",
          "model_name": "LayoutModel",
          "model_module_version": "1.2.0",
          "state": {
            "_model_module": "@jupyter-widgets/base",
            "_model_module_version": "1.2.0",
            "_model_name": "LayoutModel",
            "_view_count": null,
            "_view_module": "@jupyter-widgets/base",
            "_view_module_version": "1.2.0",
            "_view_name": "LayoutView",
            "align_content": null,
            "align_items": null,
            "align_self": null,
            "border": null,
            "bottom": null,
            "display": null,
            "flex": null,
            "flex_flow": null,
            "grid_area": null,
            "grid_auto_columns": null,
            "grid_auto_flow": null,
            "grid_auto_rows": null,
            "grid_column": null,
            "grid_gap": null,
            "grid_row": null,
            "grid_template_areas": null,
            "grid_template_columns": null,
            "grid_template_rows": null,
            "height": null,
            "justify_content": null,
            "justify_items": null,
            "left": null,
            "margin": null,
            "max_height": null,
            "max_width": null,
            "min_height": null,
            "min_width": null,
            "object_fit": null,
            "object_position": null,
            "order": null,
            "overflow": null,
            "overflow_x": null,
            "overflow_y": null,
            "padding": null,
            "right": null,
            "top": null,
            "visibility": null,
            "width": null
          }
        },
        "17ba74ed5a7a499c93f48370c8993685": {
          "model_module": "@jupyter-widgets/controls",
          "model_name": "DescriptionStyleModel",
          "model_module_version": "1.5.0",
          "state": {
            "_model_module": "@jupyter-widgets/controls",
            "_model_module_version": "1.5.0",
            "_model_name": "DescriptionStyleModel",
            "_view_count": null,
            "_view_module": "@jupyter-widgets/base",
            "_view_module_version": "1.2.0",
            "_view_name": "StyleView",
            "description_width": ""
          }
        },
        "5ea66f1844654cc98907bd555e9d1a6f": {
          "model_module": "@jupyter-widgets/base",
          "model_name": "LayoutModel",
          "model_module_version": "1.2.0",
          "state": {
            "_model_module": "@jupyter-widgets/base",
            "_model_module_version": "1.2.0",
            "_model_name": "LayoutModel",
            "_view_count": null,
            "_view_module": "@jupyter-widgets/base",
            "_view_module_version": "1.2.0",
            "_view_name": "LayoutView",
            "align_content": null,
            "align_items": null,
            "align_self": null,
            "border": null,
            "bottom": null,
            "display": null,
            "flex": null,
            "flex_flow": null,
            "grid_area": null,
            "grid_auto_columns": null,
            "grid_auto_flow": null,
            "grid_auto_rows": null,
            "grid_column": null,
            "grid_gap": null,
            "grid_row": null,
            "grid_template_areas": null,
            "grid_template_columns": null,
            "grid_template_rows": null,
            "height": null,
            "justify_content": null,
            "justify_items": null,
            "left": null,
            "margin": null,
            "max_height": null,
            "max_width": null,
            "min_height": null,
            "min_width": null,
            "object_fit": null,
            "object_position": null,
            "order": null,
            "overflow": null,
            "overflow_x": null,
            "overflow_y": null,
            "padding": null,
            "right": null,
            "top": null,
            "visibility": null,
            "width": null
          }
        },
        "5c726edd16fe4d14829f43c32c4a2304": {
          "model_module": "@jupyter-widgets/controls",
          "model_name": "ProgressStyleModel",
          "model_module_version": "1.5.0",
          "state": {
            "_model_module": "@jupyter-widgets/controls",
            "_model_module_version": "1.5.0",
            "_model_name": "ProgressStyleModel",
            "_view_count": null,
            "_view_module": "@jupyter-widgets/base",
            "_view_module_version": "1.2.0",
            "_view_name": "StyleView",
            "bar_color": null,
            "description_width": ""
          }
        },
        "82c5d5ac52e448e0809b8888c374756b": {
          "model_module": "@jupyter-widgets/base",
          "model_name": "LayoutModel",
          "model_module_version": "1.2.0",
          "state": {
            "_model_module": "@jupyter-widgets/base",
            "_model_module_version": "1.2.0",
            "_model_name": "LayoutModel",
            "_view_count": null,
            "_view_module": "@jupyter-widgets/base",
            "_view_module_version": "1.2.0",
            "_view_name": "LayoutView",
            "align_content": null,
            "align_items": null,
            "align_self": null,
            "border": null,
            "bottom": null,
            "display": null,
            "flex": null,
            "flex_flow": null,
            "grid_area": null,
            "grid_auto_columns": null,
            "grid_auto_flow": null,
            "grid_auto_rows": null,
            "grid_column": null,
            "grid_gap": null,
            "grid_row": null,
            "grid_template_areas": null,
            "grid_template_columns": null,
            "grid_template_rows": null,
            "height": null,
            "justify_content": null,
            "justify_items": null,
            "left": null,
            "margin": null,
            "max_height": null,
            "max_width": null,
            "min_height": null,
            "min_width": null,
            "object_fit": null,
            "object_position": null,
            "order": null,
            "overflow": null,
            "overflow_x": null,
            "overflow_y": null,
            "padding": null,
            "right": null,
            "top": null,
            "visibility": null,
            "width": null
          }
        },
        "1b5feda8d95f4e298863621519725d99": {
          "model_module": "@jupyter-widgets/controls",
          "model_name": "DescriptionStyleModel",
          "model_module_version": "1.5.0",
          "state": {
            "_model_module": "@jupyter-widgets/controls",
            "_model_module_version": "1.5.0",
            "_model_name": "DescriptionStyleModel",
            "_view_count": null,
            "_view_module": "@jupyter-widgets/base",
            "_view_module_version": "1.2.0",
            "_view_name": "StyleView",
            "description_width": ""
          }
        },
        "5099f5ad6b5a4f3bab92cdf8eca38db0": {
          "model_module": "@jupyter-widgets/controls",
          "model_name": "HBoxModel",
          "model_module_version": "1.5.0",
          "state": {
            "_dom_classes": [],
            "_model_module": "@jupyter-widgets/controls",
            "_model_module_version": "1.5.0",
            "_model_name": "HBoxModel",
            "_view_count": null,
            "_view_module": "@jupyter-widgets/controls",
            "_view_module_version": "1.5.0",
            "_view_name": "HBoxView",
            "box_style": "",
            "children": [
              "IPY_MODEL_972fce0277954283bee7691db3a53b05",
              "IPY_MODEL_06c73b696da54c6692bf68aa4c6622e3",
              "IPY_MODEL_3f5ca6b9b2174f93976b1a19cf7523d1"
            ],
            "layout": "IPY_MODEL_b308e109e0464237a238b6b5a1a3a647"
          }
        },
        "972fce0277954283bee7691db3a53b05": {
          "model_module": "@jupyter-widgets/controls",
          "model_name": "HTMLModel",
          "model_module_version": "1.5.0",
          "state": {
            "_dom_classes": [],
            "_model_module": "@jupyter-widgets/controls",
            "_model_module_version": "1.5.0",
            "_model_name": "HTMLModel",
            "_view_count": null,
            "_view_module": "@jupyter-widgets/controls",
            "_view_module_version": "1.5.0",
            "_view_name": "HTMLView",
            "description": "",
            "description_tooltip": null,
            "layout": "IPY_MODEL_6044256fd3604060ac80da0aa4c42728",
            "placeholder": "​",
            "style": "IPY_MODEL_1558c7f9ca6a4dcea4310981affbbdc6",
            "value": "100%"
          }
        },
        "06c73b696da54c6692bf68aa4c6622e3": {
          "model_module": "@jupyter-widgets/controls",
          "model_name": "FloatProgressModel",
          "model_module_version": "1.5.0",
          "state": {
            "_dom_classes": [],
            "_model_module": "@jupyter-widgets/controls",
            "_model_module_version": "1.5.0",
            "_model_name": "FloatProgressModel",
            "_view_count": null,
            "_view_module": "@jupyter-widgets/controls",
            "_view_module_version": "1.5.0",
            "_view_name": "ProgressView",
            "bar_style": "success",
            "description": "",
            "description_tooltip": null,
            "layout": "IPY_MODEL_775f8dfea02f49d98ef7b84dc621f188",
            "max": 25024,
            "min": 0,
            "orientation": "horizontal",
            "style": "IPY_MODEL_704ddb8108254e198259aa2eb6b0733e",
            "value": 25024
          }
        },
        "3f5ca6b9b2174f93976b1a19cf7523d1": {
          "model_module": "@jupyter-widgets/controls",
          "model_name": "HTMLModel",
          "model_module_version": "1.5.0",
          "state": {
            "_dom_classes": [],
            "_model_module": "@jupyter-widgets/controls",
            "_model_module_version": "1.5.0",
            "_model_name": "HTMLModel",
            "_view_count": null,
            "_view_module": "@jupyter-widgets/controls",
            "_view_module_version": "1.5.0",
            "_view_name": "HTMLView",
            "description": "",
            "description_tooltip": null,
            "layout": "IPY_MODEL_f31ed40b6dcc4e27af31d0be8ba3bb07",
            "placeholder": "​",
            "style": "IPY_MODEL_053611a5f7764cbf82466c198292df6f",
            "value": " 25024/25024 [00:03&lt;00:00, 8481.07it/s]"
          }
        },
        "b308e109e0464237a238b6b5a1a3a647": {
          "model_module": "@jupyter-widgets/base",
          "model_name": "LayoutModel",
          "model_module_version": "1.2.0",
          "state": {
            "_model_module": "@jupyter-widgets/base",
            "_model_module_version": "1.2.0",
            "_model_name": "LayoutModel",
            "_view_count": null,
            "_view_module": "@jupyter-widgets/base",
            "_view_module_version": "1.2.0",
            "_view_name": "LayoutView",
            "align_content": null,
            "align_items": null,
            "align_self": null,
            "border": null,
            "bottom": null,
            "display": null,
            "flex": null,
            "flex_flow": null,
            "grid_area": null,
            "grid_auto_columns": null,
            "grid_auto_flow": null,
            "grid_auto_rows": null,
            "grid_column": null,
            "grid_gap": null,
            "grid_row": null,
            "grid_template_areas": null,
            "grid_template_columns": null,
            "grid_template_rows": null,
            "height": null,
            "justify_content": null,
            "justify_items": null,
            "left": null,
            "margin": null,
            "max_height": null,
            "max_width": null,
            "min_height": null,
            "min_width": null,
            "object_fit": null,
            "object_position": null,
            "order": null,
            "overflow": null,
            "overflow_x": null,
            "overflow_y": null,
            "padding": null,
            "right": null,
            "top": null,
            "visibility": null,
            "width": null
          }
        },
        "6044256fd3604060ac80da0aa4c42728": {
          "model_module": "@jupyter-widgets/base",
          "model_name": "LayoutModel",
          "model_module_version": "1.2.0",
          "state": {
            "_model_module": "@jupyter-widgets/base",
            "_model_module_version": "1.2.0",
            "_model_name": "LayoutModel",
            "_view_count": null,
            "_view_module": "@jupyter-widgets/base",
            "_view_module_version": "1.2.0",
            "_view_name": "LayoutView",
            "align_content": null,
            "align_items": null,
            "align_self": null,
            "border": null,
            "bottom": null,
            "display": null,
            "flex": null,
            "flex_flow": null,
            "grid_area": null,
            "grid_auto_columns": null,
            "grid_auto_flow": null,
            "grid_auto_rows": null,
            "grid_column": null,
            "grid_gap": null,
            "grid_row": null,
            "grid_template_areas": null,
            "grid_template_columns": null,
            "grid_template_rows": null,
            "height": null,
            "justify_content": null,
            "justify_items": null,
            "left": null,
            "margin": null,
            "max_height": null,
            "max_width": null,
            "min_height": null,
            "min_width": null,
            "object_fit": null,
            "object_position": null,
            "order": null,
            "overflow": null,
            "overflow_x": null,
            "overflow_y": null,
            "padding": null,
            "right": null,
            "top": null,
            "visibility": null,
            "width": null
          }
        },
        "1558c7f9ca6a4dcea4310981affbbdc6": {
          "model_module": "@jupyter-widgets/controls",
          "model_name": "DescriptionStyleModel",
          "model_module_version": "1.5.0",
          "state": {
            "_model_module": "@jupyter-widgets/controls",
            "_model_module_version": "1.5.0",
            "_model_name": "DescriptionStyleModel",
            "_view_count": null,
            "_view_module": "@jupyter-widgets/base",
            "_view_module_version": "1.2.0",
            "_view_name": "StyleView",
            "description_width": ""
          }
        },
        "775f8dfea02f49d98ef7b84dc621f188": {
          "model_module": "@jupyter-widgets/base",
          "model_name": "LayoutModel",
          "model_module_version": "1.2.0",
          "state": {
            "_model_module": "@jupyter-widgets/base",
            "_model_module_version": "1.2.0",
            "_model_name": "LayoutModel",
            "_view_count": null,
            "_view_module": "@jupyter-widgets/base",
            "_view_module_version": "1.2.0",
            "_view_name": "LayoutView",
            "align_content": null,
            "align_items": null,
            "align_self": null,
            "border": null,
            "bottom": null,
            "display": null,
            "flex": null,
            "flex_flow": null,
            "grid_area": null,
            "grid_auto_columns": null,
            "grid_auto_flow": null,
            "grid_auto_rows": null,
            "grid_column": null,
            "grid_gap": null,
            "grid_row": null,
            "grid_template_areas": null,
            "grid_template_columns": null,
            "grid_template_rows": null,
            "height": null,
            "justify_content": null,
            "justify_items": null,
            "left": null,
            "margin": null,
            "max_height": null,
            "max_width": null,
            "min_height": null,
            "min_width": null,
            "object_fit": null,
            "object_position": null,
            "order": null,
            "overflow": null,
            "overflow_x": null,
            "overflow_y": null,
            "padding": null,
            "right": null,
            "top": null,
            "visibility": null,
            "width": null
          }
        },
        "704ddb8108254e198259aa2eb6b0733e": {
          "model_module": "@jupyter-widgets/controls",
          "model_name": "ProgressStyleModel",
          "model_module_version": "1.5.0",
          "state": {
            "_model_module": "@jupyter-widgets/controls",
            "_model_module_version": "1.5.0",
            "_model_name": "ProgressStyleModel",
            "_view_count": null,
            "_view_module": "@jupyter-widgets/base",
            "_view_module_version": "1.2.0",
            "_view_name": "StyleView",
            "bar_color": null,
            "description_width": ""
          }
        },
        "f31ed40b6dcc4e27af31d0be8ba3bb07": {
          "model_module": "@jupyter-widgets/base",
          "model_name": "LayoutModel",
          "model_module_version": "1.2.0",
          "state": {
            "_model_module": "@jupyter-widgets/base",
            "_model_module_version": "1.2.0",
            "_model_name": "LayoutModel",
            "_view_count": null,
            "_view_module": "@jupyter-widgets/base",
            "_view_module_version": "1.2.0",
            "_view_name": "LayoutView",
            "align_content": null,
            "align_items": null,
            "align_self": null,
            "border": null,
            "bottom": null,
            "display": null,
            "flex": null,
            "flex_flow": null,
            "grid_area": null,
            "grid_auto_columns": null,
            "grid_auto_flow": null,
            "grid_auto_rows": null,
            "grid_column": null,
            "grid_gap": null,
            "grid_row": null,
            "grid_template_areas": null,
            "grid_template_columns": null,
            "grid_template_rows": null,
            "height": null,
            "justify_content": null,
            "justify_items": null,
            "left": null,
            "margin": null,
            "max_height": null,
            "max_width": null,
            "min_height": null,
            "min_width": null,
            "object_fit": null,
            "object_position": null,
            "order": null,
            "overflow": null,
            "overflow_x": null,
            "overflow_y": null,
            "padding": null,
            "right": null,
            "top": null,
            "visibility": null,
            "width": null
          }
        },
        "053611a5f7764cbf82466c198292df6f": {
          "model_module": "@jupyter-widgets/controls",
          "model_name": "DescriptionStyleModel",
          "model_module_version": "1.5.0",
          "state": {
            "_model_module": "@jupyter-widgets/controls",
            "_model_module_version": "1.5.0",
            "_model_name": "DescriptionStyleModel",
            "_view_count": null,
            "_view_module": "@jupyter-widgets/base",
            "_view_module_version": "1.2.0",
            "_view_name": "StyleView",
            "description_width": ""
          }
        }
      }
    },
    "accelerator": "GPU"
  },
  "nbformat": 4,
  "nbformat_minor": 0
}